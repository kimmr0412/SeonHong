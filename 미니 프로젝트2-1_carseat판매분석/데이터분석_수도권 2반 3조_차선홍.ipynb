{
 "cells": [
  {
   "cell_type": "markdown",
   "metadata": {
    "id": "mTt7qGUTCcFs"
   },
   "source": [
    "# 과제1. car seat 매출 분석"
   ]
  },
  {
   "cell_type": "markdown",
   "metadata": {
    "id": "wxRsRRwbEQ2K"
   },
   "source": [
    "* 카시트에 대해서 지역 매장 별 매출액을 예측하고자 합니다."
   ]
  },
  {
   "cell_type": "markdown",
   "metadata": {
    "id": "7usNzsAVsGbi"
   },
   "source": [
    "![](https://cdn.images.express.co.uk/img/dynamic/24/590x/child-car-seat-986556.jpg?r=1532946857754)"
   ]
  },
  {
   "cell_type": "markdown",
   "metadata": {
    "id": "AHmt88Q5EVsj"
   },
   "source": [
    "## 0.환경설정\n",
    "\n",
    "* 필요한 라이브러리 로딩, 데이터셋 가져오기"
   ]
  },
  {
   "cell_type": "markdown",
   "metadata": {
    "id": "o_4sXwy-tWum"
   },
   "source": [
    "### 1) 라이브러리 로딩"
   ]
  },
  {
   "cell_type": "code",
   "execution_count": 1,
   "metadata": {
    "id": "3rsQerEaELwI"
   },
   "outputs": [],
   "source": [
    "import pandas as pd\n",
    "import numpy as np\n",
    "\n",
    "import matplotlib.pyplot as plt\n",
    "import seaborn as sns\n",
    "\n",
    "import scipy.stats as spst                              # 가설검정 도구 가져오기"
   ]
  },
  {
   "cell_type": "markdown",
   "metadata": {
    "id": "bYaJQc0ytYt_"
   },
   "source": [
    "### 2) 데이터 불러오기"
   ]
  },
  {
   "cell_type": "code",
   "execution_count": 196,
   "metadata": {
    "id": "lM3HN6OwEL3d"
   },
   "outputs": [
    {
     "data": {
      "text/html": [
       "<div>\n",
       "<style scoped>\n",
       "    .dataframe tbody tr th:only-of-type {\n",
       "        vertical-align: middle;\n",
       "    }\n",
       "\n",
       "    .dataframe tbody tr th {\n",
       "        vertical-align: top;\n",
       "    }\n",
       "\n",
       "    .dataframe thead th {\n",
       "        text-align: right;\n",
       "    }\n",
       "</style>\n",
       "<table border=\"1\" class=\"dataframe\">\n",
       "  <thead>\n",
       "    <tr style=\"text-align: right;\">\n",
       "      <th></th>\n",
       "      <th>Sales</th>\n",
       "      <th>Advertising</th>\n",
       "      <th>Population</th>\n",
       "      <th>Price</th>\n",
       "      <th>ShelveLoc</th>\n",
       "      <th>Age</th>\n",
       "      <th>US</th>\n",
       "    </tr>\n",
       "  </thead>\n",
       "  <tbody>\n",
       "    <tr>\n",
       "      <th>0</th>\n",
       "      <td>9.50</td>\n",
       "      <td>11</td>\n",
       "      <td>276</td>\n",
       "      <td>120</td>\n",
       "      <td>Bad</td>\n",
       "      <td>42</td>\n",
       "      <td>Yes</td>\n",
       "    </tr>\n",
       "    <tr>\n",
       "      <th>1</th>\n",
       "      <td>11.22</td>\n",
       "      <td>16</td>\n",
       "      <td>260</td>\n",
       "      <td>83</td>\n",
       "      <td>Good</td>\n",
       "      <td>65</td>\n",
       "      <td>Yes</td>\n",
       "    </tr>\n",
       "    <tr>\n",
       "      <th>2</th>\n",
       "      <td>10.06</td>\n",
       "      <td>10</td>\n",
       "      <td>269</td>\n",
       "      <td>80</td>\n",
       "      <td>Medium</td>\n",
       "      <td>59</td>\n",
       "      <td>Yes</td>\n",
       "    </tr>\n",
       "    <tr>\n",
       "      <th>3</th>\n",
       "      <td>7.40</td>\n",
       "      <td>4</td>\n",
       "      <td>466</td>\n",
       "      <td>97</td>\n",
       "      <td>Medium</td>\n",
       "      <td>55</td>\n",
       "      <td>Yes</td>\n",
       "    </tr>\n",
       "    <tr>\n",
       "      <th>4</th>\n",
       "      <td>4.15</td>\n",
       "      <td>3</td>\n",
       "      <td>340</td>\n",
       "      <td>128</td>\n",
       "      <td>Bad</td>\n",
       "      <td>38</td>\n",
       "      <td>No</td>\n",
       "    </tr>\n",
       "  </tbody>\n",
       "</table>\n",
       "</div>"
      ],
      "text/plain": [
       "   Sales  Advertising  Population  Price ShelveLoc  Age   US\n",
       "0   9.50           11         276    120       Bad   42  Yes\n",
       "1  11.22           16         260     83      Good   65  Yes\n",
       "2  10.06           10         269     80    Medium   59  Yes\n",
       "3   7.40            4         466     97    Medium   55  Yes\n",
       "4   4.15            3         340    128       Bad   38   No"
      ]
     },
     "execution_count": 196,
     "metadata": {},
     "output_type": "execute_result"
    }
   ],
   "source": [
    "path = 'https://raw.githubusercontent.com/JunhoYu/Data-Analysis/main/Carseats.csv'\n",
    "data = pd.read_csv(path)\n",
    "# data = pd.read_csv('carseats.csv')\n",
    "data.drop(['CompPrice','Income', 'Urban', 'Education'],axis = 1, inplace = True)\n",
    "data.head()"
   ]
  },
  {
   "cell_type": "markdown",
   "metadata": {
    "id": "IbDZYaFD-qst"
   },
   "source": [
    "|\t변수명\t|\t설명\t|\t구분\t|\n",
    "|\t----\t|\t----\t|\t----\t|\n",
    "|\tSales \t|\t 각 지역 판매액(단위 : 1000달러)\t|\tTarget\t|\n",
    "|\tAdvertising \t|\t 각 지역, 회사의 광고 예산(단위 : 1000달러)\t|\tfeature\t|\n",
    "|\tPopulation \t|\t 지역 인구수(단위 : 1000명)\t|\tfeature\t|\n",
    "|\tPrice \t|\t 자사 지역별 판매가격(달러)\t|\tfeature\t|\n",
    "|\tShelveLoc \t|\t 진열상태(Good, Medium, Bad)\t|\tfeature\t|\n",
    "|\tAge \t|\t 지역 인구의 평균 연령\t|\tfeature\t|\n",
    "|\tUS \t|\t 매장이 미국에 있는지 여부(Yes, No)\t|\tfeature\t|\n"
   ]
  },
  {
   "cell_type": "markdown",
   "metadata": {
    "id": "0bouXLxGkSSd"
   },
   "source": [
    "## 1.가설수립"
   ]
  },
  {
   "cell_type": "markdown",
   "metadata": {
    "id": "1hYPpnplEedX"
   },
   "source": [
    "## 2.단변량 분석\n",
    "\n",
    "① 변수의 비즈니스 의미  \n",
    "\n",
    "② 숫자? 범주?  \n",
    "\n",
    "③ NaN 존재 여부 및 조치 방안  \n",
    "\n",
    "④ 기초통계량  \n",
    "\n",
    "⑤ 분포  \n",
    "\n",
    "⑥ 위 정보로부터 파악한 내용(비즈니스!) 정리  \n",
    "\n",
    "⑦ 추가 분석해볼 사항 도출"
   ]
  },
  {
   "cell_type": "markdown",
   "metadata": {
    "id": "BP8iBi7We3AI"
   },
   "source": [
    "### 1) Sales"
   ]
  },
  {
   "cell_type": "code",
   "execution_count": 7,
   "metadata": {},
   "outputs": [],
   "source": [
    "target = 'Sales'"
   ]
  },
  {
   "cell_type": "markdown",
   "metadata": {
    "id": "GTYiyra4g6s8"
   },
   "source": [
    "1) 변수의 비즈니스 의미"
   ]
  },
  {
   "cell_type": "markdown",
   "metadata": {
    "id": "R7EwV8FuJPFz"
   },
   "source": [
    "> * 각 지역의 판매액 (단위 : 1000달러)  \n",
    "> * Y(Target)  \n",
    "> * 다른 데이터를 통해 분석해야할 대상  \n",
    "ex) 지역 인구수에 따른 각 지역 판매액"
   ]
  },
  {
   "cell_type": "markdown",
   "metadata": {
    "id": "OhxH7VLCg6s8"
   },
   "source": [
    "2) 숫자, 범주?"
   ]
  },
  {
   "cell_type": "markdown",
   "metadata": {
    "id": "7RCYCoCaJQRC"
   },
   "source": [
    "> Sales --> 숫자"
   ]
  },
  {
   "cell_type": "markdown",
   "metadata": {
    "id": "GbafoZ2_g6s9"
   },
   "source": [
    "3) NaN 존재 유무"
   ]
  },
  {
   "cell_type": "code",
   "execution_count": 199,
   "metadata": {
    "id": "3KHLfSHqJRmT"
   },
   "outputs": [
    {
     "data": {
      "text/plain": [
       "Sales          0\n",
       "Advertising    0\n",
       "Population     0\n",
       "Price          0\n",
       "ShelveLoc      0\n",
       "Age            0\n",
       "US             0\n",
       "dtype: int64"
      ]
     },
     "execution_count": 199,
     "metadata": {},
     "output_type": "execute_result"
    }
   ],
   "source": [
    "data.isna().sum()"
   ]
  },
  {
   "cell_type": "markdown",
   "metadata": {
    "id": "xfgLLlNcg6s9"
   },
   "source": [
    "4) 기초통계량(수치화)"
   ]
  },
  {
   "cell_type": "code",
   "execution_count": 15,
   "metadata": {},
   "outputs": [
    {
     "name": "stdout",
     "output_type": "stream",
     "text": [
      "<class 'pandas.core.frame.DataFrame'>\n",
      "RangeIndex: 400 entries, 0 to 399\n",
      "Data columns (total 7 columns):\n",
      " #   Column       Non-Null Count  Dtype  \n",
      "---  ------       --------------  -----  \n",
      " 0   Sales        400 non-null    float64\n",
      " 1   Advertising  400 non-null    int64  \n",
      " 2   Population   400 non-null    int64  \n",
      " 3   Price        400 non-null    int64  \n",
      " 4   ShelveLoc    400 non-null    object \n",
      " 5   Age          400 non-null    int64  \n",
      " 6   US           400 non-null    object \n",
      "dtypes: float64(1), int64(4), object(2)\n",
      "memory usage: 22.0+ KB\n"
     ]
    }
   ],
   "source": [
    "data.info()"
   ]
  },
  {
   "cell_type": "code",
   "execution_count": 10,
   "metadata": {
    "id": "f7KWTE0TJSXs",
    "scrolled": true
   },
   "outputs": [
    {
     "data": {
      "text/html": [
       "<div>\n",
       "<style scoped>\n",
       "    .dataframe tbody tr th:only-of-type {\n",
       "        vertical-align: middle;\n",
       "    }\n",
       "\n",
       "    .dataframe tbody tr th {\n",
       "        vertical-align: top;\n",
       "    }\n",
       "\n",
       "    .dataframe thead th {\n",
       "        text-align: right;\n",
       "    }\n",
       "</style>\n",
       "<table border=\"1\" class=\"dataframe\">\n",
       "  <thead>\n",
       "    <tr style=\"text-align: right;\">\n",
       "      <th></th>\n",
       "      <th>Sales</th>\n",
       "      <th>Advertising</th>\n",
       "      <th>Population</th>\n",
       "      <th>Price</th>\n",
       "      <th>Age</th>\n",
       "    </tr>\n",
       "  </thead>\n",
       "  <tbody>\n",
       "    <tr>\n",
       "      <th>count</th>\n",
       "      <td>400.000000</td>\n",
       "      <td>400.000000</td>\n",
       "      <td>400.000000</td>\n",
       "      <td>400.000000</td>\n",
       "      <td>400.000000</td>\n",
       "    </tr>\n",
       "    <tr>\n",
       "      <th>mean</th>\n",
       "      <td>7.496325</td>\n",
       "      <td>6.635000</td>\n",
       "      <td>264.840000</td>\n",
       "      <td>115.795000</td>\n",
       "      <td>53.322500</td>\n",
       "    </tr>\n",
       "    <tr>\n",
       "      <th>std</th>\n",
       "      <td>2.824115</td>\n",
       "      <td>6.650364</td>\n",
       "      <td>147.376436</td>\n",
       "      <td>23.676664</td>\n",
       "      <td>16.200297</td>\n",
       "    </tr>\n",
       "    <tr>\n",
       "      <th>min</th>\n",
       "      <td>0.000000</td>\n",
       "      <td>0.000000</td>\n",
       "      <td>10.000000</td>\n",
       "      <td>24.000000</td>\n",
       "      <td>25.000000</td>\n",
       "    </tr>\n",
       "    <tr>\n",
       "      <th>25%</th>\n",
       "      <td>5.390000</td>\n",
       "      <td>0.000000</td>\n",
       "      <td>139.000000</td>\n",
       "      <td>100.000000</td>\n",
       "      <td>39.750000</td>\n",
       "    </tr>\n",
       "    <tr>\n",
       "      <th>50%</th>\n",
       "      <td>7.490000</td>\n",
       "      <td>5.000000</td>\n",
       "      <td>272.000000</td>\n",
       "      <td>117.000000</td>\n",
       "      <td>54.500000</td>\n",
       "    </tr>\n",
       "    <tr>\n",
       "      <th>75%</th>\n",
       "      <td>9.320000</td>\n",
       "      <td>12.000000</td>\n",
       "      <td>398.500000</td>\n",
       "      <td>131.000000</td>\n",
       "      <td>66.000000</td>\n",
       "    </tr>\n",
       "    <tr>\n",
       "      <th>max</th>\n",
       "      <td>16.270000</td>\n",
       "      <td>29.000000</td>\n",
       "      <td>509.000000</td>\n",
       "      <td>191.000000</td>\n",
       "      <td>80.000000</td>\n",
       "    </tr>\n",
       "  </tbody>\n",
       "</table>\n",
       "</div>"
      ],
      "text/plain": [
       "            Sales  Advertising  Population       Price         Age\n",
       "count  400.000000   400.000000  400.000000  400.000000  400.000000\n",
       "mean     7.496325     6.635000  264.840000  115.795000   53.322500\n",
       "std      2.824115     6.650364  147.376436   23.676664   16.200297\n",
       "min      0.000000     0.000000   10.000000   24.000000   25.000000\n",
       "25%      5.390000     0.000000  139.000000  100.000000   39.750000\n",
       "50%      7.490000     5.000000  272.000000  117.000000   54.500000\n",
       "75%      9.320000    12.000000  398.500000  131.000000   66.000000\n",
       "max     16.270000    29.000000  509.000000  191.000000   80.000000"
      ]
     },
     "execution_count": 10,
     "metadata": {},
     "output_type": "execute_result"
    }
   ],
   "source": [
    "data.describe()"
   ]
  },
  {
   "cell_type": "markdown",
   "metadata": {
    "id": "bHgLzkHvg6s9"
   },
   "source": [
    "5) 분포 확인(시각화)"
   ]
  },
  {
   "cell_type": "code",
   "execution_count": 12,
   "metadata": {
    "id": "xm7IgKJVLsET",
    "scrolled": true
   },
   "outputs": [
    {
     "data": {
      "image/png": "[encoded data removed]",
      "text/plain": [
       "<Figure size 432x288 with 1 Axes>"
      ]
     },
     "metadata": {
      "needs_background": "light"
     },
     "output_type": "display_data"
    }
   ],
   "source": [
    "sns.histplot(data[target], bins = 40)\n",
    "plt.show()"
   ]
  },
  {
   "cell_type": "code",
   "execution_count": 202,
   "metadata": {
    "id": "KbTO_F-Ag6s-"
   },
   "outputs": [
    {
     "data": {
      "image/png": "[encoded data removed]",
      "text/plain": [
       "<Figure size 432x288 with 1 Axes>"
      ]
     },
     "metadata": {
      "needs_background": "light"
     },
     "output_type": "display_data"
    },
    {
     "name": "stdout",
     "output_type": "stream",
     "text": [
      "[5.39 0.  ]\n",
      "[ 9.32 14.9 ]\n"
     ]
    }
   ],
   "source": [
    "box = plt.boxplot(data[target], vert = False)\n",
    "plt.xlabel('Sales')\n",
    "plt.ylabel('Count')\n",
    "plt.show()\n",
    "\n",
    "print(box['whiskers'][0].get_xdata())\n",
    "\n",
    "print(box['whiskers'][1].get_xdata())"
   ]
  },
  {
   "cell_type": "markdown",
   "metadata": {
    "id": "RK2uS3iGg6s_"
   },
   "source": [
    "6) 기초통계량과 분포를 통해서 파악한 내용을 적어 봅시다.\n",
    "\n",
    "보이는 그대로를 넘어, 비즈니스 관점에서 고민하며 적어 봅시다."
   ]
  },
  {
   "cell_type": "markdown",
   "metadata": {
    "id": "NQdfUTzrg6s_"
   },
   "source": [
    "> * 총 매출액이 높은 지역과 낮은 지역의 차이점을 분석하여 매장에서 수정할 수 있는 요소라면 개선사항으로 검토할 수 있다.\n",
    "\n",
    "> * 광고비와 매출액의 상관관계를 분석하여 광고액이 매출액에 미치는 영향을 분석하여 유의미한 영향이 있다면 매출액이 낮은 지역에 광고비를 높여 매출액 향상을 위한 방침 검토할 수 있다.\n"
   ]
  },
  {
   "cell_type": "markdown",
   "metadata": {},
   "source": [
    "> * 지역 인구수와 매출액의 상관관계를 이용하여 분석하고 유의미한 영향이 있다면 회사 혹은 매장의 위치에 대해 검토할 수 있다.\n",
    "> * 제품 당 가격과 매출액의 상관관계를 이용하여 분석하고 유의미한 영향이 있다면 제품 당 가격의 변동 검토할 수 있다."
   ]
  },
  {
   "cell_type": "markdown",
   "metadata": {
    "id": "oPhr8ukDg6s_"
   },
   "source": [
    "7) 추가 분석해 볼 사항이 있나요?"
   ]
  },
  {
   "cell_type": "markdown",
   "metadata": {
    "id": "OtZy6lHAg6s_"
   },
   "source": [
    "> * 평균 나이뿐 아니라 자녀의 유무 또한 조사하여 해당 연령대에 자녀가 있는지 있다면 그 자녀의 연령대를 분석하여 car seat의 필요성을 분석해 본다. \n",
    "> * (판매액*1000)/판매금액 = 판매량 컬럼을 추가해서 재고와 판매가격을 조정할 수 있는 지표가 될 수 있다."
   ]
  },
  {
   "cell_type": "markdown",
   "metadata": {
    "id": "xe1WsHVYuIGk"
   },
   "source": [
    "### 2) Advertising"
   ]
  },
  {
   "cell_type": "code",
   "execution_count": 40,
   "metadata": {
    "id": "MsFOHwX0JcCc"
   },
   "outputs": [],
   "source": [
    "feature = 'Advertising'"
   ]
  },
  {
   "cell_type": "markdown",
   "metadata": {
    "id": "j52xZ-fGJcCj"
   },
   "source": [
    "1) 변수의 비즈니스 의미"
   ]
  },
  {
   "cell_type": "markdown",
   "metadata": {
    "id": "yf6-u0A1JcCk"
   },
   "source": [
    "> * 해당 제품을 광고하는데 쓰인 비용  \n",
    "> * 광고비가 높을 때 판매액 / 판매량이 높다면 광고비가 판매에 미치는 영향이 유의미 하다고 판단할 수 있을 것이다."
   ]
  },
  {
   "cell_type": "markdown",
   "metadata": {
    "id": "dsfHcBJvJcCk"
   },
   "source": [
    "2) 숫자, 범주?"
   ]
  },
  {
   "cell_type": "markdown",
   "metadata": {
    "id": "AzS2iu9GJcCk"
   },
   "source": [
    "> * 숫자 데이터"
   ]
  },
  {
   "cell_type": "markdown",
   "metadata": {
    "id": "ILaHKahvJcCk"
   },
   "source": [
    "3) NaN 존재 유무"
   ]
  },
  {
   "cell_type": "code",
   "execution_count": 41,
   "metadata": {
    "id": "yGpwpPrFJcCl",
    "scrolled": true
   },
   "outputs": [
    {
     "data": {
      "text/plain": [
       "0"
      ]
     },
     "execution_count": 41,
     "metadata": {},
     "output_type": "execute_result"
    }
   ],
   "source": [
    "data[feature].isna().sum()"
   ]
  },
  {
   "cell_type": "markdown",
   "metadata": {
    "id": "9uwCRoz1JcCl"
   },
   "source": [
    "4) 기초통계량(수치화)"
   ]
  },
  {
   "cell_type": "code",
   "execution_count": 42,
   "metadata": {
    "id": "aRYL9_T8JcCl"
   },
   "outputs": [
    {
     "data": {
      "text/plain": [
       "count    400.000000\n",
       "mean       6.635000\n",
       "std        6.650364\n",
       "min        0.000000\n",
       "25%        0.000000\n",
       "50%        5.000000\n",
       "75%       12.000000\n",
       "max       29.000000\n",
       "Name: Advertising, dtype: float64"
      ]
     },
     "execution_count": 42,
     "metadata": {},
     "output_type": "execute_result"
    }
   ],
   "source": [
    "data[feature].describe()"
   ]
  },
  {
   "cell_type": "markdown",
   "metadata": {
    "id": "nZTUENpgJcCm"
   },
   "source": [
    "5) 분포 확인(시각화)"
   ]
  },
  {
   "cell_type": "code",
   "execution_count": 43,
   "metadata": {
    "id": "58gRgcWsJcCm",
    "scrolled": true
   },
   "outputs": [
    {
     "data": {
      "image/png": "[encoded data removed]",
      "text/plain": [
       "<Figure size 432x288 with 1 Axes>"
      ]
     },
     "metadata": {
      "needs_background": "light"
     },
     "output_type": "display_data"
    }
   ],
   "source": [
    "sns.histplot(data[feature], bins = 40)\n",
    "plt.show()"
   ]
  },
  {
   "cell_type": "code",
   "execution_count": 44,
   "metadata": {},
   "outputs": [
    {
     "data": {
      "text/plain": [
       "Sales          144\n",
       "Advertising    144\n",
       "Population     144\n",
       "Price          144\n",
       "ShelveLoc      144\n",
       "Age            144\n",
       "US             144\n",
       "dtype: int64"
      ]
     },
     "execution_count": 44,
     "metadata": {},
     "output_type": "execute_result"
    }
   ],
   "source": [
    "# 광고비에 투자하지 않는 지역/회사/매장 수\n",
    "data.loc[data[feature]==0].count()"
   ]
  },
  {
   "cell_type": "code",
   "execution_count": 45,
   "metadata": {
    "id": "bjJp7RFoJcCm",
    "scrolled": false
   },
   "outputs": [
    {
     "data": {
      "image/png": "[encoded data removed]",
      "text/plain": [
       "<Figure size 432x288 with 1 Axes>"
      ]
     },
     "metadata": {
      "needs_background": "light"
     },
     "output_type": "display_data"
    },
    {
     "name": "stdout",
     "output_type": "stream",
     "text": [
      "[0. 0.]\n",
      "[12. 29.]\n"
     ]
    }
   ],
   "source": [
    "box = plt.boxplot(data[feature], vert = False)\n",
    "plt.show()\n",
    "\n",
    "print(box['whiskers'][0].get_xdata())\n",
    "print(box['whiskers'][1].get_xdata())"
   ]
  },
  {
   "cell_type": "code",
   "execution_count": 203,
   "metadata": {},
   "outputs": [
    {
     "data": {
      "image/png": "[encoded data removed]",
      "text/plain": [
       "<Figure size 432x288 with 1 Axes>"
      ]
     },
     "metadata": {
      "needs_background": "light"
     },
     "output_type": "display_data"
    }
   ],
   "source": [
    "pd.Series(feature)\n",
    "data[feature].plot(kind = 'kde') \n",
    "plt.xlabel('Advertising')\n",
    "plt.show()"
   ]
  },
  {
   "cell_type": "markdown",
   "metadata": {
    "id": "hOQ99_3GJcCn"
   },
   "source": [
    "6) 기초통계량과 분포를 통해서 파악한 내용을 적어 봅시다.\n",
    "\n",
    "보이는 그대로를 넘어, 비즈니스 관점에서 고민하며 적어 봅시다."
   ]
  },
  {
   "cell_type": "markdown",
   "metadata": {
    "id": "D-VaVY_TJcCn"
   },
   "source": [
    "> * 광고비 지출을 5000달러 이하로 하는 회사 혹은 매장의 비율이 절반이 넘어가는 것으로 보아 대부분의 회사들이 광고에 크게 투자하지 않는것으로 판단된다.\n",
    "> * 광고비 지출을 하지 않는 회사 혹은 매장이 144개이다."
   ]
  },
  {
   "cell_type": "markdown",
   "metadata": {
    "id": "x7Zc8z1pJcCo"
   },
   "source": [
    "7) 추가 분석해 볼 사항이 있나요?"
   ]
  },
  {
   "cell_type": "markdown",
   "metadata": {
    "id": "HpZoixf8JcCo"
   },
   "source": [
    "> * 광고비 지출을 크게 하는 지역의 판매량과 이변량 분석하여 광고비와 지출의 영향력 판단"
   ]
  },
  {
   "cell_type": "markdown",
   "metadata": {},
   "source": [
    "#이변량 분석에서 해보자"
   ]
  },
  {
   "cell_type": "code",
   "execution_count": 47,
   "metadata": {
    "id": "wRFy2RxeuIGk"
   },
   "outputs": [
    {
     "name": "stdout",
     "output_type": "stream",
     "text": [
      "상관계수 :  0.269506781376902\n",
      "p-value :  4.377677110302732e-08\n"
     ]
    }
   ],
   "source": [
    "# 상관계수와 p-value\n",
    "tmp = spst.pearsonr(data[feature], data[target])\n",
    "print(\"상관계수 : \", tmp[0])\n",
    "print(\"p-value : \", tmp[1])\n",
    "# p-value값이 0에 가까울 수록 직선으로 설명이 잘되는지 / 직선에 모여있는지 볼 수 있음"
   ]
  },
  {
   "cell_type": "markdown",
   "metadata": {},
   "source": [
    "> * 상관계수\n",
    "> * p-value "
   ]
  },
  {
   "cell_type": "markdown",
   "metadata": {
    "id": "lqOgwPUAuMPW"
   },
   "source": [
    "### 3) Population"
   ]
  },
  {
   "cell_type": "code",
   "execution_count": 205,
   "metadata": {
    "id": "oi31PuQSJevQ"
   },
   "outputs": [],
   "source": [
    "feature = 'Population'"
   ]
  },
  {
   "cell_type": "markdown",
   "metadata": {
    "id": "kkzLZhaWJevQ"
   },
   "source": [
    "1) 변수의 비즈니스 의미"
   ]
  },
  {
   "cell_type": "markdown",
   "metadata": {
    "id": "sSIi1TMYJevQ"
   },
   "source": [
    "> * 지역 인구수(단위 : 1000명)"
   ]
  },
  {
   "cell_type": "markdown",
   "metadata": {
    "id": "RxeOwdygJevQ"
   },
   "source": [
    "2) 숫자, 범주?"
   ]
  },
  {
   "cell_type": "markdown",
   "metadata": {
    "id": "lOxLsPnGJevQ"
   },
   "source": [
    "> * 숫자 데이터"
   ]
  },
  {
   "cell_type": "markdown",
   "metadata": {
    "id": "yJWD8pCuJevR"
   },
   "source": [
    "3) NaN 존재 유무"
   ]
  },
  {
   "cell_type": "code",
   "execution_count": 49,
   "metadata": {
    "id": "arkgiq_hJevR"
   },
   "outputs": [
    {
     "data": {
      "text/plain": [
       "0"
      ]
     },
     "execution_count": 49,
     "metadata": {},
     "output_type": "execute_result"
    }
   ],
   "source": [
    "data[feature].isna().sum()"
   ]
  },
  {
   "cell_type": "markdown",
   "metadata": {
    "id": "mYUYTswZJevR"
   },
   "source": [
    "4) 기초통계량(수치화)"
   ]
  },
  {
   "cell_type": "code",
   "execution_count": 50,
   "metadata": {
    "id": "vM3EzWQnJevR"
   },
   "outputs": [
    {
     "data": {
      "text/plain": [
       "count    400.000000\n",
       "mean     264.840000\n",
       "std      147.376436\n",
       "min       10.000000\n",
       "25%      139.000000\n",
       "50%      272.000000\n",
       "75%      398.500000\n",
       "max      509.000000\n",
       "Name: Population, dtype: float64"
      ]
     },
     "execution_count": 50,
     "metadata": {},
     "output_type": "execute_result"
    }
   ],
   "source": [
    "data[feature].describe()"
   ]
  },
  {
   "cell_type": "markdown",
   "metadata": {
    "id": "pMgOiJF3JevR"
   },
   "source": [
    "5) 분포 확인(시각화)"
   ]
  },
  {
   "cell_type": "code",
   "execution_count": 51,
   "metadata": {
    "id": "kOzq61LWJevR"
   },
   "outputs": [
    {
     "data": {
      "image/png": "[encoded data removed]",
      "text/plain": [
       "<Figure size 432x288 with 1 Axes>"
      ]
     },
     "metadata": {
      "needs_background": "light"
     },
     "output_type": "display_data"
    }
   ],
   "source": [
    "sns.histplot(data[feature], bins = 40)\n",
    "plt.show()"
   ]
  },
  {
   "cell_type": "code",
   "execution_count": 52,
   "metadata": {
    "id": "Xph8l6CAJevR",
    "scrolled": true
   },
   "outputs": [
    {
     "data": {
      "image/png": "[encoded data removed]",
      "text/plain": [
       "<Figure size 432x288 with 1 Axes>"
      ]
     },
     "metadata": {
      "needs_background": "light"
     },
     "output_type": "display_data"
    },
    {
     "name": "stdout",
     "output_type": "stream",
     "text": [
      "[139.  10.]\n",
      "[398.5 509. ]\n"
     ]
    }
   ],
   "source": [
    "box = plt.boxplot(data[feature], vert = False)\n",
    "plt.show()\n",
    "\n",
    "print(box['whiskers'][0].get_xdata())\n",
    "print(box['whiskers'][1].get_xdata())"
   ]
  },
  {
   "cell_type": "code",
   "execution_count": 206,
   "metadata": {},
   "outputs": [
    {
     "data": {
      "image/png": "[encoded data removed]",
      "text/plain": [
       "<Figure size 432x288 with 1 Axes>"
      ]
     },
     "metadata": {
      "needs_background": "light"
     },
     "output_type": "display_data"
    }
   ],
   "source": [
    "pd.Series(feature)\n",
    "data[feature].plot(kind = 'kde') \n",
    "plt.xlabel('Population')\n",
    "plt.show()"
   ]
  },
  {
   "cell_type": "markdown",
   "metadata": {
    "id": "LdC9rh0OJevR"
   },
   "source": [
    "6) 기초통계량과 분포를 통해서 파악한 내용을 적어 봅시다.\n",
    "\n",
    "보이는 그대로를 넘어, 비즈니스 관점에서 고민하며 적어 봅시다."
   ]
  },
  {
   "cell_type": "markdown",
   "metadata": {
    "id": "e_y0LwPeJevS"
   },
   "source": [
    "> * 분포가 중앙에 넓게 모여있음"
   ]
  },
  {
   "cell_type": "markdown",
   "metadata": {
    "id": "0eF6frfBJevS"
   },
   "source": [
    "7) 추가 분석해 볼 사항이 있나요?"
   ]
  },
  {
   "cell_type": "markdown",
   "metadata": {
    "id": "P_XZ4rDbJevS"
   },
   "source": [
    "> * 지역 인구수에 따라 판매액에 영향을 미치는지 분석할 필요 있음"
   ]
  },
  {
   "cell_type": "markdown",
   "metadata": {
    "id": "xISPQi2iuRxA"
   },
   "source": [
    "### 4) Price"
   ]
  },
  {
   "cell_type": "code",
   "execution_count": 75,
   "metadata": {
    "id": "f7iOkEfAJgeA"
   },
   "outputs": [],
   "source": [
    "feature = 'Price'"
   ]
  },
  {
   "cell_type": "markdown",
   "metadata": {
    "id": "0XmAXbOyJgeA"
   },
   "source": [
    "1) 변수의 비즈니스 의미"
   ]
  },
  {
   "cell_type": "markdown",
   "metadata": {
    "id": "NxmJoZeCJgeA"
   },
   "source": [
    "> *자사 지역별 판매가격(달러)\t"
   ]
  },
  {
   "cell_type": "markdown",
   "metadata": {
    "id": "22ORLW96JgeA"
   },
   "source": [
    "2) 숫자, 범주?"
   ]
  },
  {
   "cell_type": "markdown",
   "metadata": {
    "id": "sdesUnBpJgeB"
   },
   "source": [
    "> * 숫자 데이터"
   ]
  },
  {
   "cell_type": "markdown",
   "metadata": {
    "id": "dP9nMQQPJgeB"
   },
   "source": [
    "3) NaN 존재 유무"
   ]
  },
  {
   "cell_type": "code",
   "execution_count": 76,
   "metadata": {
    "id": "hSwa4H7FJgeB"
   },
   "outputs": [
    {
     "data": {
      "text/plain": [
       "0"
      ]
     },
     "execution_count": 76,
     "metadata": {},
     "output_type": "execute_result"
    }
   ],
   "source": [
    "data[feature].isna().sum()"
   ]
  },
  {
   "cell_type": "markdown",
   "metadata": {
    "id": "IsIYsckkJgeB"
   },
   "source": [
    "4) 기초통계량(수치화)"
   ]
  },
  {
   "cell_type": "code",
   "execution_count": 77,
   "metadata": {
    "id": "RCFWcm5wJgeB"
   },
   "outputs": [
    {
     "data": {
      "text/plain": [
       "count    400.000000\n",
       "mean     115.795000\n",
       "std       23.676664\n",
       "min       24.000000\n",
       "25%      100.000000\n",
       "50%      117.000000\n",
       "75%      131.000000\n",
       "max      191.000000\n",
       "Name: Price, dtype: float64"
      ]
     },
     "execution_count": 77,
     "metadata": {},
     "output_type": "execute_result"
    }
   ],
   "source": [
    "data[feature].describe()"
   ]
  },
  {
   "cell_type": "markdown",
   "metadata": {
    "id": "Q70Of8XSJgeB"
   },
   "source": [
    "5) 분포 확인(시각화)"
   ]
  },
  {
   "cell_type": "code",
   "execution_count": 78,
   "metadata": {
    "id": "7ay0tk7WJgeB"
   },
   "outputs": [
    {
     "data": {
      "image/png": "[encoded data removed]",
      "text/plain": [
       "<Figure size 432x288 with 1 Axes>"
      ]
     },
     "metadata": {
      "needs_background": "light"
     },
     "output_type": "display_data"
    }
   ],
   "source": [
    "sns.histplot(data[feature], bins = 40)\n",
    "plt.show()"
   ]
  },
  {
   "cell_type": "code",
   "execution_count": 79,
   "metadata": {
    "id": "wvldqj_EJgeB",
    "scrolled": false
   },
   "outputs": [
    {
     "data": {
      "image/png": "[encoded data removed]",
      "text/plain": [
       "<Figure size 432x288 with 1 Axes>"
      ]
     },
     "metadata": {
      "needs_background": "light"
     },
     "output_type": "display_data"
    },
    {
     "name": "stdout",
     "output_type": "stream",
     "text": [
      "[100.  54.]\n",
      "[131. 173.]\n"
     ]
    }
   ],
   "source": [
    "box = plt.boxplot(data[feature], vert = False)\n",
    "plt.show()\n",
    "\n",
    "print(box['whiskers'][0].get_xdata())\n",
    "print(box['whiskers'][1].get_xdata())"
   ]
  },
  {
   "cell_type": "code",
   "execution_count": 81,
   "metadata": {},
   "outputs": [
    {
     "data": {
      "image/png": "[encoded data removed]",
      "text/plain": [
       "<Figure size 432x288 with 1 Axes>"
      ]
     },
     "metadata": {
      "needs_background": "light"
     },
     "output_type": "display_data"
    }
   ],
   "source": [
    "pd.Series(feature)\n",
    "data[feature].plot(kind = 'kde') \n",
    "plt.show()"
   ]
  },
  {
   "cell_type": "markdown",
   "metadata": {
    "id": "YYUn0X2SJgeC"
   },
   "source": [
    "6) 기초통계량과 분포를 통해서 파악한 내용을 적어 봅시다.\n",
    "\n",
    "보이는 그대로를 넘어, 비즈니스 관점에서 고민하며 적어 봅시다."
   ]
  },
  {
   "cell_type": "markdown",
   "metadata": {
    "id": "OSIb2ligJgeC"
   },
   "source": [
    "> * 제품가격의 최대값과 최소값의 차이가 약 170달러 정도이다.\n",
    "> * 다른 요소들의 비해 가장 정규분포표와 비슷하다."
   ]
  },
  {
   "cell_type": "markdown",
   "metadata": {
    "id": "m2EnbT7lJgeC"
   },
   "source": [
    "7) 추가 분석해 볼 사항이 있나요?"
   ]
  },
  {
   "cell_type": "markdown",
   "metadata": {
    "id": "lqzEeWsKJgeC"
   },
   "source": [
    "> * 지역별 판매가격이 낮은 지역에서의 판매량 높은지역에서의 판매량을 분석해서 판매가격과 판매량의 상관관계를 분석 필요"
   ]
  },
  {
   "cell_type": "markdown",
   "metadata": {
    "id": "cYkgwG47evaF"
   },
   "source": [
    "### 5) ShelveLoc"
   ]
  },
  {
   "cell_type": "code",
   "execution_count": 207,
   "metadata": {
    "id": "sW6PkbQiJkt4"
   },
   "outputs": [],
   "source": [
    "feature = 'ShelveLoc'"
   ]
  },
  {
   "cell_type": "markdown",
   "metadata": {
    "id": "LL7cN6_WJkt4"
   },
   "source": [
    "1) 변수의 비즈니스 의미"
   ]
  },
  {
   "cell_type": "markdown",
   "metadata": {
    "id": "-mEM9zFcJkt4"
   },
   "source": [
    "> * 매장 내 제품의 진열상태(Good, Medium, Bad)"
   ]
  },
  {
   "cell_type": "markdown",
   "metadata": {
    "id": "-BHw1LpKJkt4"
   },
   "source": [
    "2) 숫자, 범주?"
   ]
  },
  {
   "cell_type": "markdown",
   "metadata": {
    "id": "BISYkaQMJkt4"
   },
   "source": [
    "> * 범주 데이터"
   ]
  },
  {
   "cell_type": "code",
   "execution_count": 208,
   "metadata": {},
   "outputs": [
    {
     "data": {
      "text/plain": [
       "array(['Bad', 'Good', 'Medium'], dtype=object)"
      ]
     },
     "execution_count": 208,
     "metadata": {},
     "output_type": "execute_result"
    }
   ],
   "source": [
    "data[feature].unique()"
   ]
  },
  {
   "cell_type": "markdown",
   "metadata": {
    "id": "Lysk2cD6Jkt5"
   },
   "source": [
    "3) NaN 존재 유무"
   ]
  },
  {
   "cell_type": "code",
   "execution_count": 209,
   "metadata": {
    "id": "79Vx9EUOJkt5"
   },
   "outputs": [
    {
     "data": {
      "text/plain": [
       "0"
      ]
     },
     "execution_count": 209,
     "metadata": {},
     "output_type": "execute_result"
    }
   ],
   "source": [
    "data[feature].isna().sum()"
   ]
  },
  {
   "cell_type": "markdown",
   "metadata": {
    "id": "cBy3lL1LJkt5"
   },
   "source": [
    "4) 기초통계량(수치화)"
   ]
  },
  {
   "cell_type": "code",
   "execution_count": 210,
   "metadata": {},
   "outputs": [
    {
     "name": "stdout",
     "output_type": "stream",
     "text": [
      "count        400\n",
      "unique         3\n",
      "top       Medium\n",
      "freq         219\n",
      "Name: ShelveLoc, dtype: object\n",
      "--------------------------------------------------\n",
      "Medium    219\n",
      "Bad        96\n",
      "Good       85\n",
      "Name: ShelveLoc, dtype: int64\n",
      "--------------------------------------------------\n",
      "Medium    0.5475\n",
      "Bad       0.2400\n",
      "Good      0.2125\n",
      "Name: ShelveLoc, dtype: float64\n"
     ]
    }
   ],
   "source": [
    "print(data[feature].describe())\n",
    "print('-'*50)\n",
    "print(data[feature].value_counts())\n",
    "print('-'*50)\n",
    "print(data[feature].value_counts()/ len(data[feature]))"
   ]
  },
  {
   "cell_type": "markdown",
   "metadata": {
    "id": "LPqp6_oiJkt5"
   },
   "source": [
    "5) 분포 확인(시각화)"
   ]
  },
  {
   "cell_type": "code",
   "execution_count": 211,
   "metadata": {},
   "outputs": [
    {
     "data": {
      "image/png": "[encoded data removed]",
      "text/plain": [
       "<Figure size 432x288 with 1 Axes>"
      ]
     },
     "metadata": {
      "needs_background": "light"
     },
     "output_type": "display_data"
    }
   ],
   "source": [
    "sns.barplot(x = feature, y = target, data = data)\n",
    "plt.show()"
   ]
  },
  {
   "cell_type": "code",
   "execution_count": 212,
   "metadata": {
    "id": "jnxfSw7qJkt5"
   },
   "outputs": [
    {
     "data": {
      "image/png": "[encoded data removed]",
      "text/plain": [
       "<Figure size 432x288 with 1 Axes>"
      ]
     },
     "metadata": {},
     "output_type": "display_data"
    }
   ],
   "source": [
    "tmp = pd.Series(data[feature])\n",
    "cnt = data[feature].value_counts()\n",
    "\n",
    "plt.pie(cnt.values, labels = cnt.index, autopct = '%.2f%%',\n",
    "       startangle=90, counterclock = False,\n",
    "       explode = [0.05, 0.05, 0.05], shadow = True)\n",
    "plt.show()"
   ]
  },
  {
   "cell_type": "markdown",
   "metadata": {
    "id": "xYOwVs4UJkt5"
   },
   "source": [
    "6) 기초통계량과 분포를 통해서 파악한 내용을 적어 봅시다.\n",
    "\n",
    "보이는 그대로를 넘어, 비즈니스 관점에서 고민하며 적어 봅시다."
   ]
  },
  {
   "cell_type": "markdown",
   "metadata": {
    "id": "lTc-iJb_Jkt5"
   },
   "source": [
    "> * 76%의 매장에서 진열상태가 양호한 편으로 분석되고 그 외 24%의 매장에서는 진열상태가 '나쁨'으로 분석된다.\n",
    "> * 진열상태가 '좋음'으로 분석되는 매장이 '나쁨'으로 분석되는 매장보다 적게 나옴\n",
    "> * 본사 차원에서 매장관리에 조금 더 신경을 써야 할 것이다."
   ]
  },
  {
   "cell_type": "markdown",
   "metadata": {
    "id": "1lVk8HISJkt5"
   },
   "source": [
    "7) 추가 분석해 볼 사항이 있나요?"
   ]
  },
  {
   "cell_type": "markdown",
   "metadata": {
    "id": "X8avxM7LJkt5"
   },
   "source": [
    "> * 이변량 분석을 통해 진열상태와 판매량 / 판매액에 상관관계 분석 필요"
   ]
  },
  {
   "cell_type": "markdown",
   "metadata": {
    "id": "somjoCHgubHU"
   },
   "source": [
    "### 6) [추가]Age"
   ]
  },
  {
   "cell_type": "code",
   "execution_count": 164,
   "metadata": {
    "id": "-ZruH7xdJn1U"
   },
   "outputs": [],
   "source": [
    "feature = 'Age'"
   ]
  },
  {
   "cell_type": "markdown",
   "metadata": {
    "id": "apw5VuagJn1U"
   },
   "source": [
    "1) 변수의 비즈니스 의미"
   ]
  },
  {
   "cell_type": "markdown",
   "metadata": {
    "id": "wgoKUmBLJn1U"
   },
   "source": [
    "> * 지역 인구의 평균 연령\t"
   ]
  },
  {
   "cell_type": "markdown",
   "metadata": {
    "id": "XWDyIkLZJn1U"
   },
   "source": [
    "2) 숫자, 범주?"
   ]
  },
  {
   "cell_type": "markdown",
   "metadata": {
    "id": "6U7fd3gsJn1U"
   },
   "source": [
    "> * 숫자 데이터"
   ]
  },
  {
   "cell_type": "markdown",
   "metadata": {
    "id": "2dnYIp1QJn1U"
   },
   "source": [
    "3) NaN 존재 유무"
   ]
  },
  {
   "cell_type": "code",
   "execution_count": 165,
   "metadata": {
    "id": "nb9MGl05Jn1U"
   },
   "outputs": [
    {
     "data": {
      "text/plain": [
       "0"
      ]
     },
     "execution_count": 165,
     "metadata": {},
     "output_type": "execute_result"
    }
   ],
   "source": [
    "data[feature].isna().sum()"
   ]
  },
  {
   "cell_type": "markdown",
   "metadata": {
    "id": "W42D_sfsJn1V"
   },
   "source": [
    "4) 기초통계량(수치화)"
   ]
  },
  {
   "cell_type": "code",
   "execution_count": 166,
   "metadata": {
    "id": "y-zQuyKQJn1V"
   },
   "outputs": [
    {
     "data": {
      "text/plain": [
       "count    400.000000\n",
       "mean      53.322500\n",
       "std       16.200297\n",
       "min       25.000000\n",
       "25%       39.750000\n",
       "50%       54.500000\n",
       "75%       66.000000\n",
       "max       80.000000\n",
       "Name: Age, dtype: float64"
      ]
     },
     "execution_count": 166,
     "metadata": {},
     "output_type": "execute_result"
    }
   ],
   "source": [
    "data[feature].describe()"
   ]
  },
  {
   "cell_type": "markdown",
   "metadata": {
    "id": "Vnp4AYITJn1V"
   },
   "source": [
    "5) 분포 확인(시각화)"
   ]
  },
  {
   "cell_type": "code",
   "execution_count": 169,
   "metadata": {
    "id": "sxeyGirYJn1V"
   },
   "outputs": [
    {
     "data": {
      "image/png": "[encoded data removed]",
      "text/plain": [
       "<Figure size 432x288 with 1 Axes>"
      ]
     },
     "metadata": {
      "needs_background": "light"
     },
     "output_type": "display_data"
    }
   ],
   "source": [
    "sns.histplot(data[feature], bins = 40)\n",
    "plt.show()"
   ]
  },
  {
   "cell_type": "code",
   "execution_count": 170,
   "metadata": {
    "id": "KL4nKcD-Jn1V"
   },
   "outputs": [
    {
     "data": {
      "image/png": "[encoded data removed]",
      "text/plain": [
       "<Figure size 432x288 with 1 Axes>"
      ]
     },
     "metadata": {
      "needs_background": "light"
     },
     "output_type": "display_data"
    },
    {
     "name": "stdout",
     "output_type": "stream",
     "text": [
      "[39.75 25.  ]\n",
      "[66. 80.]\n"
     ]
    }
   ],
   "source": [
    "box = plt.boxplot(data[feature], vert = False)\n",
    "plt.show()\n",
    "\n",
    "print(box['whiskers'][0].get_xdata())\n",
    "print(box['whiskers'][1].get_xdata())"
   ]
  },
  {
   "cell_type": "markdown",
   "metadata": {
    "id": "3vdEy4tBJn1V"
   },
   "source": [
    "6) 기초통계량과 분포를 통해서 파악한 내용을 적어 봅시다.\n",
    "\n",
    "보이는 그대로를 넘어, 비즈니스 관점에서 고민하며 적어 봅시다."
   ]
  },
  {
   "cell_type": "markdown",
   "metadata": {
    "id": "iGWUL_4eJn1V"
   },
   "source": [
    "> * 지역 내 연령분포가 특정 연령층으로 치우지지 않은 고르게 분포된 것으로 볼 수 있다."
   ]
  },
  {
   "cell_type": "markdown",
   "metadata": {
    "id": "is44qAg3Jn1V"
   },
   "source": [
    "7) 추가 분석해 볼 사항이 있나요?"
   ]
  },
  {
   "cell_type": "markdown",
   "metadata": {
    "id": "-2WdEEoZJn1V"
   },
   "source": [
    "> * 연령별 자녀유무 혹은 그 자녀의 연령대 또한 조사해 볼 필요가 있다."
   ]
  },
  {
   "cell_type": "markdown",
   "metadata": {
    "id": "4gpzSwR6unBN"
   },
   "source": [
    "### 7) [추가]US"
   ]
  },
  {
   "cell_type": "code",
   "execution_count": 171,
   "metadata": {
    "id": "oD99RnEXJrsU"
   },
   "outputs": [],
   "source": [
    "feature = 'US'"
   ]
  },
  {
   "cell_type": "markdown",
   "metadata": {
    "id": "zR0og8o7JrsU"
   },
   "source": [
    "1) 변수의 비즈니스 의미"
   ]
  },
  {
   "cell_type": "markdown",
   "metadata": {
    "id": "JmaiIlM8JrsV"
   },
   "source": [
    "> * 매장이 미국에 있는지 여부(Yes, No)"
   ]
  },
  {
   "cell_type": "markdown",
   "metadata": {
    "id": "r_V1myWHJrsV"
   },
   "source": [
    "2) 숫자, 범주?"
   ]
  },
  {
   "cell_type": "markdown",
   "metadata": {
    "id": "V4K0vROOJrsV"
   },
   "source": [
    "> * 범주 데이터"
   ]
  },
  {
   "cell_type": "markdown",
   "metadata": {
    "id": "8WLRx3p4JrsV"
   },
   "source": [
    "3) NaN 존재 유무"
   ]
  },
  {
   "cell_type": "code",
   "execution_count": 177,
   "metadata": {
    "id": "W3GCxrx2JrsV"
   },
   "outputs": [
    {
     "data": {
      "text/plain": [
       "0"
      ]
     },
     "execution_count": 177,
     "metadata": {},
     "output_type": "execute_result"
    }
   ],
   "source": [
    "data[feature].isna().sum()"
   ]
  },
  {
   "cell_type": "markdown",
   "metadata": {
    "id": "tfqwYhb8JrsV"
   },
   "source": [
    "4) 기초통계량(수치화)"
   ]
  },
  {
   "cell_type": "code",
   "execution_count": 178,
   "metadata": {
    "id": "_MyyK63iJrsV"
   },
   "outputs": [
    {
     "name": "stdout",
     "output_type": "stream",
     "text": [
      "count     400\n",
      "unique      2\n",
      "top       Yes\n",
      "freq      258\n",
      "Name: US, dtype: object\n",
      "--------------------------------------------------\n",
      "Yes    258\n",
      "No     142\n",
      "Name: US, dtype: int64\n",
      "--------------------------------------------------\n",
      "Yes    0.645\n",
      "No     0.355\n",
      "Name: US, dtype: float64\n"
     ]
    }
   ],
   "source": [
    "print(data[feature].describe())\n",
    "print('-'*50)\n",
    "print(data[feature].value_counts())\n",
    "print('-'*50)\n",
    "print(data[feature].value_counts()/ len(data[feature]))"
   ]
  },
  {
   "cell_type": "markdown",
   "metadata": {
    "id": "TZQSVrpJJrsW"
   },
   "source": [
    "5) 분포 확인(시각화)"
   ]
  },
  {
   "cell_type": "code",
   "execution_count": 180,
   "metadata": {
    "id": "YGaFYrFVJrsW"
   },
   "outputs": [
    {
     "data": {
      "image/png": "[encoded data removed]",
      "text/plain": [
       "<Figure size 432x288 with 1 Axes>"
      ]
     },
     "metadata": {
      "needs_background": "light"
     },
     "output_type": "display_data"
    }
   ],
   "source": [
    "sns.barplot(x = feature, y = target, data = data) #plt의 barplot 사용해서\n",
    "plt.show()"
   ]
  },
  {
   "cell_type": "code",
   "execution_count": 176,
   "metadata": {
    "id": "XUjBGHIJJrsW"
   },
   "outputs": [
    {
     "data": {
      "image/png": "[encoded data removed]",
      "text/plain": [
       "<Figure size 432x288 with 1 Axes>"
      ]
     },
     "metadata": {},
     "output_type": "display_data"
    }
   ],
   "source": [
    "tmp = pd.Series(data[feature])\n",
    "cnt = data[feature].value_counts()\n",
    "\n",
    "plt.pie(cnt.values, labels = cnt.index, autopct = '%.2f%%',\n",
    "       startangle=90, counterclock = False,\n",
    "       explode = [0.05, 0.05], shadow = True)\n",
    "plt.show()"
   ]
  },
  {
   "cell_type": "markdown",
   "metadata": {
    "id": "GEPRD8ihJrsW"
   },
   "source": [
    "6) 기초통계량과 분포를 통해서 파악한 내용을 적어 봅시다.\n",
    "\n",
    "보이는 그대로를 넘어, 비즈니스 관점에서 고민하며 적어 봅시다."
   ]
  },
  {
   "cell_type": "markdown",
   "metadata": {
    "id": "ZMIrtUgyJrsW"
   },
   "source": [
    "> * 64.5% 가량의 매장이 미국지역에 존재한다"
   ]
  },
  {
   "cell_type": "markdown",
   "metadata": {
    "id": "lZ-8dwRUJrsW"
   },
   "source": [
    "7) 추가 분석해 볼 사항이 있나요?"
   ]
  },
  {
   "cell_type": "markdown",
   "metadata": {
    "id": "DjtqK3NDJrsW"
   },
   "source": [
    "> * 미국에 있는 매장과, 없는 매장과의 차이점을 비교 분석해본다."
   ]
  },
  {
   "cell_type": "markdown",
   "metadata": {
    "id": "ZghJJ7yLEpDA"
   },
   "source": [
    "## 3.이변량 분석 \n",
    "* 자료의 종류에 맞게 X --> Y 에 대해서 그래프(시각화)와 가설검정(수치화)를 수행하고 결과를 평가합니다.\n",
    "* 가설검정시 다음의 항목을 참조하여 수행합니다.\n",
    "    * 유의수준 : 5%\n",
    "    * 숫자 --> 숫자 : 상관분석\n",
    "    * 범주 --> 범주 : 카이제곱검정\n",
    "    * 범주 --> 숫자 : t검정, 분산분석\n",
    "    * 숫자 --> 범주 : 로지스틱 회귀모형을 통해, 회귀계수의 P.value로 검정을 수행합니다."
   ]
  },
  {
   "cell_type": "code",
   "execution_count": 88,
   "metadata": {
    "id": "qZ13M3G6y1h3"
   },
   "outputs": [],
   "source": [
    "target = 'Sales'"
   ]
  },
  {
   "cell_type": "markdown",
   "metadata": {
    "id": "4hzLzBmgJCPm"
   },
   "source": [
    "### (1) 숫자형(수치형) X --> Y\n",
    "* 모든 숫자형 X에 대해서 Y와 비교하여 차트를 그리고 수치화 하시오.\n",
    "\n",
    "① 시각화 : scatter, jointplot  \n",
    "② 수치화 : 상관분석"
   ]
  },
  {
   "cell_type": "markdown",
   "metadata": {
    "id": "afL0_rKpEoTz"
   },
   "source": [
    "#### 1) Advertising -> Sales"
   ]
  },
  {
   "cell_type": "markdown",
   "metadata": {
    "id": "YunT0YT3yvUF"
   },
   "source": [
    "① 시각화 : scatter(regplot), jointplot"
   ]
  },
  {
   "cell_type": "code",
   "execution_count": 189,
   "metadata": {
    "id": "3h0FBoYKJwy8"
   },
   "outputs": [],
   "source": [
    "feature = 'Advertising'"
   ]
  },
  {
   "cell_type": "code",
   "execution_count": 190,
   "metadata": {
    "id": "W0G4sFmXJzpX",
    "scrolled": true
   },
   "outputs": [
    {
     "data": {
      "image/png": "[encoded data removed]",
      "text/plain": [
       "<Figure size 432x288 with 1 Axes>"
      ]
     },
     "metadata": {
      "needs_background": "light"
     },
     "output_type": "display_data"
    }
   ],
   "source": [
    "# 시각화 : scatter (matplotlib.pyplot)\n",
    "plt.scatter(feature, target, data = data)\n",
    "plt.xlabel(feature)\n",
    "plt.ylabel(target)\n",
    "plt.show()"
   ]
  },
  {
   "cell_type": "code",
   "execution_count": 191,
   "metadata": {},
   "outputs": [
    {
     "name": "stderr",
     "output_type": "stream",
     "text": [
      "C:\\Users\\User\\anaconda3\\lib\\site-packages\\seaborn\\_decorators.py:36: FutureWarning: Pass the following variables as keyword args: x, y. From version 0.12, the only valid positional argument will be `data`, and passing other arguments without an explicit keyword will result in an error or misinterpretation.\n",
      "  warnings.warn(\n"
     ]
    },
    {
     "data": {
      "image/png": "[encoded data removed]",
      "text/plain": [
       "<Figure size 432x288 with 1 Axes>"
      ]
     },
     "metadata": {
      "needs_background": "light"
     },
     "output_type": "display_data"
    }
   ],
   "source": [
    "sns.regplot(feature, target, data = data)\n",
    "plt.xlabel(feature)\n",
    "plt.ylabel(target)\n",
    "plt.show()"
   ]
  },
  {
   "cell_type": "code",
   "execution_count": 192,
   "metadata": {},
   "outputs": [
    {
     "data": {
      "image/png": "[encoded data removed]",
      "text/plain": [
       "<Figure size 432x432 with 3 Axes>"
      ]
     },
     "metadata": {
      "needs_background": "light"
     },
     "output_type": "display_data"
    }
   ],
   "source": [
    "# 시각화 : jointplot (seaborn)\n",
    "sns.jointplot(x = feature, y = target, data = data)\n",
    "plt.show()"
   ]
  },
  {
   "cell_type": "markdown",
   "metadata": {
    "id": "N5HKr4Nuzblr"
   },
   "source": [
    "② 수치화 : 상관분석"
   ]
  },
  {
   "cell_type": "code",
   "execution_count": 193,
   "metadata": {
    "id": "JlaUZ1m_JzSQ"
   },
   "outputs": [
    {
     "data": {
      "text/plain": [
       "Sales          0\n",
       "Advertising    0\n",
       "Population     0\n",
       "Price          0\n",
       "ShelveLoc      0\n",
       "Age            0\n",
       "US             0\n",
       "dtype: int64"
      ]
     },
     "execution_count": 193,
     "metadata": {},
     "output_type": "execute_result"
    }
   ],
   "source": [
    "data.isna().sum()"
   ]
  },
  {
   "cell_type": "code",
   "execution_count": 194,
   "metadata": {
    "id": "v8IQpoApJzEO"
   },
   "outputs": [
    {
     "name": "stdout",
     "output_type": "stream",
     "text": [
      "상관계수 :  0.269506781376902\n",
      "p-value :  4.377677110302732e-08\n"
     ]
    }
   ],
   "source": [
    "# 상관계수와 p-value\n",
    "tmp = spst.pearsonr(data[feature], data[target])\n",
    "print(\"상관계수 : \", tmp[0])\n",
    "print(\"p-value : \", tmp[1])\n",
    "# p-value값이 0에 가까울 수록 직선으로 설명이 잘되는지 / 직선에 모여있는지 볼 수 있음"
   ]
  },
  {
   "cell_type": "markdown",
   "metadata": {
    "id": "uP5mxn4kzpYL"
   },
   "source": [
    "③ 시각화와 수치화 결과로부터 파악한 내용을 적어 봅시다."
   ]
  },
  {
   "cell_type": "markdown",
   "metadata": {},
   "source": [
    "> * p-value 값은 실제로 상관관계가 존재하지 않는데 상관관계가 존재한다는 결론을 내릴 위험 정도를 나타내는 값이다.\n",
    "> * 즉, p-value값이 클 수록 두 요소간 상관관계가 존재한다고 보기 어렵다.\n",
    "> * 일반적으로 유의수준을 0.05로 둔다."
   ]
  },
  {
   "cell_type": "markdown",
   "metadata": {
    "id": "QG6MuyqqzxQd"
   },
   "source": [
    "> * \n",
    "> * 상관계수의 절대값이 0.2< |상관계수| <=0.5 인것 으로 보아 중간정도의 상관관계로 볼 수 있다.\n",
    "> * p-value 값이 일반적인 유의수준인 0.05보다 작으므로 두 변수간의 상관관계가 유의미하다고 볼 수 있다."
   ]
  },
  {
   "cell_type": "markdown",
   "metadata": {
    "id": "WkqKQdQADSiq"
   },
   "source": [
    "#### 2) Population -> Sales"
   ]
  },
  {
   "cell_type": "code",
   "execution_count": 146,
   "metadata": {},
   "outputs": [],
   "source": [
    "feature = 'Population'"
   ]
  },
  {
   "cell_type": "markdown",
   "metadata": {
    "id": "DdoQlTluJ2_0"
   },
   "source": [
    "① 시각화 : scatter(regplot), jointplot"
   ]
  },
  {
   "cell_type": "code",
   "execution_count": 147,
   "metadata": {
    "id": "C38CyLRiJ2_1"
   },
   "outputs": [
    {
     "data": {
      "image/png": "[encoded data removed]",
      "text/plain": [
       "<Figure size 432x288 with 1 Axes>"
      ]
     },
     "metadata": {
      "needs_background": "light"
     },
     "output_type": "display_data"
    }
   ],
   "source": [
    "# 시각화 : scatter (matplotlib.pyplot)\n",
    "plt.scatter(feature, target, data = data)\n",
    "plt.xlabel(feature)\n",
    "plt.ylabel(target)\n",
    "plt.show()"
   ]
  },
  {
   "cell_type": "code",
   "execution_count": 149,
   "metadata": {
    "id": "Lcri7l6wJ2_1"
   },
   "outputs": [
    {
     "data": {
      "image/png": "[encoded data removed]",
      "text/plain": [
       "<Figure size 432x432 with 3 Axes>"
      ]
     },
     "metadata": {
      "needs_background": "light"
     },
     "output_type": "display_data"
    }
   ],
   "source": [
    "# 시각화 : jointplot (seaborn)\n",
    "sns.jointplot(x = feature, y = target, data = data)\n",
    "plt.show()"
   ]
  },
  {
   "cell_type": "markdown",
   "metadata": {
    "id": "XEnUoJfgJ2_1"
   },
   "source": [
    "② 수치화 : 상관분석"
   ]
  },
  {
   "cell_type": "code",
   "execution_count": 100,
   "metadata": {
    "id": "QW_LmEouJ2_2"
   },
   "outputs": [
    {
     "name": "stdout",
     "output_type": "stream",
     "text": [
      "상관계수 :  0.0504709844720392\n",
      "p-value :  0.31398160931903\n"
     ]
    }
   ],
   "source": [
    "# 상관계수와 p-value\n",
    "tmp = spst.pearsonr(data[feature], data[target])\n",
    "print(\"상관계수 : \", tmp[0])\n",
    "print(\"p-value : \", tmp[1])\n",
    "# p-value값이 0에 가까울 수록 직선으로 설명이 잘되는지 / 직선에 모여있는지 볼 수 있음"
   ]
  },
  {
   "cell_type": "markdown",
   "metadata": {
    "id": "T757xAHsJ2_2"
   },
   "source": [
    "③ 시각화와 수치화 결과로부터 파악한 내용을 적어 봅시다."
   ]
  },
  {
   "cell_type": "markdown",
   "metadata": {
    "id": "Uv8rEByYJ2_2"
   },
   "source": [
    "> * 상관계수의 절대값이 다른 요소들에 비해 작은것으로 보아 선형관계로 볼 수 없다.\n",
    "> * p-value 값이 일반적인 유의수준인 0.05보다 크므로 인구와 판매량에는 상관관계가 있다고 보기 어렵다."
   ]
  },
  {
   "cell_type": "markdown",
   "metadata": {
    "id": "dGm2hHTFDSo4"
   },
   "source": [
    "#### 3) Price -> Sales"
   ]
  },
  {
   "cell_type": "code",
   "execution_count": 101,
   "metadata": {},
   "outputs": [],
   "source": [
    "feature = 'Price'"
   ]
  },
  {
   "cell_type": "markdown",
   "metadata": {
    "id": "-piT-LQzJ5Mx"
   },
   "source": [
    "① 시각화 : scatter(regplot), jointplot"
   ]
  },
  {
   "cell_type": "code",
   "execution_count": 102,
   "metadata": {
    "id": "ZusPzKy2J5My"
   },
   "outputs": [
    {
     "data": {
      "image/png": "[encoded data removed]",
      "text/plain": [
       "<Figure size 432x288 with 1 Axes>"
      ]
     },
     "metadata": {
      "needs_background": "light"
     },
     "output_type": "display_data"
    }
   ],
   "source": [
    "# 시각화 : scatter (matplotlib.pyplot)\n",
    "plt.scatter(feature, target, data = data)\n",
    "plt.xlabel(feature)\n",
    "plt.ylabel(target)\n",
    "plt.show()"
   ]
  },
  {
   "cell_type": "code",
   "execution_count": 103,
   "metadata": {
    "id": "_TH3JyiuJ5My"
   },
   "outputs": [
    {
     "data": {
      "image/png": "[encoded data removed]",
      "text/plain": [
       "<Figure size 432x432 with 3 Axes>"
      ]
     },
     "metadata": {
      "needs_background": "light"
     },
     "output_type": "display_data"
    }
   ],
   "source": [
    "# 시각화 : jointplot (seaborn)\n",
    "sns.jointplot(x = feature, y = target, data = data)\n",
    "plt.show()"
   ]
  },
  {
   "cell_type": "markdown",
   "metadata": {
    "id": "9pSLXOseJ5My"
   },
   "source": [
    "② 수치화 : 상관분석"
   ]
  },
  {
   "cell_type": "code",
   "execution_count": 104,
   "metadata": {
    "id": "JU7WRbloJ5Mz"
   },
   "outputs": [
    {
     "name": "stdout",
     "output_type": "stream",
     "text": [
      "상관계수 :  -0.4449507278465726\n",
      "p-value :  7.61818701191294e-21\n"
     ]
    }
   ],
   "source": [
    "# 상관계수와 p-value\n",
    "tmp = spst.pearsonr(data[feature], data[target])\n",
    "print(\"상관계수 : \", tmp[0])\n",
    "print(\"p-value : \", tmp[1])\n",
    "# p-value값이 0에 가까울 수록 직선으로 설명이 잘되는지 / 직선에 모여있는지 볼 수 있음"
   ]
  },
  {
   "cell_type": "markdown",
   "metadata": {
    "id": "J3_UrWsOJ5Mz"
   },
   "source": [
    "③ 시각화와 수치화 결과로부터 파악한 내용을 적어 봅시다."
   ]
  },
  {
   "cell_type": "markdown",
   "metadata": {
    "id": "B3_2ApQIJ5Mz"
   },
   "source": [
    "> * 상관계수의 절대값이 |상관계수|=0.445 인것 으로 보아 강한 상관관계로 볼 수 있다. 하지만 다른 요소들에 비해서는 큰 값이다.\n",
    "> * p-value 값이 0.05보다 많이 작으므로 두 변수간의 상관관계가 유의미하다고 볼 수 있다."
   ]
  },
  {
   "cell_type": "markdown",
   "metadata": {
    "id": "KsL7SblJHdVA"
   },
   "source": [
    "#### 4) [추가] Age -> Sales"
   ]
  },
  {
   "cell_type": "code",
   "execution_count": 122,
   "metadata": {},
   "outputs": [],
   "source": [
    "feature = 'Age'"
   ]
  },
  {
   "cell_type": "markdown",
   "metadata": {
    "id": "tNYdhRH9J7Ng"
   },
   "source": [
    "① 시각화 : scatter(regplot), jointplot"
   ]
  },
  {
   "cell_type": "code",
   "execution_count": 123,
   "metadata": {
    "id": "UDxfBLJ3J7Ng"
   },
   "outputs": [
    {
     "data": {
      "image/png": "[encoded data removed]",
      "text/plain": [
       "<Figure size 432x288 with 1 Axes>"
      ]
     },
     "metadata": {
      "needs_background": "light"
     },
     "output_type": "display_data"
    }
   ],
   "source": [
    "# 시각화 : scatter (matplotlib.pyplot)\n",
    "plt.scatter(feature, target, data = data)\n",
    "plt.xlabel(feature)\n",
    "plt.ylabel(target)\n",
    "plt.show()"
   ]
  },
  {
   "cell_type": "code",
   "execution_count": 124,
   "metadata": {
    "id": "luWTNoWSJ7Nh"
   },
   "outputs": [
    {
     "data": {
      "image/png": "[encoded data removed]",
      "text/plain": [
       "<Figure size 432x432 with 3 Axes>"
      ]
     },
     "metadata": {
      "needs_background": "light"
     },
     "output_type": "display_data"
    }
   ],
   "source": [
    "# 시각화 : jointplot (seaborn)\n",
    "sns.jointplot(x = feature, y = target, data = data)\n",
    "plt.show()"
   ]
  },
  {
   "cell_type": "markdown",
   "metadata": {
    "id": "0Hr58pIfJ7Nh"
   },
   "source": [
    "② 수치화 : 상관분석"
   ]
  },
  {
   "cell_type": "code",
   "execution_count": 125,
   "metadata": {
    "id": "lCFXB2BPJ7Nh"
   },
   "outputs": [
    {
     "name": "stdout",
     "output_type": "stream",
     "text": [
      "상관계수 :  -0.2318154396045765\n",
      "p-value :  2.7889498393711916e-06\n"
     ]
    }
   ],
   "source": [
    "# 상관계수와 p-value\n",
    "tmp = spst.pearsonr(data[feature], data[target])\n",
    "print(\"상관계수 : \", tmp[0])\n",
    "print(\"p-value : \", tmp[1])\n",
    "# p-value값이 0에 가까울 수록 직선으로 설명이 잘되는지 / 직선에 모여있는지 볼 수 있음"
   ]
  },
  {
   "cell_type": "markdown",
   "metadata": {
    "id": "jA1mbxQYJ7Nh"
   },
   "source": [
    "③ 시각화와 수치화 결과로부터 파악한 내용을 적어 봅시다."
   ]
  },
  {
   "cell_type": "markdown",
   "metadata": {
    "id": "HErnQeQOJ7Nh"
   },
   "source": [
    "> * 상관계수의 절대값이 |상관계수|=0.231 인것 으로 보아 상관관계가 크다고 볼 수 없다.\n",
    "> * p-value 값이 0.05보다 작으므로 두 변수간의 상관관계가 유의미하다고 볼 수 있다."
   ]
  },
  {
   "cell_type": "markdown",
   "metadata": {
    "id": "uFKvj_10EoQi"
   },
   "source": [
    "### (2) 범주형 X --> Y\n",
    "\n",
    "* 모든 범자형 X에 대해서 Y와 비교하여 차트를 그리고 수치화 하시오.\n",
    "\n",
    "① 시각화 : 평균비교 barplot  \n",
    "② 수치화 : t-test, anova"
   ]
  },
  {
   "cell_type": "markdown",
   "metadata": {
    "id": "Um7zx9GQEoNk"
   },
   "source": [
    "#### 1) ShelveLoc-> Sales"
   ]
  },
  {
   "cell_type": "code",
   "execution_count": 105,
   "metadata": {},
   "outputs": [],
   "source": [
    "feature = 'ShelveLoc'"
   ]
  },
  {
   "cell_type": "markdown",
   "metadata": {
    "id": "x6-EDDfS0AHi"
   },
   "source": [
    "① 시각화 : 평균비교 barplot"
   ]
  },
  {
   "cell_type": "code",
   "execution_count": 106,
   "metadata": {
    "id": "9hyc7McqJ9x0"
   },
   "outputs": [
    {
     "data": {
      "image/png": "[encoded data removed]",
      "text/plain": [
       "<Figure size 432x288 with 1 Axes>"
      ]
     },
     "metadata": {
      "needs_background": "light"
     },
     "output_type": "display_data"
    }
   ],
   "source": [
    "# barplot으로 두 범주의 평균 비교 / 검정색 세로 선은 신뢰구간\n",
    "sns.barplot(x = feature, y = target, data = data)\n",
    "plt.show()\n",
    "# 신뢰구간이 긴 이유 ==> 편차가 크거나, 데이터가 적거나"
   ]
  },
  {
   "cell_type": "code",
   "execution_count": 107,
   "metadata": {
    "id": "0eKHWFv3J9wb"
   },
   "outputs": [
    {
     "data": {
      "image/png": "[encoded data removed]",
      "text/plain": [
       "<Figure size 432x288 with 1 Axes>"
      ]
     },
     "metadata": {
      "needs_background": "light"
     },
     "output_type": "display_data"
    }
   ],
   "source": [
    "# boxplot으로 비교\n",
    "sns.boxplot(x = feature, y = target, data = data)\n",
    "plt.show()"
   ]
  },
  {
   "cell_type": "markdown",
   "metadata": {
    "id": "APT6jp5z0MwB"
   },
   "source": [
    "② 수치화 : t-test, anova"
   ]
  },
  {
   "cell_type": "code",
   "execution_count": 116,
   "metadata": {
    "id": "2XfHnYNQJ_z0"
   },
   "outputs": [],
   "source": [
    "tmp = data.loc[data[target].notnull()]\n",
    "\n",
    "bad= tmp.loc[tmp[feature] == 'Bad', target]\n",
    "good = tmp.loc[tmp[feature] == 'Good', target]\n",
    "medium = tmp.loc[tmp[feature] == 'Medium', target]"
   ]
  },
  {
   "cell_type": "code",
   "execution_count": 117,
   "metadata": {
    "id": "4Zh2ahznJ_oi"
   },
   "outputs": [
    {
     "data": {
      "text/plain": [
       "F_onewayResult(statistic=92.22990509910346, pvalue=1.26693609015938e-33)"
      ]
     },
     "execution_count": 117,
     "metadata": {},
     "output_type": "execute_result"
    }
   ],
   "source": [
    "spst.f_oneway(bad, good, medium)"
   ]
  },
  {
   "cell_type": "markdown",
   "metadata": {
    "id": "wsHkDG-_1HgW"
   },
   "source": [
    "③ 시각화와 수치화 결과로부터 파악한 내용을 적어 봅시다."
   ]
  },
  {
   "cell_type": "markdown",
   "metadata": {
    "id": "Yr8s5zfS1In-"
   },
   "source": [
    "> * p-value 값이 0.05보다 작으므로 두 변수간의 상관관계가 유의미하다고 볼 수 있다."
   ]
  },
  {
   "cell_type": "markdown",
   "metadata": {
    "id": "tNvcGTRdDR7W"
   },
   "source": [
    "#### 2) [추가]US-> Sales"
   ]
  },
  {
   "cell_type": "code",
   "execution_count": 139,
   "metadata": {},
   "outputs": [],
   "source": [
    "feature = 'US'"
   ]
  },
  {
   "cell_type": "markdown",
   "metadata": {
    "id": "B2OzwwFHKBDs"
   },
   "source": [
    "① 시각화 : 평균비교 barplot"
   ]
  },
  {
   "cell_type": "code",
   "execution_count": 140,
   "metadata": {
    "id": "BF4uBWBnKBDs"
   },
   "outputs": [
    {
     "data": {
      "image/png": "[encoded data removed]",
      "text/plain": [
       "<Figure size 432x288 with 1 Axes>"
      ]
     },
     "metadata": {
      "needs_background": "light"
     },
     "output_type": "display_data"
    }
   ],
   "source": [
    "# barplot으로 두 범주의 평균 비교 / 검정색 세로 선은 신뢰구간\n",
    "sns.barplot(x = feature, y = target, data = data)\n",
    "plt.show()"
   ]
  },
  {
   "cell_type": "code",
   "execution_count": 141,
   "metadata": {
    "id": "BmsHynBbKBDt"
   },
   "outputs": [
    {
     "data": {
      "image/png": "[encoded data removed]",
      "text/plain": [
       "<Figure size 432x288 with 1 Axes>"
      ]
     },
     "metadata": {
      "needs_background": "light"
     },
     "output_type": "display_data"
    }
   ],
   "source": [
    "# boxplot으로 비교\n",
    "sns.boxplot(x = feature, y = target, data = data)\n",
    "plt.show()"
   ]
  },
  {
   "cell_type": "markdown",
   "metadata": {
    "id": "NxeTELohKBDt"
   },
   "source": [
    "② 수치화 : t-test, anova"
   ]
  },
  {
   "cell_type": "code",
   "execution_count": 144,
   "metadata": {
    "id": "ptUHlJ2jKBDt"
   },
   "outputs": [],
   "source": [
    "# 먼저 범주별로 데이터를 나눕시다.\n",
    "y = data.loc[data[feature]=='Yes',target]\n",
    "n = data.loc[data[feature]=='No',target]"
   ]
  },
  {
   "cell_type": "code",
   "execution_count": 145,
   "metadata": {
    "id": "0H-HOXaHKBDt"
   },
   "outputs": [
    {
     "data": {
      "text/plain": [
       "Ttest_indResult(statistic=3.589738747802499, pvalue=0.00037233958701471517)"
      ]
     },
     "execution_count": 145,
     "metadata": {},
     "output_type": "execute_result"
    }
   ],
   "source": [
    "# t-test를 수행\n",
    "spst.ttest_ind(y,n)\n",
    "# pvalue가 0에 가까울수록"
   ]
  },
  {
   "cell_type": "markdown",
   "metadata": {
    "id": "aCiUL25XKBDt"
   },
   "source": [
    "③ 시각화와 수치화 결과로부터 파악한 내용을 적어 봅시다."
   ]
  },
  {
   "cell_type": "markdown",
   "metadata": {
    "id": "xuCqH2c1KBDt"
   },
   "source": [
    "> * p-value 값이 0.05보다 작으므로 두 변수간의 상관관계가 유의미하다고 볼 수 있다."
   ]
  },
  {
   "cell_type": "markdown",
   "metadata": {
    "id": "Jd4WbbU-jqU3"
   },
   "source": [
    "## 4.관계 정리"
   ]
  },
  {
   "cell_type": "markdown",
   "metadata": {
    "id": "bKmN0rtAjto6"
   },
   "source": [
    "### 1) 강한관계의 변수"
   ]
  },
  {
   "cell_type": "markdown",
   "metadata": {
    "id": "lN3cQwIcKEEP"
   },
   "source": [
    "Price (|상관계수|=0.44), ShelveLoc"
   ]
  },
  {
   "cell_type": "markdown",
   "metadata": {
    "id": "u8B765zNjwp5"
   },
   "source": [
    "### 2) 약한관계의 변수"
   ]
  },
  {
   "cell_type": "markdown",
   "metadata": {
    "id": "hqhR33AIKE54"
   },
   "source": [
    "Advertising (|상관계수|=0.27),  Age (|상관계수|=0.23), US"
   ]
  },
  {
   "cell_type": "markdown",
   "metadata": {
    "id": "eYiQ9OUijwdq"
   },
   "source": [
    "### 3) 관계 없음"
   ]
  },
  {
   "cell_type": "markdown",
   "metadata": {
    "id": "TBLhyJ8HKF9p"
   },
   "source": [
    "Population(|상관계수|=0.05)"
   ]
  },
  {
   "cell_type": "markdown",
   "metadata": {
    "id": "nePF6KE6jlX6"
   },
   "source": [
    "### 4) 추가 분석"
   ]
  },
  {
   "cell_type": "markdown",
   "metadata": {
    "id": "B8E9F24bkYTn"
   },
   "source": [
    "범주형 데이터인 ShelveLoc, US의 상관관계를 통계량의 크기로 판단하기 어렵기에 p-value로 판단해보면  \n",
    "ShelveLoc의 p-value가 다른 요소들에 비해 확실히 작고 US의 p-value는 다른 요소들에 비해서 큰 값이다.  \n",
    "하지만 일반적으로 유의수준을 0.05로 두고 판단하기 때문에 일반적인 유의수준보다는 작은 값으로 대립가설을 뒷받침해줄 수 있다."
   ]
  }
 ],
 "metadata": {
  "colab": {
   "collapsed_sections": [],
   "name": "과제1. car seat 매출 분석.ipynb",
   "provenance": [],
   "toc_visible": true
  },
  "kernelspec": {
   "display_name": "Python 3",
   "language": "python",
   "name": "python3"
  },
  "language_info": {
   "codemirror_mode": {
    "name": "ipython",
    "version": 3
   },
   "file_extension": ".py",
   "mimetype": "text/x-python",
   "name": "python",
   "nbconvert_exporter": "python",
   "pygments_lexer": "ipython3",
   "version": "3.8.8"
  }
 },
 "nbformat": 4,
 "nbformat_minor": 1
}

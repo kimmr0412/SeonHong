{
 "cells": [
  {
   "cell_type": "markdown",
   "metadata": {
    "id": "mTt7qGUTCcFs"
   },
   "source": [
    "# 과제2. Mobile 고객 이탈 분석"
   ]
  },
  {
   "cell_type": "markdown",
   "metadata": {
    "id": "wxRsRRwbEQ2K"
   },
   "source": [
    "* 고객 이탈여부(CHURN)에 영향을 주는 요인을 분석하고자 합니다."
   ]
  },
  {
   "cell_type": "markdown",
   "metadata": {
    "id": "0wuYJKZHjA3d"
   },
   "source": [
    "![](https://d18lkz4dllo6v2.cloudfront.net/cumulus_uploads/entry/23964/mobile%20phones.png)"
   ]
  },
  {
   "cell_type": "markdown",
   "metadata": {
    "id": "AHmt88Q5EVsj"
   },
   "source": [
    "## 0.환경설정"
   ]
  },
  {
   "cell_type": "markdown",
   "metadata": {
    "id": "KnzVh2LmkLDU"
   },
   "source": [
    "### 1) 라이브러리 로딩"
   ]
  },
  {
   "cell_type": "code",
   "execution_count": 1,
   "metadata": {
    "id": "3rsQerEaELwI"
   },
   "outputs": [],
   "source": [
    "import pandas as pd\n",
    "import numpy as np\n",
    "import matplotlib.pyplot as plt\n",
    "import seaborn as sns\n",
    "\n",
    "from statsmodels.graphics.mosaicplot import mosaic\n",
    "from scipy import stats as spst\n",
    "import statsmodels.api as sm"
   ]
  },
  {
   "cell_type": "markdown",
   "metadata": {
    "id": "5Qh5KYWokO_N"
   },
   "source": [
    "### 2) 데이터 로딩"
   ]
  },
  {
   "cell_type": "code",
   "execution_count": 2,
   "metadata": {
    "id": "lM3HN6OwEL3d"
   },
   "outputs": [
    {
     "data": {
      "text/html": [
       "<div>\n",
       "<style scoped>\n",
       "    .dataframe tbody tr th:only-of-type {\n",
       "        vertical-align: middle;\n",
       "    }\n",
       "\n",
       "    .dataframe tbody tr th {\n",
       "        vertical-align: top;\n",
       "    }\n",
       "\n",
       "    .dataframe thead th {\n",
       "        text-align: right;\n",
       "    }\n",
       "</style>\n",
       "<table border=\"1\" class=\"dataframe\">\n",
       "  <thead>\n",
       "    <tr style=\"text-align: right;\">\n",
       "      <th></th>\n",
       "      <th>COLLEGE</th>\n",
       "      <th>INCOME</th>\n",
       "      <th>OVERAGE</th>\n",
       "      <th>LEFTOVER</th>\n",
       "      <th>HOUSE</th>\n",
       "      <th>HANDSET_PRICE</th>\n",
       "      <th>AVERAGE_CALL_DURATION</th>\n",
       "      <th>REPORTED_SATISFACTION</th>\n",
       "      <th>CONSIDERING_CHANGE_OF_PLAN</th>\n",
       "      <th>CHURN</th>\n",
       "    </tr>\n",
       "  </thead>\n",
       "  <tbody>\n",
       "    <tr>\n",
       "      <th>0</th>\n",
       "      <td>1</td>\n",
       "      <td>47711</td>\n",
       "      <td>183</td>\n",
       "      <td>17</td>\n",
       "      <td>730589.0</td>\n",
       "      <td>192</td>\n",
       "      <td>5</td>\n",
       "      <td>unsat</td>\n",
       "      <td>considering</td>\n",
       "      <td>0</td>\n",
       "    </tr>\n",
       "    <tr>\n",
       "      <th>1</th>\n",
       "      <td>0</td>\n",
       "      <td>74132</td>\n",
       "      <td>191</td>\n",
       "      <td>43</td>\n",
       "      <td>535092.0</td>\n",
       "      <td>349</td>\n",
       "      <td>2</td>\n",
       "      <td>unsat</td>\n",
       "      <td>no</td>\n",
       "      <td>1</td>\n",
       "    </tr>\n",
       "    <tr>\n",
       "      <th>2</th>\n",
       "      <td>1</td>\n",
       "      <td>150419</td>\n",
       "      <td>0</td>\n",
       "      <td>14</td>\n",
       "      <td>204004.0</td>\n",
       "      <td>682</td>\n",
       "      <td>6</td>\n",
       "      <td>unsat</td>\n",
       "      <td>considering</td>\n",
       "      <td>0</td>\n",
       "    </tr>\n",
       "    <tr>\n",
       "      <th>3</th>\n",
       "      <td>0</td>\n",
       "      <td>159567</td>\n",
       "      <td>0</td>\n",
       "      <td>58</td>\n",
       "      <td>281969.0</td>\n",
       "      <td>634</td>\n",
       "      <td>1</td>\n",
       "      <td>very_unsat</td>\n",
       "      <td>never_thought</td>\n",
       "      <td>0</td>\n",
       "    </tr>\n",
       "    <tr>\n",
       "      <th>4</th>\n",
       "      <td>1</td>\n",
       "      <td>23392</td>\n",
       "      <td>0</td>\n",
       "      <td>0</td>\n",
       "      <td>216707.0</td>\n",
       "      <td>233</td>\n",
       "      <td>15</td>\n",
       "      <td>unsat</td>\n",
       "      <td>no</td>\n",
       "      <td>1</td>\n",
       "    </tr>\n",
       "  </tbody>\n",
       "</table>\n",
       "</div>"
      ],
      "text/plain": [
       "   COLLEGE  INCOME  OVERAGE  LEFTOVER     HOUSE  HANDSET_PRICE  \\\n",
       "0        1   47711      183        17  730589.0            192   \n",
       "1        0   74132      191        43  535092.0            349   \n",
       "2        1  150419        0        14  204004.0            682   \n",
       "3        0  159567        0        58  281969.0            634   \n",
       "4        1   23392        0         0  216707.0            233   \n",
       "\n",
       "   AVERAGE_CALL_DURATION REPORTED_SATISFACTION CONSIDERING_CHANGE_OF_PLAN  \\\n",
       "0                      5                 unsat                considering   \n",
       "1                      2                 unsat                         no   \n",
       "2                      6                 unsat                considering   \n",
       "3                      1            very_unsat              never_thought   \n",
       "4                     15                 unsat                         no   \n",
       "\n",
       "   CHURN  \n",
       "0      0  \n",
       "1      1  \n",
       "2      0  \n",
       "3      0  \n",
       "4      1  "
      ]
     },
     "execution_count": 2,
     "metadata": {},
     "output_type": "execute_result"
    }
   ],
   "source": [
    "# mobile data\n",
    "data_path = \"https://raw.githubusercontent.com/DA4BAM/dataset/master/mobile_NA2.csv\"\n",
    "mobile = pd.read_csv(data_path)\n",
    "mobile.drop(['id', 'REPORTED_USAGE_LEVEL','OVER_15MINS_CALLS_PER_MONTH'], axis = 1, inplace = True)\n",
    "mobile.head()"
   ]
  },
  {
   "cell_type": "markdown",
   "metadata": {
    "id": "JtiF310fjmJy"
   },
   "source": [
    "|변수 명|내용|구분|\n",
    "|\t----\t|\t----\t|\t----\t|\n",
    "|\tCOLLEGE\t|\t대학졸업 여부(1,0)\t|feature\t\t|\n",
    "|\tINCOME\t|\t연 수입액(달러)\t|feature\t\t|\n",
    "|\tOVERAGE\t|\t월 초과사용 시간(분)\t|feature\t\t|\n",
    "|\tLEFTOVER\t|\t월 사용 잔여시간(분)\t|feature\t\t|\n",
    "|\tHOUSE\t|\t집 가격(달러)\t|feature\t\t|\n",
    "|\tHANDSET_PRICE\t|\t핸드폰 가격(달러)\t|feature\t\t|\n",
    "|\tAVERAGE_CALL_DURATION\t|\t평균 통화시간(분)\t|feature\t\t|\n",
    "|\tREPORTED_SATISFACTION\t|\t만족도 설문('very_unsat', 'unsat', 'avg', 'sat', 'very_sat' )\t|feature\t\t|\n",
    "|\tCONSIDERING_CHANGE_OF_PLAN\t|\t변경 계획 설문('never_thought', 'no', 'perhaps', 'considering',   'actively_looking_into_it')\t|feature\t\t|\n",
    "|\t**CHURN**\t|\t**이탈여부(1 : 이탈, 0 : 잔류)**\t|\t**Target**\t|\n"
   ]
  },
  {
   "cell_type": "markdown",
   "metadata": {
    "id": "bKimk8qVm8oC"
   },
   "source": [
    "----"
   ]
  },
  {
   "cell_type": "markdown",
   "metadata": {
    "id": "0bouXLxGkSSd"
   },
   "source": [
    "## 1.가설수립"
   ]
  },
  {
   "cell_type": "markdown",
   "metadata": {
    "id": "nb3mes75kUSt"
   },
   "source": [
    "* 여기서는 가설을 간략히 수립합니다.\n",
    "    * 숫자형, 범주형 각각 최소 2개 이상씩, 전체 5개의 feature를 도출, 가설을 수립하시오."
   ]
  },
  {
   "cell_type": "markdown",
   "metadata": {
    "id": "HoZUdXCRkjK9"
   },
   "source": [
    "* 가설1 : 월 초과사용시간이 고객 이탈여부에 영향이 있을 것이다."
   ]
  },
  {
   "cell_type": "markdown",
   "metadata": {
    "id": "l9X_boJ8kjEt"
   },
   "source": [
    "* 가설2 : 월 사용 잔여시간이 고객 이탈여부에 영향이 있을 것이다."
   ]
  },
  {
   "cell_type": "markdown",
   "metadata": {
    "id": "3_gTMgCWki91"
   },
   "source": [
    "* 가설3 : 평균 통화시간이 고객 이탈여부에 영향이 있을 것이다."
   ]
  },
  {
   "cell_type": "markdown",
   "metadata": {
    "id": "rSrSFnsVki2d"
   },
   "source": [
    "* 가설4 : 만족도 설문이 고객 이탈여부에 영향이 있을 것이다."
   ]
  },
  {
   "cell_type": "markdown",
   "metadata": {
    "id": "2lueFYjWktYt"
   },
   "source": [
    "* 가설5 : 변경 계획 설문이 고객 이탈여부에 영향이 있을 것이다."
   ]
  },
  {
   "cell_type": "markdown",
   "metadata": {
    "id": "82xzJIZhnAaX"
   },
   "source": [
    "----"
   ]
  },
  {
   "cell_type": "markdown",
   "metadata": {
    "id": "1hYPpnplEedX"
   },
   "source": [
    "## 2.단변량 분석\n",
    "\n",
    "① 변수의 비즈니스 의미  \n",
    "\n",
    "② 숫자? 범주?  \n",
    "\n",
    "③ NaN 존재 여부 및 조치 방안  \n",
    "\n",
    "④ 기초통계량  \n",
    "\n",
    "⑤ 분포  \n",
    "\n",
    "⑥ 위 정보로부터 파악한 내용(비즈니스!) 정리  \n",
    "\n",
    "⑦ 추가 분석해볼 사항 도출"
   ]
  },
  {
   "cell_type": "markdown",
   "metadata": {
    "id": "BP8iBi7We3AI"
   },
   "source": [
    "### 1) feature1"
   ]
  },
  {
   "cell_type": "code",
   "execution_count": 3,
   "metadata": {
    "id": "NRIsridhK3el"
   },
   "outputs": [],
   "source": [
    "feature = 'OVERAGE'"
   ]
  },
  {
   "cell_type": "markdown",
   "metadata": {
    "id": "6H1XUqWEIZ0c"
   },
   "source": [
    "① 변수의 비즈니스 의미"
   ]
  },
  {
   "cell_type": "markdown",
   "metadata": {
    "id": "b8mX3ll_KR6u"
   },
   "source": [
    "> * 월 초과 사용시간(분)"
   ]
  },
  {
   "cell_type": "markdown",
   "metadata": {
    "id": "o9aiDpJZIZi-"
   },
   "source": [
    "② 숫자, 범주?"
   ]
  },
  {
   "cell_type": "markdown",
   "metadata": {
    "id": "fNO_u8-RKS0K"
   },
   "source": [
    "> * 숫자 데이터"
   ]
  },
  {
   "cell_type": "markdown",
   "metadata": {
    "id": "sKZWnu78IZT0"
   },
   "source": [
    "③ NaN 존재 유무"
   ]
  },
  {
   "cell_type": "code",
   "execution_count": 4,
   "metadata": {
    "id": "dt2entFrKUC6"
   },
   "outputs": [
    {
     "data": {
      "text/plain": [
       "0"
      ]
     },
     "execution_count": 4,
     "metadata": {},
     "output_type": "execute_result"
    }
   ],
   "source": [
    "mobile['OVERAGE'].isna().sum()"
   ]
  },
  {
   "cell_type": "markdown",
   "metadata": {
    "id": "5d5JYEBCIZID"
   },
   "source": [
    "④ 기초통계량(수치화)"
   ]
  },
  {
   "cell_type": "code",
   "execution_count": 5,
   "metadata": {
    "id": "ZMfWNGxCKVbT"
   },
   "outputs": [
    {
     "data": {
      "text/plain": [
       "count    18000.000000\n",
       "mean        86.014833\n",
       "std         85.963981\n",
       "min         -2.000000\n",
       "25%          0.000000\n",
       "50%         59.000000\n",
       "75%        179.000000\n",
       "max        335.000000\n",
       "Name: OVERAGE, dtype: float64"
      ]
     },
     "execution_count": 5,
     "metadata": {},
     "output_type": "execute_result"
    }
   ],
   "source": [
    "mobile['OVERAGE'].describe()"
   ]
  },
  {
   "cell_type": "markdown",
   "metadata": {
    "id": "e1yzg_B8IY5M"
   },
   "source": [
    "⑤ 분포 확인(시각화)"
   ]
  },
  {
   "cell_type": "code",
   "execution_count": 6,
   "metadata": {
    "id": "VeBHcQH9KXG7",
    "scrolled": false
   },
   "outputs": [
    {
     "data": {
      "image/png": "[encoded data removed]",
      "text/plain": [
       "<Figure size 432x288 with 1 Axes>"
      ]
     },
     "metadata": {
      "needs_background": "light"
     },
     "output_type": "display_data"
    }
   ],
   "source": [
    "sns.histplot(mobile[feature], bins = 40)\n",
    "plt.show()"
   ]
  },
  {
   "cell_type": "code",
   "execution_count": 7,
   "metadata": {
    "scrolled": true
   },
   "outputs": [
    {
     "data": {
      "image/png": "[encoded data removed]",
      "text/plain": [
       "<Figure size 432x288 with 1 Axes>"
      ]
     },
     "metadata": {
      "needs_background": "light"
     },
     "output_type": "display_data"
    },
    {
     "name": "stdout",
     "output_type": "stream",
     "text": [
      "[ 0. -2.]\n",
      "[179. 335.]\n"
     ]
    }
   ],
   "source": [
    "box = plt.boxplot(mobile[feature], vert = False)\n",
    "plt.xlabel('OVERAGE')\n",
    "plt.show()\n",
    "\n",
    "print(box['whiskers'][0].get_xdata())\n",
    "\n",
    "print(box['whiskers'][1].get_xdata())"
   ]
  },
  {
   "cell_type": "code",
   "execution_count": 8,
   "metadata": {},
   "outputs": [
    {
     "data": {
      "image/png": "[encoded data removed]",
      "text/plain": [
       "<Figure size 432x288 with 1 Axes>"
      ]
     },
     "metadata": {
      "needs_background": "light"
     },
     "output_type": "display_data"
    }
   ],
   "source": [
    "pd.Series(feature)\n",
    "mobile[feature].plot(kind = 'kde') \n",
    "plt.xlabel('OVERAGE')\n",
    "plt.show()"
   ]
  },
  {
   "cell_type": "markdown",
   "metadata": {
    "id": "yRUYICkIIuc0"
   },
   "source": [
    "⑥ 기초통계량과 분포를 통해서 파악한 내용을 적어 봅시다.\n",
    "\n",
    "보이는 그대로를 넘어, 비즈니스 관점에서 고민하며 적어 봅시다."
   ]
  },
  {
   "cell_type": "markdown",
   "metadata": {
    "id": "ULM7c12fKYAK"
   },
   "source": [
    "> * 월 초과 사용시간이 0인 고객을 제외하고 사용시간을 초과하는 그룹이 100분 기준 두 그룹으로 나뉜다.\n",
    "> * 월 초과 사용시간이 0인 고객들이 다른 시간대에 비교하여 월등히 많다."
   ]
  },
  {
   "cell_type": "markdown",
   "metadata": {
    "id": "3ZVNnImDIyRE"
   },
   "source": [
    "⑦ 추가 분석해 볼 사항이 있나요?"
   ]
  },
  {
   "cell_type": "markdown",
   "metadata": {
    "id": "PeMdVTGPKYd6"
   },
   "source": [
    "> * 월 초과 사용시간이 0인 고객이 충분히 많아 그 이유에 대해서 분석해볼 필요가 있다."
   ]
  },
  {
   "cell_type": "markdown",
   "metadata": {
    "id": "cYkgwG47evaF"
   },
   "source": [
    "### 2) feature2"
   ]
  },
  {
   "cell_type": "code",
   "execution_count": 9,
   "metadata": {
    "id": "bUzXvik-Ka88"
   },
   "outputs": [],
   "source": [
    "feature = 'LEFTOVER'"
   ]
  },
  {
   "cell_type": "markdown",
   "metadata": {
    "id": "2omFdiaGKa88"
   },
   "source": [
    "① 변수의 비즈니스 의미"
   ]
  },
  {
   "cell_type": "markdown",
   "metadata": {
    "id": "kZYSSosDKa89"
   },
   "source": [
    "> * 월 사용 잔여시간(분)"
   ]
  },
  {
   "cell_type": "markdown",
   "metadata": {
    "id": "AzFQRtUfKa89"
   },
   "source": [
    "② 숫자, 범주?"
   ]
  },
  {
   "cell_type": "markdown",
   "metadata": {
    "id": "YxCQJmRJKa8-"
   },
   "source": [
    "> * 숫자 데이터"
   ]
  },
  {
   "cell_type": "markdown",
   "metadata": {
    "id": "SBN704MyKa8-"
   },
   "source": [
    "③ NaN 존재 유무"
   ]
  },
  {
   "cell_type": "code",
   "execution_count": 10,
   "metadata": {
    "id": "HsaWRugtKa8-"
   },
   "outputs": [
    {
     "data": {
      "text/plain": [
       "0"
      ]
     },
     "execution_count": 10,
     "metadata": {},
     "output_type": "execute_result"
    }
   ],
   "source": [
    "mobile[feature].isna().sum()"
   ]
  },
  {
   "cell_type": "markdown",
   "metadata": {
    "id": "Tykq0uMtKa8-"
   },
   "source": [
    "④ 기초통계량(수치화)"
   ]
  },
  {
   "cell_type": "code",
   "execution_count": 11,
   "metadata": {
    "id": "UZmBTLCIKa8_"
   },
   "outputs": [
    {
     "data": {
      "text/plain": [
       "count    18000.000000\n",
       "mean        23.995500\n",
       "std         26.860363\n",
       "min          0.000000\n",
       "25%          0.000000\n",
       "50%         14.500000\n",
       "75%         42.000000\n",
       "max         89.000000\n",
       "Name: LEFTOVER, dtype: float64"
      ]
     },
     "execution_count": 11,
     "metadata": {},
     "output_type": "execute_result"
    }
   ],
   "source": [
    "mobile[feature].describe()"
   ]
  },
  {
   "cell_type": "markdown",
   "metadata": {
    "id": "hJV7-gwfKa8_"
   },
   "source": [
    "⑤ 분포 확인(시각화)"
   ]
  },
  {
   "cell_type": "code",
   "execution_count": 12,
   "metadata": {
    "id": "ZPMzrx0vKa8_",
    "scrolled": true
   },
   "outputs": [
    {
     "data": {
      "image/png": "[encoded data removed]",
      "text/plain": [
       "<Figure size 432x288 with 1 Axes>"
      ]
     },
     "metadata": {
      "needs_background": "light"
     },
     "output_type": "display_data"
    }
   ],
   "source": [
    "sns.histplot(mobile[feature], bins = 40)\n",
    "plt.show()"
   ]
  },
  {
   "cell_type": "code",
   "execution_count": 13,
   "metadata": {
    "scrolled": true
   },
   "outputs": [
    {
     "data": {
      "image/png": "[encoded data removed]",
      "text/plain": [
       "<Figure size 432x288 with 1 Axes>"
      ]
     },
     "metadata": {
      "needs_background": "light"
     },
     "output_type": "display_data"
    },
    {
     "name": "stdout",
     "output_type": "stream",
     "text": [
      "[0. 0.]\n",
      "[42. 89.]\n"
     ]
    }
   ],
   "source": [
    "box = plt.boxplot(mobile[feature], vert = False)\n",
    "plt.xlabel('LEFTOVER')\n",
    "plt.show()\n",
    "\n",
    "print(box['whiskers'][0].get_xdata())\n",
    "\n",
    "print(box['whiskers'][1].get_xdata())"
   ]
  },
  {
   "cell_type": "code",
   "execution_count": 14,
   "metadata": {},
   "outputs": [
    {
     "data": {
      "image/png": "[encoded data removed]",
      "text/plain": [
       "<Figure size 432x288 with 1 Axes>"
      ]
     },
     "metadata": {
      "needs_background": "light"
     },
     "output_type": "display_data"
    }
   ],
   "source": [
    "pd.Series(feature)\n",
    "mobile[feature].plot(kind = 'kde') \n",
    "plt.xlabel('LEFTOVER')\n",
    "plt.show()"
   ]
  },
  {
   "cell_type": "markdown",
   "metadata": {
    "id": "lonR2XzeKa8_"
   },
   "source": [
    "⑥ 기초통계량과 분포를 통해서 파악한 내용을 적어 봅시다.\n",
    "\n",
    "보이는 그대로를 넘어, 비즈니스 관점에서 고민하며 적어 봅시다."
   ]
  },
  {
   "cell_type": "markdown",
   "metadata": {
    "id": "1lcP2CtQKa8_"
   },
   "source": [
    "> * 월 잔여시간이 0인 고객들을 제외하면 잔여시간 별 고객들의 수가 고르게 두 그룹으로 나뉜다.\n",
    "> * 월 잔여시간이 0인 고객들이 비교하여 월등히 많다"
   ]
  },
  {
   "cell_type": "markdown",
   "metadata": {
    "id": "CNtHylBDKa9A"
   },
   "source": [
    "⑦ 추가 분석해 볼 사항이 있나요?"
   ]
  },
  {
   "cell_type": "markdown",
   "metadata": {
    "id": "mQAjOApKKa9A"
   },
   "source": [
    "> * 월 잔여시간이 0인 고객들을 대상으로 제공 시간이 부족하지는 않은지 조사해볼 필요가 있다.\n",
    "> * 월 잔여시간이 40분 이상인 상위 25% 고객들을 대상으로 이유 혹은 불만사항에 대해 조사해 볼 필요가 있다."
   ]
  },
  {
   "cell_type": "markdown",
   "metadata": {
    "id": "UNgJNBEIfB1p"
   },
   "source": [
    "### 3) feature3"
   ]
  },
  {
   "cell_type": "code",
   "execution_count": 15,
   "metadata": {
    "id": "7FsVbJ_mKi15"
   },
   "outputs": [],
   "source": [
    "feature = 'AVERAGE_CALL_DURATION'"
   ]
  },
  {
   "cell_type": "markdown",
   "metadata": {
    "id": "-ke0GYsmKi19"
   },
   "source": [
    "① 변수의 비즈니스 의미"
   ]
  },
  {
   "cell_type": "markdown",
   "metadata": {
    "id": "wnGTV3ioKi19"
   },
   "source": [
    "> * 평균 통화시간(분)"
   ]
  },
  {
   "cell_type": "markdown",
   "metadata": {
    "id": "BzqkxzyaKi1-"
   },
   "source": [
    "② 숫자, 범주?"
   ]
  },
  {
   "cell_type": "markdown",
   "metadata": {
    "id": "8z4XiV0AKi1-"
   },
   "source": [
    "> * 숫자 데이터"
   ]
  },
  {
   "cell_type": "markdown",
   "metadata": {
    "id": "NB_N6LzOKi1-"
   },
   "source": [
    "③ NaN 존재 유무"
   ]
  },
  {
   "cell_type": "code",
   "execution_count": 16,
   "metadata": {
    "id": "3BpzuXSLKi1-"
   },
   "outputs": [
    {
     "data": {
      "text/plain": [
       "0"
      ]
     },
     "execution_count": 16,
     "metadata": {},
     "output_type": "execute_result"
    }
   ],
   "source": [
    "mobile[feature].isna().sum()"
   ]
  },
  {
   "cell_type": "markdown",
   "metadata": {
    "id": "TSCvrb3qKi1-"
   },
   "source": [
    "④ 기초통계량(수치화)"
   ]
  },
  {
   "cell_type": "code",
   "execution_count": 17,
   "metadata": {
    "id": "rWlpAjW4Ki1_"
   },
   "outputs": [
    {
     "data": {
      "text/plain": [
       "count    18000.000000\n",
       "mean         5.990944\n",
       "std          4.398894\n",
       "min          1.000000\n",
       "25%          2.000000\n",
       "50%          5.000000\n",
       "75%         10.000000\n",
       "max         15.000000\n",
       "Name: AVERAGE_CALL_DURATION, dtype: float64"
      ]
     },
     "execution_count": 17,
     "metadata": {},
     "output_type": "execute_result"
    }
   ],
   "source": [
    "mobile[feature].describe()"
   ]
  },
  {
   "cell_type": "markdown",
   "metadata": {
    "id": "aR7lnmz2Ki1_"
   },
   "source": [
    "⑤ 분포 확인(시각화)"
   ]
  },
  {
   "cell_type": "code",
   "execution_count": 18,
   "metadata": {
    "id": "cZ_xT4-FKi2A",
    "scrolled": true
   },
   "outputs": [
    {
     "data": {
      "image/png": "[encoded data removed]",
      "text/plain": [
       "<Figure size 432x288 with 1 Axes>"
      ]
     },
     "metadata": {
      "needs_background": "light"
     },
     "output_type": "display_data"
    }
   ],
   "source": [
    "sns.histplot(mobile[feature], bins = 7)\n",
    "plt.show()"
   ]
  },
  {
   "cell_type": "code",
   "execution_count": 19,
   "metadata": {
    "scrolled": true
   },
   "outputs": [
    {
     "data": {
      "image/png": "[encoded data removed]",
      "text/plain": [
       "<Figure size 432x288 with 1 Axes>"
      ]
     },
     "metadata": {
      "needs_background": "light"
     },
     "output_type": "display_data"
    },
    {
     "name": "stdout",
     "output_type": "stream",
     "text": [
      "[2. 1.]\n",
      "[10. 15.]\n"
     ]
    }
   ],
   "source": [
    "box = plt.boxplot(mobile[feature], vert = False)\n",
    "plt.xlabel('AVERAGE_CALL_DURATION')\n",
    "plt.show()\n",
    "\n",
    "print(box['whiskers'][0].get_xdata())\n",
    "\n",
    "print(box['whiskers'][1].get_xdata())"
   ]
  },
  {
   "cell_type": "code",
   "execution_count": 20,
   "metadata": {},
   "outputs": [
    {
     "data": {
      "image/png": "[encoded data removed]",
      "text/plain": [
       "<Figure size 432x288 with 1 Axes>"
      ]
     },
     "metadata": {
      "needs_background": "light"
     },
     "output_type": "display_data"
    }
   ],
   "source": [
    "pd.Series(feature)\n",
    "mobile[feature].plot(kind = 'kde') \n",
    "plt.xlabel('AVERAGE_CALL_DURATION')\n",
    "plt.show()"
   ]
  },
  {
   "cell_type": "markdown",
   "metadata": {
    "id": "zUryC_G3Ki2A"
   },
   "source": [
    "⑥ 기초통계량과 분포를 통해서 파악한 내용을 적어 봅시다.\n",
    "\n",
    "보이는 그대로를 넘어, 비즈니스 관점에서 고민하며 적어 봅시다."
   ]
  },
  {
   "cell_type": "markdown",
   "metadata": {
    "id": "wkwuaXfwKi2A"
   },
   "source": [
    "> * 고객 절반의 평균 통화시간은 5분 정도이다."
   ]
  },
  {
   "cell_type": "markdown",
   "metadata": {
    "id": "YgjNtlWuKi2A"
   },
   "source": [
    "⑦ 추가 분석해 볼 사항이 있나요?"
   ]
  },
  {
   "cell_type": "markdown",
   "metadata": {
    "id": "jSPR07BeKi2B"
   },
   "source": [
    "> * 그룹으로 나누어 그룹별 만족도 조사를 해볼 필요가 있다."
   ]
  },
  {
   "cell_type": "markdown",
   "metadata": {
    "id": "e3QPEq8efB1r"
   },
   "source": [
    "### 4) feature4"
   ]
  },
  {
   "cell_type": "code",
   "execution_count": 21,
   "metadata": {
    "id": "H4Oa5BnzKme9"
   },
   "outputs": [],
   "source": [
    "feature = 'REPORTED_SATISFACTION'"
   ]
  },
  {
   "cell_type": "markdown",
   "metadata": {
    "id": "cYoXD-kgKme9"
   },
   "source": [
    "① 변수의 비즈니스 의미"
   ]
  },
  {
   "cell_type": "markdown",
   "metadata": {
    "id": "LFyUzNHDKme9"
   },
   "source": [
    "> * 만족도 설문('very_unsat', 'unsat', 'avg', 'sat', 'very_sat' )"
   ]
  },
  {
   "cell_type": "markdown",
   "metadata": {
    "id": "4NREp0sjKme-"
   },
   "source": [
    "② 숫자, 범주?"
   ]
  },
  {
   "cell_type": "code",
   "execution_count": 22,
   "metadata": {},
   "outputs": [
    {
     "data": {
      "text/plain": [
       "array(['unsat', 'very_unsat', 'very_sat', 'sat', nan, 'avg'], dtype=object)"
      ]
     },
     "execution_count": 22,
     "metadata": {},
     "output_type": "execute_result"
    }
   ],
   "source": [
    "mobile[feature].unique()"
   ]
  },
  {
   "cell_type": "markdown",
   "metadata": {
    "id": "hn29bATCKme-"
   },
   "source": [
    "> * 범주 데이터"
   ]
  },
  {
   "cell_type": "markdown",
   "metadata": {
    "id": "pmhn3c76Kme-"
   },
   "source": [
    "③ NaN 존재 유무"
   ]
  },
  {
   "cell_type": "code",
   "execution_count": 23,
   "metadata": {
    "id": "hRCxtyB4Kme-"
   },
   "outputs": [
    {
     "data": {
      "text/plain": [
       "38"
      ]
     },
     "execution_count": 23,
     "metadata": {},
     "output_type": "execute_result"
    }
   ],
   "source": [
    "mobile[feature].isna().sum()"
   ]
  },
  {
   "cell_type": "markdown",
   "metadata": {
    "id": "JDydNtbzKme-"
   },
   "source": [
    "④ 기초통계량(수치화)"
   ]
  },
  {
   "cell_type": "code",
   "execution_count": 24,
   "metadata": {},
   "outputs": [
    {
     "name": "stdout",
     "output_type": "stream",
     "text": [
      "very_unsat    7072\n",
      "very_sat      4562\n",
      "unsat         3590\n",
      "avg           1806\n",
      "sat            932\n",
      "Name: REPORTED_SATISFACTION, dtype: int64\n",
      "very_unsat    0.392889\n",
      "very_sat      0.253444\n",
      "unsat         0.199444\n",
      "avg           0.100333\n",
      "sat           0.051778\n",
      "Name: REPORTED_SATISFACTION, dtype: float64\n"
     ]
    }
   ],
   "source": [
    "print(mobile[feature].value_counts())\n",
    "print(mobile[feature].value_counts()/ len(mobile[feature]))"
   ]
  },
  {
   "cell_type": "markdown",
   "metadata": {
    "id": "08OXnGH_Kme-"
   },
   "source": [
    "⑤ 분포 확인(시각화)"
   ]
  },
  {
   "cell_type": "markdown",
   "metadata": {
    "id": "yMzY2CyxKme_"
   },
   "source": [
    "> 교차표"
   ]
  },
  {
   "cell_type": "code",
   "execution_count": 25,
   "metadata": {},
   "outputs": [
    {
     "name": "stderr",
     "output_type": "stream",
     "text": [
      "C:\\Users\\User\\anaconda3\\lib\\site-packages\\seaborn\\_decorators.py:36: FutureWarning: Pass the following variable as a keyword arg: x. From version 0.12, the only valid positional argument will be `data`, and passing other arguments without an explicit keyword will result in an error or misinterpretation.\n",
      "  warnings.warn(\n"
     ]
    },
    {
     "data": {
      "image/png": "[encoded data removed]",
      "text/plain": [
       "<Figure size 432x288 with 1 Axes>"
      ]
     },
     "metadata": {
      "needs_background": "light"
     },
     "output_type": "display_data"
    }
   ],
   "source": [
    "sns.countplot(mobile[feature]) #plt의 barplot 사용해서\n",
    "plt.show()"
   ]
  },
  {
   "cell_type": "code",
   "execution_count": 26,
   "metadata": {
    "scrolled": true
   },
   "outputs": [
    {
     "name": "stdout",
     "output_type": "stream",
     "text": [
      "[7072 4562 3590 1806  932]    Index(['very_unsat', 'very_sat', 'unsat', 'avg', 'sat'], dtype='object')\n"
     ]
    },
    {
     "name": "stderr",
     "output_type": "stream",
     "text": [
      "C:\\Users\\User\\anaconda3\\lib\\site-packages\\seaborn\\_decorators.py:36: FutureWarning: Pass the following variable as a keyword arg: x. From version 0.12, the only valid positional argument will be `data`, and passing other arguments without an explicit keyword will result in an error or misinterpretation.\n",
      "  warnings.warn(\n"
     ]
    },
    {
     "data": {
      "image/png": "[encoded data removed]",
      "text/plain": [
       "<Figure size 432x288 with 1 Axes>"
      ]
     },
     "metadata": {
      "needs_background": "light"
     },
     "output_type": "display_data"
    }
   ],
   "source": [
    "cnt = mobile[feature].value_counts()\n",
    "print(cnt.values,'  ',cnt.index)\n",
    "sns.countplot(mobile[feature])\n",
    "\n",
    "\n",
    "plt.text(0.8, cnt.values[0]+5, cnt.values[0])\n",
    "plt.text(1.8, cnt.values[1]+5, cnt.values[1])\n",
    "plt.text(-0.2, cnt.values[2]+5, cnt.values[2])\n",
    "plt.text(3.8, cnt.values[3]+5, cnt.values[3])\n",
    "plt.text(2.8, cnt.values[4]+5, cnt.values[4])\n",
    "\n",
    "plt.show()"
   ]
  },
  {
   "cell_type": "code",
   "execution_count": 27,
   "metadata": {
    "scrolled": false
   },
   "outputs": [
    {
     "data": {
      "image/png": "[encoded data removed]",
      "text/plain": [
       "<Figure size 432x288 with 1 Axes>"
      ]
     },
     "metadata": {},
     "output_type": "display_data"
    }
   ],
   "source": [
    "cnt = mobile[feature].value_counts()\n",
    "\n",
    "plt.pie(cnt.values, labels = cnt.index, autopct = '%.2f%%', startangle=90, counterclock=False,\n",
    "explode = [0.05, 0.05, 0.05, 0.05, 0.05], shadow=True)\n",
    "plt.show()\n"
   ]
  },
  {
   "cell_type": "markdown",
   "metadata": {
    "id": "qDqmqhvGKme_"
   },
   "source": [
    "⑥ 기초통계량과 분포를 통해서 파악한 내용을 적어 봅시다.\n",
    "\n",
    "보이는 그대로를 넘어, 비즈니스 관점에서 고민하며 적어 봅시다."
   ]
  },
  {
   "cell_type": "markdown",
   "metadata": {
    "id": "YgxBaew3Kme_"
   },
   "source": [
    "> * '불만족'과 '매우 불만족'을 표시한 고객이 전체 59.36%로 과반 이상을 차지한다.\n",
    "> * '만족','매우 만족'을 표시한 고객이 전체 30.59%이다."
   ]
  },
  {
   "cell_type": "markdown",
   "metadata": {
    "id": "EpZ0-McmKme_"
   },
   "source": [
    "⑦ 추가 분석해 볼 사항이 있나요?"
   ]
  },
  {
   "cell_type": "markdown",
   "metadata": {
    "id": "8KHpT6zDKme_"
   },
   "source": [
    "> * 부정적인 평가를 한 고객들의 이유를 조사해 볼 필요가 있다.\n",
    "> * 부정적인 평가를 한 고객들의 실제 이탈 여부를 비교해 볼 필요가 있다."
   ]
  },
  {
   "cell_type": "markdown",
   "metadata": {
    "id": "E5rB6CiofI_d"
   },
   "source": [
    "### 5) feature5"
   ]
  },
  {
   "cell_type": "code",
   "execution_count": 28,
   "metadata": {
    "id": "BoOX0VRsKped"
   },
   "outputs": [],
   "source": [
    "feature = 'CONSIDERING_CHANGE_OF_PLAN'"
   ]
  },
  {
   "cell_type": "markdown",
   "metadata": {
    "id": "lFocUq67Kped"
   },
   "source": [
    "① 변수의 비즈니스 의미"
   ]
  },
  {
   "cell_type": "markdown",
   "metadata": {
    "id": "eDp4a6m6Kped"
   },
   "source": [
    "> * 변경 계획 설문('never_thought', 'no', 'perhaps', 'considering', 'actively_looking_into_it')"
   ]
  },
  {
   "cell_type": "markdown",
   "metadata": {
    "id": "tMiSqllJKped"
   },
   "source": [
    "② 숫자, 범주?"
   ]
  },
  {
   "cell_type": "markdown",
   "metadata": {
    "id": "xzz6u-xWKped"
   },
   "source": [
    "> * 범주 데이터"
   ]
  },
  {
   "cell_type": "markdown",
   "metadata": {
    "id": "TDvHjCp8Kped"
   },
   "source": [
    "③ NaN 존재 유무"
   ]
  },
  {
   "cell_type": "code",
   "execution_count": 29,
   "metadata": {
    "id": "GMZN3xXPKpee"
   },
   "outputs": [
    {
     "data": {
      "text/plain": [
       "0"
      ]
     },
     "execution_count": 29,
     "metadata": {},
     "output_type": "execute_result"
    }
   ],
   "source": [
    "mobile[feature].isna().sum()"
   ]
  },
  {
   "cell_type": "markdown",
   "metadata": {
    "id": "xG8QXHmcKpee"
   },
   "source": [
    "④ 기초통계량(수치화)"
   ]
  },
  {
   "cell_type": "code",
   "execution_count": 30,
   "metadata": {
    "id": "LP3ywpI8Kpee"
   },
   "outputs": [
    {
     "name": "stdout",
     "output_type": "stream",
     "text": [
      "considering                 7141\n",
      "actively_looking_into_it    4453\n",
      "no                          3644\n",
      "never_thought               1804\n",
      "perhaps                      958\n",
      "Name: CONSIDERING_CHANGE_OF_PLAN, dtype: int64\n",
      "considering                 0.396722\n",
      "actively_looking_into_it    0.247389\n",
      "no                          0.202444\n",
      "never_thought               0.100222\n",
      "perhaps                     0.053222\n",
      "Name: CONSIDERING_CHANGE_OF_PLAN, dtype: float64\n"
     ]
    }
   ],
   "source": [
    "print(mobile[feature].value_counts())\n",
    "print(mobile[feature].value_counts()/ len(mobile[feature]))"
   ]
  },
  {
   "cell_type": "markdown",
   "metadata": {
    "id": "2NBiXBJzKpee"
   },
   "source": [
    "⑤ 분포 확인(시각화)"
   ]
  },
  {
   "cell_type": "code",
   "execution_count": 31,
   "metadata": {
    "id": "jlaMl92iKpee"
   },
   "outputs": [
    {
     "name": "stderr",
     "output_type": "stream",
     "text": [
      "C:\\Users\\User\\anaconda3\\lib\\site-packages\\seaborn\\_decorators.py:36: FutureWarning: Pass the following variable as a keyword arg: x. From version 0.12, the only valid positional argument will be `data`, and passing other arguments without an explicit keyword will result in an error or misinterpretation.\n",
      "  warnings.warn(\n"
     ]
    },
    {
     "data": {
      "image/png": "[encoded data removed]",
      "text/plain": [
       "<Figure size 432x288 with 1 Axes>"
      ]
     },
     "metadata": {
      "needs_background": "light"
     },
     "output_type": "display_data"
    }
   ],
   "source": [
    "sns.countplot(mobile[feature]) #plt의 barplot 사용해서\n",
    "plt.show()"
   ]
  },
  {
   "cell_type": "code",
   "execution_count": 32,
   "metadata": {
    "scrolled": true
   },
   "outputs": [
    {
     "name": "stdout",
     "output_type": "stream",
     "text": [
      "[7141 4453 3644 1804  958]"
     ]
    },
    {
     "name": "stderr",
     "output_type": "stream",
     "text": [
      "C:\\Users\\User\\anaconda3\\lib\\site-packages\\seaborn\\_decorators.py:36: FutureWarning: Pass the following variable as a keyword arg: x. From version 0.12, the only valid positional argument will be `data`, and passing other arguments without an explicit keyword will result in an error or misinterpretation.\n",
      "  warnings.warn(\n"
     ]
    },
    {
     "name": "stdout",
     "output_type": "stream",
     "text": [
      "    Index(['considering', 'actively_looking_into_it', 'no', 'never_thought',\n",
      "       'perhaps'],\n",
      "      dtype='object')\n"
     ]
    },
    {
     "data": {
      "image/png": "[encoded data removed]",
      "text/plain": [
       "<Figure size 432x288 with 1 Axes>"
      ]
     },
     "metadata": {
      "needs_background": "light"
     },
     "output_type": "display_data"
    }
   ],
   "source": [
    "cnt = mobile[feature].value_counts()\n",
    "print(cnt.values,'  ',cnt.index)\n",
    "sns.countplot(mobile[feature])\n",
    "\n",
    "plt.text(-0.2, cnt.values[0]+5, cnt.values[0])\n",
    "plt.text(2.8, cnt.values[1]+5, cnt.values[1])\n",
    "plt.text(0.8, cnt.values[2]+5, cnt.values[2])\n",
    "plt.text(1.8, cnt.values[3]+5, cnt.values[3])\n",
    "plt.text(3.8, cnt.values[4]+5, cnt.values[4])\n",
    "plt.xticks(rotation=40,fontsize=10)\n",
    "\n",
    "plt.show()"
   ]
  },
  {
   "cell_type": "code",
   "execution_count": null,
   "metadata": {},
   "outputs": [],
   "source": []
  },
  {
   "cell_type": "code",
   "execution_count": 33,
   "metadata": {},
   "outputs": [
    {
     "data": {
      "image/png": "[encoded data removed]",
      "text/plain": [
       "<Figure size 432x288 with 1 Axes>"
      ]
     },
     "metadata": {},
     "output_type": "display_data"
    }
   ],
   "source": [
    "cnt = mobile[feature].value_counts()\n",
    "\n",
    "plt.pie(cnt.values, labels = cnt.index, autopct = '%.2f%%', startangle=90, counterclock=False,\n",
    "explode = [0.05, 0.05, 0.05, 0.05, 0.05], shadow=True)\n",
    "plt.show()\n"
   ]
  },
  {
   "cell_type": "markdown",
   "metadata": {
    "id": "fUE37qfWKpee"
   },
   "source": [
    "⑥ 기초통계량과 분포를 통해서 파악한 내용을 적어 봅시다.\n",
    "\n",
    "보이는 그대로를 넘어, 비즈니스 관점에서 고민하며 적어 봅시다."
   ]
  },
  {
   "cell_type": "markdown",
   "metadata": {
    "id": "3pXS8Y2BKpee"
   },
   "source": [
    "> * '절대 아니다','아니다'를 제외한 변경할 가능성이 있는 고객의 비율이 69.73으로 굉장히 높은 편이다.\n",
    "> * 회사는 변경할 가능성이 있는 고객들을 유지시킬 수 있는 방안을 모색해야 한다."
   ]
  },
  {
   "cell_type": "markdown",
   "metadata": {
    "id": "cci16W-GKpee"
   },
   "source": [
    "⑦ 추가 분석해 볼 사항이 있나요?"
   ]
  },
  {
   "cell_type": "markdown",
   "metadata": {
    "id": "atWD22NIKpee"
   },
   "source": [
    "> * 변경계획 조사와 실제 변경 조사를 비교하여 변경계획 조사의 신빙성을 검토해 볼 필요가 있다."
   ]
  },
  {
   "cell_type": "markdown",
   "metadata": {
    "id": "78iry0XpLCc0"
   },
   "source": [
    "### 6) target"
   ]
  },
  {
   "cell_type": "code",
   "execution_count": 34,
   "metadata": {
    "id": "CokPil3nLCc7"
   },
   "outputs": [],
   "source": [
    "target = 'CHURN'"
   ]
  },
  {
   "cell_type": "markdown",
   "metadata": {
    "id": "AXZCZBLBLCc8"
   },
   "source": [
    "① 변수의 비즈니스 의미"
   ]
  },
  {
   "cell_type": "markdown",
   "metadata": {
    "id": "LE6ylreXLCc8"
   },
   "source": [
    "> * 이탈여부(1 : 이탈, 0 : 잔류)"
   ]
  },
  {
   "cell_type": "markdown",
   "metadata": {
    "id": "OyftkfSnLCc8"
   },
   "source": [
    "② 숫자, 범주?"
   ]
  },
  {
   "cell_type": "markdown",
   "metadata": {
    "id": "ubukJmxzLCc8"
   },
   "source": [
    "> * 범주 데이터"
   ]
  },
  {
   "cell_type": "markdown",
   "metadata": {
    "id": "4_aoVtEZLCc9"
   },
   "source": [
    "③ NaN 존재 유무"
   ]
  },
  {
   "cell_type": "code",
   "execution_count": 35,
   "metadata": {
    "id": "yJTRrDtDLCc9"
   },
   "outputs": [
    {
     "data": {
      "text/plain": [
       "0"
      ]
     },
     "execution_count": 35,
     "metadata": {},
     "output_type": "execute_result"
    }
   ],
   "source": [
    "mobile[target].isna().sum()"
   ]
  },
  {
   "cell_type": "markdown",
   "metadata": {
    "id": "J4FlMwvdLCc9"
   },
   "source": [
    "④ 기초통계량(수치화)"
   ]
  },
  {
   "cell_type": "code",
   "execution_count": 36,
   "metadata": {
    "id": "zwZ_xGh0LCc-"
   },
   "outputs": [
    {
     "name": "stdout",
     "output_type": "stream",
     "text": [
      "0    9131\n",
      "1    8869\n",
      "Name: CHURN, dtype: int64\n",
      "0    0.507278\n",
      "1    0.492722\n",
      "Name: CHURN, dtype: float64\n"
     ]
    }
   ],
   "source": [
    "print(mobile[target].value_counts())\n",
    "print(mobile[target].value_counts()/ len(mobile[target]))"
   ]
  },
  {
   "cell_type": "markdown",
   "metadata": {
    "id": "Mi7hgkwhLCc-"
   },
   "source": [
    "⑤ 분포 확인(시각화)"
   ]
  },
  {
   "cell_type": "code",
   "execution_count": 37,
   "metadata": {
    "id": "SlDmIojyLCc-",
    "scrolled": false
   },
   "outputs": [
    {
     "name": "stderr",
     "output_type": "stream",
     "text": [
      "C:\\Users\\User\\anaconda3\\lib\\site-packages\\seaborn\\_decorators.py:36: FutureWarning: Pass the following variable as a keyword arg: x. From version 0.12, the only valid positional argument will be `data`, and passing other arguments without an explicit keyword will result in an error or misinterpretation.\n",
      "  warnings.warn(\n"
     ]
    },
    {
     "data": {
      "image/png": "[encoded data removed]",
      "text/plain": [
       "<Figure size 432x288 with 1 Axes>"
      ]
     },
     "metadata": {
      "needs_background": "light"
     },
     "output_type": "display_data"
    }
   ],
   "source": [
    "sns.countplot(mobile[target]) #plt의 barplot 사용해서\n",
    "plt.show()"
   ]
  },
  {
   "cell_type": "code",
   "execution_count": 38,
   "metadata": {
    "scrolled": true
   },
   "outputs": [
    {
     "name": "stdout",
     "output_type": "stream",
     "text": [
      "[9131 8869]    Int64Index([0, 1], dtype='int64')\n"
     ]
    },
    {
     "data": {
      "image/png": "[encoded data removed]",
      "text/plain": [
       "<Figure size 432x288 with 1 Axes>"
      ]
     },
     "metadata": {
      "needs_background": "light"
     },
     "output_type": "display_data"
    }
   ],
   "source": [
    "cnt = mobile[target].value_counts()\n",
    "print(cnt.values,'  ',cnt.index)\n",
    "plt.bar(cnt.index, cnt.values)\n",
    "\n",
    "plt.text(-0.1, cnt.values[0]+5, cnt.values[0])\n",
    "plt.text(0.9, cnt.values[1]+5, cnt.values[1])\n",
    "\n",
    "plt.show()"
   ]
  },
  {
   "cell_type": "code",
   "execution_count": 39,
   "metadata": {},
   "outputs": [
    {
     "data": {
      "image/png": "[encoded data removed]",
      "text/plain": [
       "<Figure size 432x288 with 1 Axes>"
      ]
     },
     "metadata": {},
     "output_type": "display_data"
    }
   ],
   "source": [
    "cnt = mobile[target].value_counts()\n",
    "\n",
    "plt.pie(cnt.values, labels = cnt.index, autopct = '%.2f%%', startangle=90, counterclock=False,\n",
    "explode = [0.05, 0.05], shadow=True)\n",
    "plt.show()\n"
   ]
  },
  {
   "cell_type": "markdown",
   "metadata": {
    "id": "IJDj2DQ0LCc_"
   },
   "source": [
    "⑥ 기초통계량과 분포를 통해서 파악한 내용을 적어 봅시다.\n",
    "\n",
    "보이는 그대로를 넘어, 비즈니스 관점에서 고민하며 적어 봅시다."
   ]
  },
  {
   "cell_type": "markdown",
   "metadata": {
    "id": "SxVB-FBfLCdA"
   },
   "source": [
    "> * 작은 차이지만 변경하지 않는 고객의 수가 과반 이상을 차지한다.\n",
    "> * 고객의 절반 가까이 이탈하는 것은 회사에 큰 손해로 작용될 수 있다."
   ]
  },
  {
   "cell_type": "markdown",
   "metadata": {
    "id": "0ypYwLk2LCdA"
   },
   "source": [
    "⑦ 추가 분석해 볼 사항이 있나요?"
   ]
  },
  {
   "cell_type": "markdown",
   "metadata": {
    "id": "vsbs9ewfLCdA"
   },
   "source": [
    "> * 실제 이탈 고객들을 대상으로 이탈 사유를 조사해 볼 필요가 있다."
   ]
  },
  {
   "cell_type": "markdown",
   "metadata": {
    "id": "ZghJJ7yLEpDA"
   },
   "source": [
    "## 3.이변량 분석 \n",
    "* 자료의 종류에 맞게 X --> Y 에 대해서 그래프(시각화)와 가설검정(수치화)를 수행하고 결과를 평가합니다.\n",
    "* 가설검정시 다음의 항목을 참조하여 수행합니다.\n",
    "    * 유의수준 : 5%\n",
    "    * 숫자 --> 숫자 : 상관분석\n",
    "    * 범주 --> 범주 : 카이제곱검정\n",
    "    * 범주 --> 숫자 : t검정, 분산분석\n",
    "    * 숫자 --> 범주 : 로지스틱 회귀모형을 통해, 회귀계수의 P.value로 검정을 수행합니다."
   ]
  },
  {
   "cell_type": "code",
   "execution_count": 40,
   "metadata": {
    "id": "qiWKeotjGkLp"
   },
   "outputs": [],
   "source": [
    "target = 'CHURN'"
   ]
  },
  {
   "cell_type": "markdown",
   "metadata": {
    "id": "fap08wfEMqtY"
   },
   "source": [
    "### (1) 범주형 Feature --> CHURN\n",
    "* 모든 범주형 Feature에 대해서 Y와 비교하여 차트를 그리고 수치화 하시오.  \n",
    "    ① 교차표(pd.crosstab())  \n",
    "    ② 시각화( Stacked Bar, Mosaic)  \n",
    "    ③ 가설검정(카이제곱검정)\n",
    "* 각 feature 별로 관계의 정도를 3가지로 정리해봅시다. "
   ]
  },
  {
   "cell_type": "code",
   "execution_count": 41,
   "metadata": {
    "id": "r4wGQJtSYRWD"
   },
   "outputs": [
    {
     "name": "stdout",
     "output_type": "stream",
     "text": [
      "0.49272222222222223\n"
     ]
    }
   ],
   "source": [
    "# 전체 이탈율\n",
    "total_mean = mobile[target].mean()\n",
    "print(total_mean)"
   ]
  },
  {
   "cell_type": "markdown",
   "metadata": {
    "id": "Dh2UW7_S-yoq"
   },
   "source": [
    "#### 1) feature --> CHURN"
   ]
  },
  {
   "cell_type": "code",
   "execution_count": 42,
   "metadata": {
    "id": "EWXtZEr_X0ok"
   },
   "outputs": [],
   "source": [
    "feature = 'REPORTED_SATISFACTION'"
   ]
  },
  {
   "cell_type": "markdown",
   "metadata": {
    "id": "sq4qjPyrXkS3"
   },
   "source": [
    "① 교차표(pd.crosstab())"
   ]
  },
  {
   "cell_type": "code",
   "execution_count": 43,
   "metadata": {
    "id": "qkS8v_BxX3Gk"
   },
   "outputs": [
    {
     "data": {
      "text/html": [
       "<div>\n",
       "<style scoped>\n",
       "    .dataframe tbody tr th:only-of-type {\n",
       "        vertical-align: middle;\n",
       "    }\n",
       "\n",
       "    .dataframe tbody tr th {\n",
       "        vertical-align: top;\n",
       "    }\n",
       "\n",
       "    .dataframe thead th {\n",
       "        text-align: right;\n",
       "    }\n",
       "</style>\n",
       "<table border=\"1\" class=\"dataframe\">\n",
       "  <thead>\n",
       "    <tr style=\"text-align: right;\">\n",
       "      <th>REPORTED_SATISFACTION</th>\n",
       "      <th>avg</th>\n",
       "      <th>sat</th>\n",
       "      <th>unsat</th>\n",
       "      <th>very_sat</th>\n",
       "      <th>very_unsat</th>\n",
       "    </tr>\n",
       "    <tr>\n",
       "      <th>CHURN</th>\n",
       "      <th></th>\n",
       "      <th></th>\n",
       "      <th></th>\n",
       "      <th></th>\n",
       "      <th></th>\n",
       "    </tr>\n",
       "  </thead>\n",
       "  <tbody>\n",
       "    <tr>\n",
       "      <th>0</th>\n",
       "      <td>952</td>\n",
       "      <td>492</td>\n",
       "      <td>1792</td>\n",
       "      <td>2334</td>\n",
       "      <td>3543</td>\n",
       "    </tr>\n",
       "    <tr>\n",
       "      <th>1</th>\n",
       "      <td>854</td>\n",
       "      <td>440</td>\n",
       "      <td>1798</td>\n",
       "      <td>2228</td>\n",
       "      <td>3529</td>\n",
       "    </tr>\n",
       "  </tbody>\n",
       "</table>\n",
       "</div>"
      ],
      "text/plain": [
       "REPORTED_SATISFACTION  avg  sat  unsat  very_sat  very_unsat\n",
       "CHURN                                                       \n",
       "0                      952  492   1792      2334        3543\n",
       "1                      854  440   1798      2228        3529"
      ]
     },
     "execution_count": 43,
     "metadata": {},
     "output_type": "execute_result"
    }
   ],
   "source": [
    "pd.crosstab(mobile[target], mobile[feature])"
   ]
  },
  {
   "cell_type": "markdown",
   "metadata": {
    "id": "s2QiOyPmZ1Sy"
   },
   "source": [
    "② 시각화( Stacked Bar, Mosaic)"
   ]
  },
  {
   "cell_type": "code",
   "execution_count": 44,
   "metadata": {
    "id": "eLZgTrQqYciB"
   },
   "outputs": [
    {
     "name": "stdout",
     "output_type": "stream",
     "text": [
      "CHURN                         0         1\n",
      "REPORTED_SATISFACTION                    \n",
      "avg                    0.527132  0.472868\n",
      "sat                    0.527897  0.472103\n",
      "unsat                  0.499164  0.500836\n",
      "very_sat               0.511618  0.488382\n",
      "very_unsat             0.500990  0.499010\n"
     ]
    },
    {
     "data": {
      "image/png": "[encoded data removed]",
      "text/plain": [
       "<Figure size 432x288 with 1 Axes>"
      ]
     },
     "metadata": {
      "needs_background": "light"
     },
     "output_type": "display_data"
    }
   ],
   "source": [
    "# 1) 집계\n",
    "tmp = pd.crosstab(mobile[feature], mobile[target], normalize = 'index')\n",
    "print(tmp)\n",
    "# 2) stacked bar!\n",
    "tmp.plot.bar(stacked=True)\n",
    "\n",
    "# 평균선 추가.\n",
    "plt.axhline(1-mobile[target].mean(), color = 'r')\n",
    "# plt.text(-0.1,0.51,mobile[target].mean())\n",
    "plt.show()"
   ]
  },
  {
   "cell_type": "code",
   "execution_count": 45,
   "metadata": {
    "id": "RVjIC6RsaQfv"
   },
   "outputs": [
    {
     "data": {
      "image/png": "[encoded data removed]",
      "text/plain": [
       "<Figure size 432x288 with 3 Axes>"
      ]
     },
     "metadata": {
      "needs_background": "light"
     },
     "output_type": "display_data"
    }
   ],
   "source": [
    "\n",
    "mosaic(mobile,[feature, target])\n",
    "\n",
    "# 평균선 추가\n",
    "# plt.axhline(1- mobile[target].mean(), color = 'r')\n",
    "plt.show()"
   ]
  },
  {
   "cell_type": "markdown",
   "metadata": {
    "id": "V1pyYZ3ibCyO"
   },
   "source": [
    "시각화를 통해 파악한 내용을 적어 봅시다."
   ]
  },
  {
   "cell_type": "markdown",
   "metadata": {
    "id": "K7hA7NOjLOlp"
   },
   "source": [
    "> * 부정적인 평가를 내린 고객들 중 이탈한 고객은 절반을 넘지 않는다.(49.996%)\n",
    "> * 이탈한 고객 중 '매우 불만족'을 선택한 고객들이 가장 많다.(3529명)\n",
    "> * 만족도 설문의 결과에서 이탈한 고객과 이탈하지 않은 고객이 1:1의 비율에 가깝다.\n",
    "> * 만족도 설문은 실제 이탈 여부에 영향을 끼치지 않는다."
   ]
  },
  {
   "cell_type": "markdown",
   "metadata": {
    "id": "8MX4b9jZbGal"
   },
   "source": [
    "③ 가설검정(카이제곱검정)"
   ]
  },
  {
   "cell_type": "code",
   "execution_count": 46,
   "metadata": {
    "id": "vMjinA9nLP2_"
   },
   "outputs": [
    {
     "name": "stdout",
     "output_type": "stream",
     "text": [
      "교차표\n",
      " REPORTED_SATISFACTION  avg  sat  unsat  very_sat  very_unsat\n",
      "CHURN                                                       \n",
      "0                      952  492   1792      2334        3543\n",
      "1                      854  440   1798      2228        3529\n",
      "----------------------------------------------------------------------------------------------------\n",
      "카이제곱통계량 6.8411009572056445\n",
      "p-value 0.14452738878905066\n",
      "기대빈도\n",
      " [[ 916.27201871  472.84912593 1821.38236277 2314.5254426  3587.97104999]\n",
      " [ 889.72798129  459.15087407 1768.61763723 2247.4745574  3484.02895001]]\n"
     ]
    }
   ],
   "source": [
    "table = pd.crosstab(mobile[target], mobile[feature])\n",
    "print('교차표\\n', table)\n",
    "print('-' * 100)\n",
    "\n",
    "result = spst.chi2_contingency(table)\n",
    "print('카이제곱통계량', result[0])\n",
    "print('p-value', result[1])\n",
    "print('기대빈도\\n',result[3])"
   ]
  },
  {
   "cell_type": "markdown",
   "metadata": {
    "id": "wuH_fPA6bTE1"
   },
   "source": [
    "④ 시각화와 가설검정을 통해서 파악한 내용을 적어 봅시다."
   ]
  },
  {
   "cell_type": "markdown",
   "metadata": {
    "id": "Eg_fzBzqbj0U"
   },
   "source": [
    "> * p-value가 0.144로 유의수준 0.05보다 크므로 대립가설을 기각하고, 귀무가설을 지지한다.\n",
    "> * 만족도 설문의 결과가 실제 이탈 여부에 영향을 끼칠 것이라는 대립가설을 기각하고 귀무가설을 지지한다"
   ]
  },
  {
   "cell_type": "markdown",
   "metadata": {
    "id": "4Xeo68yeLU98"
   },
   "source": [
    "#### 2) feature --> CHURN"
   ]
  },
  {
   "cell_type": "code",
   "execution_count": 47,
   "metadata": {
    "id": "rA7_WcWzLU-E"
   },
   "outputs": [],
   "source": [
    "feature = 'CONSIDERING_CHANGE_OF_PLAN'"
   ]
  },
  {
   "cell_type": "markdown",
   "metadata": {
    "id": "mjCkvEsXLU-F"
   },
   "source": [
    "① 교차표(pd.crosstab())"
   ]
  },
  {
   "cell_type": "code",
   "execution_count": 48,
   "metadata": {
    "id": "nGFqFTN3LU-F"
   },
   "outputs": [
    {
     "data": {
      "text/html": [
       "<div>\n",
       "<style scoped>\n",
       "    .dataframe tbody tr th:only-of-type {\n",
       "        vertical-align: middle;\n",
       "    }\n",
       "\n",
       "    .dataframe tbody tr th {\n",
       "        vertical-align: top;\n",
       "    }\n",
       "\n",
       "    .dataframe thead th {\n",
       "        text-align: right;\n",
       "    }\n",
       "</style>\n",
       "<table border=\"1\" class=\"dataframe\">\n",
       "  <thead>\n",
       "    <tr style=\"text-align: right;\">\n",
       "      <th>CONSIDERING_CHANGE_OF_PLAN</th>\n",
       "      <th>actively_looking_into_it</th>\n",
       "      <th>considering</th>\n",
       "      <th>never_thought</th>\n",
       "      <th>no</th>\n",
       "      <th>perhaps</th>\n",
       "    </tr>\n",
       "    <tr>\n",
       "      <th>CHURN</th>\n",
       "      <th></th>\n",
       "      <th></th>\n",
       "      <th></th>\n",
       "      <th></th>\n",
       "      <th></th>\n",
       "    </tr>\n",
       "  </thead>\n",
       "  <tbody>\n",
       "    <tr>\n",
       "      <th>0</th>\n",
       "      <td>2278</td>\n",
       "      <td>3648</td>\n",
       "      <td>926</td>\n",
       "      <td>1823</td>\n",
       "      <td>456</td>\n",
       "    </tr>\n",
       "    <tr>\n",
       "      <th>1</th>\n",
       "      <td>2175</td>\n",
       "      <td>3493</td>\n",
       "      <td>878</td>\n",
       "      <td>1821</td>\n",
       "      <td>502</td>\n",
       "    </tr>\n",
       "  </tbody>\n",
       "</table>\n",
       "</div>"
      ],
      "text/plain": [
       "CONSIDERING_CHANGE_OF_PLAN  actively_looking_into_it  considering  \\\n",
       "CHURN                                                               \n",
       "0                                               2278         3648   \n",
       "1                                               2175         3493   \n",
       "\n",
       "CONSIDERING_CHANGE_OF_PLAN  never_thought    no  perhaps  \n",
       "CHURN                                                     \n",
       "0                                     926  1823      456  \n",
       "1                                     878  1821      502  "
      ]
     },
     "execution_count": 48,
     "metadata": {},
     "output_type": "execute_result"
    }
   ],
   "source": [
    "pd.crosstab(mobile[target], mobile[feature])"
   ]
  },
  {
   "cell_type": "markdown",
   "metadata": {
    "id": "KTlO_nVILU-F"
   },
   "source": [
    "② 시각화( Stacked Bar, Mosaic)"
   ]
  },
  {
   "cell_type": "code",
   "execution_count": 49,
   "metadata": {
    "id": "YtT2BhqvLU-F"
   },
   "outputs": [
    {
     "name": "stdout",
     "output_type": "stream",
     "text": [
      "CHURN                              0         1\n",
      "CONSIDERING_CHANGE_OF_PLAN                    \n",
      "actively_looking_into_it    0.511565  0.488435\n",
      "considering                 0.510853  0.489147\n",
      "never_thought               0.513304  0.486696\n",
      "no                          0.500274  0.499726\n",
      "perhaps                     0.475992  0.524008\n"
     ]
    },
    {
     "data": {
      "image/png": "[encoded data removed]",
      "text/plain": [
       "<Figure size 432x288 with 1 Axes>"
      ]
     },
     "metadata": {
      "needs_background": "light"
     },
     "output_type": "display_data"
    }
   ],
   "source": [
    "# 1) 집계\n",
    "tmp = pd.crosstab(mobile[feature], mobile[target], normalize = 'index')\n",
    "print(tmp)\n",
    "# 2) stacked bar!\n",
    "tmp.plot.bar(stacked=True)\n",
    "\n",
    "# 평균선 추가.\n",
    "plt.axhline(1-mobile[target].mean(), color = 'r')\n",
    "plt.show()"
   ]
  },
  {
   "cell_type": "code",
   "execution_count": 50,
   "metadata": {
    "id": "5w_CVrhwLU-G"
   },
   "outputs": [
    {
     "data": {
      "image/png": "[encoded data removed]",
      "text/plain": [
       "<Figure size 432x288 with 3 Axes>"
      ]
     },
     "metadata": {
      "needs_background": "light"
     },
     "output_type": "display_data"
    }
   ],
   "source": [
    "mosaic(mobile,[feature, target])\n",
    "\n",
    "# 평균선 추가\n",
    "# plt.axhline(1- mobile[target].mean(), color = 'r')\n",
    "plt.show()"
   ]
  },
  {
   "cell_type": "markdown",
   "metadata": {
    "id": "_Uo9zuseLU-G"
   },
   "source": [
    "시각화를 통해 파악한 내용을 적어 봅시다."
   ]
  },
  {
   "cell_type": "markdown",
   "metadata": {
    "id": "GV1EhOn6LU-G"
   },
   "source": [
    "> * 모든 선택지에서 이탈한 고객과 이탈하지 않은 고객이 1:1의 비율에 가깝다.\n",
    "> * 변경 계획 설문은 실제 이탈 여부에 영향을 끼치지 않는다."
   ]
  },
  {
   "cell_type": "markdown",
   "metadata": {
    "id": "qvnoTO3ZLU-G"
   },
   "source": [
    "③ 가설검정(카이제곱검정)"
   ]
  },
  {
   "cell_type": "code",
   "execution_count": 51,
   "metadata": {
    "id": "t4Y0HcRuLU-H"
   },
   "outputs": [
    {
     "name": "stdout",
     "output_type": "stream",
     "text": [
      "교차표\n",
      " CONSIDERING_CHANGE_OF_PLAN  actively_looking_into_it  considering  \\\n",
      "CHURN                                                               \n",
      "0                                               2278         3648   \n",
      "1                                               2175         3493   \n",
      "\n",
      "CONSIDERING_CHANGE_OF_PLAN  never_thought    no  perhaps  \n",
      "CHURN                                                     \n",
      "0                                     926  1823      456  \n",
      "1                                     878  1821      502  \n",
      "----------------------------------------------------------------------------------------------------\n",
      "카이제곱통계량 5.421434419620689\n",
      "p-value 0.2467222586679969\n",
      "기대빈도\n",
      " [[2258.90794444 3622.47061111  915.12911111 1848.52022222  485.97211111]\n",
      " [2194.09205556 3518.52938889  888.87088889 1795.47977778  472.02788889]]\n"
     ]
    }
   ],
   "source": [
    "table = pd.crosstab(mobile[target], mobile[feature])\n",
    "print('교차표\\n', table)\n",
    "print('-' * 100)\n",
    "\n",
    "result = spst.chi2_contingency(table)\n",
    "print('카이제곱통계량', result[0])\n",
    "print('p-value', result[1])\n",
    "print('기대빈도\\n',result[3])"
   ]
  },
  {
   "cell_type": "markdown",
   "metadata": {
    "id": "mRrRp1C_LU-H"
   },
   "source": [
    "④ 시각화와 가설검정을 통해서 파악한 내용을 적어 봅시다."
   ]
  },
  {
   "cell_type": "markdown",
   "metadata": {
    "id": "IMI0Vs_cLU-H"
   },
   "source": [
    "> * p-value가 0.144로 유의수준 0.05보다 크므로 대립가설을 기각하고, 귀무가설을 지지한다.\n",
    "> * 변경 계획 설문의 결과가 실제 이탈 여부에 영향을 끼칠 것이라는 대립가설을 기각하고 귀무가설을 지지한다."
   ]
  },
  {
   "cell_type": "markdown",
   "metadata": {
    "id": "bdWZCugILZAz"
   },
   "source": [
    "#### 3) feature --> CHURN"
   ]
  },
  {
   "cell_type": "code",
   "execution_count": 66,
   "metadata": {
    "id": "H7UDK6CKLZAz"
   },
   "outputs": [],
   "source": [
    "feature = 'COLLEGE'"
   ]
  },
  {
   "cell_type": "markdown",
   "metadata": {
    "id": "0UmyfctOLZAz"
   },
   "source": [
    "① 교차표(pd.crosstab())"
   ]
  },
  {
   "cell_type": "code",
   "execution_count": 67,
   "metadata": {
    "id": "BrgYOjaOLZAz"
   },
   "outputs": [
    {
     "data": {
      "text/html": [
       "<div>\n",
       "<style scoped>\n",
       "    .dataframe tbody tr th:only-of-type {\n",
       "        vertical-align: middle;\n",
       "    }\n",
       "\n",
       "    .dataframe tbody tr th {\n",
       "        vertical-align: top;\n",
       "    }\n",
       "\n",
       "    .dataframe thead th {\n",
       "        text-align: right;\n",
       "    }\n",
       "</style>\n",
       "<table border=\"1\" class=\"dataframe\">\n",
       "  <thead>\n",
       "    <tr style=\"text-align: right;\">\n",
       "      <th>COLLEGE</th>\n",
       "      <th>0</th>\n",
       "      <th>1</th>\n",
       "    </tr>\n",
       "    <tr>\n",
       "      <th>CHURN</th>\n",
       "      <th></th>\n",
       "      <th></th>\n",
       "    </tr>\n",
       "  </thead>\n",
       "  <tbody>\n",
       "    <tr>\n",
       "      <th>0</th>\n",
       "      <td>4616</td>\n",
       "      <td>4515</td>\n",
       "    </tr>\n",
       "    <tr>\n",
       "      <th>1</th>\n",
       "      <td>4335</td>\n",
       "      <td>4534</td>\n",
       "    </tr>\n",
       "  </tbody>\n",
       "</table>\n",
       "</div>"
      ],
      "text/plain": [
       "COLLEGE     0     1\n",
       "CHURN              \n",
       "0        4616  4515\n",
       "1        4335  4534"
      ]
     },
     "execution_count": 67,
     "metadata": {},
     "output_type": "execute_result"
    }
   ],
   "source": [
    "pd.crosstab(mobile[target], mobile[feature])"
   ]
  },
  {
   "cell_type": "markdown",
   "metadata": {
    "id": "Wjo9OCLWLZA0"
   },
   "source": [
    "② 시각화( Stacked Bar, Mosaic)"
   ]
  },
  {
   "cell_type": "code",
   "execution_count": 68,
   "metadata": {
    "id": "9yvaMb4fLZA0"
   },
   "outputs": [
    {
     "name": "stdout",
     "output_type": "stream",
     "text": [
      "CHURN           0         1\n",
      "COLLEGE                    \n",
      "0        0.515697  0.484303\n",
      "1        0.498950  0.501050\n"
     ]
    },
    {
     "data": {
      "image/png": "[encoded data removed]",
      "text/plain": [
       "<Figure size 432x288 with 1 Axes>"
      ]
     },
     "metadata": {
      "needs_background": "light"
     },
     "output_type": "display_data"
    }
   ],
   "source": [
    "# 1) 집계\n",
    "tmp = pd.crosstab(mobile[feature], mobile[target], normalize = 'index')\n",
    "print(tmp)\n",
    "# 2) stacked bar!\n",
    "tmp.plot.bar(stacked=True)\n",
    "\n",
    "# 평균선 추가.\n",
    "plt.axhline(1-mobile[target].mean(), color = 'r')\n",
    "plt.show()"
   ]
  },
  {
   "cell_type": "code",
   "execution_count": 69,
   "metadata": {
    "id": "Ea9O1R16LZA0"
   },
   "outputs": [
    {
     "data": {
      "image/png": "[encoded data removed]",
      "text/plain": [
       "<Figure size 432x288 with 3 Axes>"
      ]
     },
     "metadata": {
      "needs_background": "light"
     },
     "output_type": "display_data"
    }
   ],
   "source": [
    "mosaic(mobile,[feature, target])\n",
    "\n",
    "# 평균선 추가\n",
    "# plt.axhline(1- mobile[target].mean(), color = 'r')\n",
    "plt.show()"
   ]
  },
  {
   "cell_type": "markdown",
   "metadata": {
    "id": "BdNn9DkYLZA0"
   },
   "source": [
    "시각화를 통해 파악한 내용을 적어 봅시다."
   ]
  },
  {
   "cell_type": "markdown",
   "metadata": {
    "id": "DG4sUGNxLZA0"
   },
   "source": [
    "> * 모든 선택지에서 이탈한 고객과 이탈하지 않은 고객이 1:1의 비율에 가깝다.\n",
    "> * 대학 졸업 여부는 실제 이탈 여부에 영향을 끼치지 않는다."
   ]
  },
  {
   "cell_type": "markdown",
   "metadata": {
    "id": "lqhgW7HGLZA0"
   },
   "source": [
    "③ 가설검정(카이제곱검정)"
   ]
  },
  {
   "cell_type": "code",
   "execution_count": 70,
   "metadata": {
    "id": "d3x9b9yCLZA0"
   },
   "outputs": [
    {
     "name": "stdout",
     "output_type": "stream",
     "text": [
      "교차표\n",
      " COLLEGE     0     1\n",
      "CHURN              \n",
      "0        4616  4515\n",
      "1        4335  4534\n",
      "----------------------------------------------------------------------------------------------------\n",
      "카이제곱통계량 4.982102934693503\n",
      "p-value 0.025610833478220536\n",
      "기대빈도\n",
      " [[4540.64338889 4590.35661111]\n",
      " [4410.35661111 4458.64338889]]\n"
     ]
    }
   ],
   "source": [
    "table = pd.crosstab(mobile[target], mobile[feature])\n",
    "print('교차표\\n', table)\n",
    "print('-' * 100)\n",
    "\n",
    "result = spst.chi2_contingency(table)\n",
    "print('카이제곱통계량', result[0])\n",
    "print('p-value', result[1])\n",
    "print('기대빈도\\n',result[3])"
   ]
  },
  {
   "cell_type": "markdown",
   "metadata": {
    "id": "7vM4xafWLZA0"
   },
   "source": [
    "④ 시각화와 가설검정을 통해서 파악한 내용을 적어 봅시다."
   ]
  },
  {
   "cell_type": "markdown",
   "metadata": {
    "id": "ALHUL0qPLZA1"
   },
   "source": [
    "> * p-value가 0.02로 유의수준 0.05보다 작으므로 귀무가설을 기각하고, 대립가설을 지지한다.\n",
    "> * 검정결과 p-value의 값이 0에 가까우므로 대학 졸업 여부가 이탈여부에 영향을 미친다고 할 수 있다."
   ]
  },
  {
   "cell_type": "markdown",
   "metadata": {
    "id": "lUsQ0iBHMqte"
   },
   "source": [
    "### (2) 숫자형 Feature --> CHURN\n",
    "\n",
    "* 숫자형 Feature에 대해서 Y와 비교하여 차트를 그리고 수치화 하시오.  \n",
    "    ① 그래프 : histogram, densityplot   \n",
    "    ② 수치화 : 로지스틱회귀"
   ]
  },
  {
   "cell_type": "markdown",
   "metadata": {
    "id": "F_Mugk3f_y3X"
   },
   "source": [
    "#### 1) feature --> CHURN\n"
   ]
  },
  {
   "cell_type": "code",
   "execution_count": 53,
   "metadata": {
    "id": "8ROLKtUueHSn"
   },
   "outputs": [],
   "source": [
    "feature = 'OVERAGE'"
   ]
  },
  {
   "cell_type": "markdown",
   "metadata": {
    "id": "iZwchGY8eRH_"
   },
   "source": [
    "① 그래프 : histogram, densityplot"
   ]
  },
  {
   "cell_type": "code",
   "execution_count": 54,
   "metadata": {
    "id": "zkMwa2_hLj0J"
   },
   "outputs": [
    {
     "data": {
      "image/png": "[encoded data removed]",
      "text/plain": [
       "<Figure size 432x288 with 1 Axes>"
      ]
     },
     "metadata": {
      "needs_background": "light"
     },
     "output_type": "display_data"
    }
   ],
   "source": [
    "# histogram 시각화 분석\n",
    "sns.histplot(x = feature, data = mobile, hue = target) # hue : target 별로 나눠서 그리기\n",
    "plt.show()"
   ]
  },
  {
   "cell_type": "code",
   "execution_count": 55,
   "metadata": {},
   "outputs": [
    {
     "data": {
      "image/png": "[encoded data removed]",
      "text/plain": [
       "<Figure size 432x288 with 1 Axes>"
      ]
     },
     "metadata": {
      "needs_background": "light"
     },
     "output_type": "display_data"
    }
   ],
   "source": [
    "# densityplot 시각화 분석 common_norm = False -> 두 그래프 각각 아래 면적의 합이 1 \n",
    "sns.kdeplot(x = feature, data = mobile, hue = target, common_norm = False)\n",
    "plt.show()"
   ]
  },
  {
   "cell_type": "markdown",
   "metadata": {
    "id": "62LpmfYBfADw"
   },
   "source": [
    "시각화를 통해 파악한 내용을 적어 봅시다."
   ]
  },
  {
   "cell_type": "markdown",
   "metadata": {
    "id": "36-jxwdxLnQd"
   },
   "source": [
    "> * 월 초과사용 시간이 150분을 넘어가는 고객들의 이탈이 많다.\n",
    "> * 사용량이 많은 고객들의 이탈률이 높은 것은 회사입장에서 큰 손해이기 때문에 빠른 개선이 필요하다."
   ]
  },
  {
   "cell_type": "markdown",
   "metadata": {
    "id": "AMOh1uw2fVoO"
   },
   "source": [
    "② 수치화 : 로지스틱회귀"
   ]
  },
  {
   "cell_type": "code",
   "execution_count": 56,
   "metadata": {
    "id": "_trwmx6iLn5M",
    "scrolled": true
   },
   "outputs": [
    {
     "name": "stdout",
     "output_type": "stream",
     "text": [
      "Optimization terminated successfully.\n",
      "         Current function value: 0.680553\n",
      "         Iterations 4\n",
      "------------------------------\n",
      "OVERAGE    3.521095e-97\n",
      "dtype: float64\n"
     ]
    }
   ],
   "source": [
    "model = mobile.loc[mobile[feature].notnull()]\n",
    "# 로지스틱 모형을 만들고 통계량을 구해 봅시다.\n",
    "model = sm.Logit(model[target], model[feature])\n",
    "result = model.fit()\n",
    "print('-'*30)\n",
    "print(result.pvalues)"
   ]
  },
  {
   "cell_type": "markdown",
   "metadata": {
    "id": "1QGY11sufcJ1"
   },
   "source": [
    "③ 시각화와 수치화를 통해 파악한 내용을 적어 봅시다."
   ]
  },
  {
   "cell_type": "markdown",
   "metadata": {
    "id": "vlSGRH0fLpBU"
   },
   "source": [
    "> * p-value가 유의수준 0.05보다 작으므로 대립가설을 지지한다.\n",
    "> * 검정결과 p-value의 값이 0에 가까우므로 월 초과 사용시간이 이탈여부에 영향을 미친다고 할 수 있다."
   ]
  },
  {
   "cell_type": "markdown",
   "metadata": {
    "id": "QwikcGXELsny"
   },
   "source": [
    "#### 2) feature --> CHURN\n"
   ]
  },
  {
   "cell_type": "code",
   "execution_count": 57,
   "metadata": {
    "id": "bGWLTAg9Lsny"
   },
   "outputs": [],
   "source": [
    "feature = 'LEFTOVER'"
   ]
  },
  {
   "cell_type": "markdown",
   "metadata": {
    "id": "sc7eLRzfLsny"
   },
   "source": [
    "① 그래프 : histogram, densityplot"
   ]
  },
  {
   "cell_type": "code",
   "execution_count": 58,
   "metadata": {
    "id": "0o0O0EE4Lsnz"
   },
   "outputs": [
    {
     "data": {
      "image/png": "[encoded data removed]",
      "text/plain": [
       "<Figure size 432x288 with 1 Axes>"
      ]
     },
     "metadata": {
      "needs_background": "light"
     },
     "output_type": "display_data"
    }
   ],
   "source": [
    "# histogram 시각화 분석\n",
    "sns.histplot(x = feature, data = mobile, hue = target, bins = 30) # hue : target 별로 나눠서 그리기\n",
    "plt.show()"
   ]
  },
  {
   "cell_type": "code",
   "execution_count": 59,
   "metadata": {},
   "outputs": [
    {
     "data": {
      "image/png": "[encoded data removed]",
      "text/plain": [
       "<Figure size 432x288 with 1 Axes>"
      ]
     },
     "metadata": {
      "needs_background": "light"
     },
     "output_type": "display_data"
    }
   ],
   "source": [
    "# densityplot 시각화 분석 common_norm = False -> 두 그래프 각각 아래 면적의 합이 1 \n",
    "sns.kdeplot(x = feature, data = mobile, hue = target, common_norm = False)\n",
    "plt.show()"
   ]
  },
  {
   "cell_type": "markdown",
   "metadata": {
    "id": "-S8NZ40hLsnz"
   },
   "source": [
    "시각화를 통해 파악한 내용을 적어 봅시다."
   ]
  },
  {
   "cell_type": "markdown",
   "metadata": {
    "id": "pKEyp-p4Lsnz"
   },
   "source": [
    "> * 월 잔여 시간에 대해 세 그룹으로 나눠서 분석할 수 있다.\n",
    "> * 잔여시간이 없는 고객들을 제외하고 대략 25분이하 정도 잔여시간이 있는 고객들은 잔류하는 고객이 이탈하는 고객보다 많다."
   ]
  },
  {
   "cell_type": "markdown",
   "metadata": {
    "id": "YasEY4wlLsnz"
   },
   "source": [
    "② 수치화 : 로지스틱회귀"
   ]
  },
  {
   "cell_type": "code",
   "execution_count": 60,
   "metadata": {
    "id": "rRC3VUPyLsnz"
   },
   "outputs": [
    {
     "name": "stdout",
     "output_type": "stream",
     "text": [
      "Optimization terminated successfully.\n",
      "         Current function value: 0.692532\n",
      "         Iterations 3\n",
      "LEFTOVER    0.000003\n",
      "dtype: float64\n"
     ]
    }
   ],
   "source": [
    "model = mobile.loc[mobile[feature].notnull()]\n",
    "# 로지스틱 모형을 만들고 통계량을 구해 봅시다.\n",
    "model = sm.Logit(model[target], model[feature])\n",
    "result = model.fit()\n",
    "print(result.pvalues)"
   ]
  },
  {
   "cell_type": "markdown",
   "metadata": {
    "id": "KCY04YNhLsnz"
   },
   "source": [
    "③ 시각화와 수치화를 통해 파악한 내용을 적어 봅시다."
   ]
  },
  {
   "cell_type": "markdown",
   "metadata": {
    "id": "ksIkHGlILsnz"
   },
   "source": [
    "> * p-value가 유의수준 0.05보다 작으므로 대립가설을 지지한다."
   ]
  },
  {
   "cell_type": "markdown",
   "metadata": {
    "id": "KkyjTXOqLsyK"
   },
   "source": [
    "#### 3) feature --> CHURN\n"
   ]
  },
  {
   "cell_type": "code",
   "execution_count": 61,
   "metadata": {
    "id": "ZNHDXzGALsyK"
   },
   "outputs": [],
   "source": [
    "feature = 'AVERAGE_CALL_DURATION'"
   ]
  },
  {
   "cell_type": "markdown",
   "metadata": {
    "id": "LbKQ02H1LsyK"
   },
   "source": [
    "① 그래프 : histogram, densityplot"
   ]
  },
  {
   "cell_type": "code",
   "execution_count": 62,
   "metadata": {
    "id": "drZtogsiLsyK"
   },
   "outputs": [
    {
     "data": {
      "image/png": "[encoded data removed]",
      "text/plain": [
       "<Figure size 432x288 with 1 Axes>"
      ]
     },
     "metadata": {
      "needs_background": "light"
     },
     "output_type": "display_data"
    }
   ],
   "source": [
    "# histogram 시각화 분석\n",
    "sns.histplot(x = feature, data = mobile, hue = target) # hue : target 별로 나눠서 그리기\n",
    "plt.show()"
   ]
  },
  {
   "cell_type": "code",
   "execution_count": 63,
   "metadata": {},
   "outputs": [
    {
     "data": {
      "image/png": "[encoded data removed]",
      "text/plain": [
       "<Figure size 432x288 with 1 Axes>"
      ]
     },
     "metadata": {
      "needs_background": "light"
     },
     "output_type": "display_data"
    }
   ],
   "source": [
    "# densityplot 시각화 분석 common_norm = False -> 두 그래프 각각 아래 면적의 합이 1 \n",
    "sns.kdeplot(x = feature, data = mobile, hue = target, common_norm = False)\n",
    "plt.show()"
   ]
  },
  {
   "cell_type": "markdown",
   "metadata": {
    "id": "54OoAr6HLsyK"
   },
   "source": [
    "시각화를 통해 파악한 내용을 적어 봅시다."
   ]
  },
  {
   "cell_type": "markdown",
   "metadata": {
    "id": "CkUinMKILsyL"
   },
   "source": [
    "> * 평균 통화시간이 고객 이탈여부에 약한 영향을 미칠 수 있음."
   ]
  },
  {
   "cell_type": "markdown",
   "metadata": {
    "id": "GFqQUDBpLsyL"
   },
   "source": [
    "② 수치화 : 로지스틱회귀"
   ]
  },
  {
   "cell_type": "code",
   "execution_count": 64,
   "metadata": {
    "id": "n14GnGGmLsyL"
   },
   "outputs": [
    {
     "name": "stdout",
     "output_type": "stream",
     "text": [
      "Optimization terminated successfully.\n",
      "         Current function value: 0.693027\n",
      "         Iterations 3\n",
      "AVERAGE_CALL_DURATION    0.03783\n",
      "dtype: float64\n"
     ]
    }
   ],
   "source": [
    "model = mobile.loc[mobile[feature].notnull()]\n",
    "# 로지스틱 모형을 만들고 통계량을 구해 봅시다.\n",
    "model = sm.Logit(model[target], model[feature])\n",
    "result = model.fit()\n",
    "print(result.pvalues)"
   ]
  },
  {
   "cell_type": "markdown",
   "metadata": {
    "id": "-Z-KF5qfLsyL"
   },
   "source": [
    "③ 시각화와 수치화를 통해 파악한 내용을 적어 봅시다."
   ]
  },
  {
   "cell_type": "markdown",
   "metadata": {
    "id": "v6dc_7p_LsyL"
   },
   "source": [
    "> * p-value가 유의수준 0.05보다 작으므로 대립가설을 지지한다."
   ]
  },
  {
   "cell_type": "markdown",
   "metadata": {
    "id": "Jd4WbbU-jqU3"
   },
   "source": [
    "## 4.관계 정리"
   ]
  },
  {
   "cell_type": "markdown",
   "metadata": {
    "id": "bKmN0rtAjto6"
   },
   "source": [
    "### 1) 강한관계의 변수"
   ]
  },
  {
   "cell_type": "markdown",
   "metadata": {
    "id": "lx6Np73PL0YS"
   },
   "source": [
    "> OVERAGE, LEFTOVER"
   ]
  },
  {
   "cell_type": "markdown",
   "metadata": {
    "id": "u8B765zNjwp5"
   },
   "source": [
    "### 2) 약한관계의 변수"
   ]
  },
  {
   "cell_type": "markdown",
   "metadata": {
    "id": "kg8-QylzL1kE"
   },
   "source": [
    "> AVERAGE_CALL_DURATION"
   ]
  },
  {
   "cell_type": "markdown",
   "metadata": {
    "id": "eYiQ9OUijwdq"
   },
   "source": [
    "### 3) 관계 없음"
   ]
  },
  {
   "cell_type": "markdown",
   "metadata": {
    "id": "K0o6lwH5L2Wj"
   },
   "source": [
    "> REPORTED_SATISFACTION, CONSIDERING_CHANGE_OF_PLAN"
   ]
  }
 ],
 "metadata": {
  "colab": {
   "collapsed_sections": [],
   "name": "과제2. Mobile 고객 이탈 분석.ipynb",
   "provenance": [],
   "toc_visible": true
  },
  "kernelspec": {
   "display_name": "Python 3",
   "language": "python",
   "name": "python3"
  },
  "language_info": {
   "codemirror_mode": {
    "name": "ipython",
    "version": 3
   },
   "file_extension": ".py",
   "mimetype": "text/x-python",
   "name": "python",
   "nbconvert_exporter": "python",
   "pygments_lexer": "ipython3",
   "version": "3.8.8"
  }
 },
 "nbformat": 4,
 "nbformat_minor": 1
}

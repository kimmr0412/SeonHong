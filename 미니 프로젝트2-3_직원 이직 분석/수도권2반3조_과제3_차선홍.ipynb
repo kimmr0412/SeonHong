{
 "cells": [
  {
   "cell_type": "markdown",
   "metadata": {
    "id": "mTt7qGUTCcFs"
   },
   "source": [
    "# 과제3. 직원 이직 분석"
   ]
  },
  {
   "cell_type": "markdown",
   "metadata": {
    "id": "wxRsRRwbEQ2K"
   },
   "source": [
    "* 여러분은 OO회사의 **데이터분석가** 입니다.\n",
    "* **인사팀**에서는 여러분에게 우리 회사 직원의 **이직(Attrition)에 영향을 주는 요인**을 분석해달라고 요청해 왔습니다."
   ]
  },
  {
   "cell_type": "markdown",
   "metadata": {
    "id": "0wuYJKZHjA3d"
   },
   "source": [
    "![](https://adoptostaging.blob.core.windows.net/media/employee-attrition-reasons-9LIqMv.jpg)"
   ]
  },
  {
   "cell_type": "markdown",
   "metadata": {
    "id": "AHmt88Q5EVsj"
   },
   "source": [
    "## 0.환경설정"
   ]
  },
  {
   "cell_type": "markdown",
   "metadata": {
    "id": "KnzVh2LmkLDU"
   },
   "source": [
    "### 1) 라이브러리 로딩"
   ]
  },
  {
   "cell_type": "code",
   "execution_count": 5,
   "metadata": {
    "colab": {
     "base_uri": "https://localhost:8080/"
    },
    "executionInfo": {
     "elapsed": 1814,
     "status": "ok",
     "timestamp": 1642116812855,
     "user": {
      "displayName": "한기영",
      "photoUrl": "https://lh3.googleusercontent.com/a/default-user=s64",
      "userId": "13049187003176135487"
     },
     "user_tz": -540
    },
    "id": "3rsQerEaELwI",
    "outputId": "311fa740-af96-4f17-df74-b950f836c97e"
   },
   "outputs": [],
   "source": [
    "import pandas as pd\n",
    "import numpy as np\n",
    "import matplotlib.pyplot as plt\n",
    "import seaborn as sns\n",
    "\n",
    "from statsmodels.graphics.mosaicplot import mosaic\n",
    "from scipy import stats as spst\n",
    "import statsmodels.api as sm"
   ]
  },
  {
   "cell_type": "markdown",
   "metadata": {
    "id": "5Qh5KYWokO_N"
   },
   "source": [
    "### 2) 데이터 로딩"
   ]
  },
  {
   "cell_type": "code",
   "execution_count": 6,
   "metadata": {
    "colab": {
     "base_uri": "https://localhost:8080/",
     "height": 427
    },
    "executionInfo": {
     "elapsed": 276,
     "status": "ok",
     "timestamp": 1642116994336,
     "user": {
      "displayName": "한기영",
      "photoUrl": "https://lh3.googleusercontent.com/a/default-user=s64",
      "userId": "13049187003176135487"
     },
     "user_tz": -540
    },
    "id": "Bw5yZwT0MJKx",
    "outputId": "197c4587-f9a3-419f-c89a-745ff72ab54a"
   },
   "outputs": [
    {
     "data": {
      "text/html": [
       "<div>\n",
       "<style scoped>\n",
       "    .dataframe tbody tr th:only-of-type {\n",
       "        vertical-align: middle;\n",
       "    }\n",
       "\n",
       "    .dataframe tbody tr th {\n",
       "        vertical-align: top;\n",
       "    }\n",
       "\n",
       "    .dataframe thead th {\n",
       "        text-align: right;\n",
       "    }\n",
       "</style>\n",
       "<table border=\"1\" class=\"dataframe\">\n",
       "  <thead>\n",
       "    <tr style=\"text-align: right;\">\n",
       "      <th></th>\n",
       "      <th>Attrition</th>\n",
       "      <th>Age</th>\n",
       "      <th>DistanceFromHome</th>\n",
       "      <th>Gender</th>\n",
       "      <th>JobSatisfaction</th>\n",
       "      <th>MaritalStatus</th>\n",
       "      <th>MonthlyIncome</th>\n",
       "      <th>NumCompaniesWorked</th>\n",
       "      <th>OverTime</th>\n",
       "      <th>PercentSalaryHike</th>\n",
       "      <th>RelationshipSatisfaction</th>\n",
       "      <th>TotalWorkingYears</th>\n",
       "      <th>WorkLifeBalance</th>\n",
       "    </tr>\n",
       "  </thead>\n",
       "  <tbody>\n",
       "    <tr>\n",
       "      <th>0</th>\n",
       "      <td>0</td>\n",
       "      <td>33</td>\n",
       "      <td>7.0</td>\n",
       "      <td>Male</td>\n",
       "      <td>3</td>\n",
       "      <td>Married</td>\n",
       "      <td>11691</td>\n",
       "      <td>0.0</td>\n",
       "      <td>No</td>\n",
       "      <td>11</td>\n",
       "      <td>4</td>\n",
       "      <td>14</td>\n",
       "      <td>4</td>\n",
       "    </tr>\n",
       "    <tr>\n",
       "      <th>1</th>\n",
       "      <td>0</td>\n",
       "      <td>35</td>\n",
       "      <td>18.0</td>\n",
       "      <td>Male</td>\n",
       "      <td>4</td>\n",
       "      <td>Single</td>\n",
       "      <td>9362</td>\n",
       "      <td>2.0</td>\n",
       "      <td>No</td>\n",
       "      <td>11</td>\n",
       "      <td>3</td>\n",
       "      <td>10</td>\n",
       "      <td>3</td>\n",
       "    </tr>\n",
       "    <tr>\n",
       "      <th>2</th>\n",
       "      <td>0</td>\n",
       "      <td>42</td>\n",
       "      <td>6.0</td>\n",
       "      <td>Male</td>\n",
       "      <td>1</td>\n",
       "      <td>Married</td>\n",
       "      <td>13348</td>\n",
       "      <td>9.0</td>\n",
       "      <td>No</td>\n",
       "      <td>13</td>\n",
       "      <td>2</td>\n",
       "      <td>18</td>\n",
       "      <td>4</td>\n",
       "    </tr>\n",
       "    <tr>\n",
       "      <th>3</th>\n",
       "      <td>0</td>\n",
       "      <td>46</td>\n",
       "      <td>2.0</td>\n",
       "      <td>Female</td>\n",
       "      <td>1</td>\n",
       "      <td>Married</td>\n",
       "      <td>17048</td>\n",
       "      <td>8.0</td>\n",
       "      <td>No</td>\n",
       "      <td>23</td>\n",
       "      <td>1</td>\n",
       "      <td>28</td>\n",
       "      <td>3</td>\n",
       "    </tr>\n",
       "    <tr>\n",
       "      <th>4</th>\n",
       "      <td>0</td>\n",
       "      <td>39</td>\n",
       "      <td>NaN</td>\n",
       "      <td>Male</td>\n",
       "      <td>4</td>\n",
       "      <td>Divorced</td>\n",
       "      <td>4127</td>\n",
       "      <td>2.0</td>\n",
       "      <td>No</td>\n",
       "      <td>18</td>\n",
       "      <td>4</td>\n",
       "      <td>7</td>\n",
       "      <td>3</td>\n",
       "    </tr>\n",
       "    <tr>\n",
       "      <th>5</th>\n",
       "      <td>1</td>\n",
       "      <td>22</td>\n",
       "      <td>4.0</td>\n",
       "      <td>Male</td>\n",
       "      <td>3</td>\n",
       "      <td>Single</td>\n",
       "      <td>3894</td>\n",
       "      <td>5.0</td>\n",
       "      <td>No</td>\n",
       "      <td>16</td>\n",
       "      <td>3</td>\n",
       "      <td>4</td>\n",
       "      <td>3</td>\n",
       "    </tr>\n",
       "    <tr>\n",
       "      <th>6</th>\n",
       "      <td>0</td>\n",
       "      <td>24</td>\n",
       "      <td>21.0</td>\n",
       "      <td>Male</td>\n",
       "      <td>1</td>\n",
       "      <td>Divorced</td>\n",
       "      <td>2296</td>\n",
       "      <td>0.0</td>\n",
       "      <td>No</td>\n",
       "      <td>14</td>\n",
       "      <td>2</td>\n",
       "      <td>2</td>\n",
       "      <td>3</td>\n",
       "    </tr>\n",
       "    <tr>\n",
       "      <th>7</th>\n",
       "      <td>0</td>\n",
       "      <td>34</td>\n",
       "      <td>8.0</td>\n",
       "      <td>Male</td>\n",
       "      <td>3</td>\n",
       "      <td>Married</td>\n",
       "      <td>4404</td>\n",
       "      <td>2.0</td>\n",
       "      <td>No</td>\n",
       "      <td>12</td>\n",
       "      <td>1</td>\n",
       "      <td>6</td>\n",
       "      <td>4</td>\n",
       "    </tr>\n",
       "    <tr>\n",
       "      <th>8</th>\n",
       "      <td>0</td>\n",
       "      <td>30</td>\n",
       "      <td>20.0</td>\n",
       "      <td>Male</td>\n",
       "      <td>1</td>\n",
       "      <td>Married</td>\n",
       "      <td>9957</td>\n",
       "      <td>0.0</td>\n",
       "      <td>No</td>\n",
       "      <td>15</td>\n",
       "      <td>3</td>\n",
       "      <td>7</td>\n",
       "      <td>2</td>\n",
       "    </tr>\n",
       "    <tr>\n",
       "      <th>9</th>\n",
       "      <td>0</td>\n",
       "      <td>26</td>\n",
       "      <td>6.0</td>\n",
       "      <td>Female</td>\n",
       "      <td>4</td>\n",
       "      <td>Married</td>\n",
       "      <td>2659</td>\n",
       "      <td>1.0</td>\n",
       "      <td>Yes</td>\n",
       "      <td>13</td>\n",
       "      <td>3</td>\n",
       "      <td>3</td>\n",
       "      <td>3</td>\n",
       "    </tr>\n",
       "  </tbody>\n",
       "</table>\n",
       "</div>"
      ],
      "text/plain": [
       "   Attrition  Age  DistanceFromHome  Gender  JobSatisfaction MaritalStatus  \\\n",
       "0          0   33               7.0    Male                3       Married   \n",
       "1          0   35              18.0    Male                4        Single   \n",
       "2          0   42               6.0    Male                1       Married   \n",
       "3          0   46               2.0  Female                1       Married   \n",
       "4          0   39               NaN    Male                4      Divorced   \n",
       "5          1   22               4.0    Male                3        Single   \n",
       "6          0   24              21.0    Male                1      Divorced   \n",
       "7          0   34               8.0    Male                3       Married   \n",
       "8          0   30              20.0    Male                1       Married   \n",
       "9          0   26               6.0  Female                4       Married   \n",
       "\n",
       "   MonthlyIncome  NumCompaniesWorked OverTime  PercentSalaryHike  \\\n",
       "0          11691                 0.0       No                 11   \n",
       "1           9362                 2.0       No                 11   \n",
       "2          13348                 9.0       No                 13   \n",
       "3          17048                 8.0       No                 23   \n",
       "4           4127                 2.0       No                 18   \n",
       "5           3894                 5.0       No                 16   \n",
       "6           2296                 0.0       No                 14   \n",
       "7           4404                 2.0       No                 12   \n",
       "8           9957                 0.0       No                 15   \n",
       "9           2659                 1.0      Yes                 13   \n",
       "\n",
       "   RelationshipSatisfaction  TotalWorkingYears  WorkLifeBalance  \n",
       "0                         4                 14                4  \n",
       "1                         3                 10                3  \n",
       "2                         2                 18                4  \n",
       "3                         1                 28                3  \n",
       "4                         4                  7                3  \n",
       "5                         3                  4                3  \n",
       "6                         2                  2                3  \n",
       "7                         1                  6                4  \n",
       "8                         3                  7                2  \n",
       "9                         3                  3                3  "
      ]
     },
     "execution_count": 6,
     "metadata": {},
     "output_type": "execute_result"
    }
   ],
   "source": [
    "# data data\n",
    "path = \"https://raw.githubusercontent.com/DA4BAM/dataset/master/Attrition_NA.CSV\"\n",
    "data = pd.read_csv(path)\n",
    "data.drop(['EducationField', 'Education','JobInvolvement', 'StockOptionLevel', 'BusinessTravel','YearsWithCurrManager'\n",
    ",'YearsInCurrentRole','JobRole', 'Department','EmployeeNumber','EnvironmentSatisfaction','TrainingTimesLastYear','YearsAtCompany']\n",
    "          , axis = 1, inplace = True)\n",
    "data['Attrition'] = np.where(data['Attrition']=='Yes', 1, 0)\n",
    "data.head(10)"
   ]
  },
  {
   "cell_type": "markdown",
   "metadata": {
    "id": "v50TP8BhMJKx"
   },
   "source": [
    "|\t구분\t|\t변수 명\t|\t내용\t|\ttype\t|\t비고\t|\n",
    "|\t----\t|\t----\t|\t----\t|\t----\t|\t----\t|\n",
    "|\t**Target**\t|\t**Attrition**\t|\t이직여부, Yes , No\t|\t범주\t| 1- 이직, 0- 잔류\t\t|\n",
    "|\tfeature\t|\tAge\t|\t나이\t|\t숫자\t|\t\t|\n",
    "|\tfeature\t|\tDistanceFromHome\t|\t집-직장 거리\t|\t숫자\t|\t마일\t|\n",
    "|\tfeature\t|\tGender\t|\t성별\t|\t범주\t| Male, Female\t\t|\n",
    "|\tfeature\t|\tJobSatisfaction\t|\t직무 만족도\t|\t범주\t|\t1 Low, 2 Medium, 3 High, 4 Very High\t|\n",
    "|\tfeature\t|\tMaritalStatus\t|\t결혼상태\t|\t범주\t| Single, Married, Divorced\t\t|\n",
    "|\tfeature\t|\tMonthlyIncome\t|\t월급\t|\t숫자\t| 달러\t|\n",
    "|\tfeature\t|\tNumCompaniesWorked\t|\t입사 전 근무한 회사 수\t|\t숫자\t|\t0 - 우리회사가 첫 직장\t|\n",
    "|\tfeature\t|\tRelationshipSatisfaction\t|\t동료와의 관계\t|\t범주\t| 1 Low, 2 Medium, 3 High, 4 Very High\t\t|\n",
    "|\tfeature\t|\tOverTime\t|\t야근여부\t|\t범주\t|\tYes, No\t|\n",
    "|\tfeature\t|\tPercentSalaryHike\t|\t전년대비 급여인상율\t|\t숫자\t|\t%\t|\n",
    "|\tfeature\t|\tTotalWorkingYears\t|\t총 경력 연수\t|\t숫자\t|\t\t|\n",
    "|\tfeature\t|\tWorkLifeBalance\t|\t워라밸. 일-삶 균형도\t|\t범주\t|\t1 Bad, 2 Good, 3 Better, 4 Best\t|"
   ]
  },
  {
   "cell_type": "markdown",
   "metadata": {},
   "source": [
    "* 분석 단위 : 직원 한사람, 한사람...\n",
    "* 설명에서 언급되어지지 않은 사항은 직접 고민하며 스스로 정해서 진행하시면 됩니다.^^\n",
    "* 자\\~! 이제 시작해 봅시다\\~!"
   ]
  },
  {
   "cell_type": "markdown",
   "metadata": {
    "id": "bKimk8qVm8oC"
   },
   "source": [
    "----"
   ]
  },
  {
   "cell_type": "markdown",
   "metadata": {
    "id": "0bouXLxGkSSd"
   },
   "source": [
    "## 1.가설수립"
   ]
  },
  {
   "cell_type": "markdown",
   "metadata": {
    "id": "nb3mes75kUSt"
   },
   "source": [
    "* 여기서는 가설을 간략히 수립합니다.\n",
    "    * 숫자형, 범주형 각각 최소 3개 이상씩, 전체 6개 이상의 변수를 도출, 가설을 수립하시오."
   ]
  },
  {
   "cell_type": "markdown",
   "metadata": {
    "id": "HoZUdXCRkjK9"
   },
   "source": [
    "* 가설1 : 집과 직장의 거리가 멀수록 직원들의 이직이 더 많이 일어날 것이다."
   ]
  },
  {
   "cell_type": "markdown",
   "metadata": {
    "id": "l9X_boJ8kjEt"
   },
   "source": [
    "* 가설2 : 입사 전 근무한 회사 수가 많은 직원들은 그렇지 않은 직원들의 비해 이직이 더 많이 일어날 것이다."
   ]
  },
  {
   "cell_type": "markdown",
   "metadata": {
    "id": "3_gTMgCWki91"
   },
   "source": [
    "* 가설3 : 총 경력 연수가 적은 직원일수록 이직이 더 많이 일어날 것이다."
   ]
  },
  {
   "cell_type": "markdown",
   "metadata": {
    "id": "rSrSFnsVki2d"
   },
   "source": [
    "* 가설4 : 직무 만족도를 낮게 평가한 직원일수록 이직할 확률이 높다."
   ]
  },
  {
   "cell_type": "markdown",
   "metadata": {
    "id": "2lueFYjWktYt"
   },
   "source": [
    "* 가설5 : 동료와의 관계를 부정적으로 평가한 직원일수록 이직할 확률이 높다."
   ]
  },
  {
   "cell_type": "markdown",
   "metadata": {
    "id": "U1RiPfhgYCr_"
   },
   "source": [
    "* 가설6 : 야근을 하는 직원이 그렇지 않은 직원들의 비해 이직이 더 많이 일어날 것이다."
   ]
  },
  {
   "cell_type": "markdown",
   "metadata": {
    "id": "82xzJIZhnAaX"
   },
   "source": [
    "----"
   ]
  },
  {
   "cell_type": "markdown",
   "metadata": {
    "id": "1hYPpnplEedX"
   },
   "source": [
    "## 2.단변량 분석\n",
    "\n",
    "① 변수의 비즈니스 의미  \n",
    "\n",
    "② 숫자? 범주?  \n",
    "\n",
    "③ NaN 존재 여부 및 조치 방안  \n",
    "\n",
    "④ 기초통계량  \n",
    "\n",
    "⑤ 분포  \n",
    "\n",
    "⑥ 위 정보로부터 파악한 내용(비즈니스!) 정리  \n",
    "\n",
    "⑦ 추가 분석해볼 사항 도출"
   ]
  },
  {
   "cell_type": "markdown",
   "metadata": {
    "id": "BP8iBi7We3AI"
   },
   "source": [
    "### 1) target"
   ]
  },
  {
   "cell_type": "code",
   "execution_count": 7,
   "metadata": {
    "id": "9eV5dkLkMm78"
   },
   "outputs": [],
   "source": [
    "target = 'Attrition'"
   ]
  },
  {
   "cell_type": "markdown",
   "metadata": {
    "id": "Lysg2B-nMm3o"
   },
   "source": [
    "① 변수의 비즈니스 의미  \n",
    "* 이직 여부 Yes / No => 1 - 이직 / 0 - 잔류"
   ]
  },
  {
   "cell_type": "markdown",
   "metadata": {
    "id": "fobisq_wMmzL"
   },
   "source": [
    "② 숫자, 범주?  \n",
    "* 범주 데이터"
   ]
  },
  {
   "cell_type": "markdown",
   "metadata": {
    "id": "42ZDPDmKMmu8"
   },
   "source": [
    "③ NaN 존재 유무"
   ]
  },
  {
   "cell_type": "code",
   "execution_count": 8,
   "metadata": {
    "id": "1b7NizWlMmqk"
   },
   "outputs": [
    {
     "data": {
      "text/plain": [
       "0"
      ]
     },
     "execution_count": 8,
     "metadata": {},
     "output_type": "execute_result"
    }
   ],
   "source": [
    "data[target].isna().sum()"
   ]
  },
  {
   "cell_type": "markdown",
   "metadata": {},
   "source": [
    "④ 기초통계량(수치화)"
   ]
  },
  {
   "cell_type": "code",
   "execution_count": 9,
   "metadata": {
    "scrolled": true
   },
   "outputs": [
    {
     "name": "stdout",
     "output_type": "stream",
     "text": [
      "0    1050\n",
      "1     200\n",
      "Name: Attrition, dtype: int64\n",
      "0    0.84\n",
      "1    0.16\n",
      "Name: Attrition, dtype: float64\n"
     ]
    }
   ],
   "source": [
    "print(data[target].value_counts())\n",
    "print(data[target].value_counts()/ len(data[target]))"
   ]
  },
  {
   "cell_type": "markdown",
   "metadata": {},
   "source": [
    "⑤ 분포 확인(시각화)"
   ]
  },
  {
   "cell_type": "code",
   "execution_count": 10,
   "metadata": {
    "scrolled": false
   },
   "outputs": [
    {
     "name": "stderr",
     "output_type": "stream",
     "text": [
      "C:\\Users\\User\\anaconda3\\lib\\site-packages\\seaborn\\_decorators.py:36: FutureWarning: Pass the following variable as a keyword arg: x. From version 0.12, the only valid positional argument will be `data`, and passing other arguments without an explicit keyword will result in an error or misinterpretation.\n",
      "  warnings.warn(\n"
     ]
    },
    {
     "data": {
      "image/png": "[encoded data removed]",
      "text/plain": [
       "<Figure size 432x288 with 1 Axes>"
      ]
     },
     "metadata": {
      "needs_background": "light"
     },
     "output_type": "display_data"
    }
   ],
   "source": [
    "cnt = data[target].value_counts()\n",
    "sns.countplot(data[target]) #plt의 barplot 사용해서\n",
    "plt.text(-0.1, cnt.values[0]+5, cnt.values[0])\n",
    "plt.text(0.9, cnt.values[1]+5, cnt.values[1])\n",
    "\n",
    "plt.show()"
   ]
  },
  {
   "cell_type": "code",
   "execution_count": 11,
   "metadata": {},
   "outputs": [
    {
     "data": {
      "image/png": "[encoded data removed]",
      "text/plain": [
       "<Figure size 432x288 with 1 Axes>"
      ]
     },
     "metadata": {},
     "output_type": "display_data"
    }
   ],
   "source": [
    "cnt = data[target].value_counts()\n",
    "\n",
    "plt.pie(cnt.values, labels = cnt.index, autopct = '%.2f%%', startangle=90, counterclock=False,\n",
    "explode = [0.05, 0.05], shadow=True)\n",
    "plt.show()"
   ]
  },
  {
   "cell_type": "markdown",
   "metadata": {},
   "source": [
    "- 총 1250명 중 이직하지 않은 직원 1050명 이직한 직원 200명"
   ]
  },
  {
   "cell_type": "markdown",
   "metadata": {
    "id": "TLlMg3cNMoRg"
   },
   "source": [
    "### 2) feature1"
   ]
  },
  {
   "cell_type": "code",
   "execution_count": 12,
   "metadata": {
    "id": "fkRE6s1WMoRh"
   },
   "outputs": [],
   "source": [
    "feature = 'DistanceFromHome'"
   ]
  },
  {
   "cell_type": "markdown",
   "metadata": {
    "id": "BlknRQSKMoRi"
   },
   "source": [
    "① 변수의 비즈니스 의미\n",
    "* 집-직장 거리 (단위 : 마일)"
   ]
  },
  {
   "cell_type": "markdown",
   "metadata": {
    "id": "lNQhfu9uMoRi"
   },
   "source": [
    "② 숫자, 범주?\n",
    "* 숫자 데이터"
   ]
  },
  {
   "cell_type": "markdown",
   "metadata": {
    "id": "yQih09bhMoRj"
   },
   "source": [
    "③ NaN 존재 유무"
   ]
  },
  {
   "cell_type": "code",
   "execution_count": 13,
   "metadata": {},
   "outputs": [
    {
     "data": {
      "text/plain": [
       "54"
      ]
     },
     "execution_count": 13,
     "metadata": {},
     "output_type": "execute_result"
    }
   ],
   "source": [
    "data[feature].isna().sum()"
   ]
  },
  {
   "cell_type": "markdown",
   "metadata": {},
   "source": [
    "> * NaN 4.3% 존재"
   ]
  },
  {
   "cell_type": "markdown",
   "metadata": {
    "id": "zcV7pMeiMoRj"
   },
   "source": [
    "④ 기초통계량(수치화)"
   ]
  },
  {
   "cell_type": "code",
   "execution_count": 14,
   "metadata": {
    "scrolled": true
   },
   "outputs": [
    {
     "data": {
      "text/plain": [
       "count    1196.000000\n",
       "mean        9.258361\n",
       "std         8.166016\n",
       "min         1.000000\n",
       "25%         2.000000\n",
       "50%         7.000000\n",
       "75%        14.000000\n",
       "max        29.000000\n",
       "Name: DistanceFromHome, dtype: float64"
      ]
     },
     "execution_count": 14,
     "metadata": {},
     "output_type": "execute_result"
    }
   ],
   "source": [
    "data[feature].describe()"
   ]
  },
  {
   "cell_type": "markdown",
   "metadata": {},
   "source": [
    "⑤ NaN 처리  \n",
    "* 결정 : 평균값 처리  \n",
    "* 이유 : 행 제거를 하기에는 1250명의 데이터 중 5%에 가까운 54명의 데이터는 분석하는데 유의미한 결과를 일으킬 수 있다.  \n",
    "* 대책 : 결측치를 제출한 직원들 중 현재 회사에 근무하고 있는 직원들은 다시 조사를 하고 이직한 직원들은 평균값을 기입한다."
   ]
  },
  {
   "cell_type": "markdown",
   "metadata": {},
   "source": [
    "⑥ 분포 확인(시각화)"
   ]
  },
  {
   "cell_type": "code",
   "execution_count": 15,
   "metadata": {},
   "outputs": [
    {
     "name": "stderr",
     "output_type": "stream",
     "text": [
      "C:\\Users\\User\\anaconda3\\lib\\site-packages\\seaborn\\distributions.py:2557: FutureWarning: `distplot` is a deprecated function and will be removed in a future version. Please adapt your code to use either `displot` (a figure-level function with similar flexibility) or `histplot` (an axes-level function for histograms).\n",
      "  warnings.warn(msg, FutureWarning)\n"
     ]
    },
    {
     "data": {
      "text/plain": [
       "<AxesSubplot:xlabel='DistanceFromHome', ylabel='Density'>"
      ]
     },
     "execution_count": 15,
     "metadata": {},
     "output_type": "execute_result"
    },
    {
     "data": {
      "image/png": "[encoded data removed]",
      "text/plain": [
       "<Figure size 432x288 with 1 Axes>"
      ]
     },
     "metadata": {
      "needs_background": "light"
     },
     "output_type": "display_data"
    }
   ],
   "source": [
    "sns.distplot(data[feature], bins = 30, hist_kws = dict(edgecolor = 'grey'))"
   ]
  },
  {
   "cell_type": "code",
   "execution_count": 16,
   "metadata": {
    "scrolled": true
   },
   "outputs": [
    {
     "data": {
      "image/png": "[encoded data removed]",
      "text/plain": [
       "<Figure size 432x288 with 1 Axes>"
      ]
     },
     "metadata": {
      "needs_background": "light"
     },
     "output_type": "display_data"
    }
   ],
   "source": [
    "sns.histplot(data[feature], bins = 30, color = '#17becf')\n",
    "plt.show()"
   ]
  },
  {
   "cell_type": "code",
   "execution_count": 17,
   "metadata": {
    "scrolled": true
   },
   "outputs": [
    {
     "data": {
      "image/png": "[encoded data removed]",
      "text/plain": [
       "<Figure size 432x288 with 1 Axes>"
      ]
     },
     "metadata": {
      "needs_background": "light"
     },
     "output_type": "display_data"
    }
   ],
   "source": [
    "pd.Series(feature)\n",
    "data[feature].plot(kind = 'kde') \n",
    "plt.xlabel('DistanceFromHome')\n",
    "plt.show()"
   ]
  },
  {
   "cell_type": "markdown",
   "metadata": {},
   "source": [
    "⑦ 기초통계량과 분포를 통해서 파악한 내용을 적어 봅시다.\n",
    "\n",
    "보이는 그대로를 넘어, 비즈니스 관점에서 고민하며 적어 봅시다."
   ]
  },
  {
   "cell_type": "markdown",
   "metadata": {},
   "source": [
    "> * 직원들의 75%가 14마일 이내에 거주하고 있다.\n",
    "> * 가장 먼 지역에 거주하는 직원의 직장과 집의 거리는 29마일이다.\n",
    "> * 직장과의 거리가 먼 25%의 직원들의 이직여부와 그렇지 않은 직원들의 이직여부를 비교해 볼 필요가 있다."
   ]
  },
  {
   "cell_type": "markdown",
   "metadata": {
    "id": "nJmYs7WgMzti"
   },
   "source": [
    "### 3) feature2"
   ]
  },
  {
   "cell_type": "code",
   "execution_count": 18,
   "metadata": {
    "id": "5g4kd3rGMzti"
   },
   "outputs": [],
   "source": [
    "feature = 'NumCompaniesWorked'"
   ]
  },
  {
   "cell_type": "markdown",
   "metadata": {
    "id": "nrGVu8e1Mzti"
   },
   "source": [
    "① 변수의 비즈니스 의미  \n",
    "* 입사 전 근무한 회사 수"
   ]
  },
  {
   "cell_type": "markdown",
   "metadata": {
    "id": "1RFdrKBXMzti"
   },
   "source": [
    "② 숫자, 범주?  \n",
    "* 숫자 데이터"
   ]
  },
  {
   "cell_type": "markdown",
   "metadata": {
    "id": "KOaH7I74Mztj"
   },
   "source": [
    "③ NaN 존재 유무"
   ]
  },
  {
   "cell_type": "code",
   "execution_count": 19,
   "metadata": {
    "id": "KnqktAYhMztj"
   },
   "outputs": [
    {
     "data": {
      "text/plain": [
       "21"
      ]
     },
     "execution_count": 19,
     "metadata": {},
     "output_type": "execute_result"
    }
   ],
   "source": [
    "data[feature].isna().sum()"
   ]
  },
  {
   "cell_type": "markdown",
   "metadata": {},
   "source": [
    "④ 기초통계량(수치화)"
   ]
  },
  {
   "cell_type": "code",
   "execution_count": 20,
   "metadata": {},
   "outputs": [
    {
     "data": {
      "text/plain": [
       "count    1229.000000\n",
       "mean        2.678600\n",
       "std         2.473647\n",
       "min         0.000000\n",
       "25%         1.000000\n",
       "50%         2.000000\n",
       "75%         4.000000\n",
       "max         9.000000\n",
       "Name: NumCompaniesWorked, dtype: float64"
      ]
     },
     "execution_count": 20,
     "metadata": {},
     "output_type": "execute_result"
    }
   ],
   "source": [
    "data[feature].describe()"
   ]
  },
  {
   "cell_type": "markdown",
   "metadata": {},
   "source": [
    "⑤ NaN 처리  \n",
    "*  결정 : 행 제거\n",
    "*  이유 : 입사 전 근무한 회사 수는 최대값과 최소값의 차이가 크지 않고 연속적인 값이 아닌 정수의 형식으로 평균값으로 처리하기에는 오류를 크게 범할 수 있다. \n",
    "*  대책 : 결측치를 제출한 직원들 중 현재 회사에 근무하고 있는 직원들은 다시 조사를 하고 이직한 직원들의 행은 제거한다."
   ]
  },
  {
   "cell_type": "markdown",
   "metadata": {},
   "source": [
    "⑥ 분포 확인(시각화)"
   ]
  },
  {
   "cell_type": "code",
   "execution_count": 21,
   "metadata": {},
   "outputs": [
    {
     "name": "stderr",
     "output_type": "stream",
     "text": [
      "C:\\Users\\User\\anaconda3\\lib\\site-packages\\seaborn\\distributions.py:2557: FutureWarning: `distplot` is a deprecated function and will be removed in a future version. Please adapt your code to use either `displot` (a figure-level function with similar flexibility) or `histplot` (an axes-level function for histograms).\n",
      "  warnings.warn(msg, FutureWarning)\n"
     ]
    },
    {
     "data": {
      "text/plain": [
       "<AxesSubplot:xlabel='NumCompaniesWorked', ylabel='Density'>"
      ]
     },
     "execution_count": 21,
     "metadata": {},
     "output_type": "execute_result"
    },
    {
     "data": {
      "image/png": "[encoded data removed]",
      "text/plain": [
       "<Figure size 432x288 with 1 Axes>"
      ]
     },
     "metadata": {
      "needs_background": "light"
     },
     "output_type": "display_data"
    }
   ],
   "source": [
    "sns.distplot(data[feature], bins = 10, hist_kws = dict(edgecolor = 'grey'))"
   ]
  },
  {
   "cell_type": "code",
   "execution_count": 22,
   "metadata": {},
   "outputs": [
    {
     "data": {
      "image/png": "[encoded data removed]",
      "text/plain": [
       "<Figure size 432x288 with 1 Axes>"
      ]
     },
     "metadata": {
      "needs_background": "light"
     },
     "output_type": "display_data"
    }
   ],
   "source": [
    "sns.histplot(data[feature], bins = 10, color = '#17becf')\n",
    "plt.show()"
   ]
  },
  {
   "cell_type": "code",
   "execution_count": 23,
   "metadata": {
    "scrolled": true
   },
   "outputs": [
    {
     "data": {
      "image/png": "[encoded data removed]",
      "text/plain": [
       "<Figure size 432x288 with 1 Axes>"
      ]
     },
     "metadata": {
      "needs_background": "light"
     },
     "output_type": "display_data"
    }
   ],
   "source": [
    "pd.Series(feature)\n",
    "data[feature].plot(kind = 'kde') \n",
    "plt.xlabel('NumCompaniesWorked')\n",
    "plt.show()"
   ]
  },
  {
   "cell_type": "markdown",
   "metadata": {},
   "source": [
    "⑦ 기초통계량과 분포를 통해서 파악한 내용을 적어 봅시다.\n",
    "\n",
    "보이는 그대로를 넘어, 비즈니스 관점에서 고민하며 적어 봅시다."
   ]
  },
  {
   "cell_type": "markdown",
   "metadata": {},
   "source": [
    "> * 최대값은 9이고 최소값은 0이다.\n",
    "> * 이직 회수가 많은 직원일 수록 회사를 자주 옮긴다는 것으로 간주하고 이직 회수가 많은 직원들의 현재 이직여부를 검토해볼 필요가 있다."
   ]
  },
  {
   "cell_type": "markdown",
   "metadata": {},
   "source": [
    "⑧ 추가 분석해 볼 사항이 있나요?\n",
    "> * 이직 회수가 적은 직원일 수록 자신에게 맞는 회사를 찾기 위해 이직할 확률도 크다고 생각되기 때문에 이직 회수가 적은 직원들의 현재 이직 여부 또한 검토해볼 필요가 있다."
   ]
  },
  {
   "cell_type": "markdown",
   "metadata": {
    "id": "0q616kYrM0VR"
   },
   "source": [
    "### 4) feature3"
   ]
  },
  {
   "cell_type": "code",
   "execution_count": 24,
   "metadata": {
    "id": "UCxGiRZbM0VS"
   },
   "outputs": [],
   "source": [
    "feature = 'TotalWorkingYears'"
   ]
  },
  {
   "cell_type": "markdown",
   "metadata": {
    "id": "TDUbDHJYM0VS"
   },
   "source": [
    "① 변수의 비즈니스 의미\n",
    "\n",
    "* 총 경력 연수"
   ]
  },
  {
   "cell_type": "markdown",
   "metadata": {
    "id": "zQuK2ak-M0VS"
   },
   "source": [
    "② 숫자, 범주?\n",
    "\n",
    "* 숫자 데이터"
   ]
  },
  {
   "cell_type": "markdown",
   "metadata": {
    "id": "aMAsp214M0VS"
   },
   "source": [
    "③ NaN 존재 유무"
   ]
  },
  {
   "cell_type": "code",
   "execution_count": 25,
   "metadata": {
    "id": "AHnxbvUVM0VS"
   },
   "outputs": [
    {
     "data": {
      "text/plain": [
       "0"
      ]
     },
     "execution_count": 25,
     "metadata": {},
     "output_type": "execute_result"
    }
   ],
   "source": [
    "data[feature].isna().sum()"
   ]
  },
  {
   "cell_type": "markdown",
   "metadata": {},
   "source": [
    "④ 기초통계량(수치화)"
   ]
  },
  {
   "cell_type": "code",
   "execution_count": 26,
   "metadata": {},
   "outputs": [
    {
     "data": {
      "text/plain": [
       "count    1250.00000\n",
       "mean       11.33920\n",
       "std         7.79687\n",
       "min         0.00000\n",
       "25%         6.00000\n",
       "50%        10.00000\n",
       "75%        15.00000\n",
       "max        40.00000\n",
       "Name: TotalWorkingYears, dtype: float64"
      ]
     },
     "execution_count": 26,
     "metadata": {},
     "output_type": "execute_result"
    }
   ],
   "source": [
    "data[feature].describe()"
   ]
  },
  {
   "cell_type": "markdown",
   "metadata": {},
   "source": [
    "⑤ 분포 확인(시각화)"
   ]
  },
  {
   "cell_type": "code",
   "execution_count": 27,
   "metadata": {},
   "outputs": [
    {
     "name": "stderr",
     "output_type": "stream",
     "text": [
      "C:\\Users\\User\\anaconda3\\lib\\site-packages\\seaborn\\distributions.py:2557: FutureWarning: `distplot` is a deprecated function and will be removed in a future version. Please adapt your code to use either `displot` (a figure-level function with similar flexibility) or `histplot` (an axes-level function for histograms).\n",
      "  warnings.warn(msg, FutureWarning)\n"
     ]
    },
    {
     "data": {
      "text/plain": [
       "<AxesSubplot:xlabel='TotalWorkingYears', ylabel='Density'>"
      ]
     },
     "execution_count": 27,
     "metadata": {},
     "output_type": "execute_result"
    },
    {
     "data": {
      "image/png": "[encoded data removed]",
      "text/plain": [
       "<Figure size 432x288 with 1 Axes>"
      ]
     },
     "metadata": {
      "needs_background": "light"
     },
     "output_type": "display_data"
    }
   ],
   "source": [
    "sns.distplot(data[feature], bins = 10, hist_kws = dict(edgecolor = 'grey'))"
   ]
  },
  {
   "cell_type": "code",
   "execution_count": 28,
   "metadata": {
    "scrolled": false
   },
   "outputs": [
    {
     "data": {
      "image/png": "[encoded data removed]",
      "text/plain": [
       "<Figure size 432x288 with 1 Axes>"
      ]
     },
     "metadata": {
      "needs_background": "light"
     },
     "output_type": "display_data"
    },
    {
     "name": "stdout",
     "output_type": "stream",
     "text": [
      "[6. 0.]\n",
      "[15. 28.]\n"
     ]
    }
   ],
   "source": [
    "box = plt.boxplot(data[feature], vert = False)\n",
    "plt.xlabel('TotalWorkingYears')\n",
    "plt.show()\n",
    "\n",
    "print(box['whiskers'][0].get_xdata())\n",
    "\n",
    "print(box['whiskers'][1].get_xdata())"
   ]
  },
  {
   "cell_type": "code",
   "execution_count": 29,
   "metadata": {
    "scrolled": true
   },
   "outputs": [
    {
     "data": {
      "image/png": "[encoded data removed]",
      "text/plain": [
       "<Figure size 432x288 with 1 Axes>"
      ]
     },
     "metadata": {
      "needs_background": "light"
     },
     "output_type": "display_data"
    }
   ],
   "source": [
    "sns.histplot(data[feature], bins = 10, color = '#17becf')\n",
    "\n",
    "plt.axvline(data[feature].mean(), color='r')\n",
    "plt.axvline(box['whiskers'][0].get_ydata()[0], color='black')\n",
    "plt.axvline(box['whiskers'][1].get_ydata()[0], color='black')\n",
    "plt.show()"
   ]
  },
  {
   "cell_type": "code",
   "execution_count": 30,
   "metadata": {
    "scrolled": true
   },
   "outputs": [
    {
     "data": {
      "image/png": "[encoded data removed]",
      "text/plain": [
       "<Figure size 432x288 with 1 Axes>"
      ]
     },
     "metadata": {
      "needs_background": "light"
     },
     "output_type": "display_data"
    }
   ],
   "source": [
    "pd.Series(feature)\n",
    "data[feature].plot(kind = 'kde')\n",
    "plt.xlabel('TotalWorkingYears')\n",
    "plt.axvline(data[feature].mean(), color='r')\n",
    "plt.axvline(box['whiskers'][0].get_ydata()[0], color='black')\n",
    "plt.axvline(box['whiskers'][1].get_ydata()[0], color='black')\n",
    "plt.show()"
   ]
  },
  {
   "cell_type": "markdown",
   "metadata": {},
   "source": [
    "⑥ 기초통계량과 분포를 통해서 파악한 내용을 적어 봅시다.\n",
    "\n",
    "보이는 그대로를 넘어, 비즈니스 관점에서 고민하며 적어 봅시다."
   ]
  },
  {
   "cell_type": "markdown",
   "metadata": {},
   "source": [
    "> * 총 경력 연수가 28년 이상에서 이상치가 발생하여 이상치에 대한 대책이 필요하다.\n",
    "> * 총 경력 연수의 최대값은 40년이고 최소값은 0년이다.\n",
    "> * 총 경력 연수가 높은 직원들은 회사의 문화, 환경 등에 잘 적응하여 이직할 확률을 낮을 것이라고 예상한다."
   ]
  },
  {
   "cell_type": "markdown",
   "metadata": {
    "id": "53vrba7gM04Z"
   },
   "source": [
    "### 5) feature4"
   ]
  },
  {
   "cell_type": "code",
   "execution_count": 31,
   "metadata": {
    "id": "Oq2lskkZM04Z"
   },
   "outputs": [],
   "source": [
    "feature = 'JobSatisfaction'"
   ]
  },
  {
   "cell_type": "markdown",
   "metadata": {
    "id": "zSQou-YsM04a"
   },
   "source": [
    "① 변수의 비즈니스 의미  \n",
    "* 직무 만족도 (1 Low, 2 Medium, 3 High, 4 Very High)"
   ]
  },
  {
   "cell_type": "markdown",
   "metadata": {
    "id": "npG6tj3FM04a"
   },
   "source": [
    "② 숫자, 범주?\n",
    "* 범주 데이터"
   ]
  },
  {
   "cell_type": "markdown",
   "metadata": {
    "id": "vFdBEk1yM04a"
   },
   "source": [
    "③ NaN 존재 유무"
   ]
  },
  {
   "cell_type": "code",
   "execution_count": 32,
   "metadata": {},
   "outputs": [
    {
     "data": {
      "text/plain": [
       "0"
      ]
     },
     "execution_count": 32,
     "metadata": {},
     "output_type": "execute_result"
    }
   ],
   "source": [
    "data[feature].isna().sum()"
   ]
  },
  {
   "cell_type": "markdown",
   "metadata": {
    "id": "c9ngfTdAM04a"
   },
   "source": [
    "④ 기초통계량(수치화)"
   ]
  },
  {
   "cell_type": "code",
   "execution_count": 33,
   "metadata": {},
   "outputs": [
    {
     "name": "stdout",
     "output_type": "stream",
     "text": [
      "4    397\n",
      "3    368\n",
      "1    250\n",
      "2    235\n",
      "Name: JobSatisfaction, dtype: int64\n",
      "4    0.3176\n",
      "3    0.2944\n",
      "1    0.2000\n",
      "2    0.1880\n",
      "Name: JobSatisfaction, dtype: float64\n"
     ]
    }
   ],
   "source": [
    "print(data[feature].value_counts())\n",
    "print(data[feature].value_counts()/ len(data[feature]))"
   ]
  },
  {
   "cell_type": "markdown",
   "metadata": {},
   "source": [
    "⑤ 분포 확인(시각화)"
   ]
  },
  {
   "cell_type": "code",
   "execution_count": 34,
   "metadata": {},
   "outputs": [
    {
     "name": "stdout",
     "output_type": "stream",
     "text": [
      "[397 368 250 235]    Int64Index([4, 3, 1, 2], dtype='int64')\n"
     ]
    },
    {
     "name": "stderr",
     "output_type": "stream",
     "text": [
      "C:\\Users\\User\\anaconda3\\lib\\site-packages\\seaborn\\_decorators.py:36: FutureWarning: Pass the following variable as a keyword arg: x. From version 0.12, the only valid positional argument will be `data`, and passing other arguments without an explicit keyword will result in an error or misinterpretation.\n",
      "  warnings.warn(\n"
     ]
    },
    {
     "data": {
      "image/png": "[encoded data removed]",
      "text/plain": [
       "<Figure size 432x288 with 1 Axes>"
      ]
     },
     "metadata": {
      "needs_background": "light"
     },
     "output_type": "display_data"
    }
   ],
   "source": [
    "cnt = data[feature].value_counts()\n",
    "print(cnt.values,'  ',cnt.index)\n",
    "sns.countplot(data[feature])\n",
    "plt.text(2.8, cnt.values[0]+5, cnt.values[0])\n",
    "plt.text(1.8, cnt.values[1]+5, cnt.values[1])\n",
    "plt.text(-0.2, cnt.values[2]+5, cnt.values[2])\n",
    "plt.text(0.8, cnt.values[3]+5, cnt.values[3])\n",
    "\n",
    "plt.show()"
   ]
  },
  {
   "cell_type": "code",
   "execution_count": 35,
   "metadata": {},
   "outputs": [
    {
     "data": {
      "image/png": "[encoded data removed]",
      "text/plain": [
       "<Figure size 432x288 with 1 Axes>"
      ]
     },
     "metadata": {},
     "output_type": "display_data"
    }
   ],
   "source": [
    "cnt = data[feature].value_counts()\n",
    "\n",
    "plt.pie(cnt.values, labels = cnt.index, autopct = '%.2f%%', startangle=90, counterclock=False,\n",
    "explode = [0.05, 0.05, 0.05, 0.05], shadow=True)\n",
    "plt.show()\n"
   ]
  },
  {
   "cell_type": "markdown",
   "metadata": {},
   "source": [
    "⑥ 기초통계량과 분포를 통해서 파악한 내용을 적어 봅시다.\n",
    "\n",
    "보이는 그대로를 넘어, 비즈니스 관점에서 고민하며 적어 봅시다."
   ]
  },
  {
   "cell_type": "markdown",
   "metadata": {},
   "source": [
    "> * 직무 만족도 평가에 부정적인(1.Low) 평가를 한 직원이 전체의 20% (250명)의 수치로 긍정적인 평가를 한 직원에 비해 적은 편이긴 하지만 20% 라는 수치는 적은 편이라고는 할 수 없다.\n",
    "> * 직무 만족도를 위해 회사 내규에 따라 직무 변경 등 직원들의 편의를 보장해 줄 필요가 있다.\n",
    "> * 부정적인 평가를 한 직원들의 이직 여부와 긍정적인 평가를 한 직원들의 이직 여부를 비교 분석해 볼 필요가 있다."
   ]
  },
  {
   "cell_type": "markdown",
   "metadata": {
    "id": "opTBFVXvM1mx"
   },
   "source": [
    "### 6) feature5"
   ]
  },
  {
   "cell_type": "code",
   "execution_count": 36,
   "metadata": {
    "id": "x7RhTmPzM1mx"
   },
   "outputs": [],
   "source": [
    "feature = 'RelationshipSatisfaction'"
   ]
  },
  {
   "cell_type": "markdown",
   "metadata": {
    "id": "jA3dK_gZM1mx"
   },
   "source": [
    "① 변수의 비즈니스 의미\n",
    "\n",
    "동료와의 관계 (1 Low, 2 Medium, 3 High, 4 Very High)\n"
   ]
  },
  {
   "cell_type": "markdown",
   "metadata": {
    "id": "heP_bxuRM1mx"
   },
   "source": [
    "② 숫자, 범주?\n",
    "\n",
    "범주 데이터"
   ]
  },
  {
   "cell_type": "markdown",
   "metadata": {
    "id": "BkM5kJZGM1mx"
   },
   "source": [
    "③ NaN 존재 유무"
   ]
  },
  {
   "cell_type": "code",
   "execution_count": 37,
   "metadata": {
    "id": "_goZmj5fM1mx"
   },
   "outputs": [
    {
     "data": {
      "text/plain": [
       "0"
      ]
     },
     "execution_count": 37,
     "metadata": {},
     "output_type": "execute_result"
    }
   ],
   "source": [
    "data[feature].isna().sum()"
   ]
  },
  {
   "cell_type": "markdown",
   "metadata": {},
   "source": [
    "④ 기초통계량(수치화)"
   ]
  },
  {
   "cell_type": "code",
   "execution_count": 38,
   "metadata": {},
   "outputs": [
    {
     "name": "stdout",
     "output_type": "stream",
     "text": [
      "3    397\n",
      "4    365\n",
      "2    258\n",
      "1    230\n",
      "Name: RelationshipSatisfaction, dtype: int64\n",
      "3    0.3176\n",
      "4    0.2920\n",
      "2    0.2064\n",
      "1    0.1840\n",
      "Name: RelationshipSatisfaction, dtype: float64\n"
     ]
    }
   ],
   "source": [
    "print(data[feature].value_counts())\n",
    "print(data[feature].value_counts()/ len(data[feature]))"
   ]
  },
  {
   "cell_type": "markdown",
   "metadata": {},
   "source": [
    "⑤ 분포 확인(시각화)"
   ]
  },
  {
   "cell_type": "code",
   "execution_count": 39,
   "metadata": {},
   "outputs": [
    {
     "name": "stdout",
     "output_type": "stream",
     "text": [
      "[397 365 258 230]    Int64Index([3, 4, 2, 1], dtype='int64')\n"
     ]
    },
    {
     "name": "stderr",
     "output_type": "stream",
     "text": [
      "C:\\Users\\User\\anaconda3\\lib\\site-packages\\seaborn\\_decorators.py:36: FutureWarning: Pass the following variable as a keyword arg: x. From version 0.12, the only valid positional argument will be `data`, and passing other arguments without an explicit keyword will result in an error or misinterpretation.\n",
      "  warnings.warn(\n"
     ]
    },
    {
     "data": {
      "image/png": "[encoded data removed]",
      "text/plain": [
       "<Figure size 432x288 with 1 Axes>"
      ]
     },
     "metadata": {
      "needs_background": "light"
     },
     "output_type": "display_data"
    }
   ],
   "source": [
    "cnt = data[feature].value_counts()\n",
    "print(cnt.values,'  ',cnt.index)\n",
    "sns.countplot(data[feature])\n",
    "\n",
    "plt.text(1.8, cnt.values[0]+5, cnt.values[0])\n",
    "plt.text(2.8, cnt.values[1]+5, cnt.values[1])\n",
    "plt.text(0.8, cnt.values[2]+5, cnt.values[2])\n",
    "plt.text(-0.2, cnt.values[3]+5, cnt.values[3])\n",
    "\n",
    "plt.show()"
   ]
  },
  {
   "cell_type": "code",
   "execution_count": 40,
   "metadata": {},
   "outputs": [
    {
     "data": {
      "image/png": "[encoded data removed]",
      "text/plain": [
       "<Figure size 432x288 with 1 Axes>"
      ]
     },
     "metadata": {},
     "output_type": "display_data"
    }
   ],
   "source": [
    "cnt = data[feature].value_counts()\n",
    "\n",
    "plt.pie(cnt.values, labels = cnt.index, autopct = '%.2f%%', startangle=90, counterclock=False,\n",
    "explode = [0.05, 0.05, 0.05, 0.05], shadow=True)\n",
    "plt.show()"
   ]
  },
  {
   "cell_type": "markdown",
   "metadata": {},
   "source": [
    "⑥ 기초통계량과 분포를 통해서 파악한 내용을 적어 봅시다.\n",
    "\n",
    "보이는 그대로를 넘어, 비즈니스 관점에서 고민하며 적어 봅시다."
   ]
  },
  {
   "cell_type": "markdown",
   "metadata": {},
   "source": [
    "> * 동료와의 관계에 부정적인(1.Low) 평가를 한 직원이 18.4%(230명)의 수치로 긍정적인 평가를 한 직원에 비해 적은편이긴 하지만 간과할만큼 적은 수치라고 생각하면 안될 것이다.\n",
    "> * 동료와의 관계를 위해 회사 내에 커뮤니티 라운지처럼 회사 동료들 간의 커뮤니케이션을 할 수 있는 장소 설치를 고려해 볼 필요가 있다.\n",
    "> * 부정적인 평가를 한 직원들의 이직 여부를 분석해 볼 필요가 있다,"
   ]
  },
  {
   "cell_type": "markdown",
   "metadata": {
    "id": "NFGBwz34YJG3"
   },
   "source": [
    "### 7) feature6"
   ]
  },
  {
   "cell_type": "code",
   "execution_count": 41,
   "metadata": {
    "id": "frPbHDAdYJG3"
   },
   "outputs": [],
   "source": [
    "feature = 'OverTime'"
   ]
  },
  {
   "cell_type": "markdown",
   "metadata": {
    "id": "EbfBgqqSYJG4"
   },
   "source": [
    "① 변수의 비즈니스 의미\n",
    "\n",
    "야근여부 (Yes, No)"
   ]
  },
  {
   "cell_type": "markdown",
   "metadata": {
    "id": "EfkydqbWYJG4"
   },
   "source": [
    "② 숫자, 범주?\n",
    "\n",
    "범주 데이터"
   ]
  },
  {
   "cell_type": "markdown",
   "metadata": {
    "id": "xGqiBLNJYJG4"
   },
   "source": [
    "③ NaN 존재 유무"
   ]
  },
  {
   "cell_type": "code",
   "execution_count": 42,
   "metadata": {
    "id": "aZqkq7z6YJG4"
   },
   "outputs": [
    {
     "data": {
      "text/plain": [
       "0"
      ]
     },
     "execution_count": 42,
     "metadata": {},
     "output_type": "execute_result"
    }
   ],
   "source": [
    "data[feature].isna().sum()"
   ]
  },
  {
   "cell_type": "markdown",
   "metadata": {},
   "source": [
    "④ 기초통계량(수치화)"
   ]
  },
  {
   "cell_type": "code",
   "execution_count": 43,
   "metadata": {},
   "outputs": [
    {
     "name": "stdout",
     "output_type": "stream",
     "text": [
      "No     896\n",
      "Yes    354\n",
      "Name: OverTime, dtype: int64\n",
      "No     0.7168\n",
      "Yes    0.2832\n",
      "Name: OverTime, dtype: float64\n"
     ]
    }
   ],
   "source": [
    "print(data[feature].value_counts())\n",
    "print(data[feature].value_counts()/ len(data[feature]))"
   ]
  },
  {
   "cell_type": "markdown",
   "metadata": {},
   "source": [
    "⑤ 분포 확인(시각화)"
   ]
  },
  {
   "cell_type": "code",
   "execution_count": 44,
   "metadata": {},
   "outputs": [
    {
     "name": "stdout",
     "output_type": "stream",
     "text": [
      "[896 354]    Index(['No', 'Yes'], dtype='object')\n"
     ]
    },
    {
     "name": "stderr",
     "output_type": "stream",
     "text": [
      "C:\\Users\\User\\anaconda3\\lib\\site-packages\\seaborn\\_decorators.py:36: FutureWarning: Pass the following variable as a keyword arg: x. From version 0.12, the only valid positional argument will be `data`, and passing other arguments without an explicit keyword will result in an error or misinterpretation.\n",
      "  warnings.warn(\n"
     ]
    },
    {
     "data": {
      "image/png": "[encoded data removed]",
      "text/plain": [
       "<Figure size 432x288 with 1 Axes>"
      ]
     },
     "metadata": {
      "needs_background": "light"
     },
     "output_type": "display_data"
    }
   ],
   "source": [
    "cnt = data[feature].value_counts()\n",
    "print(cnt.values,'  ',cnt.index)\n",
    "sns.countplot(data[feature])\n",
    "\n",
    "plt.text(-0.1, cnt.values[0]+5, cnt.values[0])\n",
    "plt.text(0.9, cnt.values[1]+5, cnt.values[1])\n",
    "\n",
    "plt.show()"
   ]
  },
  {
   "cell_type": "code",
   "execution_count": 45,
   "metadata": {},
   "outputs": [
    {
     "data": {
      "image/png": "[encoded data removed]",
      "text/plain": [
       "<Figure size 432x288 with 1 Axes>"
      ]
     },
     "metadata": {},
     "output_type": "display_data"
    }
   ],
   "source": [
    "cnt = data[feature].value_counts()\n",
    "\n",
    "plt.pie(cnt.values, labels = cnt.index, autopct = '%.2f%%', startangle=90, counterclock=False,\n",
    "explode = [0.05, 0.05], shadow=True)\n",
    "plt.show()"
   ]
  },
  {
   "cell_type": "markdown",
   "metadata": {},
   "source": [
    "⑥ 기초통계량과 분포를 통해서 파악한 내용을 적어 봅시다.\n",
    "\n",
    "보이는 그대로를 넘어, 비즈니스 관점에서 고민하며 적어 봅시다."
   ]
  },
  {
   "cell_type": "markdown",
   "metadata": {},
   "source": [
    "> * 야근은 업무에 있어서 필요할 수 있는 옵션이다.\n",
    "> * 하지만 잦은 야근은 업무의 효율성을 저하시킬 수 있다.\n",
    "> * 반드시 필요한 야근에는 합당한 보상이 필요하고 야근을 지양하는 회사라면 특정 시간 이후에 자동으로 컴퓨터의 전원이 꺼지는 등 시스템의 도입을 고려해 볼 필요가 있다.\n",
    "> * 야근을 하는 직원들의 만족도를 분석해 볼 필요가 있다."
   ]
  },
  {
   "cell_type": "markdown",
   "metadata": {
    "id": "CVRxxOC5NFf6"
   },
   "source": [
    "### 8) feature7"
   ]
  },
  {
   "cell_type": "code",
   "execution_count": 46,
   "metadata": {
    "id": "MxabEAizNFf7"
   },
   "outputs": [],
   "source": [
    "feature = 'PercentSalaryHike'"
   ]
  },
  {
   "cell_type": "markdown",
   "metadata": {
    "id": "Z4YjqAD-NFf7"
   },
   "source": [
    "① 변수의 비즈니스 의미\n",
    "> * 전년대비 급여인상율 (단위 : %)"
   ]
  },
  {
   "cell_type": "markdown",
   "metadata": {
    "id": "w8v5QUPsNFf7"
   },
   "source": [
    "② 숫자, 범주?\n",
    "\n",
    "> * 숫자 데이터"
   ]
  },
  {
   "cell_type": "markdown",
   "metadata": {
    "id": "liF0zXssNFf7"
   },
   "source": [
    "③ NaN 존재 유무"
   ]
  },
  {
   "cell_type": "code",
   "execution_count": 47,
   "metadata": {
    "id": "w23PhVKDNFf7",
    "scrolled": true
   },
   "outputs": [
    {
     "data": {
      "text/plain": [
       "0"
      ]
     },
     "execution_count": 47,
     "metadata": {},
     "output_type": "execute_result"
    }
   ],
   "source": [
    "data[feature].isna().sum()"
   ]
  },
  {
   "cell_type": "markdown",
   "metadata": {},
   "source": [
    "④ 기초통계량(수치화)"
   ]
  },
  {
   "cell_type": "code",
   "execution_count": 48,
   "metadata": {},
   "outputs": [
    {
     "data": {
      "text/plain": [
       "count    1250.000000\n",
       "mean       15.216000\n",
       "std         3.625556\n",
       "min        11.000000\n",
       "25%        12.000000\n",
       "50%        14.000000\n",
       "75%        18.000000\n",
       "max        25.000000\n",
       "Name: PercentSalaryHike, dtype: float64"
      ]
     },
     "execution_count": 48,
     "metadata": {},
     "output_type": "execute_result"
    }
   ],
   "source": [
    "data[feature].describe()"
   ]
  },
  {
   "cell_type": "markdown",
   "metadata": {},
   "source": [
    "⑤ 분포 확인(시각화)"
   ]
  },
  {
   "cell_type": "code",
   "execution_count": 49,
   "metadata": {},
   "outputs": [
    {
     "name": "stderr",
     "output_type": "stream",
     "text": [
      "C:\\Users\\User\\anaconda3\\lib\\site-packages\\seaborn\\distributions.py:2557: FutureWarning: `distplot` is a deprecated function and will be removed in a future version. Please adapt your code to use either `displot` (a figure-level function with similar flexibility) or `histplot` (an axes-level function for histograms).\n",
      "  warnings.warn(msg, FutureWarning)\n"
     ]
    },
    {
     "data": {
      "text/plain": [
       "<AxesSubplot:xlabel='PercentSalaryHike', ylabel='Density'>"
      ]
     },
     "execution_count": 49,
     "metadata": {},
     "output_type": "execute_result"
    },
    {
     "data": {
      "image/png": "[encoded data removed]",
      "text/plain": [
       "<Figure size 432x288 with 1 Axes>"
      ]
     },
     "metadata": {
      "needs_background": "light"
     },
     "output_type": "display_data"
    }
   ],
   "source": [
    "sns.distplot(data[feature], bins = 10, hist_kws = dict(edgecolor = 'grey'))"
   ]
  },
  {
   "cell_type": "code",
   "execution_count": 50,
   "metadata": {
    "scrolled": false
   },
   "outputs": [
    {
     "data": {
      "image/png": "[encoded data removed]",
      "text/plain": [
       "<Figure size 432x288 with 1 Axes>"
      ]
     },
     "metadata": {
      "needs_background": "light"
     },
     "output_type": "display_data"
    }
   ],
   "source": [
    "sns.histplot(data[feature], bins = 10, color = '#17becf')\n",
    "plt.show()"
   ]
  },
  {
   "cell_type": "code",
   "execution_count": 51,
   "metadata": {},
   "outputs": [
    {
     "data": {
      "image/png": "[encoded data removed]",
      "text/plain": [
       "<Figure size 432x288 with 1 Axes>"
      ]
     },
     "metadata": {
      "needs_background": "light"
     },
     "output_type": "display_data"
    }
   ],
   "source": [
    "pd.Series(feature)\n",
    "data[feature].plot(kind = 'kde') \n",
    "plt.xlabel('PercentSalaryHike')\n",
    "plt.show()"
   ]
  },
  {
   "cell_type": "code",
   "execution_count": 52,
   "metadata": {
    "scrolled": true
   },
   "outputs": [
    {
     "data": {
      "image/png": "[encoded data removed]",
      "text/plain": [
       "<Figure size 432x288 with 1 Axes>"
      ]
     },
     "metadata": {
      "needs_background": "light"
     },
     "output_type": "display_data"
    },
    {
     "name": "stdout",
     "output_type": "stream",
     "text": [
      "[12. 11.]\n",
      "[18. 25.]\n"
     ]
    }
   ],
   "source": [
    "box = plt.boxplot(data[feature], vert = False)\n",
    "plt.xlabel('PercentSalaryHike')\n",
    "plt.show()\n",
    "\n",
    "print(box['whiskers'][0].get_xdata())\n",
    "print(box['whiskers'][1].get_xdata())"
   ]
  },
  {
   "cell_type": "markdown",
   "metadata": {},
   "source": [
    "⑥ 기초통계량과 분포를 통해서 파악한 내용을 적어 봅시다."
   ]
  },
  {
   "cell_type": "markdown",
   "metadata": {},
   "source": [
    "> * 전년대비 급여인상율의 최대값은 25% 이다.\n",
    "> * 15% 를 기준으로 그 이상의 급여인상율을 받는 직원들의 수가 눈에 띄게 줄어든다.\n",
    "> * 50% 의 직원들이 14% 이하의 급여인상율을 받고 있다."
   ]
  },
  {
   "cell_type": "markdown",
   "metadata": {
    "id": "akKd5uoTYF-5"
   },
   "source": [
    "### 9) feature8"
   ]
  },
  {
   "cell_type": "code",
   "execution_count": 53,
   "metadata": {
    "id": "wWiqzoV-YF-5"
   },
   "outputs": [],
   "source": [
    "feature = 'WorkLifeBalance'"
   ]
  },
  {
   "cell_type": "markdown",
   "metadata": {
    "id": "Gzymf-pLYF-5"
   },
   "source": [
    "① 변수의 비즈니스 의미\n",
    "  * 동료와의 관계 (1 Low, 2 Medium, 3 High, 4 Very High)"
   ]
  },
  {
   "cell_type": "markdown",
   "metadata": {
    "id": "Nh_M9CjbYF-5"
   },
   "source": [
    "② 숫자, 범주?\n",
    "> * 범주 데이터"
   ]
  },
  {
   "cell_type": "markdown",
   "metadata": {
    "id": "HzsYK7GBYF-6"
   },
   "source": [
    "③ NaN 존재 유무"
   ]
  },
  {
   "cell_type": "code",
   "execution_count": 54,
   "metadata": {
    "id": "fPlxEkzpYF-6"
   },
   "outputs": [
    {
     "data": {
      "text/plain": [
       "0"
      ]
     },
     "execution_count": 54,
     "metadata": {},
     "output_type": "execute_result"
    }
   ],
   "source": [
    "data[feature].isna().sum()"
   ]
  },
  {
   "cell_type": "markdown",
   "metadata": {},
   "source": [
    "④ 기초통계량(수치화)"
   ]
  },
  {
   "cell_type": "code",
   "execution_count": 55,
   "metadata": {},
   "outputs": [
    {
     "name": "stdout",
     "output_type": "stream",
     "text": [
      "3    747\n",
      "2    297\n",
      "4    137\n",
      "1     69\n",
      "Name: WorkLifeBalance, dtype: int64\n",
      "3    0.5976\n",
      "2    0.2376\n",
      "4    0.1096\n",
      "1    0.0552\n",
      "Name: WorkLifeBalance, dtype: float64\n"
     ]
    }
   ],
   "source": [
    "print(data[feature].value_counts())\n",
    "print(data[feature].value_counts()/ len(data[feature]))"
   ]
  },
  {
   "cell_type": "markdown",
   "metadata": {},
   "source": [
    "⑤ 분포 확인(시각화)"
   ]
  },
  {
   "cell_type": "code",
   "execution_count": 56,
   "metadata": {},
   "outputs": [
    {
     "name": "stdout",
     "output_type": "stream",
     "text": [
      "[747 297 137  69]    Int64Index([3, 2, 4, 1], dtype='int64')\n"
     ]
    },
    {
     "name": "stderr",
     "output_type": "stream",
     "text": [
      "C:\\Users\\User\\anaconda3\\lib\\site-packages\\seaborn\\_decorators.py:36: FutureWarning: Pass the following variable as a keyword arg: x. From version 0.12, the only valid positional argument will be `data`, and passing other arguments without an explicit keyword will result in an error or misinterpretation.\n",
      "  warnings.warn(\n"
     ]
    },
    {
     "data": {
      "image/png": "[encoded data removed]",
      "text/plain": [
       "<Figure size 432x288 with 1 Axes>"
      ]
     },
     "metadata": {
      "needs_background": "light"
     },
     "output_type": "display_data"
    }
   ],
   "source": [
    "cnt = data[feature].value_counts()\n",
    "print(cnt.values,'  ',cnt.index)\n",
    "sns.countplot(data[feature])\n",
    "\n",
    "plt.text(1.8, cnt.values[0]+5, cnt.values[0])\n",
    "plt.text(0.8, cnt.values[1]+5, cnt.values[1])\n",
    "plt.text(3, cnt.values[2]+5, cnt.values[2])\n",
    "plt.text(0, cnt.values[3]+5, cnt.values[3])\n",
    "\n",
    "plt.show()"
   ]
  },
  {
   "cell_type": "code",
   "execution_count": 57,
   "metadata": {},
   "outputs": [
    {
     "data": {
      "image/png": "[encoded data removed]",
      "text/plain": [
       "<Figure size 432x288 with 1 Axes>"
      ]
     },
     "metadata": {},
     "output_type": "display_data"
    }
   ],
   "source": [
    "cnt = data[feature].value_counts()\n",
    "\n",
    "plt.pie(cnt.values, labels = cnt.index, autopct = '%.2f%%', startangle=90, counterclock=False,\n",
    "explode = [0.05, 0.05, 0.05, 0.05], shadow=True)\n",
    "plt.show()"
   ]
  },
  {
   "cell_type": "markdown",
   "metadata": {},
   "source": [
    "⑥ 기초통계량과 분포를 통해서 파악한 내용을 적어 봅시다.  \n",
    "보이는 그대로를 넘어, 비즈니스 관점에서 고민하며 적어 봅시다."
   ]
  },
  {
   "cell_type": "markdown",
   "metadata": {},
   "source": [
    "> * 워라밸을 긍정적으로 평가한 직원들이 94.48% 로 굉장히 많은 직원들이 긍정적으로 평가하였다.\n",
    "> * 워라밸을 긍정적으로 평가한 직원들이 많은 만큼 회사의 복지 시스템이 잘 구축되어 있다고 판단할 수 있다.\n"
   ]
  },
  {
   "cell_type": "markdown",
   "metadata": {
    "id": "ZghJJ7yLEpDA"
   },
   "source": [
    "## 3.이변량 분석 \n",
    "* 자료의 종류에 맞게 X --> Y 에 대해서 그래프(시각화)와 가설검정(수치화)를 수행하고 결과를 평가합니다.\n",
    "* 가설검정시 다음의 항목을 참조하여 수행합니다.\n",
    "    * 유의수준 : 5%\n",
    "    * 숫자 --> 숫자 : 상관분석\n",
    "    * 범주 --> 범주 : 카이제곱검정\n",
    "    * 범주 --> 숫자 : t검정, 분산분석\n",
    "    * 숫자 --> 범주 : 로지스틱 회귀모형을 통해, 회귀계수의 P.value로 검정을 수행합니다."
   ]
  },
  {
   "cell_type": "markdown",
   "metadata": {
    "id": "fap08wfEMqtY"
   },
   "source": [
    "### (1) 범주형 Feature --> Target\n",
    "* 모든 범주형 Feature에 대해서 Y와 비교하여 차트를 그리고 수치화 하시오.  \n",
    "    ① 교차표(pd.crosstab())  \n",
    "    ② 시각화( Stacked Bar, Mosaic)  \n",
    "    ③ 가설검정(카이제곱검정)\n",
    "* 각 feature 별로 관계의 정도를 3가지로 정리해봅시다. "
   ]
  },
  {
   "cell_type": "code",
   "execution_count": 58,
   "metadata": {},
   "outputs": [
    {
     "name": "stdout",
     "output_type": "stream",
     "text": [
      "0.16\n"
     ]
    }
   ],
   "source": [
    "# 전체 이탈율\n",
    "total_mean = data[target].mean()\n",
    "print(total_mean)"
   ]
  },
  {
   "cell_type": "markdown",
   "metadata": {
    "id": "Dh2UW7_S-yoq"
   },
   "source": [
    "#### 1) feature --> target"
   ]
  },
  {
   "cell_type": "code",
   "execution_count": 59,
   "metadata": {
    "id": "2yz9iC2NNWA2"
   },
   "outputs": [],
   "source": [
    "feature = 'JobSatisfaction'"
   ]
  },
  {
   "cell_type": "markdown",
   "metadata": {},
   "source": [
    "① 교차표(pd.crosstab())"
   ]
  },
  {
   "cell_type": "code",
   "execution_count": 60,
   "metadata": {
    "id": "sv_bb6n1NV9X"
   },
   "outputs": [
    {
     "data": {
      "text/html": [
       "<div>\n",
       "<style scoped>\n",
       "    .dataframe tbody tr th:only-of-type {\n",
       "        vertical-align: middle;\n",
       "    }\n",
       "\n",
       "    .dataframe tbody tr th {\n",
       "        vertical-align: top;\n",
       "    }\n",
       "\n",
       "    .dataframe thead th {\n",
       "        text-align: right;\n",
       "    }\n",
       "</style>\n",
       "<table border=\"1\" class=\"dataframe\">\n",
       "  <thead>\n",
       "    <tr style=\"text-align: right;\">\n",
       "      <th>JobSatisfaction</th>\n",
       "      <th>1</th>\n",
       "      <th>2</th>\n",
       "      <th>3</th>\n",
       "      <th>4</th>\n",
       "    </tr>\n",
       "    <tr>\n",
       "      <th>Attrition</th>\n",
       "      <th></th>\n",
       "      <th></th>\n",
       "      <th></th>\n",
       "      <th></th>\n",
       "    </tr>\n",
       "  </thead>\n",
       "  <tbody>\n",
       "    <tr>\n",
       "      <th>0</th>\n",
       "      <td>197</td>\n",
       "      <td>196</td>\n",
       "      <td>308</td>\n",
       "      <td>349</td>\n",
       "    </tr>\n",
       "    <tr>\n",
       "      <th>1</th>\n",
       "      <td>53</td>\n",
       "      <td>39</td>\n",
       "      <td>60</td>\n",
       "      <td>48</td>\n",
       "    </tr>\n",
       "  </tbody>\n",
       "</table>\n",
       "</div>"
      ],
      "text/plain": [
       "JobSatisfaction    1    2    3    4\n",
       "Attrition                          \n",
       "0                197  196  308  349\n",
       "1                 53   39   60   48"
      ]
     },
     "execution_count": 60,
     "metadata": {},
     "output_type": "execute_result"
    }
   ],
   "source": [
    "pd.crosstab(data[target], data[feature])"
   ]
  },
  {
   "cell_type": "markdown",
   "metadata": {
    "id": "dIBw6i5qNV6P"
   },
   "source": [
    "② 시각화( Stacked Bar, Mosaic)"
   ]
  },
  {
   "cell_type": "code",
   "execution_count": 61,
   "metadata": {},
   "outputs": [
    {
     "name": "stdout",
     "output_type": "stream",
     "text": [
      "Attrition               0         1\n",
      "JobSatisfaction                    \n",
      "1                0.788000  0.212000\n",
      "2                0.834043  0.165957\n",
      "3                0.836957  0.163043\n",
      "4                0.879093  0.120907\n"
     ]
    },
    {
     "data": {
      "image/png": "[encoded data removed]",
      "text/plain": [
       "<Figure size 432x288 with 1 Axes>"
      ]
     },
     "metadata": {
      "needs_background": "light"
     },
     "output_type": "display_data"
    }
   ],
   "source": [
    "# 1) 집계\n",
    "tmp = pd.crosstab(data[feature], data[target], normalize = 'index')\n",
    "print(tmp)\n",
    "# 2) stacked bar!\n",
    "tmp.plot.bar(stacked=True)\n",
    "\n",
    "# 평균선 추가.\n",
    "# 이직하지 않을 확률\n",
    "plt.axhline(1-data[target].mean(), color = 'r')\n",
    "plt.show()"
   ]
  },
  {
   "cell_type": "code",
   "execution_count": 62,
   "metadata": {},
   "outputs": [
    {
     "data": {
      "image/png": "[encoded data removed]",
      "text/plain": [
       "<Figure size 432x288 with 3 Axes>"
      ]
     },
     "metadata": {
      "needs_background": "light"
     },
     "output_type": "display_data"
    }
   ],
   "source": [
    "\n",
    "mosaic(data,[feature, target])\n",
    "\n",
    "# 평균선 추가\n",
    "plt.axhline(1- data[target].mean(), color = 'r')\n",
    "plt.show()"
   ]
  },
  {
   "cell_type": "markdown",
   "metadata": {},
   "source": [
    "> * 직무 만족도에서 부정적인 평가를 한 직원에서의 이직이 가장 많이 일어난다."
   ]
  },
  {
   "cell_type": "markdown",
   "metadata": {},
   "source": [
    "③ 가설검정(카이제곱검정)"
   ]
  },
  {
   "cell_type": "code",
   "execution_count": 63,
   "metadata": {},
   "outputs": [
    {
     "name": "stdout",
     "output_type": "stream",
     "text": [
      "교차표\n",
      " JobSatisfaction    1    2    3    4\n",
      "Attrition                          \n",
      "0                197  196  308  349\n",
      "1                 53   39   60   48\n",
      "----------------------------------------------------------------------------------------------------\n",
      "카이제곱통계량 9.63151465436614\n",
      "p-value 0.021972649369306214\n",
      "기대빈도\n",
      " [[210.   197.4  309.12 333.48]\n",
      " [ 40.    37.6   58.88  63.52]]\n"
     ]
    }
   ],
   "source": [
    "table = pd.crosstab(data[target], data[feature])\n",
    "print('교차표\\n', table)\n",
    "print('-' * 100)\n",
    "\n",
    "result = spst.chi2_contingency(table)\n",
    "print('카이제곱통계량', result[0])\n",
    "print('p-value', result[1])\n",
    "print('기대빈도\\n',result[3])"
   ]
  },
  {
   "cell_type": "markdown",
   "metadata": {},
   "source": [
    "④ 시각화와 가설검정을 통해서 파악한 내용을 적어 봅시다."
   ]
  },
  {
   "cell_type": "markdown",
   "metadata": {},
   "source": [
    "> * p-value가 0.02로 유의수준인 0.05보다는 작기 때문에 직무 만족도는 이직여부에 약한 영향을 미칠 수 있다."
   ]
  },
  {
   "cell_type": "markdown",
   "metadata": {
    "id": "liItz0vkNX2F"
   },
   "source": [
    "#### 2) feature --> target"
   ]
  },
  {
   "cell_type": "code",
   "execution_count": 64,
   "metadata": {
    "id": "urzz0yqvNX2F"
   },
   "outputs": [],
   "source": [
    "feature = 'RelationshipSatisfaction'"
   ]
  },
  {
   "cell_type": "markdown",
   "metadata": {
    "id": "yRkJ_z23NX2F"
   },
   "source": [
    "① 교차표(pd.crosstab())"
   ]
  },
  {
   "cell_type": "code",
   "execution_count": 65,
   "metadata": {
    "id": "8djvWa2eNX2F"
   },
   "outputs": [
    {
     "data": {
      "text/html": [
       "<div>\n",
       "<style scoped>\n",
       "    .dataframe tbody tr th:only-of-type {\n",
       "        vertical-align: middle;\n",
       "    }\n",
       "\n",
       "    .dataframe tbody tr th {\n",
       "        vertical-align: top;\n",
       "    }\n",
       "\n",
       "    .dataframe thead th {\n",
       "        text-align: right;\n",
       "    }\n",
       "</style>\n",
       "<table border=\"1\" class=\"dataframe\">\n",
       "  <thead>\n",
       "    <tr style=\"text-align: right;\">\n",
       "      <th>RelationshipSatisfaction</th>\n",
       "      <th>1</th>\n",
       "      <th>2</th>\n",
       "      <th>3</th>\n",
       "      <th>4</th>\n",
       "    </tr>\n",
       "    <tr>\n",
       "      <th>Attrition</th>\n",
       "      <th></th>\n",
       "      <th></th>\n",
       "      <th></th>\n",
       "      <th></th>\n",
       "    </tr>\n",
       "  </thead>\n",
       "  <tbody>\n",
       "    <tr>\n",
       "      <th>0</th>\n",
       "      <td>183</td>\n",
       "      <td>217</td>\n",
       "      <td>337</td>\n",
       "      <td>313</td>\n",
       "    </tr>\n",
       "    <tr>\n",
       "      <th>1</th>\n",
       "      <td>47</td>\n",
       "      <td>41</td>\n",
       "      <td>60</td>\n",
       "      <td>52</td>\n",
       "    </tr>\n",
       "  </tbody>\n",
       "</table>\n",
       "</div>"
      ],
      "text/plain": [
       "RelationshipSatisfaction    1    2    3    4\n",
       "Attrition                                   \n",
       "0                         183  217  337  313\n",
       "1                          47   41   60   52"
      ]
     },
     "execution_count": 65,
     "metadata": {},
     "output_type": "execute_result"
    }
   ],
   "source": [
    "pd.crosstab(data[target], data[feature])"
   ]
  },
  {
   "cell_type": "markdown",
   "metadata": {},
   "source": [
    "② 시각화( Stacked Bar, Mosaic)"
   ]
  },
  {
   "cell_type": "code",
   "execution_count": 66,
   "metadata": {},
   "outputs": [
    {
     "name": "stdout",
     "output_type": "stream",
     "text": [
      "Attrition                        0         1\n",
      "RelationshipSatisfaction                    \n",
      "1                         0.795652  0.204348\n",
      "2                         0.841085  0.158915\n",
      "3                         0.848866  0.151134\n",
      "4                         0.857534  0.142466\n"
     ]
    },
    {
     "data": {
      "image/png": "[encoded data removed]",
      "text/plain": [
       "<Figure size 432x288 with 1 Axes>"
      ]
     },
     "metadata": {
      "needs_background": "light"
     },
     "output_type": "display_data"
    }
   ],
   "source": [
    "# 1) 집계\n",
    "tmp = pd.crosstab(data[feature], data[target], normalize = 'index')\n",
    "print(tmp)\n",
    "# 2) stacked bar!\n",
    "tmp.plot.bar(stacked=True)\n",
    "\n",
    "# 평균선 추가.\n",
    "plt.axhline(1-data[target].mean(), color = 'r')\n",
    "# plt.text(-0.1,0.51,mobile[target].mean())\n",
    "plt.show()"
   ]
  },
  {
   "cell_type": "code",
   "execution_count": 67,
   "metadata": {
    "scrolled": true
   },
   "outputs": [
    {
     "data": {
      "image/png": "[encoded data removed]",
      "text/plain": [
       "<Figure size 432x288 with 3 Axes>"
      ]
     },
     "metadata": {
      "needs_background": "light"
     },
     "output_type": "display_data"
    }
   ],
   "source": [
    "\n",
    "mosaic(data,[feature, target])\n",
    "\n",
    "# 평균선 추가\n",
    "plt.axhline(1- data[target].mean(), color = 'r')\n",
    "plt.show()"
   ]
  },
  {
   "cell_type": "markdown",
   "metadata": {},
   "source": [
    "> * 동료와의 관계에서 부정적인 평가를 한 직원에서의 이직이 가장 많이 일어난다"
   ]
  },
  {
   "cell_type": "markdown",
   "metadata": {},
   "source": [
    "③ 가설검정(카이제곱검정)"
   ]
  },
  {
   "cell_type": "code",
   "execution_count": 68,
   "metadata": {},
   "outputs": [
    {
     "name": "stdout",
     "output_type": "stream",
     "text": [
      "교차표\n",
      " RelationshipSatisfaction    1    2    3    4\n",
      "Attrition                                   \n",
      "0                         183  217  337  313\n",
      "1                          47   41   60   52\n",
      "----------------------------------------------------------------------------------------------------\n",
      "카이제곱통계량 4.435126158518535\n",
      "p-value 0.2181503949975081\n",
      "기대빈도\n",
      " [[193.2  216.72 333.48 306.6 ]\n",
      " [ 36.8   41.28  63.52  58.4 ]]\n"
     ]
    }
   ],
   "source": [
    "table = pd.crosstab(data[target], data[feature])\n",
    "print('교차표\\n', table)\n",
    "print('-' * 100)\n",
    "\n",
    "result = spst.chi2_contingency(table)\n",
    "print('카이제곱통계량', result[0])\n",
    "print('p-value', result[1])\n",
    "print('기대빈도\\n',result[3])"
   ]
  },
  {
   "cell_type": "markdown",
   "metadata": {},
   "source": [
    "④ 시각화와 가설검정을 통해서 파악한 내용을 적어 봅시다."
   ]
  },
  {
   "cell_type": "markdown",
   "metadata": {},
   "source": [
    "> * 검정 결과 p-value가 0.22로 유의수준인 0.05보다는 크기 때문에 동료와의 관계는 이직여부에 영향을 미치지 않는다."
   ]
  },
  {
   "cell_type": "markdown",
   "metadata": {
    "id": "TplEQHKlNYgN"
   },
   "source": [
    "#### 3) feature --> target"
   ]
  },
  {
   "cell_type": "code",
   "execution_count": 69,
   "metadata": {
    "id": "EOK-_0YwNYgN"
   },
   "outputs": [],
   "source": [
    "feature = 'OverTime'"
   ]
  },
  {
   "cell_type": "markdown",
   "metadata": {
    "id": "QMbcLFR7NYgN"
   },
   "source": [
    "① 교차표(pd.crosstab())"
   ]
  },
  {
   "cell_type": "code",
   "execution_count": 70,
   "metadata": {
    "id": "YznIJXayNYgN"
   },
   "outputs": [
    {
     "data": {
      "text/html": [
       "<div>\n",
       "<style scoped>\n",
       "    .dataframe tbody tr th:only-of-type {\n",
       "        vertical-align: middle;\n",
       "    }\n",
       "\n",
       "    .dataframe tbody tr th {\n",
       "        vertical-align: top;\n",
       "    }\n",
       "\n",
       "    .dataframe thead th {\n",
       "        text-align: right;\n",
       "    }\n",
       "</style>\n",
       "<table border=\"1\" class=\"dataframe\">\n",
       "  <thead>\n",
       "    <tr style=\"text-align: right;\">\n",
       "      <th>OverTime</th>\n",
       "      <th>No</th>\n",
       "      <th>Yes</th>\n",
       "    </tr>\n",
       "    <tr>\n",
       "      <th>Attrition</th>\n",
       "      <th></th>\n",
       "      <th></th>\n",
       "    </tr>\n",
       "  </thead>\n",
       "  <tbody>\n",
       "    <tr>\n",
       "      <th>0</th>\n",
       "      <td>803</td>\n",
       "      <td>247</td>\n",
       "    </tr>\n",
       "    <tr>\n",
       "      <th>1</th>\n",
       "      <td>93</td>\n",
       "      <td>107</td>\n",
       "    </tr>\n",
       "  </tbody>\n",
       "</table>\n",
       "</div>"
      ],
      "text/plain": [
       "OverTime    No  Yes\n",
       "Attrition          \n",
       "0          803  247\n",
       "1           93  107"
      ]
     },
     "execution_count": 70,
     "metadata": {},
     "output_type": "execute_result"
    }
   ],
   "source": [
    "pd.crosstab(data[target], data[feature])"
   ]
  },
  {
   "cell_type": "markdown",
   "metadata": {},
   "source": [
    "② 시각화( Stacked Bar, Mosaic)"
   ]
  },
  {
   "cell_type": "code",
   "execution_count": 71,
   "metadata": {},
   "outputs": [
    {
     "name": "stdout",
     "output_type": "stream",
     "text": [
      "Attrition         0         1\n",
      "OverTime                     \n",
      "No         0.896205  0.103795\n",
      "Yes        0.697740  0.302260\n"
     ]
    },
    {
     "data": {
      "image/png": "[encoded data removed]",
      "text/plain": [
       "<Figure size 432x288 with 1 Axes>"
      ]
     },
     "metadata": {
      "needs_background": "light"
     },
     "output_type": "display_data"
    }
   ],
   "source": [
    "# 1) 집계\n",
    "tmp = pd.crosstab(data[feature], data[target], normalize = 'index')\n",
    "print(tmp)\n",
    "# 2) stacked bar!\n",
    "tmp.plot.bar(stacked=True)\n",
    "\n",
    "# 평균선 추가.\n",
    "plt.axhline(1-data[target].mean(), color = 'r')\n",
    "# plt.text(-0.1,0.51,mobile[target].mean())\n",
    "plt.show()"
   ]
  },
  {
   "cell_type": "code",
   "execution_count": 72,
   "metadata": {},
   "outputs": [
    {
     "data": {
      "image/png": "[encoded data removed]",
      "text/plain": [
       "<Figure size 432x288 with 3 Axes>"
      ]
     },
     "metadata": {
      "needs_background": "light"
     },
     "output_type": "display_data"
    }
   ],
   "source": [
    "\n",
    "mosaic(data,[feature, target])\n",
    "\n",
    "# 평균선 추가\n",
    "plt.axhline(1- data[target].mean(), color = 'r')\n",
    "plt.show()"
   ]
  },
  {
   "cell_type": "markdown",
   "metadata": {},
   "source": [
    "> * 야근을 하는 직원들이 하지 않는 직원들에 비해 이직이 많이 일어난다."
   ]
  },
  {
   "cell_type": "markdown",
   "metadata": {},
   "source": [
    "③ 가설검정(카이제곱검정)"
   ]
  },
  {
   "cell_type": "code",
   "execution_count": 73,
   "metadata": {},
   "outputs": [
    {
     "name": "stdout",
     "output_type": "stream",
     "text": [
      "교차표\n",
      " OverTime    No  Yes\n",
      "Attrition          \n",
      "0          803  247\n",
      "1           93  107\n",
      "----------------------------------------------------------------------------------------------------\n",
      "카이제곱통계량 72.89605419432075\n",
      "p-value 1.366611233098835e-17\n",
      "기대빈도\n",
      " [[752.64 297.36]\n",
      " [143.36  56.64]]\n"
     ]
    }
   ],
   "source": [
    "table = pd.crosstab(data[target], data[feature])\n",
    "print('교차표\\n', table)\n",
    "print('-' * 100)\n",
    "\n",
    "result = spst.chi2_contingency(table)\n",
    "print('카이제곱통계량', result[0])\n",
    "print('p-value', result[1])\n",
    "print('기대빈도\\n',result[3])"
   ]
  },
  {
   "cell_type": "markdown",
   "metadata": {},
   "source": [
    "④ 시각화와 가설검정을 통해서 파악한 내용을 적어 봅시다."
   ]
  },
  {
   "cell_type": "markdown",
   "metadata": {},
   "source": [
    "> * 검정결과 p-value가 충분히 작기 때문에 야근여부는 이직여부에 강한 영향을 미칠 수 있다."
   ]
  },
  {
   "cell_type": "markdown",
   "metadata": {
    "id": "4satnDSlVnJW"
   },
   "source": [
    "#### 4) 추가 feature --> target"
   ]
  },
  {
   "cell_type": "code",
   "execution_count": 74,
   "metadata": {
    "id": "XR4wCRF2VnJW"
   },
   "outputs": [],
   "source": [
    "feature = 'WorkLifeBalance'"
   ]
  },
  {
   "cell_type": "markdown",
   "metadata": {
    "id": "xPlwIVPoVnJX"
   },
   "source": [
    "① 교차표(pd.crosstab())"
   ]
  },
  {
   "cell_type": "code",
   "execution_count": 75,
   "metadata": {
    "id": "knJ77D9lVnJX"
   },
   "outputs": [
    {
     "data": {
      "text/html": [
       "<div>\n",
       "<style scoped>\n",
       "    .dataframe tbody tr th:only-of-type {\n",
       "        vertical-align: middle;\n",
       "    }\n",
       "\n",
       "    .dataframe tbody tr th {\n",
       "        vertical-align: top;\n",
       "    }\n",
       "\n",
       "    .dataframe thead th {\n",
       "        text-align: right;\n",
       "    }\n",
       "</style>\n",
       "<table border=\"1\" class=\"dataframe\">\n",
       "  <thead>\n",
       "    <tr style=\"text-align: right;\">\n",
       "      <th>WorkLifeBalance</th>\n",
       "      <th>1</th>\n",
       "      <th>2</th>\n",
       "      <th>3</th>\n",
       "      <th>4</th>\n",
       "    </tr>\n",
       "    <tr>\n",
       "      <th>Attrition</th>\n",
       "      <th></th>\n",
       "      <th></th>\n",
       "      <th></th>\n",
       "      <th></th>\n",
       "    </tr>\n",
       "  </thead>\n",
       "  <tbody>\n",
       "    <tr>\n",
       "      <th>0</th>\n",
       "      <td>49</td>\n",
       "      <td>251</td>\n",
       "      <td>639</td>\n",
       "      <td>111</td>\n",
       "    </tr>\n",
       "    <tr>\n",
       "      <th>1</th>\n",
       "      <td>20</td>\n",
       "      <td>46</td>\n",
       "      <td>108</td>\n",
       "      <td>26</td>\n",
       "    </tr>\n",
       "  </tbody>\n",
       "</table>\n",
       "</div>"
      ],
      "text/plain": [
       "WorkLifeBalance   1    2    3    4\n",
       "Attrition                         \n",
       "0                49  251  639  111\n",
       "1                20   46  108   26"
      ]
     },
     "execution_count": 75,
     "metadata": {},
     "output_type": "execute_result"
    }
   ],
   "source": [
    "pd.crosstab(data[target], data[feature])"
   ]
  },
  {
   "cell_type": "markdown",
   "metadata": {
    "id": "i1Pkh064YUef"
   },
   "source": [
    "② 시각화( Stacked Bar, Mosaic)"
   ]
  },
  {
   "cell_type": "code",
   "execution_count": 76,
   "metadata": {
    "id": "kJPjE5ygYUeg"
   },
   "outputs": [
    {
     "name": "stdout",
     "output_type": "stream",
     "text": [
      "Attrition               0         1\n",
      "WorkLifeBalance                    \n",
      "1                0.710145  0.289855\n",
      "2                0.845118  0.154882\n",
      "3                0.855422  0.144578\n",
      "4                0.810219  0.189781\n"
     ]
    },
    {
     "data": {
      "image/png": "[encoded data removed]",
      "text/plain": [
       "<Figure size 432x288 with 1 Axes>"
      ]
     },
     "metadata": {
      "needs_background": "light"
     },
     "output_type": "display_data"
    }
   ],
   "source": [
    "# 1) 집계\n",
    "tmp = pd.crosstab(data[feature], data[target], normalize = 'index')\n",
    "print(tmp)\n",
    "# 2) stacked bar!\n",
    "tmp.plot.bar(stacked=True)\n",
    "\n",
    "# 평균선 추가.\n",
    "plt.axhline(1-data[target].mean(), color = 'r')\n",
    "# plt.text(-0.1,0.51,mobile[target].mean())\n",
    "plt.show()"
   ]
  },
  {
   "cell_type": "code",
   "execution_count": 77,
   "metadata": {
    "id": "0DXJCZT3YUeg",
    "scrolled": false
   },
   "outputs": [
    {
     "data": {
      "image/png": "[encoded data removed]",
      "text/plain": [
       "<Figure size 432x288 with 3 Axes>"
      ]
     },
     "metadata": {
      "needs_background": "light"
     },
     "output_type": "display_data"
    }
   ],
   "source": [
    "\n",
    "mosaic(data,[feature, target])\n",
    "\n",
    "# 평균선 추가\n",
    "plt.axhline(1- data[target].mean(), color = 'r')\n",
    "plt.show()"
   ]
  },
  {
   "cell_type": "markdown",
   "metadata": {},
   "source": [
    "> * 워라밸에 부정적인 평가를 한 직원들의 이직률이 다른 요소들에 비해 높게 나왔다."
   ]
  },
  {
   "cell_type": "markdown",
   "metadata": {},
   "source": [
    "③ 가설검정(카이제곱검정)"
   ]
  },
  {
   "cell_type": "code",
   "execution_count": 78,
   "metadata": {},
   "outputs": [
    {
     "name": "stdout",
     "output_type": "stream",
     "text": [
      "교차표\n",
      " WorkLifeBalance   1    2    3    4\n",
      "Attrition                         \n",
      "0                49  251  639  111\n",
      "1                20   46  108   26\n",
      "----------------------------------------------------------------------------------------------------\n",
      "카이제곱통계량 10.940810822342662\n",
      "p-value 0.012050277390233672\n",
      "기대빈도\n",
      " [[ 57.96 249.48 627.48 115.08]\n",
      " [ 11.04  47.52 119.52  21.92]]\n"
     ]
    }
   ],
   "source": [
    "table = pd.crosstab(data[target], data[feature])\n",
    "print('교차표\\n', table)\n",
    "print('-' * 100)\n",
    "\n",
    "result = spst.chi2_contingency(table)\n",
    "print('카이제곱통계량', result[0])\n",
    "print('p-value', result[1])\n",
    "print('기대빈도\\n',result[3])"
   ]
  },
  {
   "cell_type": "markdown",
   "metadata": {},
   "source": [
    "④ 시각화와 가설검정을 통해서 파악한 내용을 적어 봅시다."
   ]
  },
  {
   "cell_type": "markdown",
   "metadata": {},
   "source": [
    "> * 검정결과 p-value 값이 0.012로 유의수준인 0.05보다 작기 때문에 워라밸은 이직여부에 약한 영향을 미칠 수 있다."
   ]
  },
  {
   "cell_type": "markdown",
   "metadata": {
    "id": "lUsQ0iBHMqte"
   },
   "source": [
    "### (2) 숫자형 Feature --> target\n",
    "\n",
    "* 숫자형 Feature에 대해서 Y와 비교하여 차트를 그리고 수치화 하시오.  \n",
    "    ① 그래프 : histogram, densityplot   \n",
    "    ② 수치화 : 로지스틱회귀"
   ]
  },
  {
   "cell_type": "markdown",
   "metadata": {
    "id": "v6cXSmzdNlNC"
   },
   "source": [
    "#### 1) feature --> target"
   ]
  },
  {
   "cell_type": "code",
   "execution_count": 79,
   "metadata": {
    "id": "yXxZ-66_NlNC"
   },
   "outputs": [],
   "source": [
    "# 숫자형 데이터\n",
    "feature = 'DistanceFromHome'"
   ]
  },
  {
   "cell_type": "markdown",
   "metadata": {
    "id": "eRlncc70NlNC"
   },
   "source": [
    "① 그래프 : histogram, densityplot"
   ]
  },
  {
   "cell_type": "code",
   "execution_count": 80,
   "metadata": {
    "id": "vLuNUvPQNlNC"
   },
   "outputs": [
    {
     "data": {
      "image/png": "[encoded data removed]",
      "text/plain": [
       "<Figure size 432x288 with 1 Axes>"
      ]
     },
     "metadata": {
      "needs_background": "light"
     },
     "output_type": "display_data"
    }
   ],
   "source": [
    "# histogram 시각화 분석\n",
    "sns.histplot(x = feature, data = data, bins = 30, hue = target) # hue : target 별로 나눠서 그리기\n",
    "plt.axvline(data[feature].mean(), color='r')\n",
    "plt.show()"
   ]
  },
  {
   "cell_type": "code",
   "execution_count": 81,
   "metadata": {},
   "outputs": [
    {
     "data": {
      "image/png": "[encoded data removed]",
      "text/plain": [
       "<Figure size 432x288 with 1 Axes>"
      ]
     },
     "metadata": {
      "needs_background": "light"
     },
     "output_type": "display_data"
    },
    {
     "data": {
      "image/png": "[encoded data removed]",
      "text/plain": [
       "<Figure size 432x288 with 1 Axes>"
      ]
     },
     "metadata": {
      "needs_background": "light"
     },
     "output_type": "display_data"
    }
   ],
   "source": [
    "sns.kdeplot(x = feature, data = data, hue = target, common_norm = True)\n",
    "plt.show()\n",
    "# densityplot 시각화 분석 common_norm = False -> 두 그래프 각각 아래 면적의 합이 1 \n",
    "sns.kdeplot(x = feature, data = data, hue = target, common_norm = False)\n",
    "plt.show()"
   ]
  },
  {
   "cell_type": "markdown",
   "metadata": {},
   "source": [
    "> * 전체적으로 이직하지 않은 직원들의 수가 이직한 직원들의 수 보다 많은 부분을 차지하지만 밀도 그래프에서 정규화를 하면 10 마일 보다 먼 지역에 거주하는 직원들의 이직 비율이 더 큰 부분을 차지하고 있다."
   ]
  },
  {
   "cell_type": "markdown",
   "metadata": {},
   "source": [
    "② 수치화 : 로지스틱회귀"
   ]
  },
  {
   "cell_type": "code",
   "execution_count": 82,
   "metadata": {},
   "outputs": [
    {
     "name": "stdout",
     "output_type": "stream",
     "text": [
      "Optimization terminated successfully.\n",
      "         Current function value: 0.568793\n",
      "         Iterations 6\n",
      "------------------------------\n",
      "DistanceFromHome    2.694280e-44\n",
      "dtype: float64\n"
     ]
    }
   ],
   "source": [
    "model = data.loc[data[feature].notnull()]\n",
    "# 로지스틱 모형을 만들고 통계량을 구해 봅시다.\n",
    "model = sm.Logit(model[target], model[feature])\n",
    "result = model.fit()\n",
    "print('-'*30)\n",
    "print(result.pvalues)"
   ]
  },
  {
   "cell_type": "markdown",
   "metadata": {},
   "source": [
    "③ 시각화와 수치화를 통해 파악한 내용을 적어 봅시다."
   ]
  },
  {
   "cell_type": "markdown",
   "metadata": {},
   "source": [
    "> * p-value 가 유의수준 0.05보다 작으므로 직장-집의 거리가 이직에 미치는 영향이 유의미하다고 볼 수 있다."
   ]
  },
  {
   "cell_type": "markdown",
   "metadata": {
    "id": "CPkwhq72NlNC"
   },
   "source": [
    "#### 2) feature --> target"
   ]
  },
  {
   "cell_type": "code",
   "execution_count": 83,
   "metadata": {
    "id": "pfcwvewSNlNC"
   },
   "outputs": [],
   "source": [
    "# 숫자형 데이터\n",
    "feature = 'NumCompaniesWorked'"
   ]
  },
  {
   "cell_type": "markdown",
   "metadata": {
    "id": "b5lRCrwDNlND"
   },
   "source": [
    "① 그래프 : histogram, densityplot"
   ]
  },
  {
   "cell_type": "code",
   "execution_count": 84,
   "metadata": {
    "id": "DDZF6EPcNlND",
    "scrolled": true
   },
   "outputs": [
    {
     "data": {
      "image/png": "[encoded data removed]",
      "text/plain": [
       "<Figure size 432x288 with 1 Axes>"
      ]
     },
     "metadata": {
      "needs_background": "light"
     },
     "output_type": "display_data"
    }
   ],
   "source": [
    "# histogram 시각화 분석\n",
    "sns.histplot(x = feature, data = data, bins = 10, hue = target) # hue : target 별로 나눠서 그리기\n",
    "plt.show()"
   ]
  },
  {
   "cell_type": "code",
   "execution_count": 85,
   "metadata": {},
   "outputs": [
    {
     "data": {
      "image/png": "[encoded data removed]",
      "text/plain": [
       "<Figure size 432x288 with 1 Axes>"
      ]
     },
     "metadata": {
      "needs_background": "light"
     },
     "output_type": "display_data"
    }
   ],
   "source": [
    "# densityplot 시각화 분석 common_norm = False -> 두 그래프 각각 아래 면적의 합이 1 \n",
    "sns.kdeplot(x = feature, data = data, hue = target, common_norm = False)\n",
    "plt.show()"
   ]
  },
  {
   "cell_type": "markdown",
   "metadata": {},
   "source": [
    "> * 전체적으로 이직하지 않은 직원들의 수가 이직한 직원들의 수 보다 많은 부분을 \n",
    "차지하지만 밀도 그래프에서 입사 전 근무한 회사 수가 4개 이상의 직원들의 이직 비율이 더 큰 부분을 차지하고 있다."
   ]
  },
  {
   "cell_type": "markdown",
   "metadata": {},
   "source": [
    "② 수치화 : 로지스틱회귀"
   ]
  },
  {
   "cell_type": "code",
   "execution_count": 86,
   "metadata": {},
   "outputs": [
    {
     "name": "stdout",
     "output_type": "stream",
     "text": [
      "Optimization terminated successfully.\n",
      "         Current function value: 0.564716\n",
      "         Iterations 6\n",
      "------------------------------\n",
      "NumCompaniesWorked    2.545612e-45\n",
      "dtype: float64\n"
     ]
    }
   ],
   "source": [
    "model = data.loc[data[feature].notnull()]\n",
    "# 로지스틱 모형을 만들고 통계량을 구해 봅시다.\n",
    "model = sm.Logit(model[target], model[feature])\n",
    "result = model.fit()\n",
    "print('-'*30)\n",
    "print(result.pvalues)"
   ]
  },
  {
   "cell_type": "markdown",
   "metadata": {},
   "source": [
    "③ 시각화와 수치화를 통해 파악한 내용을 적어 봅시다."
   ]
  },
  {
   "cell_type": "markdown",
   "metadata": {},
   "source": [
    "> * p-value 가 유의수준 0.05보다 작으므로 입사 전 근무한 회사 수가 이직에 미치는 영향이 유의미하다고 볼 수 있다."
   ]
  },
  {
   "cell_type": "markdown",
   "metadata": {
    "id": "KF1sV61jNlND"
   },
   "source": [
    "#### 3) feature --> target"
   ]
  },
  {
   "cell_type": "code",
   "execution_count": 87,
   "metadata": {
    "id": "oH7UBCEYNlND"
   },
   "outputs": [],
   "source": [
    "# 숫자형 데이터\n",
    "feature = 'TotalWorkingYears'"
   ]
  },
  {
   "cell_type": "markdown",
   "metadata": {
    "id": "zDLq_B2DNlND"
   },
   "source": [
    "① 그래프 : histogram, densityplot"
   ]
  },
  {
   "cell_type": "code",
   "execution_count": 88,
   "metadata": {
    "id": "nVMfhdXnNlND"
   },
   "outputs": [
    {
     "data": {
      "image/png": "[encoded data removed]",
      "text/plain": [
       "<Figure size 432x288 with 1 Axes>"
      ]
     },
     "metadata": {
      "needs_background": "light"
     },
     "output_type": "display_data"
    }
   ],
   "source": [
    "# histogram 시각화 분석\n",
    "sns.histplot(x = feature, data = data, bins = 30, hue = target) # hue : target 별로 나눠서 그리기\n",
    "plt.axvline(data[feature].mean(), color='r')\n",
    "plt.show()"
   ]
  },
  {
   "cell_type": "code",
   "execution_count": 89,
   "metadata": {},
   "outputs": [
    {
     "data": {
      "image/png": "[encoded data removed]",
      "text/plain": [
       "<Figure size 432x288 with 1 Axes>"
      ]
     },
     "metadata": {
      "needs_background": "light"
     },
     "output_type": "display_data"
    }
   ],
   "source": [
    "# densityplot 시각화 분석 common_norm = False -> 두 그래프 각각 아래 면적의 합이 1 \n",
    "sns.kdeplot(x = feature, data = data, hue = target, common_norm = False)\n",
    "plt.show()"
   ]
  },
  {
   "cell_type": "markdown",
   "metadata": {},
   "source": [
    "> * 총 경력 연수가 0인, 즉 신입사원들의 경우에는 경력이 있는 직원들의 비해 이직할 확률이 높은 것으로 볼 수 있다.\n",
    "> * 신입사원들의 이직 이유에 대해 조사해 볼 필요가 있다."
   ]
  },
  {
   "cell_type": "markdown",
   "metadata": {},
   "source": [
    "② 수치화 : 로지스틱회귀"
   ]
  },
  {
   "cell_type": "code",
   "execution_count": 90,
   "metadata": {},
   "outputs": [
    {
     "name": "stdout",
     "output_type": "stream",
     "text": [
      "Optimization terminated successfully.\n",
      "         Current function value: 0.432906\n",
      "         Iterations 6\n",
      "------------------------------\n",
      "TotalWorkingYears    1.867338e-74\n",
      "dtype: float64\n"
     ]
    }
   ],
   "source": [
    "model = data.loc[data[feature].notnull()]\n",
    "# 로지스틱 모형을 만들고 통계량을 구해 봅시다.\n",
    "model = sm.Logit(model[target], model[feature])\n",
    "result = model.fit()\n",
    "print('-'*30)\n",
    "print(result.pvalues)"
   ]
  },
  {
   "cell_type": "markdown",
   "metadata": {},
   "source": [
    "③ 시각화와 수치화를 통해 파악한 내용을 적어 봅시다."
   ]
  },
  {
   "cell_type": "markdown",
   "metadata": {},
   "source": [
    "> * p-value 가 유의수준 0.05보다 작으므로 입사 전 근무한 회사 수가 이직에 미치는 영향이 유의미하다고 볼 수 있다.\n",
    "> * 총 경력 연수가 0인 신입사원들의 이직은 분위기, 직무, 환경 등 다양한 이유로 인해 적응하지 못한 결과로 예측된다.\n",
    "> * 입사 후 1년 정도의 기간을 적응하게 되면 이직하지 않을 확률이 충분히 높다고 판단할 수 있다."
   ]
  },
  {
   "cell_type": "markdown",
   "metadata": {
    "id": "z_AAGNYHVrSn"
   },
   "source": [
    "#### 4)  feature --> target"
   ]
  },
  {
   "cell_type": "code",
   "execution_count": 91,
   "metadata": {
    "id": "M9bBw9A1VrSn"
   },
   "outputs": [],
   "source": [
    "# 숫자형 데이터\n",
    "feature = 'PercentSalaryHike'"
   ]
  },
  {
   "cell_type": "markdown",
   "metadata": {
    "id": "UPtOy3iIVrSn"
   },
   "source": [
    "① 그래프 : histogram, densityplot"
   ]
  },
  {
   "cell_type": "code",
   "execution_count": 92,
   "metadata": {
    "id": "wJPgAK_NVrSn"
   },
   "outputs": [
    {
     "data": {
      "image/png": "[encoded data removed]",
      "text/plain": [
       "<Figure size 432x288 with 1 Axes>"
      ]
     },
     "metadata": {
      "needs_background": "light"
     },
     "output_type": "display_data"
    }
   ],
   "source": [
    "# histogram 시각화 분석\n",
    "sns.histplot(x = feature, data = data, bins = 15, hue = target) # hue : target 별로 나눠서 그리기\n",
    "plt.axvline(data[feature].mean(), color='r')\n",
    "plt.show()"
   ]
  },
  {
   "cell_type": "code",
   "execution_count": 93,
   "metadata": {},
   "outputs": [
    {
     "data": {
      "image/png": "[encoded data removed]",
      "text/plain": [
       "<Figure size 432x288 with 1 Axes>"
      ]
     },
     "metadata": {
      "needs_background": "light"
     },
     "output_type": "display_data"
    }
   ],
   "source": [
    "# densityplot 시각화 분석 common_norm = False -> 두 그래프 각각 아래 면적의 합이 1 \n",
    "sns.kdeplot(x = feature, data = data, hue = target, common_norm = False)\n",
    "plt.show()"
   ]
  },
  {
   "cell_type": "markdown",
   "metadata": {},
   "source": [
    "> * 15% 이후로 이직율의 cross 되는 점을 여러번 볼 수 있다.\n",
    "> * 22% 이후에는 급여인상율이 높음에도 불구하고 이직하는 비율이 더 크다"
   ]
  },
  {
   "cell_type": "markdown",
   "metadata": {},
   "source": [
    "② 수치화 : 로지스틱회귀"
   ]
  },
  {
   "cell_type": "code",
   "execution_count": 94,
   "metadata": {},
   "outputs": [
    {
     "name": "stdout",
     "output_type": "stream",
     "text": [
      "Optimization terminated successfully.\n",
      "         Current function value: 0.450230\n",
      "         Iterations 5\n",
      "------------------------------\n",
      "PercentSalaryHike    3.979995e-95\n",
      "dtype: float64\n"
     ]
    }
   ],
   "source": [
    "model = data.loc[data[feature].notnull()]\n",
    "# 로지스틱 모형을 만들고 통계량을 구해 봅시다.\n",
    "model = sm.Logit(model[target], model[feature])\n",
    "result = model.fit()\n",
    "print('-'*30)\n",
    "print(result.pvalues)"
   ]
  },
  {
   "cell_type": "markdown",
   "metadata": {},
   "source": [
    "③ 시각화와 수치화를 통해 파악한 내용을 적어 봅시다."
   ]
  },
  {
   "cell_type": "markdown",
   "metadata": {},
   "source": [
    "> * 검정결과 p-value가 충분히 작으므로 전년대비 급여인상율은 이직여부에 큰 영향을 미칠 수 있다.\n"
   ]
  },
  {
   "cell_type": "markdown",
   "metadata": {
    "id": "Jd4WbbU-jqU3"
   },
   "source": [
    "## 4.관계 정리"
   ]
  },
  {
   "cell_type": "markdown",
   "metadata": {
    "id": "bKmN0rtAjto6"
   },
   "source": [
    "### 1) 강한관계의 변수"
   ]
  },
  {
   "cell_type": "markdown",
   "metadata": {
    "id": "H_12vyYtVuub"
   },
   "source": [
    "> * DistanceFromHome (집-직장 거리)\n",
    "> * NumCompaniesWorked (입사 전 근무한 회사 수)\n",
    "> * OverTime (야근여부)\n",
    "> * PercentSalaryHike (전년대비 급여인상율)"
   ]
  },
  {
   "cell_type": "markdown",
   "metadata": {
    "id": "u8B765zNjwp5"
   },
   "source": [
    "### 2) 약한관계의 변수"
   ]
  },
  {
   "cell_type": "markdown",
   "metadata": {
    "id": "YHyp2PzLVvHq"
   },
   "source": [
    "> * JobSatisfaction (직무 만족도)\n",
    "> * WorkLifeBalance (워라밸. 일-삶 균형도)"
   ]
  },
  {
   "cell_type": "markdown",
   "metadata": {
    "id": "eYiQ9OUijwdq"
   },
   "source": [
    "### 3) 관계 없음"
   ]
  },
  {
   "cell_type": "markdown",
   "metadata": {
    "id": "LUZVsuUaVwCj"
   },
   "source": [
    "> * RelationshipSatisfaction (동료와의 관계)"
   ]
  }
 ],
 "metadata": {
  "colab": {
   "collapsed_sections": [
    "BP8iBi7We3AI",
    "TLlMg3cNMoRg",
    "nJmYs7WgMzti",
    "0q616kYrM0VR",
    "53vrba7gM04Z",
    "opTBFVXvM1mx",
    "NFGBwz34YJG3",
    "CVRxxOC5NFf6",
    "akKd5uoTYF-5",
    "wUj9QWE4NFIh",
    "GhWOVHzuYcp9",
    "Dh2UW7_S-yoq",
    "liItz0vkNX2F",
    "TplEQHKlNYgN",
    "4satnDSlVnJW",
    "w8sOe-7_YUef",
    "v6cXSmzdNlNC",
    "CPkwhq72NlNC",
    "KF1sV61jNlND",
    "z_AAGNYHVrSn",
    "7IyXlOS1YXcx"
   ],
   "name": "과제3. 직원 이직 분석.ipynb",
   "provenance": [],
   "toc_visible": true
  },
  "kernelspec": {
   "display_name": "Python 3",
   "language": "python",
   "name": "python3"
  },
  "language_info": {
   "codemirror_mode": {
    "name": "ipython",
    "version": 3
   },
   "file_extension": ".py",
   "mimetype": "text/x-python",
   "name": "python",
   "nbconvert_exporter": "python",
   "pygments_lexer": "ipython3",
   "version": "3.8.8"
  }
 },
 "nbformat": 4,
 "nbformat_minor": 1
}

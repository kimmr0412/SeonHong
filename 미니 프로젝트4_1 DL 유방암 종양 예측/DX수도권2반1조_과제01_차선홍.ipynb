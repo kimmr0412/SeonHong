{
 "cells": [
  {
   "cell_type": "markdown",
   "metadata": {
    "id": "XZ7tAmJDypSo"
   },
   "source": [
    "# 유방암 종양 예측\n",
    "\n",
    "## 악성 종양인지, 양성 종양(정상)인지 예측"
   ]
  },
  {
   "cell_type": "markdown",
   "metadata": {
    "id": "lyYyOsXgy9Vx"
   },
   "source": [
    "## 데이터셋 불러오기\n",
    "\n",
    "* radius : 반경\n",
    "* texture : 질감\n",
    "* perimeter : 둘레\n",
    "* area : 면적\n",
    "* smoothness : 매끄러움\n",
    "* compactness : 조그만 정도\n",
    "* concavity : 윤곽의 오목함\n",
    "* concave points : 윤곽의 오목한 부분의 수\n",
    "* symmetry : 대칭\n",
    "* fractal dimension : 프랙탈 차원\n",
    "* target : Malignant-악성 종양 / Benign-양성 종양(정상)\n",
    "---\n",
    "* mean ~ : 데이터별 평균 값\n",
    "* ~ error : 데이터별 표준편차 값\n",
    "* worst ~ : 데이터별 가장 큰 3개의 평균으로 만든 값"
   ]
  },
  {
   "cell_type": "code",
   "execution_count": 26,
   "metadata": {
    "id": "9qac0OkvzCK3"
   },
   "outputs": [],
   "source": [
    "import pandas as pd\n",
    "import numpy as np"
   ]
  },
  {
   "cell_type": "code",
   "execution_count": 27,
   "metadata": {
    "id": "Lv7VQADpzH_W"
   },
   "outputs": [
    {
     "data": {
      "text/html": [
       "<div>\n",
       "<style scoped>\n",
       "    .dataframe tbody tr th:only-of-type {\n",
       "        vertical-align: middle;\n",
       "    }\n",
       "\n",
       "    .dataframe tbody tr th {\n",
       "        vertical-align: top;\n",
       "    }\n",
       "\n",
       "    .dataframe thead th {\n",
       "        text-align: right;\n",
       "    }\n",
       "</style>\n",
       "<table border=\"1\" class=\"dataframe\">\n",
       "  <thead>\n",
       "    <tr style=\"text-align: right;\">\n",
       "      <th></th>\n",
       "      <th>mean radius</th>\n",
       "      <th>mean texture</th>\n",
       "      <th>mean perimeter</th>\n",
       "      <th>mean area</th>\n",
       "      <th>mean smoothness</th>\n",
       "      <th>mean compactness</th>\n",
       "      <th>mean concavity</th>\n",
       "      <th>mean concave points</th>\n",
       "      <th>mean symmetry</th>\n",
       "      <th>mean fractal dimension</th>\n",
       "      <th>...</th>\n",
       "      <th>worst texture</th>\n",
       "      <th>worst perimeter</th>\n",
       "      <th>worst area</th>\n",
       "      <th>worst smoothness</th>\n",
       "      <th>worst compactness</th>\n",
       "      <th>worst concavity</th>\n",
       "      <th>worst concave points</th>\n",
       "      <th>worst symmetry</th>\n",
       "      <th>worst fractal dimension</th>\n",
       "      <th>target</th>\n",
       "    </tr>\n",
       "  </thead>\n",
       "  <tbody>\n",
       "    <tr>\n",
       "      <th>0</th>\n",
       "      <td>17.99</td>\n",
       "      <td>10.38</td>\n",
       "      <td>122.80</td>\n",
       "      <td>1001.0</td>\n",
       "      <td>0.11840</td>\n",
       "      <td>0.27760</td>\n",
       "      <td>0.3001</td>\n",
       "      <td>0.14710</td>\n",
       "      <td>0.2419</td>\n",
       "      <td>0.07871</td>\n",
       "      <td>...</td>\n",
       "      <td>17.33</td>\n",
       "      <td>184.60</td>\n",
       "      <td>2019.0</td>\n",
       "      <td>0.1622</td>\n",
       "      <td>0.6656</td>\n",
       "      <td>0.7119</td>\n",
       "      <td>0.2654</td>\n",
       "      <td>0.4601</td>\n",
       "      <td>0.11890</td>\n",
       "      <td>Malignant</td>\n",
       "    </tr>\n",
       "    <tr>\n",
       "      <th>1</th>\n",
       "      <td>20.57</td>\n",
       "      <td>17.77</td>\n",
       "      <td>132.90</td>\n",
       "      <td>1326.0</td>\n",
       "      <td>0.08474</td>\n",
       "      <td>0.07864</td>\n",
       "      <td>0.0869</td>\n",
       "      <td>0.07017</td>\n",
       "      <td>0.1812</td>\n",
       "      <td>0.05667</td>\n",
       "      <td>...</td>\n",
       "      <td>23.41</td>\n",
       "      <td>158.80</td>\n",
       "      <td>1956.0</td>\n",
       "      <td>0.1238</td>\n",
       "      <td>0.1866</td>\n",
       "      <td>0.2416</td>\n",
       "      <td>0.1860</td>\n",
       "      <td>0.2750</td>\n",
       "      <td>0.08902</td>\n",
       "      <td>Malignant</td>\n",
       "    </tr>\n",
       "    <tr>\n",
       "      <th>2</th>\n",
       "      <td>19.69</td>\n",
       "      <td>21.25</td>\n",
       "      <td>130.00</td>\n",
       "      <td>1203.0</td>\n",
       "      <td>0.10960</td>\n",
       "      <td>0.15990</td>\n",
       "      <td>0.1974</td>\n",
       "      <td>0.12790</td>\n",
       "      <td>0.2069</td>\n",
       "      <td>0.05999</td>\n",
       "      <td>...</td>\n",
       "      <td>25.53</td>\n",
       "      <td>152.50</td>\n",
       "      <td>1709.0</td>\n",
       "      <td>0.1444</td>\n",
       "      <td>0.4245</td>\n",
       "      <td>0.4504</td>\n",
       "      <td>0.2430</td>\n",
       "      <td>0.3613</td>\n",
       "      <td>0.08758</td>\n",
       "      <td>Malignant</td>\n",
       "    </tr>\n",
       "    <tr>\n",
       "      <th>3</th>\n",
       "      <td>11.42</td>\n",
       "      <td>20.38</td>\n",
       "      <td>77.58</td>\n",
       "      <td>386.1</td>\n",
       "      <td>0.14250</td>\n",
       "      <td>0.28390</td>\n",
       "      <td>0.2414</td>\n",
       "      <td>0.10520</td>\n",
       "      <td>0.2597</td>\n",
       "      <td>0.09744</td>\n",
       "      <td>...</td>\n",
       "      <td>26.50</td>\n",
       "      <td>98.87</td>\n",
       "      <td>567.7</td>\n",
       "      <td>0.2098</td>\n",
       "      <td>0.8663</td>\n",
       "      <td>0.6869</td>\n",
       "      <td>0.2575</td>\n",
       "      <td>0.6638</td>\n",
       "      <td>0.17300</td>\n",
       "      <td>Malignant</td>\n",
       "    </tr>\n",
       "    <tr>\n",
       "      <th>4</th>\n",
       "      <td>20.29</td>\n",
       "      <td>14.34</td>\n",
       "      <td>135.10</td>\n",
       "      <td>1297.0</td>\n",
       "      <td>0.10030</td>\n",
       "      <td>0.13280</td>\n",
       "      <td>0.1980</td>\n",
       "      <td>0.10430</td>\n",
       "      <td>0.1809</td>\n",
       "      <td>0.05883</td>\n",
       "      <td>...</td>\n",
       "      <td>16.67</td>\n",
       "      <td>152.20</td>\n",
       "      <td>1575.0</td>\n",
       "      <td>0.1374</td>\n",
       "      <td>0.2050</td>\n",
       "      <td>0.4000</td>\n",
       "      <td>0.1625</td>\n",
       "      <td>0.2364</td>\n",
       "      <td>0.07678</td>\n",
       "      <td>Malignant</td>\n",
       "    </tr>\n",
       "  </tbody>\n",
       "</table>\n",
       "<p>5 rows × 31 columns</p>\n",
       "</div>"
      ],
      "text/plain": [
       "   mean radius  mean texture  mean perimeter  mean area  mean smoothness  \\\n",
       "0        17.99         10.38          122.80     1001.0          0.11840   \n",
       "1        20.57         17.77          132.90     1326.0          0.08474   \n",
       "2        19.69         21.25          130.00     1203.0          0.10960   \n",
       "3        11.42         20.38           77.58      386.1          0.14250   \n",
       "4        20.29         14.34          135.10     1297.0          0.10030   \n",
       "\n",
       "   mean compactness  mean concavity  mean concave points  mean symmetry  \\\n",
       "0           0.27760          0.3001              0.14710         0.2419   \n",
       "1           0.07864          0.0869              0.07017         0.1812   \n",
       "2           0.15990          0.1974              0.12790         0.2069   \n",
       "3           0.28390          0.2414              0.10520         0.2597   \n",
       "4           0.13280          0.1980              0.10430         0.1809   \n",
       "\n",
       "   mean fractal dimension  ...  worst texture  worst perimeter  worst area  \\\n",
       "0                 0.07871  ...          17.33           184.60      2019.0   \n",
       "1                 0.05667  ...          23.41           158.80      1956.0   \n",
       "2                 0.05999  ...          25.53           152.50      1709.0   \n",
       "3                 0.09744  ...          26.50            98.87       567.7   \n",
       "4                 0.05883  ...          16.67           152.20      1575.0   \n",
       "\n",
       "   worst smoothness  worst compactness  worst concavity  worst concave points  \\\n",
       "0            0.1622             0.6656           0.7119                0.2654   \n",
       "1            0.1238             0.1866           0.2416                0.1860   \n",
       "2            0.1444             0.4245           0.4504                0.2430   \n",
       "3            0.2098             0.8663           0.6869                0.2575   \n",
       "4            0.1374             0.2050           0.4000                0.1625   \n",
       "\n",
       "   worst symmetry  worst fractal dimension     target  \n",
       "0          0.4601                  0.11890  Malignant  \n",
       "1          0.2750                  0.08902  Malignant  \n",
       "2          0.3613                  0.08758  Malignant  \n",
       "3          0.6638                  0.17300  Malignant  \n",
       "4          0.2364                  0.07678  Malignant  \n",
       "\n",
       "[5 rows x 31 columns]"
      ]
     },
     "execution_count": 27,
     "metadata": {},
     "output_type": "execute_result"
    }
   ],
   "source": [
    "data = pd.read_csv('https://raw.githubusercontent.com/DrKAI/dataset/main/breast_cancer.csv')\n",
    "\n",
    "data.head()"
   ]
  },
  {
   "cell_type": "code",
   "execution_count": 28,
   "metadata": {
    "id": "hF1C2qsSzUk7"
   },
   "outputs": [
    {
     "name": "stdout",
     "output_type": "stream",
     "text": [
      "<class 'pandas.core.frame.DataFrame'>\n",
      "RangeIndex: 569 entries, 0 to 568\n",
      "Data columns (total 31 columns):\n",
      " #   Column                   Non-Null Count  Dtype  \n",
      "---  ------                   --------------  -----  \n",
      " 0   mean radius              569 non-null    float64\n",
      " 1   mean texture             569 non-null    float64\n",
      " 2   mean perimeter           569 non-null    float64\n",
      " 3   mean area                569 non-null    float64\n",
      " 4   mean smoothness          569 non-null    float64\n",
      " 5   mean compactness         569 non-null    float64\n",
      " 6   mean concavity           569 non-null    float64\n",
      " 7   mean concave points      569 non-null    float64\n",
      " 8   mean symmetry            569 non-null    float64\n",
      " 9   mean fractal dimension   569 non-null    float64\n",
      " 10  radius error             569 non-null    float64\n",
      " 11  texture error            569 non-null    float64\n",
      " 12  perimeter error          569 non-null    float64\n",
      " 13  area error               569 non-null    float64\n",
      " 14  smoothness error         569 non-null    float64\n",
      " 15  compactness error        569 non-null    float64\n",
      " 16  concavity error          569 non-null    float64\n",
      " 17  concave points error     569 non-null    float64\n",
      " 18  symmetry error           569 non-null    float64\n",
      " 19  fractal dimension error  569 non-null    float64\n",
      " 20  worst radius             569 non-null    float64\n",
      " 21  worst texture            569 non-null    float64\n",
      " 22  worst perimeter          569 non-null    float64\n",
      " 23  worst area               569 non-null    float64\n",
      " 24  worst smoothness         569 non-null    float64\n",
      " 25  worst compactness        569 non-null    float64\n",
      " 26  worst concavity          569 non-null    float64\n",
      " 27  worst concave points     569 non-null    float64\n",
      " 28  worst symmetry           569 non-null    float64\n",
      " 29  worst fractal dimension  569 non-null    float64\n",
      " 30  target                   569 non-null    object \n",
      "dtypes: float64(30), object(1)\n",
      "memory usage: 137.9+ KB\n"
     ]
    }
   ],
   "source": [
    "data.info()"
   ]
  },
  {
   "cell_type": "markdown",
   "metadata": {
    "id": "wvsEjq9CzJy3"
   },
   "source": [
    "## 데이터 전처리\n",
    "\n",
    "<details><summary>Hint</summary>\n",
    "\n",
    "* x, y 구분 필요 -> x - data, y - target 구분\n",
    "* y에 대한 전처리 필요 -> One_Hot Encoding\n",
    "* 데이터셋 구분 필요 -> train / test set 구분\n",
    "\n",
    "</details>"
   ]
  },
  {
   "cell_type": "code",
   "execution_count": 29,
   "metadata": {},
   "outputs": [
    {
     "data": {
      "text/plain": [
       "Index(['mean radius', 'mean texture', 'mean perimeter', 'mean area',\n",
       "       'mean smoothness', 'mean compactness', 'mean concavity',\n",
       "       'mean concave points', 'mean symmetry', 'mean fractal dimension',\n",
       "       'radius error', 'texture error', 'perimeter error', 'area error',\n",
       "       'smoothness error', 'compactness error', 'concavity error',\n",
       "       'concave points error', 'symmetry error', 'fractal dimension error',\n",
       "       'worst radius', 'worst texture', 'worst perimeter', 'worst area',\n",
       "       'worst smoothness', 'worst compactness', 'worst concavity',\n",
       "       'worst concave points', 'worst symmetry', 'worst fractal dimension',\n",
       "       'target'],\n",
       "      dtype='object')"
      ]
     },
     "execution_count": 29,
     "metadata": {},
     "output_type": "execute_result"
    }
   ],
   "source": [
    "data.columns"
   ]
  },
  {
   "cell_type": "code",
   "execution_count": 30,
   "metadata": {
    "id": "sjyEQ8S0MyVp"
   },
   "outputs": [
    {
     "data": {
      "text/plain": [
       "((569, 30), (569,))"
      ]
     },
     "execution_count": 30,
     "metadata": {},
     "output_type": "execute_result"
    }
   ],
   "source": [
    "# x, y 구분\n",
    "x = data.drop('target', axis = 1)\n",
    "y = data.target\n",
    "\n",
    "x.shape, y.shape"
   ]
  },
  {
   "cell_type": "code",
   "execution_count": 31,
   "metadata": {},
   "outputs": [],
   "source": [
    "# y 에 대한 전처리 \n",
    "y.replace({'Malignant':1,'Benign':0}, inplace=True)"
   ]
  },
  {
   "cell_type": "code",
   "execution_count": 32,
   "metadata": {},
   "outputs": [],
   "source": [
    "# train / test set 구분\n",
    "from sklearn.model_selection import train_test_split\n",
    "\n",
    "x_train, x_test, y_train, y_test = train_test_split(x, y, test_size=0.2, random_state=2022)"
   ]
  },
  {
   "cell_type": "code",
   "execution_count": 33,
   "metadata": {},
   "outputs": [
    {
     "data": {
      "text/plain": [
       "((455, 30), (114, 30), (455,), (114,))"
      ]
     },
     "execution_count": 33,
     "metadata": {},
     "output_type": "execute_result"
    }
   ],
   "source": [
    "x_train.shape, x_test.shape, y_train.shape, y_test.shape"
   ]
  },
  {
   "cell_type": "markdown",
   "metadata": {
    "id": "UMxtGX8n7ZO7"
   },
   "source": [
    "## Locally connected layer를 구성하기 위한 feature 설정\n",
    "\n",
    "* mean, error, worst를 각 feature별로 묶어 새로운 변수를 만든다.\n",
    "        ex) mean radius, radius error, worst radius\n",
    "\n",
    "<details><summary> Hint </summary>\n",
    "\n",
    "* x의 train 구조와 test 구조는 동일해야 한다.\n",
    "\n",
    "</details>"
   ]
  },
  {
   "cell_type": "code",
   "execution_count": 34,
   "metadata": {},
   "outputs": [
    {
     "data": {
      "text/plain": [
       "Index(['mean radius', 'mean texture', 'mean perimeter', 'mean area',\n",
       "       'mean smoothness', 'mean compactness', 'mean concavity',\n",
       "       'mean concave points', 'mean symmetry', 'mean fractal dimension',\n",
       "       'radius error', 'texture error', 'perimeter error', 'area error',\n",
       "       'smoothness error', 'compactness error', 'concavity error',\n",
       "       'concave points error', 'symmetry error', 'fractal dimension error',\n",
       "       'worst radius', 'worst texture', 'worst perimeter', 'worst area',\n",
       "       'worst smoothness', 'worst compactness', 'worst concavity',\n",
       "       'worst concave points', 'worst symmetry', 'worst fractal dimension'],\n",
       "      dtype='object')"
      ]
     },
     "execution_count": 34,
     "metadata": {},
     "output_type": "execute_result"
    }
   ],
   "source": [
    "x.columns"
   ]
  },
  {
   "cell_type": "code",
   "execution_count": 35,
   "metadata": {
    "id": "ORdTBNODM0JL"
   },
   "outputs": [],
   "source": [
    "# feature 구분\n",
    "tr_x_radius = x_train[['mean radius','radius error','worst radius']]\n",
    "tr_x_texture = x_train[['mean texture','texture error','worst texture']]\n",
    "tr_x_perimeter = x_train[['mean perimeter','perimeter error','worst perimeter']]\n",
    "tr_x_area = x_train[['mean area','area error','worst area']]\n",
    "tr_x_smoothness = x_train[['mean smoothness','smoothness error','worst smoothness']]\n",
    "tr_x_compactness = x_train[['mean compactness','compactness error','worst compactness']]\n",
    "tr_x_concavity = x_train[['mean concavity','concavity error','worst concavity']]\n",
    "tr_x_concave_points = x_train[['mean concave points','concave points error','worst concave points']]\n",
    "tr_x_symmetry = x_train[['mean symmetry','symmetry error','worst symmetry']]\n",
    "tr_x_fractal_dimension = x_train[['mean fractal dimension','fractal dimension error','worst fractal dimension']]\n",
    "\n"
   ]
  },
  {
   "cell_type": "code",
   "execution_count": 36,
   "metadata": {
    "id": "hmNQKHvHM0D9"
   },
   "outputs": [
    {
     "data": {
      "text/plain": [
       "((455, 3), (455, 3), (455, 3))"
      ]
     },
     "execution_count": 36,
     "metadata": {},
     "output_type": "execute_result"
    }
   ],
   "source": [
    "tr_x_radius.shape, tr_x_texture.shape, tr_x_perimeter.shape"
   ]
  },
  {
   "cell_type": "code",
   "execution_count": 37,
   "metadata": {},
   "outputs": [],
   "source": [
    "te_x_radius = x_test[['mean radius','radius error','worst radius']]\n",
    "te_x_texture = x_test[['mean texture','texture error','worst texture']]\n",
    "te_x_perimeter = x_test[['mean perimeter','perimeter error','worst perimeter']]\n",
    "te_x_area = x_test[['mean area','area error','worst area']]\n",
    "te_x_smoothness = x_test[['mean smoothness','smoothness error','worst smoothness']]\n",
    "te_x_compactness = x_test[['mean compactness','compactness error','worst compactness']]\n",
    "te_x_concavity = x_test[['mean concavity','concavity error','worst concavity']]\n",
    "te_x_concave_points = x_test[['mean concave points','concave points error','worst concave points']]\n",
    "te_x_symmetry = x_test[['mean symmetry','symmetry error','worst symmetry']]\n",
    "te_x_fractal_dimension = x_test[['mean fractal dimension','fractal dimension error','worst fractal dimension']]\n",
    "\n",
    "\n"
   ]
  },
  {
   "cell_type": "code",
   "execution_count": 38,
   "metadata": {},
   "outputs": [
    {
     "data": {
      "text/plain": [
       "((114, 3), (114, 3), (114, 3))"
      ]
     },
     "execution_count": 38,
     "metadata": {},
     "output_type": "execute_result"
    }
   ],
   "source": [
    "te_x_radius.shape, te_x_texture.shape, te_x_perimeter.shape"
   ]
  },
  {
   "cell_type": "markdown",
   "metadata": {
    "id": "pN2YChw-9ACb"
   },
   "source": [
    "## 모델링\n",
    "\n",
    "1. 윗 단계에서 생성한 변수의 **형태**를 이용하여, 각 변수별 input layer를 만든다.\n",
    "2. node가 12개인 hidden layer를 **각각** 생성하여, 각 input layer와 연결한다.\n",
    "3. 생성된 hidden layer를 add 한다.\n",
    "---\n",
    "4. 전체 변수를 이용한 input layer를 만든다.\n",
    "5. 3번 단계로 add 된 레이어와 4번 단계로 만들어진 input layer를 concat한다.\n",
    "---\n",
    "6. node가 128개인 hidden layer를 5번 단계로 concat된 레이어와 연결한다.\n",
    "7. output layer를 생성하고 compile 한다."
   ]
  },
  {
   "cell_type": "code",
   "execution_count": 39,
   "metadata": {
    "id": "AJLLVhBXM12J"
   },
   "outputs": [],
   "source": [
    "from tensorflow.keras.backend import clear_session\n",
    "from tensorflow.keras.models import Model\n",
    "\n",
    "from tensorflow.keras.layers import Input, Dense, Add, Concatenate\n",
    "from tensorflow.keras.activations import relu, softmax\n",
    "\n",
    "from tensorflow.keras.losses import binary_crossentropy\n",
    "from tensorflow.keras.optimizers import Adam\n",
    "\n",
    "from tensorflow.keras.callbacks import EarlyStopping\n",
    "from tensorflow.keras.utils import plot_model"
   ]
  },
  {
   "cell_type": "code",
   "execution_count": 40,
   "metadata": {
    "id": "FV1wcvmCM21W"
   },
   "outputs": [
    {
     "name": "stdout",
     "output_type": "stream",
     "text": [
      "Model: \"model\"\n",
      "__________________________________________________________________________________________________\n",
      " Layer (type)                   Output Shape         Param #     Connected to                     \n",
      "==================================================================================================\n",
      " radius_layer (InputLayer)      [(None, 3)]          0           []                               \n",
      "                                                                                                  \n",
      " texture_layer (InputLayer)     [(None, 3)]          0           []                               \n",
      "                                                                                                  \n",
      " perimetert_layer (InputLayer)  [(None, 3)]          0           []                               \n",
      "                                                                                                  \n",
      " area_layer (InputLayer)        [(None, 3)]          0           []                               \n",
      "                                                                                                  \n",
      " smoothness_layer (InputLayer)  [(None, 3)]          0           []                               \n",
      "                                                                                                  \n",
      " compactness_layer (InputLayer)  [(None, 3)]         0           []                               \n",
      "                                                                                                  \n",
      " concavity_layer (InputLayer)   [(None, 3)]          0           []                               \n",
      "                                                                                                  \n",
      " concave_points_layer (InputLay  [(None, 3)]         0           []                               \n",
      " er)                                                                                              \n",
      "                                                                                                  \n",
      " symmetry_layer (InputLayer)    [(None, 3)]          0           []                               \n",
      "                                                                                                  \n",
      " fractal_dimension_layer (Input  [(None, 3)]         0           []                               \n",
      " Layer)                                                                                           \n",
      "                                                                                                  \n",
      " hidden_radius (Dense)          (None, 12)           48          ['radius_layer[0][0]']           \n",
      "                                                                                                  \n",
      " hidden_texture (Dense)         (None, 12)           48          ['texture_layer[0][0]']          \n",
      "                                                                                                  \n",
      " hidden_perimeter (Dense)       (None, 12)           48          ['perimetert_layer[0][0]']       \n",
      "                                                                                                  \n",
      " hidden_area (Dense)            (None, 12)           48          ['area_layer[0][0]']             \n",
      "                                                                                                  \n",
      " hidden_smoothness (Dense)      (None, 12)           48          ['smoothness_layer[0][0]']       \n",
      "                                                                                                  \n",
      " hidden_compactness (Dense)     (None, 12)           48          ['compactness_layer[0][0]']      \n",
      "                                                                                                  \n",
      " hidden_concavity (Dense)       (None, 12)           48          ['concavity_layer[0][0]']        \n",
      "                                                                                                  \n",
      " hidden_concave_points (Dense)  (None, 12)           48          ['concave_points_layer[0][0]']   \n",
      "                                                                                                  \n",
      " hidden_symmetry (Dense)        (None, 12)           48          ['symmetry_layer[0][0]']         \n",
      "                                                                                                  \n",
      " hidden_fractal_dimension (Dens  (None, 12)          48          ['fractal_dimension_layer[0][0]']\n",
      " e)                                                                                               \n",
      "                                                                                                  \n",
      " Add_layer (Add)                (None, 12)           0           ['hidden_radius[0][0]',          \n",
      "                                                                  'hidden_texture[0][0]',         \n",
      "                                                                  'hidden_perimeter[0][0]',       \n",
      "                                                                  'hidden_area[0][0]',            \n",
      "                                                                  'hidden_smoothness[0][0]',      \n",
      "                                                                  'hidden_compactness[0][0]',     \n",
      "                                                                  'hidden_concavity[0][0]',       \n",
      "                                                                  'hidden_concave_points[0][0]',  \n",
      "                                                                  'hidden_symmetry[0][0]',        \n",
      "                                                                  'hidden_fractal_dimension[0][0]'\n",
      "                                                                 ]                                \n",
      "                                                                                                  \n",
      " entire_input (InputLayer)      [(None, 30)]         0           []                               \n",
      "                                                                                                  \n",
      " concatenate (Concatenate)      (None, 42)           0           ['Add_layer[0][0]',              \n",
      "                                                                  'entire_input[0][0]']           \n",
      "                                                                                                  \n",
      " hidden_128 (Dense)             (None, 128)          5504        ['concatenate[0][0]']            \n",
      "                                                                                                  \n",
      " output (Dense)                 (None, 1)            129         ['hidden_128[0][0]']             \n",
      "                                                                                                  \n",
      "==================================================================================================\n",
      "Total params: 6,113\n",
      "Trainable params: 6,113\n",
      "Non-trainable params: 0\n",
      "__________________________________________________________________________________________________\n"
     ]
    }
   ],
   "source": [
    "# 1. 세션 클리어\n",
    "clear_session()\n",
    "\n",
    "# 2. 레이어 사슬처럼 엮기\n",
    "il_radius = Input(shape=(3,),name='radius_layer')\n",
    "hl_radius = Dense(12, activation='relu', name='hidden_radius')(il_radius)\n",
    "\n",
    "il_texture = Input(shape=(3,),name='texture_layer')\n",
    "hl_texture = Dense(12, activation='relu', name='hidden_texture')(il_texture)\n",
    "\n",
    "il_perimeter = Input(shape=(3,),name='perimetert_layer')\n",
    "hl_perimeter = Dense(12, activation='relu', name='hidden_perimeter')(il_perimeter)\n",
    "\n",
    "il_area = Input(shape=(3,),name='area_layer')\n",
    "hl_area = Dense(12, activation='relu', name='hidden_area')(il_area)\n",
    "\n",
    "il_smoothness = Input(shape=(3,),name='smoothness_layer')\n",
    "hl_smoothness = Dense(12, activation='relu', name='hidden_smoothness')(il_smoothness)\n",
    "\n",
    "il_compactness = Input(shape=(3,),name='compactness_layer')\n",
    "hl_compactness = Dense(12, activation='relu', name='hidden_compactness')(il_compactness)\n",
    "\n",
    "il_concavity = Input(shape=(3,),name='concavity_layer')\n",
    "hl_concavity = Dense(12, activation='relu', name='hidden_concavity')(il_concavity)\n",
    "\n",
    "il_concave_points = Input(shape=(3,),name='concave_points_layer')\n",
    "hl_concave_points = Dense(12, activation='relu', name='hidden_concave_points')(il_concave_points)\n",
    "\n",
    "il_symmetry = Input(shape=(3,),name='symmetry_layer')\n",
    "hl_symmetry = Dense(12, activation='relu', name='hidden_symmetry')(il_symmetry)\n",
    "\n",
    "il_fractal_dimension = Input(shape=(3,),name='fractal_dimension_layer')\n",
    "hl_fractal_dimension = Dense(12, activation='relu', name='hidden_fractal_dimension')(il_fractal_dimension)\n",
    "\n",
    "\n",
    "al = Add(name='Add_layer')([hl_radius, hl_texture, hl_perimeter, hl_area, hl_smoothness, hl_compactness, hl_concavity, hl_concave_points,hl_symmetry, hl_fractal_dimension])\n",
    "\n",
    "il = Input(shape=(30,), name='entire_input')\n",
    "cl = Concatenate()([al, il])\n",
    "\n",
    "hl = Dense(128, activation='relu', name='hidden_128')(cl)\n",
    "\n",
    "ol = Dense(1, activation='sigmoid', name='output')(hl)\n",
    "\n",
    "# 3. 모델 시작과 끝 지정\n",
    "model = Model([il_radius, il_texture, \n",
    "               il_perimeter, il_area, \n",
    "               il_smoothness, il_compactness,\n",
    "               il_concavity, il_concave_points, \n",
    "               il_symmetry, il_fractal_dimension,\n",
    "               il], ol)\n",
    "\n",
    "# 4. 컴파일\n",
    "model.compile(loss=binary_crossentropy, metrics=['accuracy'], optimizer=Adam())\n",
    "\n",
    "# 요약\n",
    "model.summary()"
   ]
  },
  {
   "cell_type": "code",
   "execution_count": 41,
   "metadata": {
    "id": "1F1VLUE6M25K"
   },
   "outputs": [
    {
     "data": {
      "image/png": "[encoded data removed]",
      "text/plain": [
       "<IPython.core.display.Image object>"
      ]
     },
     "execution_count": 41,
     "metadata": {},
     "output_type": "execute_result"
    }
   ],
   "source": [
    "# 모델 시각화\n",
    "plot_model(model, show_shapes=True)"
   ]
  },
  {
   "cell_type": "markdown",
   "metadata": {},
   "source": [
    "## 학습"
   ]
  },
  {
   "cell_type": "code",
   "execution_count": 42,
   "metadata": {},
   "outputs": [],
   "source": [
    "# Early Stopping\n",
    "es = EarlyStopping(monitor='val_loss',\n",
    "                   min_delta=0,\n",
    "                   patience=30,\n",
    "                   verbose=1,\n",
    "                   restore_best_weights=True)"
   ]
  },
  {
   "cell_type": "code",
   "execution_count": 43,
   "metadata": {},
   "outputs": [
    {
     "name": "stdout",
     "output_type": "stream",
     "text": [
      "Epoch 1/2000\n",
      "13/13 [==============================] - 1s 31ms/step - loss: 16.5156 - accuracy: 0.4767 - val_loss: 8.6457 - val_accuracy: 0.2899\n",
      "Epoch 2/2000\n",
      "13/13 [==============================] - 0s 7ms/step - loss: 3.7207 - accuracy: 0.6736 - val_loss: 0.2971 - val_accuracy: 0.9275\n",
      "Epoch 3/2000\n",
      "13/13 [==============================] - 0s 6ms/step - loss: 0.9307 - accuracy: 0.8446 - val_loss: 0.0735 - val_accuracy: 0.9710\n",
      "Epoch 4/2000\n",
      "13/13 [==============================] - 0s 7ms/step - loss: 0.5327 - accuracy: 0.8834 - val_loss: 0.0283 - val_accuracy: 0.9855\n",
      "Epoch 5/2000\n",
      "13/13 [==============================] - 0s 7ms/step - loss: 0.4864 - accuracy: 0.9016 - val_loss: 0.0253 - val_accuracy: 1.0000\n",
      "Epoch 6/2000\n",
      "13/13 [==============================] - 0s 6ms/step - loss: 0.4202 - accuracy: 0.9016 - val_loss: 0.0347 - val_accuracy: 0.9855\n",
      "Epoch 7/2000\n",
      "13/13 [==============================] - 0s 6ms/step - loss: 0.3867 - accuracy: 0.9093 - val_loss: 0.1206 - val_accuracy: 0.9565\n",
      "Epoch 8/2000\n",
      "13/13 [==============================] - 0s 6ms/step - loss: 0.3591 - accuracy: 0.9145 - val_loss: 0.1395 - val_accuracy: 0.9565\n",
      "Epoch 9/2000\n",
      "13/13 [==============================] - 0s 6ms/step - loss: 0.4111 - accuracy: 0.9041 - val_loss: 0.0740 - val_accuracy: 0.9710\n",
      "Epoch 10/2000\n",
      "13/13 [==============================] - 0s 6ms/step - loss: 0.3150 - accuracy: 0.9119 - val_loss: 0.1364 - val_accuracy: 0.9420\n",
      "Epoch 11/2000\n",
      "13/13 [==============================] - 0s 6ms/step - loss: 0.4486 - accuracy: 0.8964 - val_loss: 0.0601 - val_accuracy: 0.9855\n",
      "Epoch 12/2000\n",
      "13/13 [==============================] - 0s 5ms/step - loss: 0.3809 - accuracy: 0.8964 - val_loss: 0.1106 - val_accuracy: 0.9565\n",
      "Epoch 13/2000\n",
      "13/13 [==============================] - 0s 5ms/step - loss: 0.3394 - accuracy: 0.9119 - val_loss: 0.1573 - val_accuracy: 0.9565\n",
      "Epoch 14/2000\n",
      "13/13 [==============================] - 0s 9ms/step - loss: 0.3034 - accuracy: 0.9119 - val_loss: 0.0309 - val_accuracy: 0.9855\n",
      "Epoch 15/2000\n",
      "13/13 [==============================] - 0s 6ms/step - loss: 0.2907 - accuracy: 0.9145 - val_loss: 0.0363 - val_accuracy: 1.0000\n",
      "Epoch 16/2000\n",
      "13/13 [==============================] - 0s 6ms/step - loss: 0.4016 - accuracy: 0.9067 - val_loss: 0.2838 - val_accuracy: 0.9130\n",
      "Epoch 17/2000\n",
      "13/13 [==============================] - 0s 6ms/step - loss: 0.4696 - accuracy: 0.8705 - val_loss: 0.8446 - val_accuracy: 0.6957\n",
      "Epoch 18/2000\n",
      "13/13 [==============================] - 0s 6ms/step - loss: 0.5843 - accuracy: 0.8575 - val_loss: 0.4115 - val_accuracy: 0.9130\n",
      "Epoch 19/2000\n",
      "13/13 [==============================] - 0s 6ms/step - loss: 0.5944 - accuracy: 0.8679 - val_loss: 0.2732 - val_accuracy: 0.9130\n",
      "Epoch 20/2000\n",
      "13/13 [==============================] - 0s 6ms/step - loss: 0.3489 - accuracy: 0.8964 - val_loss: 0.0237 - val_accuracy: 0.9855\n",
      "Epoch 21/2000\n",
      "13/13 [==============================] - 0s 6ms/step - loss: 0.2428 - accuracy: 0.9145 - val_loss: 0.4751 - val_accuracy: 0.7971\n",
      "Epoch 22/2000\n",
      "13/13 [==============================] - 0s 6ms/step - loss: 0.7582 - accuracy: 0.8187 - val_loss: 0.1007 - val_accuracy: 0.9565\n",
      "Epoch 23/2000\n",
      "13/13 [==============================] - 0s 6ms/step - loss: 0.2365 - accuracy: 0.9145 - val_loss: 0.2896 - val_accuracy: 0.9275\n",
      "Epoch 24/2000\n",
      "13/13 [==============================] - 0s 5ms/step - loss: 0.6599 - accuracy: 0.8575 - val_loss: 0.0250 - val_accuracy: 0.9855\n",
      "Epoch 25/2000\n",
      "13/13 [==============================] - 0s 6ms/step - loss: 0.3182 - accuracy: 0.9067 - val_loss: 1.2875 - val_accuracy: 0.8406\n",
      "Epoch 26/2000\n",
      "13/13 [==============================] - 0s 6ms/step - loss: 2.2037 - accuracy: 0.7332 - val_loss: 0.3627 - val_accuracy: 0.9130\n",
      "Epoch 27/2000\n",
      "13/13 [==============================] - 0s 8ms/step - loss: 0.9480 - accuracy: 0.8238 - val_loss: 0.0867 - val_accuracy: 0.9710\n",
      "Epoch 28/2000\n",
      "13/13 [==============================] - 0s 10ms/step - loss: 0.5561 - accuracy: 0.8886 - val_loss: 0.0280 - val_accuracy: 0.9855\n",
      "Epoch 29/2000\n",
      "13/13 [==============================] - 0s 6ms/step - loss: 0.3937 - accuracy: 0.9093 - val_loss: 0.0965 - val_accuracy: 0.9420\n",
      "Epoch 30/2000\n",
      "13/13 [==============================] - 0s 6ms/step - loss: 0.4115 - accuracy: 0.8964 - val_loss: 0.0189 - val_accuracy: 0.9855\n",
      "Epoch 31/2000\n",
      "13/13 [==============================] - 0s 6ms/step - loss: 0.3281 - accuracy: 0.9223 - val_loss: 0.0170 - val_accuracy: 0.9855\n",
      "Epoch 32/2000\n",
      "13/13 [==============================] - 0s 5ms/step - loss: 0.3266 - accuracy: 0.9016 - val_loss: 0.1097 - val_accuracy: 0.9565\n",
      "Epoch 33/2000\n",
      "13/13 [==============================] - 0s 6ms/step - loss: 0.4544 - accuracy: 0.8964 - val_loss: 0.0113 - val_accuracy: 1.0000\n",
      "Epoch 34/2000\n",
      "13/13 [==============================] - 0s 6ms/step - loss: 0.3466 - accuracy: 0.9197 - val_loss: 0.4786 - val_accuracy: 0.7971\n",
      "Epoch 35/2000\n",
      "13/13 [==============================] - 0s 6ms/step - loss: 0.3415 - accuracy: 0.9145 - val_loss: 0.0395 - val_accuracy: 0.9710\n",
      "Epoch 36/2000\n",
      "13/13 [==============================] - 0s 6ms/step - loss: 0.6401 - accuracy: 0.8627 - val_loss: 0.1519 - val_accuracy: 0.9565\n",
      "Epoch 37/2000\n",
      "13/13 [==============================] - 0s 5ms/step - loss: 0.2534 - accuracy: 0.9171 - val_loss: 0.0385 - val_accuracy: 0.9710\n",
      "Epoch 38/2000\n",
      "13/13 [==============================] - 0s 5ms/step - loss: 0.2522 - accuracy: 0.9197 - val_loss: 0.4130 - val_accuracy: 0.9130\n",
      "Epoch 39/2000\n",
      "13/13 [==============================] - 0s 6ms/step - loss: 0.5044 - accuracy: 0.8756 - val_loss: 0.5901 - val_accuracy: 0.8986\n",
      "Epoch 40/2000\n",
      "13/13 [==============================] - 0s 5ms/step - loss: 0.6265 - accuracy: 0.8834 - val_loss: 0.0677 - val_accuracy: 0.9710\n",
      "Epoch 41/2000\n",
      "13/13 [==============================] - 0s 5ms/step - loss: 0.4085 - accuracy: 0.8860 - val_loss: 0.0772 - val_accuracy: 0.9565\n",
      "Epoch 42/2000\n",
      "13/13 [==============================] - 0s 5ms/step - loss: 0.2396 - accuracy: 0.9249 - val_loss: 0.1249 - val_accuracy: 0.9565\n",
      "Epoch 43/2000\n",
      "13/13 [==============================] - 0s 7ms/step - loss: 0.6262 - accuracy: 0.8549 - val_loss: 0.0386 - val_accuracy: 0.9710\n",
      "Epoch 44/2000\n",
      "13/13 [==============================] - 0s 6ms/step - loss: 0.2771 - accuracy: 0.9326 - val_loss: 0.0539 - val_accuracy: 0.9710\n",
      "Epoch 45/2000\n",
      "13/13 [==============================] - 0s 6ms/step - loss: 0.2105 - accuracy: 0.9275 - val_loss: 0.0678 - val_accuracy: 0.9710\n",
      "Epoch 46/2000\n",
      "13/13 [==============================] - 0s 6ms/step - loss: 0.2405 - accuracy: 0.9145 - val_loss: 0.1051 - val_accuracy: 0.9565\n",
      "Epoch 47/2000\n",
      "13/13 [==============================] - 0s 5ms/step - loss: 0.1913 - accuracy: 0.9352 - val_loss: 0.0458 - val_accuracy: 0.9710\n",
      "Epoch 48/2000\n",
      "13/13 [==============================] - 0s 6ms/step - loss: 0.2303 - accuracy: 0.9171 - val_loss: 0.0457 - val_accuracy: 0.9710\n",
      "Epoch 49/2000\n",
      "13/13 [==============================] - 0s 6ms/step - loss: 0.1892 - accuracy: 0.9352 - val_loss: 0.0215 - val_accuracy: 1.0000\n",
      "Epoch 50/2000\n",
      "13/13 [==============================] - 0s 6ms/step - loss: 0.1687 - accuracy: 0.9404 - val_loss: 0.1921 - val_accuracy: 0.9275\n",
      "Epoch 51/2000\n",
      "13/13 [==============================] - 0s 6ms/step - loss: 0.2803 - accuracy: 0.9171 - val_loss: 0.0205 - val_accuracy: 1.0000\n",
      "Epoch 52/2000\n",
      "13/13 [==============================] - 0s 7ms/step - loss: 0.1848 - accuracy: 0.9301 - val_loss: 1.5283 - val_accuracy: 0.5362\n",
      "Epoch 53/2000\n",
      "13/13 [==============================] - 0s 5ms/step - loss: 1.5621 - accuracy: 0.6995 - val_loss: 0.8607 - val_accuracy: 0.8696\n",
      "Epoch 54/2000\n",
      "13/13 [==============================] - 0s 5ms/step - loss: 1.0044 - accuracy: 0.8290 - val_loss: 0.0281 - val_accuracy: 0.9710\n",
      "Epoch 55/2000\n",
      "13/13 [==============================] - 0s 5ms/step - loss: 0.4730 - accuracy: 0.8964 - val_loss: 0.0874 - val_accuracy: 0.9710\n",
      "Epoch 56/2000\n",
      "13/13 [==============================] - 0s 6ms/step - loss: 0.3513 - accuracy: 0.9197 - val_loss: 0.1020 - val_accuracy: 0.9565\n",
      "Epoch 57/2000\n",
      "13/13 [==============================] - 0s 6ms/step - loss: 0.4499 - accuracy: 0.9016 - val_loss: 0.0504 - val_accuracy: 0.9710\n",
      "Epoch 58/2000\n"
     ]
    },
    {
     "name": "stdout",
     "output_type": "stream",
     "text": [
      "13/13 [==============================] - 0s 6ms/step - loss: 0.2375 - accuracy: 0.9223 - val_loss: 0.2768 - val_accuracy: 0.9130\n",
      "Epoch 59/2000\n",
      "13/13 [==============================] - 0s 6ms/step - loss: 0.3609 - accuracy: 0.9093 - val_loss: 0.0304 - val_accuracy: 0.9855\n",
      "Epoch 60/2000\n",
      "13/13 [==============================] - 0s 6ms/step - loss: 0.2039 - accuracy: 0.9326 - val_loss: 0.0109 - val_accuracy: 1.0000\n",
      "Epoch 61/2000\n",
      "13/13 [==============================] - 0s 6ms/step - loss: 0.1846 - accuracy: 0.9326 - val_loss: 0.1018 - val_accuracy: 0.9565\n",
      "Epoch 62/2000\n",
      "13/13 [==============================] - 0s 6ms/step - loss: 0.2962 - accuracy: 0.9067 - val_loss: 0.1813 - val_accuracy: 0.9420\n",
      "Epoch 63/2000\n",
      "13/13 [==============================] - 0s 6ms/step - loss: 0.2410 - accuracy: 0.9249 - val_loss: 0.0188 - val_accuracy: 1.0000\n",
      "Epoch 64/2000\n",
      "13/13 [==============================] - 0s 5ms/step - loss: 0.2292 - accuracy: 0.9119 - val_loss: 0.0800 - val_accuracy: 0.9565\n",
      "Epoch 65/2000\n",
      "13/13 [==============================] - 0s 6ms/step - loss: 0.2618 - accuracy: 0.9171 - val_loss: 0.0171 - val_accuracy: 1.0000\n",
      "Epoch 66/2000\n",
      "13/13 [==============================] - 0s 5ms/step - loss: 0.1761 - accuracy: 0.9326 - val_loss: 0.0225 - val_accuracy: 1.0000\n",
      "Epoch 67/2000\n",
      "13/13 [==============================] - 0s 6ms/step - loss: 0.1588 - accuracy: 0.9404 - val_loss: 0.1622 - val_accuracy: 0.9420\n",
      "Epoch 68/2000\n",
      "13/13 [==============================] - 0s 5ms/step - loss: 0.1930 - accuracy: 0.9326 - val_loss: 0.0901 - val_accuracy: 0.9565\n",
      "Epoch 69/2000\n",
      "13/13 [==============================] - 0s 5ms/step - loss: 0.3795 - accuracy: 0.8782 - val_loss: 0.1014 - val_accuracy: 0.9565\n",
      "Epoch 70/2000\n",
      "13/13 [==============================] - 0s 5ms/step - loss: 0.3028 - accuracy: 0.9093 - val_loss: 0.1052 - val_accuracy: 0.9565\n",
      "Epoch 71/2000\n",
      "13/13 [==============================] - 0s 6ms/step - loss: 0.3342 - accuracy: 0.9093 - val_loss: 0.6284 - val_accuracy: 0.7681\n",
      "Epoch 72/2000\n",
      "13/13 [==============================] - 0s 5ms/step - loss: 1.4977 - accuracy: 0.7642 - val_loss: 0.1827 - val_accuracy: 0.9420\n",
      "Epoch 73/2000\n",
      "13/13 [==============================] - 0s 6ms/step - loss: 2.3134 - accuracy: 0.7694 - val_loss: 2.8460 - val_accuracy: 0.8406\n",
      "Epoch 74/2000\n",
      "13/13 [==============================] - 0s 6ms/step - loss: 1.2972 - accuracy: 0.8420 - val_loss: 1.2631 - val_accuracy: 0.8696\n",
      "Epoch 75/2000\n",
      "13/13 [==============================] - 0s 5ms/step - loss: 0.8223 - accuracy: 0.8679 - val_loss: 0.4404 - val_accuracy: 0.9275\n",
      "Epoch 76/2000\n",
      "13/13 [==============================] - 0s 6ms/step - loss: 0.5369 - accuracy: 0.8990 - val_loss: 0.0852 - val_accuracy: 0.9565\n",
      "Epoch 77/2000\n",
      "13/13 [==============================] - 0s 5ms/step - loss: 0.2686 - accuracy: 0.9197 - val_loss: 0.7020 - val_accuracy: 0.8986\n",
      "Epoch 78/2000\n",
      "13/13 [==============================] - 0s 6ms/step - loss: 2.1909 - accuracy: 0.7668 - val_loss: 0.9928 - val_accuracy: 0.8696\n",
      "Epoch 79/2000\n",
      "13/13 [==============================] - 0s 5ms/step - loss: 1.0253 - accuracy: 0.8549 - val_loss: 0.3277 - val_accuracy: 0.9275\n",
      "Epoch 80/2000\n",
      "13/13 [==============================] - 0s 6ms/step - loss: 0.5422 - accuracy: 0.9067 - val_loss: 0.0212 - val_accuracy: 0.9855\n",
      "Epoch 81/2000\n",
      "13/13 [==============================] - 0s 6ms/step - loss: 0.4583 - accuracy: 0.9067 - val_loss: 0.0047 - val_accuracy: 1.0000\n",
      "Epoch 82/2000\n",
      "13/13 [==============================] - 0s 5ms/step - loss: 0.2701 - accuracy: 0.9223 - val_loss: 0.0050 - val_accuracy: 1.0000\n",
      "Epoch 83/2000\n",
      "13/13 [==============================] - 0s 7ms/step - loss: 0.2521 - accuracy: 0.9301 - val_loss: 0.2975 - val_accuracy: 0.9130\n",
      "Epoch 84/2000\n",
      "13/13 [==============================] - 0s 12ms/step - loss: 1.0048 - accuracy: 0.8316 - val_loss: 1.7605 - val_accuracy: 0.6232\n",
      "Epoch 85/2000\n",
      "13/13 [==============================] - 0s 7ms/step - loss: 1.5361 - accuracy: 0.7642 - val_loss: 1.2235 - val_accuracy: 0.7246\n",
      "Epoch 86/2000\n",
      "13/13 [==============================] - 0s 6ms/step - loss: 0.7632 - accuracy: 0.8472 - val_loss: 0.0222 - val_accuracy: 1.0000\n",
      "Epoch 87/2000\n",
      "13/13 [==============================] - 0s 6ms/step - loss: 0.3978 - accuracy: 0.9223 - val_loss: 0.0218 - val_accuracy: 0.9855\n",
      "Epoch 88/2000\n",
      "13/13 [==============================] - 0s 6ms/step - loss: 0.2852 - accuracy: 0.9378 - val_loss: 0.0479 - val_accuracy: 0.9565\n",
      "Epoch 89/2000\n",
      "13/13 [==============================] - 0s 5ms/step - loss: 0.6566 - accuracy: 0.8886 - val_loss: 0.0852 - val_accuracy: 0.9420\n",
      "Epoch 90/2000\n",
      "13/13 [==============================] - 0s 6ms/step - loss: 0.5726 - accuracy: 0.8938 - val_loss: 0.0682 - val_accuracy: 0.9565\n",
      "Epoch 91/2000\n",
      "13/13 [==============================] - 0s 6ms/step - loss: 0.4179 - accuracy: 0.9171 - val_loss: 0.0108 - val_accuracy: 1.0000\n",
      "Epoch 92/2000\n",
      "13/13 [==============================] - 0s 5ms/step - loss: 0.3036 - accuracy: 0.9352 - val_loss: 0.1407 - val_accuracy: 0.9420\n",
      "Epoch 93/2000\n",
      "13/13 [==============================] - 0s 6ms/step - loss: 0.3828 - accuracy: 0.9197 - val_loss: 0.2188 - val_accuracy: 0.9275\n",
      "Epoch 94/2000\n",
      "13/13 [==============================] - 0s 5ms/step - loss: 0.5368 - accuracy: 0.8964 - val_loss: 1.1831 - val_accuracy: 0.7101\n",
      "Epoch 95/2000\n",
      "13/13 [==============================] - 0s 12ms/step - loss: 0.5977 - accuracy: 0.8808 - val_loss: 0.0096 - val_accuracy: 1.0000\n",
      "Epoch 96/2000\n",
      "13/13 [==============================] - 0s 7ms/step - loss: 0.4524 - accuracy: 0.9041 - val_loss: 0.0630 - val_accuracy: 0.9710\n",
      "Epoch 97/2000\n",
      "13/13 [==============================] - 0s 7ms/step - loss: 0.2640 - accuracy: 0.9352 - val_loss: 0.0433 - val_accuracy: 0.9710\n",
      "Epoch 98/2000\n",
      "13/13 [==============================] - 0s 7ms/step - loss: 0.2170 - accuracy: 0.9430 - val_loss: 0.0387 - val_accuracy: 0.9710\n",
      "Epoch 99/2000\n",
      "13/13 [==============================] - 0s 6ms/step - loss: 0.2031 - accuracy: 0.9378 - val_loss: 0.0165 - val_accuracy: 1.0000\n",
      "Epoch 100/2000\n",
      "13/13 [==============================] - 0s 6ms/step - loss: 0.1875 - accuracy: 0.9326 - val_loss: 0.0217 - val_accuracy: 0.9855\n",
      "Epoch 101/2000\n",
      "13/13 [==============================] - 0s 6ms/step - loss: 0.1937 - accuracy: 0.9326 - val_loss: 0.0294 - val_accuracy: 0.9855\n",
      "Epoch 102/2000\n",
      "13/13 [==============================] - 0s 6ms/step - loss: 0.1680 - accuracy: 0.9378 - val_loss: 0.5646 - val_accuracy: 0.8841\n",
      "Epoch 103/2000\n",
      "13/13 [==============================] - 0s 6ms/step - loss: 0.6304 - accuracy: 0.8653 - val_loss: 0.1549 - val_accuracy: 0.9275\n",
      "Epoch 104/2000\n",
      "13/13 [==============================] - 0s 6ms/step - loss: 0.2293 - accuracy: 0.9249 - val_loss: 0.0750 - val_accuracy: 0.9565\n",
      "Epoch 105/2000\n",
      "13/13 [==============================] - 0s 6ms/step - loss: 0.3168 - accuracy: 0.9197 - val_loss: 0.1417 - val_accuracy: 0.9565\n",
      "Epoch 106/2000\n",
      "13/13 [==============================] - 0s 6ms/step - loss: 0.1922 - accuracy: 0.9404 - val_loss: 0.0336 - val_accuracy: 0.9855\n",
      "Epoch 107/2000\n",
      "13/13 [==============================] - 0s 6ms/step - loss: 0.1584 - accuracy: 0.9404 - val_loss: 0.0273 - val_accuracy: 1.0000\n",
      "Epoch 108/2000\n",
      "13/13 [==============================] - 0s 6ms/step - loss: 0.2144 - accuracy: 0.9456 - val_loss: 0.0240 - val_accuracy: 1.0000\n",
      "Epoch 109/2000\n",
      "13/13 [==============================] - 0s 6ms/step - loss: 0.2301 - accuracy: 0.9223 - val_loss: 0.0727 - val_accuracy: 0.9565\n",
      "Epoch 110/2000\n",
      "13/13 [==============================] - 0s 6ms/step - loss: 0.1676 - accuracy: 0.9404 - val_loss: 0.0345 - val_accuracy: 0.9855\n",
      "Epoch 111/2000\n",
      " 1/13 [=>............................] - ETA: 0s - loss: 0.3253 - accuracy: 0.9062Restoring model weights from the end of the best epoch: 81.\n",
      "13/13 [==============================] - 0s 6ms/step - loss: 0.2040 - accuracy: 0.9352 - val_loss: 0.0426 - val_accuracy: 0.9710\n",
      "Epoch 111: early stopping\n"
     ]
    },
    {
     "data": {
      "text/plain": [
       "<keras.callbacks.History at 0x204fe006ee0>"
      ]
     },
     "execution_count": 43,
     "metadata": {},
     "output_type": "execute_result"
    }
   ],
   "source": [
    "# 학습하기\n",
    "model.fit([tr_x_radius, tr_x_texture, tr_x_perimeter, tr_x_area, \n",
    "           tr_x_smoothness, tr_x_compactness, \n",
    "           tr_x_concavity, tr_x_concave_points, \n",
    "           tr_x_symmetry, tr_x_fractal_dimension,\n",
    "           x_train], y_train, validation_split=0.15, \n",
    "          epochs=2000, verbose=1, callbacks=[es]) \n",
    "\n"
   ]
  },
  {
   "cell_type": "markdown",
   "metadata": {
    "id": "FJfDbKduBnxz"
   },
   "source": [
    "## 평가\n",
    "\n",
    "1. 모델의 정확도를 확인하시오.\n",
    "2. 악성이라 예측한 것 중 실제 악성으로 나온 비율을 구하시오.\n",
    "3. 실제 악성 중 모델이 악성이라 예측한 것의 비율을 구하시오.\n",
    "4. 정상이라 예측한 것 중 실제 정상으로 나온 비율을 구하시오. "
   ]
  },
  {
   "cell_type": "code",
   "execution_count": 44,
   "metadata": {},
   "outputs": [
    {
     "name": "stdout",
     "output_type": "stream",
     "text": [
      "\n",
      " Test accuracy: 0.9210526347160339\n"
     ]
    }
   ],
   "source": [
    "score = model.evaluate([te_x_radius, te_x_texture,\n",
    "                        te_x_perimeter, te_x_area,\n",
    "                        te_x_smoothness, te_x_compactness,\n",
    "                        te_x_concavity, te_x_concave_points,\n",
    "                        te_x_symmetry, te_x_fractal_dimension,\n",
    "                        x_test], y_test,verbose=0)\n",
    "print('\\n', 'Test accuracy:', score[1])"
   ]
  },
  {
   "cell_type": "code",
   "execution_count": 45,
   "metadata": {},
   "outputs": [],
   "source": [
    "\n",
    "y_pred = model.predict([te_x_radius, te_x_texture,\n",
    "                        te_x_perimeter, te_x_area,\n",
    "                        te_x_smoothness, te_x_compactness,\n",
    "                        te_x_concavity, te_x_concave_points,\n",
    "                        te_x_symmetry, te_x_fractal_dimension,\n",
    "                        x_test])"
   ]
  },
  {
   "cell_type": "code",
   "execution_count": 46,
   "metadata": {},
   "outputs": [],
   "source": [
    "for idx, val in enumerate(y_pred):\n",
    "    if val >= 0.5:\n",
    "        y_pred[idx] = 1\n",
    "    else : \n",
    "        y_pred[idx] = 0"
   ]
  },
  {
   "cell_type": "code",
   "execution_count": 47,
   "metadata": {},
   "outputs": [
    {
     "data": {
      "text/plain": [
       "array([0., 0., 0.], dtype=float32)"
      ]
     },
     "execution_count": 47,
     "metadata": {},
     "output_type": "execute_result"
    }
   ],
   "source": [
    "y_pred[:3].reshape(-1)"
   ]
  },
  {
   "cell_type": "code",
   "execution_count": 48,
   "metadata": {},
   "outputs": [],
   "source": [
    "from sklearn.metrics import classification_report"
   ]
  },
  {
   "cell_type": "code",
   "execution_count": 49,
   "metadata": {},
   "outputs": [
    {
     "name": "stdout",
     "output_type": "stream",
     "text": [
      "              precision    recall  f1-score   support\n",
      "\n",
      "      Benign       0.92      0.96      0.94        68\n",
      "   Malignant       0.93      0.87      0.90        46\n",
      "\n",
      "    accuracy                           0.92       114\n",
      "   macro avg       0.92      0.91      0.92       114\n",
      "weighted avg       0.92      0.92      0.92       114\n",
      "\n"
     ]
    }
   ],
   "source": [
    "print(classification_report(y_test, y_pred, target_names=['Benign', 'Malignant']))"
   ]
  },
  {
   "cell_type": "markdown",
   "metadata": {},
   "source": [
    "Malignant-악성 종양 : 1, Benign-양성 종양(정상) : 0\n",
    "        \n",
    "1.악성이라 예측한 것 중 실제 악성으로 나온 비율 0.89 \n",
    "\n",
    "2.실제 악성 중 모델이 악성이라 예측한 것의 비율 0.91\n",
    "\n",
    "3.정상이라 예측한 것 중 실제 정상으로 나온 비율 0.93"
   ]
  }
 ],
 "metadata": {
  "colab": {
   "authorship_tag": "ABX9TyM8qi94ktQtXkjB4Cj5dLJI",
   "collapsed_sections": [],
   "name": "3_4_Breast_cancer.ipynb",
   "provenance": [],
   "toc_visible": true
  },
  "kernelspec": {
   "display_name": "Python 3",
   "language": "python",
   "name": "python3"
  },
  "language_info": {
   "codemirror_mode": {
    "name": "ipython",
    "version": 3
   },
   "file_extension": ".py",
   "mimetype": "text/x-python",
   "name": "python",
   "nbconvert_exporter": "python",
   "pygments_lexer": "ipython3",
   "version": "3.8.8"
  }
 },
 "nbformat": 4,
 "nbformat_minor": 1
}

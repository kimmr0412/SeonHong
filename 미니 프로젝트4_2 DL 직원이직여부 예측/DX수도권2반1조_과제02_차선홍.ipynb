{
 "cells": [
  {
   "cell_type": "markdown",
   "metadata": {
    "id": "5mCUrZ5seRFB"
   },
   "source": [
    "# 직원 이직 여부 예측\n",
    "![](https://github.com/Jangrae/img/blob/master/employee.png?raw=true)\n",
    "\n",
    "## 데이터 정보\n",
    "- Attrition: 이직여부 (1-Yes 0-No)\t\n",
    "- Age: 나이\t\n",
    "- BusinessTravel: 출장 빈도\n",
    "- Department: 현재 부서\t\n",
    "- DistanceFromHome: 집과 직장 사이의 거리 (마일)\t\n",
    "- Education: 교육수준 (1-Below College 2-College 3-Bachelor 4- Master 5-Doctor)\n",
    "- EducationField: 전공\t\n",
    "- EmployeeNumber: 사번\t\n",
    "- EnvironmentSatisfaction: 근무환경에 대한 만족도 (1-Low 2-Good 3-Excellent 4-Outstanding)\n",
    "- Gender: 성별\t\n",
    "- JobInvolvement: 직무 적극성, 참여도 (1-Low 2-Medium 3-High 4-Very High)\n",
    "- JobRole: 직무\t\n",
    "- JobSatisfaction: 직무 만족도 (1-Low 2-Medium 3-High 4-Very High)\n",
    "- MaritalStatus: 결혼상태\t\n",
    "- MonthlyIncome: 월급\t\n",
    "- NumCompaniesWorked: 현재까지 근무한 회사 수\t\n",
    "- OverTime: 야근 여부\t\n",
    "- PercentSalaryHike: 전년대비 급여 인상율 (%)\t\n",
    "- RelationshipSatisfaction: 동료와의 관계 만족도 (1-Low 2-Medium 3-High 4-Very High)\n",
    "- StockOptionLevel: 스톡옵션 수준 (0 ~ 3)\t\n",
    "- TotalWorkingYears: 총 근무 연수\t\n",
    "- TrainingTimesLastYear: 전년 교육훈련 횟수\t\n",
    "- WorkLifeBalance: 워라밸, 일과 삶의 균형도 (1-Bad 2-Good 3-Better 4-Best)\n",
    "- YearsAtCompany: 현 직장 근무 연수\t\n",
    "- YearsInCurrentRole: 현 직무 연수\t\n",
    "- YearsWithCurrManager: 현 팀장과 근무한 연수"
   ]
  },
  {
   "cell_type": "markdown",
   "metadata": {
    "id": "3Ij5l9O9e_KO"
   },
   "source": [
    "## 데이터셋 불러오기"
   ]
  },
  {
   "cell_type": "code",
   "execution_count": 139,
   "metadata": {
    "id": "eq2ArI8peRBh"
   },
   "outputs": [],
   "source": [
    "import numpy as np\n",
    "import pandas as pd"
   ]
  },
  {
   "cell_type": "code",
   "execution_count": 140,
   "metadata": {
    "id": "Rg3T7vmTfJFi"
   },
   "outputs": [],
   "source": [
    "path = 'https://raw.githubusercontent.com/Jangrae/csv/master/Attrition_NA.CSV'\n",
    "\n",
    "data = pd.read_csv(path)"
   ]
  },
  {
   "cell_type": "code",
   "execution_count": 141,
   "metadata": {},
   "outputs": [
    {
     "data": {
      "text/html": [
       "<div>\n",
       "<style scoped>\n",
       "    .dataframe tbody tr th:only-of-type {\n",
       "        vertical-align: middle;\n",
       "    }\n",
       "\n",
       "    .dataframe tbody tr th {\n",
       "        vertical-align: top;\n",
       "    }\n",
       "\n",
       "    .dataframe thead th {\n",
       "        text-align: right;\n",
       "    }\n",
       "</style>\n",
       "<table border=\"1\" class=\"dataframe\">\n",
       "  <thead>\n",
       "    <tr style=\"text-align: right;\">\n",
       "      <th></th>\n",
       "      <th>Attrition</th>\n",
       "      <th>Age</th>\n",
       "      <th>BusinessTravel</th>\n",
       "      <th>Department</th>\n",
       "      <th>DistanceFromHome</th>\n",
       "      <th>Education</th>\n",
       "      <th>EducationField</th>\n",
       "      <th>EmployeeNumber</th>\n",
       "      <th>EnvironmentSatisfaction</th>\n",
       "      <th>Gender</th>\n",
       "      <th>...</th>\n",
       "      <th>OverTime</th>\n",
       "      <th>PercentSalaryHike</th>\n",
       "      <th>RelationshipSatisfaction</th>\n",
       "      <th>StockOptionLevel</th>\n",
       "      <th>TotalWorkingYears</th>\n",
       "      <th>TrainingTimesLastYear</th>\n",
       "      <th>WorkLifeBalance</th>\n",
       "      <th>YearsAtCompany</th>\n",
       "      <th>YearsInCurrentRole</th>\n",
       "      <th>YearsWithCurrManager</th>\n",
       "    </tr>\n",
       "  </thead>\n",
       "  <tbody>\n",
       "    <tr>\n",
       "      <th>0</th>\n",
       "      <td>No</td>\n",
       "      <td>33</td>\n",
       "      <td>Travel_Rarely</td>\n",
       "      <td>Research &amp; Development</td>\n",
       "      <td>7.0</td>\n",
       "      <td>3</td>\n",
       "      <td>Medical</td>\n",
       "      <td>817</td>\n",
       "      <td>3</td>\n",
       "      <td>Male</td>\n",
       "      <td>...</td>\n",
       "      <td>No</td>\n",
       "      <td>11</td>\n",
       "      <td>4</td>\n",
       "      <td>0</td>\n",
       "      <td>14</td>\n",
       "      <td>3</td>\n",
       "      <td>4</td>\n",
       "      <td>13</td>\n",
       "      <td>9</td>\n",
       "      <td>7</td>\n",
       "    </tr>\n",
       "    <tr>\n",
       "      <th>1</th>\n",
       "      <td>No</td>\n",
       "      <td>35</td>\n",
       "      <td>Travel_Frequently</td>\n",
       "      <td>Research &amp; Development</td>\n",
       "      <td>18.0</td>\n",
       "      <td>2</td>\n",
       "      <td>Life Sciences</td>\n",
       "      <td>1412</td>\n",
       "      <td>3</td>\n",
       "      <td>Male</td>\n",
       "      <td>...</td>\n",
       "      <td>No</td>\n",
       "      <td>11</td>\n",
       "      <td>3</td>\n",
       "      <td>0</td>\n",
       "      <td>10</td>\n",
       "      <td>2</td>\n",
       "      <td>3</td>\n",
       "      <td>2</td>\n",
       "      <td>2</td>\n",
       "      <td>2</td>\n",
       "    </tr>\n",
       "    <tr>\n",
       "      <th>2</th>\n",
       "      <td>No</td>\n",
       "      <td>42</td>\n",
       "      <td>Travel_Rarely</td>\n",
       "      <td>Research &amp; Development</td>\n",
       "      <td>6.0</td>\n",
       "      <td>3</td>\n",
       "      <td>Medical</td>\n",
       "      <td>1911</td>\n",
       "      <td>3</td>\n",
       "      <td>Male</td>\n",
       "      <td>...</td>\n",
       "      <td>No</td>\n",
       "      <td>13</td>\n",
       "      <td>2</td>\n",
       "      <td>1</td>\n",
       "      <td>18</td>\n",
       "      <td>3</td>\n",
       "      <td>4</td>\n",
       "      <td>13</td>\n",
       "      <td>7</td>\n",
       "      <td>7</td>\n",
       "    </tr>\n",
       "    <tr>\n",
       "      <th>3</th>\n",
       "      <td>No</td>\n",
       "      <td>46</td>\n",
       "      <td>Travel_Rarely</td>\n",
       "      <td>Sales</td>\n",
       "      <td>2.0</td>\n",
       "      <td>3</td>\n",
       "      <td>Marketing</td>\n",
       "      <td>1204</td>\n",
       "      <td>3</td>\n",
       "      <td>Female</td>\n",
       "      <td>...</td>\n",
       "      <td>No</td>\n",
       "      <td>23</td>\n",
       "      <td>1</td>\n",
       "      <td>0</td>\n",
       "      <td>28</td>\n",
       "      <td>2</td>\n",
       "      <td>3</td>\n",
       "      <td>26</td>\n",
       "      <td>15</td>\n",
       "      <td>9</td>\n",
       "    </tr>\n",
       "    <tr>\n",
       "      <th>4</th>\n",
       "      <td>No</td>\n",
       "      <td>39</td>\n",
       "      <td>Travel_Frequently</td>\n",
       "      <td>Sales</td>\n",
       "      <td>NaN</td>\n",
       "      <td>3</td>\n",
       "      <td>Life Sciences</td>\n",
       "      <td>1812</td>\n",
       "      <td>3</td>\n",
       "      <td>Male</td>\n",
       "      <td>...</td>\n",
       "      <td>No</td>\n",
       "      <td>18</td>\n",
       "      <td>4</td>\n",
       "      <td>1</td>\n",
       "      <td>7</td>\n",
       "      <td>6</td>\n",
       "      <td>3</td>\n",
       "      <td>2</td>\n",
       "      <td>1</td>\n",
       "      <td>2</td>\n",
       "    </tr>\n",
       "  </tbody>\n",
       "</table>\n",
       "<p>5 rows × 26 columns</p>\n",
       "</div>"
      ],
      "text/plain": [
       "  Attrition  Age     BusinessTravel              Department  DistanceFromHome  \\\n",
       "0        No   33      Travel_Rarely  Research & Development               7.0   \n",
       "1        No   35  Travel_Frequently  Research & Development              18.0   \n",
       "2        No   42      Travel_Rarely  Research & Development               6.0   \n",
       "3        No   46      Travel_Rarely                   Sales               2.0   \n",
       "4        No   39  Travel_Frequently                   Sales               NaN   \n",
       "\n",
       "   Education EducationField  EmployeeNumber  EnvironmentSatisfaction  Gender  \\\n",
       "0          3        Medical             817                        3    Male   \n",
       "1          2  Life Sciences            1412                        3    Male   \n",
       "2          3        Medical            1911                        3    Male   \n",
       "3          3      Marketing            1204                        3  Female   \n",
       "4          3  Life Sciences            1812                        3    Male   \n",
       "\n",
       "   ...  OverTime PercentSalaryHike  RelationshipSatisfaction StockOptionLevel  \\\n",
       "0  ...        No                11                         4                0   \n",
       "1  ...        No                11                         3                0   \n",
       "2  ...        No                13                         2                1   \n",
       "3  ...        No                23                         1                0   \n",
       "4  ...        No                18                         4                1   \n",
       "\n",
       "   TotalWorkingYears  TrainingTimesLastYear WorkLifeBalance  YearsAtCompany  \\\n",
       "0                 14                      3               4              13   \n",
       "1                 10                      2               3               2   \n",
       "2                 18                      3               4              13   \n",
       "3                 28                      2               3              26   \n",
       "4                  7                      6               3               2   \n",
       "\n",
       "   YearsInCurrentRole  YearsWithCurrManager  \n",
       "0                   9                     7  \n",
       "1                   2                     2  \n",
       "2                   7                     7  \n",
       "3                  15                     9  \n",
       "4                   1                     2  \n",
       "\n",
       "[5 rows x 26 columns]"
      ]
     },
     "execution_count": 141,
     "metadata": {},
     "output_type": "execute_result"
    }
   ],
   "source": [
    "data.head()"
   ]
  },
  {
   "cell_type": "markdown",
   "metadata": {
    "id": "7JgnHZVKeQ-i"
   },
   "source": [
    "## 데이터 전처리\n",
    "\n",
    "* 주석을 상세하게 작성해주세요\n",
    "\n",
    "<details><summary>Hint</summary>\n",
    "\n",
    "- x, y 구분 필요\n",
    "- train, test 구분 필요\n",
    "- 데이터 타입 전처리 필요\n",
    "- 데이터 인코딩 필요\n",
    "- null값 확인 필요"
   ]
  },
  {
   "cell_type": "code",
   "execution_count": 142,
   "metadata": {
    "scrolled": false
   },
   "outputs": [
    {
     "data": {
      "text/plain": [
       "Attrition                    0\n",
       "Age                          0\n",
       "BusinessTravel               0\n",
       "Department                   0\n",
       "DistanceFromHome            54\n",
       "Education                    0\n",
       "EducationField               0\n",
       "EmployeeNumber               0\n",
       "EnvironmentSatisfaction      0\n",
       "Gender                       0\n",
       "JobInvolvement               0\n",
       "JobRole                      0\n",
       "JobSatisfaction              0\n",
       "MaritalStatus                0\n",
       "MonthlyIncome                0\n",
       "NumCompaniesWorked          21\n",
       "OverTime                     0\n",
       "PercentSalaryHike            0\n",
       "RelationshipSatisfaction     0\n",
       "StockOptionLevel             0\n",
       "TotalWorkingYears            0\n",
       "TrainingTimesLastYear        0\n",
       "WorkLifeBalance              0\n",
       "YearsAtCompany               0\n",
       "YearsInCurrentRole           0\n",
       "YearsWithCurrManager         0\n",
       "dtype: int64"
      ]
     },
     "execution_count": 142,
     "metadata": {},
     "output_type": "execute_result"
    }
   ],
   "source": [
    "# 결측치 확인\n",
    "data.isna().sum()"
   ]
  },
  {
   "cell_type": "code",
   "execution_count": 143,
   "metadata": {},
   "outputs": [],
   "source": [
    "# 결측치 처리 ==> 평균값으로 채움\n",
    "fre_DistanceFromHome = data['DistanceFromHome'].value_counts().idxmax()\n",
    "fre_NumCompaniesWorked = data['NumCompaniesWorked'].value_counts().idxmax()\n",
    "data['DistanceFromHome'].fillna(fre_DistanceFromHome, inplace=True)\n",
    "data['NumCompaniesWorked'].fillna(fre_NumCompaniesWorked, inplace=True)"
   ]
  },
  {
   "cell_type": "code",
   "execution_count": 144,
   "metadata": {
    "scrolled": false
   },
   "outputs": [
    {
     "data": {
      "text/plain": [
       "Attrition                   0\n",
       "Age                         0\n",
       "BusinessTravel              0\n",
       "Department                  0\n",
       "DistanceFromHome            0\n",
       "Education                   0\n",
       "EducationField              0\n",
       "EmployeeNumber              0\n",
       "EnvironmentSatisfaction     0\n",
       "Gender                      0\n",
       "JobInvolvement              0\n",
       "JobRole                     0\n",
       "JobSatisfaction             0\n",
       "MaritalStatus               0\n",
       "MonthlyIncome               0\n",
       "NumCompaniesWorked          0\n",
       "OverTime                    0\n",
       "PercentSalaryHike           0\n",
       "RelationshipSatisfaction    0\n",
       "StockOptionLevel            0\n",
       "TotalWorkingYears           0\n",
       "TrainingTimesLastYear       0\n",
       "WorkLifeBalance             0\n",
       "YearsAtCompany              0\n",
       "YearsInCurrentRole          0\n",
       "YearsWithCurrManager        0\n",
       "dtype: int64"
      ]
     },
     "execution_count": 144,
     "metadata": {},
     "output_type": "execute_result"
    }
   ],
   "source": [
    "# 결측치 확인\n",
    "data.isna().sum()"
   ]
  },
  {
   "cell_type": "code",
   "execution_count": 145,
   "metadata": {
    "scrolled": false
   },
   "outputs": [
    {
     "name": "stdout",
     "output_type": "stream",
     "text": [
      "<class 'pandas.core.frame.DataFrame'>\n",
      "RangeIndex: 1250 entries, 0 to 1249\n",
      "Data columns (total 26 columns):\n",
      " #   Column                    Non-Null Count  Dtype  \n",
      "---  ------                    --------------  -----  \n",
      " 0   Attrition                 1250 non-null   object \n",
      " 1   Age                       1250 non-null   int64  \n",
      " 2   BusinessTravel            1250 non-null   object \n",
      " 3   Department                1250 non-null   object \n",
      " 4   DistanceFromHome          1250 non-null   float64\n",
      " 5   Education                 1250 non-null   int64  \n",
      " 6   EducationField            1250 non-null   object \n",
      " 7   EmployeeNumber            1250 non-null   int64  \n",
      " 8   EnvironmentSatisfaction   1250 non-null   int64  \n",
      " 9   Gender                    1250 non-null   object \n",
      " 10  JobInvolvement            1250 non-null   int64  \n",
      " 11  JobRole                   1250 non-null   object \n",
      " 12  JobSatisfaction           1250 non-null   int64  \n",
      " 13  MaritalStatus             1250 non-null   object \n",
      " 14  MonthlyIncome             1250 non-null   int64  \n",
      " 15  NumCompaniesWorked        1250 non-null   float64\n",
      " 16  OverTime                  1250 non-null   object \n",
      " 17  PercentSalaryHike         1250 non-null   int64  \n",
      " 18  RelationshipSatisfaction  1250 non-null   int64  \n",
      " 19  StockOptionLevel          1250 non-null   int64  \n",
      " 20  TotalWorkingYears         1250 non-null   int64  \n",
      " 21  TrainingTimesLastYear     1250 non-null   int64  \n",
      " 22  WorkLifeBalance           1250 non-null   int64  \n",
      " 23  YearsAtCompany            1250 non-null   int64  \n",
      " 24  YearsInCurrentRole        1250 non-null   int64  \n",
      " 25  YearsWithCurrManager      1250 non-null   int64  \n",
      "dtypes: float64(2), int64(16), object(8)\n",
      "memory usage: 254.0+ KB\n"
     ]
    }
   ],
   "source": [
    "data.info()"
   ]
  },
  {
   "cell_type": "code",
   "execution_count": 146,
   "metadata": {
    "scrolled": true
   },
   "outputs": [
    {
     "data": {
      "text/plain": [
       "Attrition                   0\n",
       "Age                         0\n",
       "BusinessTravel              0\n",
       "Department                  0\n",
       "DistanceFromHome            0\n",
       "Education                   0\n",
       "EducationField              0\n",
       "EmployeeNumber              0\n",
       "EnvironmentSatisfaction     0\n",
       "Gender                      0\n",
       "JobInvolvement              0\n",
       "JobRole                     0\n",
       "JobSatisfaction             0\n",
       "MaritalStatus               0\n",
       "MonthlyIncome               0\n",
       "NumCompaniesWorked          0\n",
       "OverTime                    0\n",
       "PercentSalaryHike           0\n",
       "RelationshipSatisfaction    0\n",
       "StockOptionLevel            0\n",
       "TotalWorkingYears           0\n",
       "TrainingTimesLastYear       0\n",
       "WorkLifeBalance             0\n",
       "YearsAtCompany              0\n",
       "YearsInCurrentRole          0\n",
       "YearsWithCurrManager        0\n",
       "dtype: int64"
      ]
     },
     "execution_count": 146,
     "metadata": {},
     "output_type": "execute_result"
    }
   ],
   "source": [
    "# 결측치 확인\n",
    "data.isna().sum()"
   ]
  },
  {
   "cell_type": "code",
   "execution_count": 147,
   "metadata": {},
   "outputs": [],
   "source": [
    "# feature 삭제\n",
    "# EmployeeNumber 사번은 불필요한 feature로 판단하여 삭제\n",
    "# DistanceFromHome, NumCompaniesWorked은 형 변환에 어려움으로 인해 삭제\n",
    "data.drop(['EmployeeNumber'], axis=1,inplace=True)"
   ]
  },
  {
   "cell_type": "code",
   "execution_count": 148,
   "metadata": {
    "id": "0cSTupAlIM-I",
    "scrolled": true
   },
   "outputs": [
    {
     "data": {
      "text/plain": [
       "Index(['Attrition', 'Age', 'BusinessTravel', 'Department', 'DistanceFromHome',\n",
       "       'Education', 'EducationField', 'EnvironmentSatisfaction', 'Gender',\n",
       "       'JobInvolvement', 'JobRole', 'JobSatisfaction', 'MaritalStatus',\n",
       "       'MonthlyIncome', 'NumCompaniesWorked', 'OverTime', 'PercentSalaryHike',\n",
       "       'RelationshipSatisfaction', 'StockOptionLevel', 'TotalWorkingYears',\n",
       "       'TrainingTimesLastYear', 'WorkLifeBalance', 'YearsAtCompany',\n",
       "       'YearsInCurrentRole', 'YearsWithCurrManager'],\n",
       "      dtype='object')"
      ]
     },
     "execution_count": 148,
     "metadata": {},
     "output_type": "execute_result"
    }
   ],
   "source": [
    "data.columns"
   ]
  },
  {
   "cell_type": "code",
   "execution_count": 149,
   "metadata": {},
   "outputs": [],
   "source": [
    "## 이직 여부가 더 중요한 것이라 생각하여 Yes 1로 설정\n",
    "data.loc[ data[target]=='Yes' , target ] = 1\n",
    "data.loc[ data[target]=='No' , target] = 0\n",
    "\n",
    "## data type 전처리\n",
    "data[target] = data[target].astype(float)"
   ]
  },
  {
   "cell_type": "code",
   "execution_count": 150,
   "metadata": {},
   "outputs": [],
   "source": [
    "## 성별 남 : 1, 여 :0\n",
    "## 야근 여부 yes : 1, NO : 0\n",
    "## 출장 빈도 Travel_Rarely : 2 Travel_Frequently : 1, Non-Travel : 0 \n",
    "## 결혼 상태 Divorced : 2, Married : 1, Single : 0\n",
    "## 현재 부서 Research & Development :2, Sales : 1, Human Resources : 0\n",
    "## JobRole (0~8)\n",
    "## EducationField (0~5)\n",
    "\n",
    "data.loc[ data['Gender']=='Male' , 'Gender' ] = 1\n",
    "data.loc[ data['Gender']=='Female' , 'Gender'] = 0\n",
    "\n",
    "data.loc[ data['OverTime']=='Yes' , 'OverTime'] = 1\n",
    "data.loc[ data['OverTime']=='No' , 'OverTime'] = 0\n",
    "\n",
    "data.loc[ data['BusinessTravel']=='Travel_Rarely' , 'BusinessTravel'] = 2\n",
    "data.loc[ data['BusinessTravel']=='Travel_Frequently' , 'BusinessTravel'] = 1\n",
    "data.loc[ data['BusinessTravel']=='Non-Travel' , 'BusinessTravel'] = 0\n",
    "\n",
    "data.loc[ data['MaritalStatus']=='Divorced' , 'MaritalStatus'] = 2\n",
    "data.loc[ data['MaritalStatus']=='Married' , 'MaritalStatus'] = 1\n",
    "data.loc[ data['MaritalStatus']=='Single' , 'MaritalStatus'] = 0\n",
    "\n",
    "data.loc[ data['Department']=='Research & Development' , 'Department'] = 2\n",
    "data.loc[ data['Department']=='Sales' , 'Department'] = 1\n",
    "data.loc[ data['Department']=='Human Resources' , 'Department'] = 0\n",
    "\n",
    "data.loc[ data['JobRole']=='Sales Executive' , 'JobRole'] = 0\n",
    "data.loc[ data['JobRole']=='Research Scientist' , 'JobRole'] = 1\n",
    "data.loc[ data['JobRole']=='Laboratory Technician' , 'JobRole'] = 2\n",
    "data.loc[ data['JobRole']=='Manufacturing Director' , 'JobRole'] = 3\n",
    "data.loc[ data['JobRole']=='Healthcare Representative' , 'JobRole'] = 4\n",
    "data.loc[ data['JobRole']=='Manager' , 'JobRole'] = 5\n",
    "data.loc[ data['JobRole']=='Research Director' , 'JobRole'] = 6\n",
    "data.loc[ data['JobRole']=='Sales Representative' , 'JobRole'] = 7\n",
    "data.loc[ data['JobRole']=='Human Resources' , 'JobRole'] = 8\n",
    "\n",
    "data.loc[ data['EducationField']=='Life Sciences' , 'EducationField'] = 0\n",
    "data.loc[ data['EducationField']=='Medical' , 'EducationField'] = 1\n",
    "data.loc[ data['EducationField']=='Marketing' , 'EducationField'] = 2\n",
    "data.loc[ data['EducationField']=='Technical Degree' , 'EducationField'] = 3\n",
    "data.loc[ data['EducationField']=='Other' , 'EducationField'] = 4\n",
    "data.loc[ data['EducationField']=='Human Resources' , 'EducationField'] = 5\n",
    "\n",
    "## data type 전처리\n",
    "data['OverTime'] = data['OverTime'].astype(float)\n",
    "data['Gender'] = data['Gender'].astype(float)\n",
    "data['BusinessTravel'] = data['BusinessTravel'].astype(float)\n",
    "data['MaritalStatus'] = data['MaritalStatus'].astype(float)\n",
    "data['Department'] = data['Department'].astype(float)\n",
    "data['JobRole'] = data['JobRole'].astype(float)\n",
    "data['EducationField'] = data['EducationField'].astype(float)"
   ]
  },
  {
   "cell_type": "code",
   "execution_count": 151,
   "metadata": {
    "scrolled": true
   },
   "outputs": [
    {
     "name": "stdout",
     "output_type": "stream",
     "text": [
      "<class 'pandas.core.frame.DataFrame'>\n",
      "RangeIndex: 1250 entries, 0 to 1249\n",
      "Data columns (total 25 columns):\n",
      " #   Column                    Non-Null Count  Dtype  \n",
      "---  ------                    --------------  -----  \n",
      " 0   Attrition                 1250 non-null   float64\n",
      " 1   Age                       1250 non-null   int64  \n",
      " 2   BusinessTravel            1250 non-null   float64\n",
      " 3   Department                1250 non-null   float64\n",
      " 4   DistanceFromHome          1250 non-null   float64\n",
      " 5   Education                 1250 non-null   int64  \n",
      " 6   EducationField            1250 non-null   float64\n",
      " 7   EnvironmentSatisfaction   1250 non-null   int64  \n",
      " 8   Gender                    1250 non-null   float64\n",
      " 9   JobInvolvement            1250 non-null   int64  \n",
      " 10  JobRole                   1250 non-null   float64\n",
      " 11  JobSatisfaction           1250 non-null   int64  \n",
      " 12  MaritalStatus             1250 non-null   float64\n",
      " 13  MonthlyIncome             1250 non-null   int64  \n",
      " 14  NumCompaniesWorked        1250 non-null   float64\n",
      " 15  OverTime                  1250 non-null   float64\n",
      " 16  PercentSalaryHike         1250 non-null   int64  \n",
      " 17  RelationshipSatisfaction  1250 non-null   int64  \n",
      " 18  StockOptionLevel          1250 non-null   int64  \n",
      " 19  TotalWorkingYears         1250 non-null   int64  \n",
      " 20  TrainingTimesLastYear     1250 non-null   int64  \n",
      " 21  WorkLifeBalance           1250 non-null   int64  \n",
      " 22  YearsAtCompany            1250 non-null   int64  \n",
      " 23  YearsInCurrentRole        1250 non-null   int64  \n",
      " 24  YearsWithCurrManager      1250 non-null   int64  \n",
      "dtypes: float64(10), int64(15)\n",
      "memory usage: 244.3 KB\n"
     ]
    }
   ],
   "source": [
    "data.info()"
   ]
  },
  {
   "cell_type": "code",
   "execution_count": 152,
   "metadata": {},
   "outputs": [
    {
     "data": {
      "text/plain": [
       "((1250, 24), (1250,))"
      ]
     },
     "execution_count": 152,
     "metadata": {},
     "output_type": "execute_result"
    }
   ],
   "source": [
    "# x, y 구분\n",
    "target = 'Attrition'\n",
    "x = data.drop(target, axis=1)\n",
    "y = data.loc[:,target]\n",
    "\n",
    "x.shape, y.shape"
   ]
  },
  {
   "cell_type": "code",
   "execution_count": 153,
   "metadata": {},
   "outputs": [],
   "source": [
    "# train / test set 구분\n",
    "from sklearn.model_selection import train_test_split\n",
    "\n",
    "x_train, x_test, y_train, y_test = train_test_split(x, y, test_size=0.2, random_state=2022)"
   ]
  },
  {
   "cell_type": "code",
   "execution_count": 154,
   "metadata": {},
   "outputs": [
    {
     "data": {
      "text/plain": [
       "((1000, 24), (250, 24), (1000,), (250,))"
      ]
     },
     "execution_count": 154,
     "metadata": {},
     "output_type": "execute_result"
    }
   ],
   "source": [
    "x_train.shape, x_test.shape, y_train.shape, y_test.shape"
   ]
  },
  {
   "cell_type": "markdown",
   "metadata": {
    "id": "N4iFUU_hv3G5"
   },
   "source": [
    "## 모델링\n",
    "\n",
    "1. 전처리에서 제외한 feature를 제외한, 다른 feature는 반드시 모두 사용하셔야 합니다.\n",
    "2. locally connected layer를 최소 4개 이상 만드세요.\n",
    "3. 모델 구조 시각화까지 해주면 좋습니다.\n",
    "4. 학습 횟수는 최대 25번까지만.\n",
    "---\n",
    "### **locally하게 연결한 구성 의도를 반드시 상세하게 남겨주세요 (상황 가정을 해서라도!)** \n",
    "### **주석 역시 상세하게 남겨주세요**"
   ]
  },
  {
   "cell_type": "markdown",
   "metadata": {
    "id": "TMl51PRuv6sw"
   },
   "source": [
    "### Locally connected layer를 구성하기 위한 feature 설정"
   ]
  },
  {
   "cell_type": "code",
   "execution_count": 155,
   "metadata": {
    "id": "DIlkOj3RIUDr"
   },
   "outputs": [],
   "source": [
    "# 개인 특징 : 나이, 교육수준, 전공, 성별, 결혼상태\n",
    "tr_personal = x_train.loc[ : , ['Age', 'Education','EducationField','Gender','MaritalStatus'] ]\n",
    "te_personal = x_test.loc[ : , ['Age', 'Education','EducationField','Gender','MaritalStatus'] ]\n"
   ]
  },
  {
   "cell_type": "code",
   "execution_count": 156,
   "metadata": {
    "id": "XLmykWRhIUWP"
   },
   "outputs": [],
   "source": [
    "# 회사 외부 : 집과 직장 사이의 거리 (마일), 현재까지 근무한 회사 수\n",
    "\n",
    "tr_outdoor = x_train.loc[ : , ['DistanceFromHome','NumCompaniesWorked'] ]\n",
    "te_outdoor = x_test.loc[ : ,  ['DistanceFromHome','NumCompaniesWorked'] ]"
   ]
  },
  {
   "cell_type": "code",
   "execution_count": 157,
   "metadata": {
    "id": "nbtw3H1vIX9i"
   },
   "outputs": [],
   "source": [
    "# 수입 : 월급 , 인상률, 스톡옵션\n",
    "tr_income = x_train.loc[ : , ['MonthlyIncome', 'PercentSalaryHike', 'StockOptionLevel'] ]\n",
    "te_income = x_test.loc[ : , ['MonthlyIncome', 'PercentSalaryHike', 'StockOptionLevel'] ]\n"
   ]
  },
  {
   "cell_type": "code",
   "execution_count": 158,
   "metadata": {},
   "outputs": [],
   "source": [
    "# 설문 조사 : 직무 만족도, 근무환경에 대한 만족도, 동료와의 관계 만족도, 워라밸 , 직무 적극성-참여도\n",
    "\n",
    "tr_survey = x_train.loc[ : , ['JobSatisfaction', 'EnvironmentSatisfaction', 'RelationshipSatisfaction', 'WorkLifeBalance','JobInvolvement'] ]\n",
    "te_survey = x_test.loc[ : , ['JobSatisfaction', 'EnvironmentSatisfaction', 'RelationshipSatisfaction', 'WorkLifeBalance','JobInvolvement'] ]\n"
   ]
  },
  {
   "cell_type": "code",
   "execution_count": 159,
   "metadata": {},
   "outputs": [],
   "source": [
    "# 기타\n",
    "tr_etc = x_train.loc[:,['BusinessTravel','Department','JobRole','OverTime','TotalWorkingYears','TrainingTimesLastYear', 'YearsAtCompany', 'YearsInCurrentRole', 'YearsWithCurrManager' ]]\n",
    "te_etc = x_test.loc[:,['BusinessTravel','Department','JobRole','OverTime','TotalWorkingYears','TrainingTimesLastYear', 'YearsAtCompany', 'YearsInCurrentRole', 'YearsWithCurrManager' ]]"
   ]
  },
  {
   "cell_type": "markdown",
   "metadata": {
    "id": "II2DSumywT4b"
   },
   "source": [
    "### 모델 코드 작성"
   ]
  },
  {
   "cell_type": "code",
   "execution_count": 160,
   "metadata": {},
   "outputs": [
    {
     "data": {
      "text/plain": [
       "((1000, 24), (1000,))"
      ]
     },
     "execution_count": 160,
     "metadata": {},
     "output_type": "execute_result"
    }
   ],
   "source": [
    "x_train.shape, y_train.shape"
   ]
  },
  {
   "cell_type": "code",
   "execution_count": 161,
   "metadata": {
    "id": "_sQ3EMVuIZyk"
   },
   "outputs": [],
   "source": [
    "from tensorflow.keras.backend import clear_session\n",
    "from tensorflow.keras.models import Model\n",
    "\n",
    "from tensorflow.keras.layers import Input, Dense, Add, Concatenate\n",
    "from tensorflow.keras.activations import relu, softmax\n",
    "\n",
    "from tensorflow.keras.losses import binary_crossentropy\n",
    "from tensorflow.keras.optimizers import Adam\n",
    "\n",
    "from tensorflow.keras.callbacks import EarlyStopping\n",
    "from tensorflow.keras.utils import plot_model"
   ]
  },
  {
   "cell_type": "code",
   "execution_count": 162,
   "metadata": {
    "id": "WC6AZQlgIZkx"
   },
   "outputs": [
    {
     "name": "stdout",
     "output_type": "stream",
     "text": [
      "Model: \"model\"\n",
      "__________________________________________________________________________________________________\n",
      " Layer (type)                   Output Shape         Param #     Connected to                     \n",
      "==================================================================================================\n",
      " personal (InputLayer)          [(None, 5)]          0           []                               \n",
      "                                                                                                  \n",
      " outdoor (InputLayer)           [(None, 2)]          0           []                               \n",
      "                                                                                                  \n",
      " income (InputLayer)            [(None, 3)]          0           []                               \n",
      "                                                                                                  \n",
      " survey (InputLayer)            [(None, 5)]          0           []                               \n",
      "                                                                                                  \n",
      " hl_personal (Dense)            (None, 12)           72          ['personal[0][0]']               \n",
      "                                                                                                  \n",
      " hl_outdoor (Dense)             (None, 12)           36          ['outdoor[0][0]']                \n",
      "                                                                                                  \n",
      " hl_income (Dense)              (None, 12)           48          ['income[0][0]']                 \n",
      "                                                                                                  \n",
      " hl_survey (Dense)              (None, 12)           72          ['survey[0][0]']                 \n",
      "                                                                                                  \n",
      " Add_layer (Add)                (None, 12)           0           ['hl_personal[0][0]',            \n",
      "                                                                  'hl_outdoor[0][0]',             \n",
      "                                                                  'hl_income[0][0]',              \n",
      "                                                                  'hl_survey[0][0]']              \n",
      "                                                                                                  \n",
      " etc (InputLayer)               [(None, 9)]          0           []                               \n",
      "                                                                                                  \n",
      " concatenate (Concatenate)      (None, 21)           0           ['Add_layer[0][0]',              \n",
      "                                                                  'etc[0][0]']                    \n",
      "                                                                                                  \n",
      " hidden_128 (Dense)             (None, 128)          2816        ['concatenate[0][0]']            \n",
      "                                                                                                  \n",
      " output (Dense)                 (None, 1)            129         ['hidden_128[0][0]']             \n",
      "                                                                                                  \n",
      "==================================================================================================\n",
      "Total params: 3,173\n",
      "Trainable params: 3,173\n",
      "Non-trainable params: 0\n",
      "__________________________________________________________________________________________________\n"
     ]
    }
   ],
   "source": [
    "# 1번. 세션 클리어\n",
    "clear_session()\n",
    "\n",
    "# 2번. 모델의 레이어를 엮기!\n",
    "# Locally connected layer를 구성하지 않은 feature 전체 입력\n",
    "il_etc = Input(shape=(9,), name='etc')\n",
    "\n",
    "il_personal = Input(shape=(5,), name='personal')\n",
    "hl_personal = Dense(12, activation='relu', name='hl_personal')(il_personal)\n",
    "\n",
    "il_outdoor = Input(shape=(2,), name='outdoor')\n",
    "hl_outdoor = Dense(12, activation='relu', name='hl_outdoor')(il_outdoor)\n",
    "\n",
    "il_income = Input(shape=(3,), name='income')\n",
    "hl_income = Dense(12, activation='relu', name='hl_income')(il_income)\n",
    "\n",
    "il_survey = Input(shape=(5,), name='survey')\n",
    "hl_survey = Dense(12, activation='relu', name='hl_survey')(il_survey)\n",
    "\n",
    "al = Add(name='Add_layer')([hl_personal, hl_outdoor, hl_income, hl_survey])\n",
    "\n",
    "cl = Concatenate()([al, il_etc])\n",
    "\n",
    "hl = Dense(128, activation='relu', name='hidden_128')(cl)\n",
    "ol = Dense(1, activation='sigmoid', name='output')(hl)\n",
    "\n",
    "# 3. 모델 시작과 끝 지정\n",
    "model = Model([il_etc, il_personal, il_outdoor, \n",
    "               il_income, il_survey], ol)\n",
    "\n",
    "# 4. 컴파일\n",
    "model.compile(loss=binary_crossentropy, metrics=['accuracy'], optimizer=Adam())\n",
    "\n",
    "# 요약\n",
    "model.summary()"
   ]
  },
  {
   "cell_type": "markdown",
   "metadata": {
    "id": "MWkg0Oogw5W5"
   },
   "source": [
    "### 모델 구조 시각화"
   ]
  },
  {
   "cell_type": "code",
   "execution_count": 163,
   "metadata": {
    "id": "yVf1ZIhWIbRe"
   },
   "outputs": [
    {
     "data": {
      "image/png": "[encoded data removed]",
      "text/plain": [
       "<IPython.core.display.Image object>"
      ]
     },
     "execution_count": 163,
     "metadata": {},
     "output_type": "execute_result"
    }
   ],
   "source": [
    "# 모델 시각화\n",
    "plot_model(model, show_shapes=True)"
   ]
  },
  {
   "cell_type": "markdown",
   "metadata": {
    "id": "fLnughPGxKr4"
   },
   "source": [
    "### 모델 학습"
   ]
  },
  {
   "cell_type": "code",
   "execution_count": 164,
   "metadata": {
    "id": "aXPOYO-jIf94"
   },
   "outputs": [],
   "source": [
    "# Early Stopping\n",
    "es = EarlyStopping(monitor='val_loss',\n",
    "                   min_delta=0,\n",
    "                   patience=30,\n",
    "                   verbose=1,\n",
    "                   restore_best_weights=True)"
   ]
  },
  {
   "cell_type": "code",
   "execution_count": 165,
   "metadata": {
    "scrolled": true
   },
   "outputs": [
    {
     "data": {
      "text/plain": [
       "(1000, 24)"
      ]
     },
     "execution_count": 165,
     "metadata": {},
     "output_type": "execute_result"
    }
   ],
   "source": [
    "x_train.shape"
   ]
  },
  {
   "cell_type": "code",
   "execution_count": 166,
   "metadata": {},
   "outputs": [
    {
     "name": "stdout",
     "output_type": "stream",
     "text": [
      "<class 'pandas.core.frame.DataFrame'>\n",
      "Int64Index: 1000 entries, 412 to 893\n",
      "Data columns (total 24 columns):\n",
      " #   Column                    Non-Null Count  Dtype  \n",
      "---  ------                    --------------  -----  \n",
      " 0   Age                       1000 non-null   int64  \n",
      " 1   BusinessTravel            1000 non-null   float64\n",
      " 2   Department                1000 non-null   float64\n",
      " 3   DistanceFromHome          1000 non-null   float64\n",
      " 4   Education                 1000 non-null   int64  \n",
      " 5   EducationField            1000 non-null   float64\n",
      " 6   EnvironmentSatisfaction   1000 non-null   int64  \n",
      " 7   Gender                    1000 non-null   float64\n",
      " 8   JobInvolvement            1000 non-null   int64  \n",
      " 9   JobRole                   1000 non-null   float64\n",
      " 10  JobSatisfaction           1000 non-null   int64  \n",
      " 11  MaritalStatus             1000 non-null   float64\n",
      " 12  MonthlyIncome             1000 non-null   int64  \n",
      " 13  NumCompaniesWorked        1000 non-null   float64\n",
      " 14  OverTime                  1000 non-null   float64\n",
      " 15  PercentSalaryHike         1000 non-null   int64  \n",
      " 16  RelationshipSatisfaction  1000 non-null   int64  \n",
      " 17  StockOptionLevel          1000 non-null   int64  \n",
      " 18  TotalWorkingYears         1000 non-null   int64  \n",
      " 19  TrainingTimesLastYear     1000 non-null   int64  \n",
      " 20  WorkLifeBalance           1000 non-null   int64  \n",
      " 21  YearsAtCompany            1000 non-null   int64  \n",
      " 22  YearsInCurrentRole        1000 non-null   int64  \n",
      " 23  YearsWithCurrManager      1000 non-null   int64  \n",
      "dtypes: float64(9), int64(15)\n",
      "memory usage: 195.3 KB\n"
     ]
    }
   ],
   "source": [
    "x_train.info()"
   ]
  },
  {
   "cell_type": "code",
   "execution_count": 167,
   "metadata": {},
   "outputs": [],
   "source": [
    "tr_list = [tr_etc, tr_personal, tr_outdoor, \n",
    "           tr_income, tr_survey]\n",
    "te_list = [te_etc, te_personal, te_outdoor, \n",
    "           te_income, te_survey]"
   ]
  },
  {
   "cell_type": "code",
   "execution_count": 168,
   "metadata": {
    "scrolled": true
   },
   "outputs": [
    {
     "name": "stdout",
     "output_type": "stream",
     "text": [
      "Epoch 1/25\n",
      "27/27 [==============================] - 1s 10ms/step - loss: 10.6161 - accuracy: 0.7600 - val_loss: 1.2301 - val_accuracy: 0.3067\n",
      "Epoch 2/25\n",
      "27/27 [==============================] - 0s 3ms/step - loss: 10.6347 - accuracy: 0.7671 - val_loss: 7.4141 - val_accuracy: 0.8467\n",
      "Epoch 3/25\n",
      "27/27 [==============================] - 0s 3ms/step - loss: 4.4361 - accuracy: 0.7694 - val_loss: 5.0592 - val_accuracy: 0.8467\n",
      "Epoch 4/25\n",
      "27/27 [==============================] - 0s 3ms/step - loss: 5.2942 - accuracy: 0.7635 - val_loss: 7.5345 - val_accuracy: 0.8467\n",
      "Epoch 5/25\n",
      "27/27 [==============================] - 0s 3ms/step - loss: 5.9667 - accuracy: 0.7765 - val_loss: 10.5550 - val_accuracy: 0.1533\n",
      "Epoch 6/25\n",
      "27/27 [==============================] - 0s 3ms/step - loss: 3.2676 - accuracy: 0.7471 - val_loss: 1.6079 - val_accuracy: 0.4733\n",
      "Epoch 7/25\n",
      "27/27 [==============================] - 0s 3ms/step - loss: 2.4398 - accuracy: 0.7600 - val_loss: 1.0050 - val_accuracy: 0.7200\n",
      "Epoch 8/25\n",
      "27/27 [==============================] - 0s 3ms/step - loss: 6.8164 - accuracy: 0.7576 - val_loss: 3.7387 - val_accuracy: 0.8467\n",
      "Epoch 9/25\n",
      "27/27 [==============================] - 0s 3ms/step - loss: 5.6672 - accuracy: 0.7659 - val_loss: 4.1510 - val_accuracy: 0.8467\n",
      "Epoch 10/25\n",
      "27/27 [==============================] - 0s 3ms/step - loss: 3.5037 - accuracy: 0.7435 - val_loss: 4.5301 - val_accuracy: 0.8467\n",
      "Epoch 11/25\n",
      "27/27 [==============================] - 0s 3ms/step - loss: 4.2562 - accuracy: 0.7624 - val_loss: 1.2358 - val_accuracy: 0.6267\n",
      "Epoch 12/25\n",
      "27/27 [==============================] - 0s 3ms/step - loss: 4.5268 - accuracy: 0.7565 - val_loss: 1.1931 - val_accuracy: 0.6667\n",
      "Epoch 13/25\n",
      "27/27 [==============================] - 0s 3ms/step - loss: 12.0445 - accuracy: 0.7518 - val_loss: 10.1525 - val_accuracy: 0.8467\n",
      "Epoch 14/25\n",
      "27/27 [==============================] - 0s 3ms/step - loss: 1.7118 - accuracy: 0.7329 - val_loss: 1.1609 - val_accuracy: 0.7467\n",
      "Epoch 15/25\n",
      "27/27 [==============================] - 0s 3ms/step - loss: 9.7395 - accuracy: 0.7588 - val_loss: 25.8921 - val_accuracy: 0.8467\n",
      "Epoch 16/25\n",
      "27/27 [==============================] - 0s 3ms/step - loss: 14.1281 - accuracy: 0.7400 - val_loss: 2.2939 - val_accuracy: 0.8400\n",
      "Epoch 17/25\n",
      "27/27 [==============================] - 0s 3ms/step - loss: 4.9345 - accuracy: 0.7882 - val_loss: 7.4893 - val_accuracy: 0.8467\n",
      "Epoch 18/25\n",
      "27/27 [==============================] - 0s 3ms/step - loss: 2.1193 - accuracy: 0.7506 - val_loss: 5.9003 - val_accuracy: 0.8467\n",
      "Epoch 19/25\n",
      "27/27 [==============================] - 0s 3ms/step - loss: 2.0996 - accuracy: 0.7412 - val_loss: 16.1452 - val_accuracy: 0.8467\n",
      "Epoch 20/25\n",
      "27/27 [==============================] - 0s 3ms/step - loss: 11.0092 - accuracy: 0.7541 - val_loss: 7.9250 - val_accuracy: 0.8467\n",
      "Epoch 21/25\n",
      "27/27 [==============================] - 0s 3ms/step - loss: 12.7107 - accuracy: 0.8118 - val_loss: 4.1868 - val_accuracy: 0.8467\n",
      "Epoch 22/25\n",
      "27/27 [==============================] - 0s 3ms/step - loss: 2.9148 - accuracy: 0.7553 - val_loss: 1.8936 - val_accuracy: 0.4333\n",
      "Epoch 23/25\n",
      "27/27 [==============================] - 0s 3ms/step - loss: 3.6022 - accuracy: 0.7400 - val_loss: 7.8544 - val_accuracy: 0.8467\n",
      "Epoch 24/25\n",
      "27/27 [==============================] - 0s 3ms/step - loss: 5.2019 - accuracy: 0.7812 - val_loss: 4.1263 - val_accuracy: 0.8467\n",
      "Epoch 25/25\n",
      "27/27 [==============================] - 0s 3ms/step - loss: 6.8928 - accuracy: 0.7494 - val_loss: 5.1210 - val_accuracy: 0.8467\n"
     ]
    },
    {
     "data": {
      "text/plain": [
       "<keras.callbacks.History at 0x198892b59a0>"
      ]
     },
     "execution_count": 168,
     "metadata": {},
     "output_type": "execute_result"
    }
   ],
   "source": [
    "# 학습하기\n",
    "model.fit([tr_etc, tr_personal, tr_outdoor, \n",
    "           tr_income, tr_survey], y_train, validation_split=0.15, \n",
    "          epochs=25, verbose=1, callbacks=[es]) \n",
    "\n"
   ]
  },
  {
   "cell_type": "markdown",
   "metadata": {
    "id": "mpmzUPy81EU4"
   },
   "source": [
    "### 모델 예측"
   ]
  },
  {
   "cell_type": "code",
   "execution_count": 169,
   "metadata": {
    "id": "_vqttmIaIhOM"
   },
   "outputs": [
    {
     "data": {
      "text/plain": [
       "array([1.4208214e-10, 3.1066552e-06, 1.8026363e-27, 1.4700525e-05,\n",
       "       1.1062425e-06], dtype=float32)"
      ]
     },
     "execution_count": 169,
     "metadata": {},
     "output_type": "execute_result"
    }
   ],
   "source": [
    "y_pred = model.predict(te_list)\n",
    "                        \n",
    "y_pred[:5].reshape(-1)"
   ]
  },
  {
   "cell_type": "code",
   "execution_count": 170,
   "metadata": {
    "id": "tyc-c9WqIhKP"
   },
   "outputs": [
    {
     "data": {
      "text/plain": [
       "array([0., 0., 0., 0., 0.], dtype=float32)"
      ]
     },
     "execution_count": 170,
     "metadata": {},
     "output_type": "execute_result"
    }
   ],
   "source": [
    "for idx, val in enumerate(y_pred) :\n",
    "    if y_pred[idx] >= 0.5 :\n",
    "        y_pred[idx] = 1\n",
    "    else :\n",
    "        y_pred[idx] = 0\n",
    "y_pred[:5].reshape(-1)"
   ]
  },
  {
   "cell_type": "markdown",
   "metadata": {},
   "source": [
    "### 모델 평가"
   ]
  },
  {
   "cell_type": "code",
   "execution_count": 171,
   "metadata": {},
   "outputs": [
    {
     "name": "stdout",
     "output_type": "stream",
     "text": [
      "8/8 [==============================] - 0s 2ms/step - loss: 3.5773 - accuracy: 0.8320\n"
     ]
    },
    {
     "data": {
      "text/plain": [
       "[3.5772974491119385, 0.8320000171661377]"
      ]
     },
     "execution_count": 171,
     "metadata": {},
     "output_type": "execute_result"
    }
   ],
   "source": [
    "model.evaluate(te_list, y_test)"
   ]
  },
  {
   "cell_type": "code",
   "execution_count": 172,
   "metadata": {},
   "outputs": [],
   "source": [
    "for idx, val in enumerate(y_pred) :\n",
    "    if y_pred[idx] >= 0.5 :\n",
    "        y_pred[idx] = 1\n",
    "    else :\n",
    "        y_pred[idx] = 0"
   ]
  },
  {
   "cell_type": "code",
   "execution_count": 173,
   "metadata": {},
   "outputs": [
    {
     "data": {
      "text/plain": [
       "array([0., 0., 0., 0., 0.], dtype=float32)"
      ]
     },
     "execution_count": 173,
     "metadata": {},
     "output_type": "execute_result"
    }
   ],
   "source": [
    "y_pred[:5].reshape(-1)"
   ]
  },
  {
   "cell_type": "code",
   "execution_count": 174,
   "metadata": {},
   "outputs": [],
   "source": [
    "from sklearn.metrics import classification_report"
   ]
  },
  {
   "cell_type": "code",
   "execution_count": 175,
   "metadata": {},
   "outputs": [
    {
     "name": "stdout",
     "output_type": "stream",
     "text": [
      "               precision    recall  f1-score   support\n",
      "\n",
      " Attrition_No       0.83      1.00      0.91       207\n",
      "Attrition_Yes       1.00      0.02      0.05        43\n",
      "\n",
      "     accuracy                           0.83       250\n",
      "    macro avg       0.92      0.51      0.48       250\n",
      " weighted avg       0.86      0.83      0.76       250\n",
      "\n"
     ]
    }
   ],
   "source": [
    "print( classification_report(y_test, y_pred , target_names=['Attrition_No' , 'Attrition_Yes']))"
   ]
  },
  {
   "cell_type": "code",
   "execution_count": 176,
   "metadata": {},
   "outputs": [],
   "source": [
    "## 정확도 : 83%\n",
    "## Attrition_No precision : 83%\n",
    "## Attrition_No recall : 100%\n",
    "## Attrition_Yes precision : 100%\n",
    "## Attrition_Yes recall : 2% => 이직한 직원의 수가 이직하지 않은 직원의 수와 큰 차이가 나기 때문에 제대로된 예측 실패"
   ]
  },
  {
   "cell_type": "markdown",
   "metadata": {
    "id": "5hu2kSt06YhE"
   },
   "source": [
    "## 평가\n",
    "\n",
    "1. 모델의 정확도를 기재하시오.\n",
    "2. 이직이라 예측한 것 중 실제로 이직한 비율을 구하시오.\n",
    "3. 실제 이직 데이터 중 모델이 이직이라 예측한 것의 비율을 구하시오.\n",
    "4. 남는다고 예측한 것 중 실제로 남아있는 비율을 구하시오.\n",
    "---\n",
    "### hidden layer 2개를 사용한 multilayer perceptron 구조와 비교하시오."
   ]
  },
  {
   "cell_type": "code",
   "execution_count": 185,
   "metadata": {
    "id": "tE6VNEQ9Ilmg"
   },
   "outputs": [
    {
     "name": "stdout",
     "output_type": "stream",
     "text": [
      "Model: \"model\"\n",
      "_________________________________________________________________\n",
      " Layer (type)                Output Shape              Param #   \n",
      "=================================================================\n",
      " input (InputLayer)          [(None, 24)]              0         \n",
      "                                                                 \n",
      " hl1 (Dense)                 (None, 8)                 200       \n",
      "                                                                 \n",
      " hl2 (Dense)                 (None, 8)                 72        \n",
      "                                                                 \n",
      " output (Dense)              (None, 1)                 9         \n",
      "                                                                 \n",
      "=================================================================\n",
      "Total params: 281\n",
      "Trainable params: 281\n",
      "Non-trainable params: 0\n",
      "_________________________________________________________________\n"
     ]
    }
   ],
   "source": [
    "# 1번. 세션 클리어\n",
    "clear_session()\n",
    "\n",
    "# 2번. 모델의 레이어를 엮기!\n",
    "# Locally connected layer를 구성하지 않은 feature 전체 입력\n",
    "il_full = Input(shape=(24,), name='input')\n",
    "hl = Dense(8, activation='relu', name='hl1')(il_full)\n",
    "hl = Dense(8, activation='relu', name='hl2')(hl)\n",
    "ol = Dense(1, activation='sigmoid', name='output')(hl)\n",
    "\n",
    "# 3. 모델 시작과 끝 지정\n",
    "model = Model(il_full, ol)\n",
    "\n",
    "# 4. 컴파일\n",
    "model.compile(loss=binary_crossentropy, metrics=['accuracy'], optimizer=Adam())\n",
    "\n",
    "# 요약\n",
    "model.summary()"
   ]
  },
  {
   "cell_type": "code",
   "execution_count": 186,
   "metadata": {
    "id": "C8UwTkt0Ilq-"
   },
   "outputs": [
    {
     "data": {
      "image/png": "[encoded data removed]",
      "text/plain": [
       "<IPython.core.display.Image object>"
      ]
     },
     "execution_count": 186,
     "metadata": {},
     "output_type": "execute_result"
    }
   ],
   "source": [
    "# 모델 시각화\n",
    "plot_model(model, show_shapes=True)"
   ]
  },
  {
   "cell_type": "code",
   "execution_count": 187,
   "metadata": {},
   "outputs": [],
   "source": [
    "# 모델 학습\n",
    "# Early Stopping\n",
    "# es = EarlyStopping(monitor='val_loss',\n",
    "#                    min_delta=0,\n",
    "#                    patience=30,\n",
    "#                    verbose=1,\n",
    "#                    restore_best_weights=True)"
   ]
  },
  {
   "cell_type": "code",
   "execution_count": 188,
   "metadata": {
    "scrolled": true
   },
   "outputs": [
    {
     "name": "stdout",
     "output_type": "stream",
     "text": [
      "Epoch 1/25\n",
      "27/27 [==============================] - 1s 8ms/step - loss: 323.3826 - accuracy: 0.1576 - val_loss: 145.3043 - val_accuracy: 0.1533\n",
      "Epoch 2/25\n",
      "27/27 [==============================] - 0s 3ms/step - loss: 39.7425 - accuracy: 0.5435 - val_loss: 19.3220 - val_accuracy: 0.8467\n",
      "Epoch 3/25\n",
      "27/27 [==============================] - 0s 2ms/step - loss: 8.8601 - accuracy: 0.8424 - val_loss: 5.1617 - val_accuracy: 0.8467\n",
      "Epoch 4/25\n",
      "27/27 [==============================] - 0s 3ms/step - loss: 1.4708 - accuracy: 0.7576 - val_loss: 1.1395 - val_accuracy: 0.8533\n",
      "Epoch 5/25\n",
      "27/27 [==============================] - 0s 3ms/step - loss: 0.6347 - accuracy: 0.7541 - val_loss: 0.7903 - val_accuracy: 0.7733\n",
      "Epoch 6/25\n",
      "27/27 [==============================] - 0s 2ms/step - loss: 0.5879 - accuracy: 0.7518 - val_loss: 0.8500 - val_accuracy: 0.8200\n",
      "Epoch 7/25\n",
      "27/27 [==============================] - 0s 3ms/step - loss: 0.6231 - accuracy: 0.7612 - val_loss: 0.7122 - val_accuracy: 0.7533\n",
      "Epoch 8/25\n",
      "27/27 [==============================] - 0s 2ms/step - loss: 0.5874 - accuracy: 0.7788 - val_loss: 0.7593 - val_accuracy: 0.5133\n",
      "Epoch 9/25\n",
      "27/27 [==============================] - 0s 2ms/step - loss: 0.6130 - accuracy: 0.7576 - val_loss: 0.8080 - val_accuracy: 0.8333\n",
      "Epoch 10/25\n",
      "27/27 [==============================] - 0s 2ms/step - loss: 0.5993 - accuracy: 0.7706 - val_loss: 0.6398 - val_accuracy: 0.7267\n",
      "Epoch 11/25\n",
      "27/27 [==============================] - 0s 2ms/step - loss: 0.5579 - accuracy: 0.7835 - val_loss: 0.6276 - val_accuracy: 0.6933\n",
      "Epoch 12/25\n",
      "27/27 [==============================] - 0s 2ms/step - loss: 0.5473 - accuracy: 0.7859 - val_loss: 0.7057 - val_accuracy: 0.8467\n",
      "Epoch 13/25\n",
      "27/27 [==============================] - 0s 2ms/step - loss: 0.6285 - accuracy: 0.7694 - val_loss: 0.8957 - val_accuracy: 0.8533\n",
      "Epoch 14/25\n",
      "27/27 [==============================] - 0s 2ms/step - loss: 0.5300 - accuracy: 0.7800 - val_loss: 0.9111 - val_accuracy: 0.8533\n",
      "Epoch 15/25\n",
      "27/27 [==============================] - 0s 3ms/step - loss: 0.5574 - accuracy: 0.7929 - val_loss: 0.8102 - val_accuracy: 0.8533\n",
      "Epoch 16/25\n",
      "27/27 [==============================] - 0s 2ms/step - loss: 0.5462 - accuracy: 0.7894 - val_loss: 0.6533 - val_accuracy: 0.8533\n",
      "Epoch 17/25\n",
      "27/27 [==============================] - 0s 2ms/step - loss: 0.5238 - accuracy: 0.7918 - val_loss: 0.6590 - val_accuracy: 0.8533\n",
      "Epoch 18/25\n",
      "27/27 [==============================] - 0s 2ms/step - loss: 0.5125 - accuracy: 0.8035 - val_loss: 0.5506 - val_accuracy: 0.8200\n",
      "Epoch 19/25\n",
      "27/27 [==============================] - 0s 2ms/step - loss: 0.5062 - accuracy: 0.7953 - val_loss: 0.5512 - val_accuracy: 0.8400\n",
      "Epoch 20/25\n",
      "27/27 [==============================] - 0s 2ms/step - loss: 0.4956 - accuracy: 0.8129 - val_loss: 0.6736 - val_accuracy: 0.8533\n",
      "Epoch 21/25\n",
      "27/27 [==============================] - 0s 3ms/step - loss: 0.5421 - accuracy: 0.7906 - val_loss: 0.6042 - val_accuracy: 0.8533\n",
      "Epoch 22/25\n",
      "27/27 [==============================] - 0s 2ms/step - loss: 0.5153 - accuracy: 0.8259 - val_loss: 0.5273 - val_accuracy: 0.8467\n",
      "Epoch 23/25\n",
      "27/27 [==============================] - 0s 2ms/step - loss: 0.5911 - accuracy: 0.7988 - val_loss: 0.5382 - val_accuracy: 0.8533\n",
      "Epoch 24/25\n",
      "27/27 [==============================] - 0s 2ms/step - loss: 0.4800 - accuracy: 0.8294 - val_loss: 0.5315 - val_accuracy: 0.8533\n",
      "Epoch 25/25\n",
      "27/27 [==============================] - 0s 3ms/step - loss: 0.4678 - accuracy: 0.8271 - val_loss: 0.4956 - val_accuracy: 0.8267\n"
     ]
    },
    {
     "data": {
      "text/plain": [
       "<keras.callbacks.History at 0x1988a5cef70>"
      ]
     },
     "execution_count": 188,
     "metadata": {},
     "output_type": "execute_result"
    }
   ],
   "source": [
    "# 학습하기\n",
    "model.fit(x_train, y_train, validation_split=0.15, \n",
    "          epochs=25, verbose=1, callbacks=[es]) \n",
    "\n"
   ]
  },
  {
   "cell_type": "code",
   "execution_count": 189,
   "metadata": {},
   "outputs": [
    {
     "data": {
      "text/plain": [
       "array([0.14646712, 0.28454256, 0.0950104 , 0.40806177, 0.4107754 ],\n",
       "      dtype=float32)"
      ]
     },
     "execution_count": 189,
     "metadata": {},
     "output_type": "execute_result"
    }
   ],
   "source": [
    "y_pred = model.predict(x_test)\n",
    "                        \n",
    "y_pred[:5].reshape(-1)"
   ]
  },
  {
   "cell_type": "code",
   "execution_count": 190,
   "metadata": {},
   "outputs": [
    {
     "data": {
      "text/plain": [
       "array([0., 0., 0., 0., 0.], dtype=float32)"
      ]
     },
     "execution_count": 190,
     "metadata": {},
     "output_type": "execute_result"
    }
   ],
   "source": [
    "for idx, val in enumerate(y_pred) :\n",
    "    if y_pred[idx] >= 0.5 :\n",
    "        y_pred[idx] = 1\n",
    "    else :\n",
    "        y_pred[idx] = 0\n",
    "y_pred[:5].reshape(-1)"
   ]
  },
  {
   "cell_type": "code",
   "execution_count": 191,
   "metadata": {},
   "outputs": [
    {
     "name": "stdout",
     "output_type": "stream",
     "text": [
      "8/8 [==============================] - 0s 2ms/step - loss: 0.4912 - accuracy: 0.7840\n"
     ]
    },
    {
     "data": {
      "text/plain": [
       "[0.49118560552597046, 0.7839999794960022]"
      ]
     },
     "execution_count": 191,
     "metadata": {},
     "output_type": "execute_result"
    }
   ],
   "source": [
    "model.evaluate(x_test, y_test)"
   ]
  },
  {
   "cell_type": "code",
   "execution_count": 192,
   "metadata": {},
   "outputs": [
    {
     "name": "stdout",
     "output_type": "stream",
     "text": [
      "               precision    recall  f1-score   support\n",
      "\n",
      " Attrition_No       0.83      0.93      0.88       207\n",
      "Attrition_Yes       0.18      0.07      0.10        43\n",
      "\n",
      "     accuracy                           0.78       250\n",
      "    macro avg       0.50      0.50      0.49       250\n",
      " weighted avg       0.72      0.78      0.74       250\n",
      "\n"
     ]
    }
   ],
   "source": [
    "print( classification_report(y_test, y_pred , target_names=['Attrition_No' , 'Attrition_Yes']))"
   ]
  },
  {
   "cell_type": "code",
   "execution_count": null,
   "metadata": {},
   "outputs": [],
   "source": []
  },
  {
   "cell_type": "code",
   "execution_count": null,
   "metadata": {},
   "outputs": [],
   "source": []
  }
 ],
 "metadata": {
  "colab": {
   "collapsed_sections": [],
   "name": "3_6_직원 이직 여부 예측.ipynb",
   "provenance": [],
   "toc_visible": true
  },
  "kernelspec": {
   "display_name": "Python 3",
   "language": "python",
   "name": "python3"
  },
  "language_info": {
   "codemirror_mode": {
    "name": "ipython",
    "version": 3
   },
   "file_extension": ".py",
   "mimetype": "text/x-python",
   "name": "python",
   "nbconvert_exporter": "python",
   "pygments_lexer": "ipython3",
   "version": "3.8.8"
  }
 },
 "nbformat": 4,
 "nbformat_minor": 1
}
